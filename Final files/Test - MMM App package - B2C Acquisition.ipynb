{
 "cells": [
  {
   "cell_type": "markdown",
   "metadata": {},
   "source": [
    "## Install the MMM package\n",
    "- Use install.packages to install the final app package and load it to namespace \n",
    "- The dependent packages are automatically loaded\n",
    "- The data objects are also loaded with the library function"
   ]
  },
  {
   "cell_type": "code",
   "execution_count": 1,
   "metadata": {
    "ExecuteTime": {
     "end_time": "2021-09-02T14:27:05.739222Z",
     "start_time": "2021-09-02T14:27:01.887Z"
    }
   },
   "outputs": [],
   "source": [
    "install.packages('mmmApp_5.0.0.tar.gz',repos = NULL)\n",
    "options(scipen = 10000)\n",
    "set.seed(1234)"
   ]
  },
  {
   "cell_type": "code",
   "execution_count": 2,
   "metadata": {
    "ExecuteTime": {
     "end_time": "2021-09-02T14:27:05.785341Z",
     "start_time": "2021-09-02T14:27:05.168Z"
    }
   },
   "outputs": [
    {
     "name": "stderr",
     "output_type": "stream",
     "text": [
      "Loading required package: tidyverse\n",
      "Warning message:\n",
      "\"package 'tidyverse' was built under R version 3.6.3\"-- Attaching packages ------------------------------------------------------------------------------- tidyverse 1.3.0 --\n",
      "v ggplot2 3.3.2     v purrr   0.3.2\n",
      "v tibble  3.0.4     v dplyr   1.0.2\n",
      "v tidyr   1.1.2     v stringr 1.4.0\n",
      "v readr   1.3.1     v forcats 0.4.0\n",
      "Warning message:\n",
      "\"package 'ggplot2' was built under R version 3.6.3\"Warning message:\n",
      "\"package 'tibble' was built under R version 3.6.3\"Warning message:\n",
      "\"package 'tidyr' was built under R version 3.6.3\"Warning message:\n",
      "\"package 'dplyr' was built under R version 3.6.3\"-- Conflicts ---------------------------------------------------------------------------------- tidyverse_conflicts() --\n",
      "x dplyr::filter() masks stats::filter()\n",
      "x dplyr::lag()    masks stats::lag()\n"
     ]
    }
   ],
   "source": [
    "#library(tidyverse)\n",
    "library(mmmApp)"
   ]
  },
  {
   "cell_type": "code",
   "execution_count": 3,
   "metadata": {
    "ExecuteTime": {
     "end_time": "2021-06-08T16:48:40.062113Z",
     "start_time": "2021-06-08T16:43:15.471Z"
    }
   },
   "outputs": [
    {
     "data": {
      "text/html": [
       "<ol class=list-inline>\n",
       "\t<li>5850</li>\n",
       "\t<li>95</li>\n",
       "</ol>\n"
      ],
      "text/latex": [
       "\\begin{enumerate*}\n",
       "\\item 5850\n",
       "\\item 95\n",
       "\\end{enumerate*}\n"
      ],
      "text/markdown": [
       "1. 5850\n",
       "2. 95\n",
       "\n",
       "\n"
      ],
      "text/plain": [
       "[1] 5850   95"
      ]
     },
     "metadata": {},
     "output_type": "display_data"
    }
   ],
   "source": [
    "dim(data_XyZ)"
   ]
  },
  {
   "cell_type": "markdown",
   "metadata": {},
   "source": [
    "## Set up sample test inputs for both JSON and CSV\n",
    "- Sample inputs to test the output from the run_mmm_app function \n",
    "- The csv output is used in the download data and the json is used for the UI\n",
    "- Use the inputs in the run_mmm_app function to get the outputs\n",
    "- The JSON output consists of two parts:\n",
    "    - `summary` - Which outputs the summary of the Footprint\n",
    "    - `spend` - Which outputs the DMA level spend by media\n",
    "- The CSV outputs just the spend metrics by DMA and footprints"
   ]
  },
  {
   "cell_type": "code",
   "execution_count": 12,
   "metadata": {},
   "outputs": [],
   "source": [
    "test_input_json = list('Input_OPT_budget' = 25000000,\n",
    "'Input_SDL_budget' = 18400000,\n",
    "'constraint' = 'no',\n",
    "'input_period' = 'Q1',\n",
    "'flight_flag_OPT' = T,\n",
    "'flight_flag_SDL' = T,                       \n",
    "'OPT_DM_budget' = 5400000,\n",
    "'SDL_DM_budget' = 3900000,\n",
    "'output_type' = 'json' \n",
    ")"
   ]
  },
  {
   "cell_type": "code",
   "execution_count": 13,
   "metadata": {},
   "outputs": [
    {
     "name": "stderr",
     "output_type": "stream",
     "text": [
      "Adding missing grouping variables: `qy`\n"
     ]
    },
    {
     "data": {
      "text/html": [
       "<dl>\n",
       "\t<dt>$summary</dt>\n",
       "\t\t<dd><table>\n",
       "<thead><tr><th scope=col>name</th><th scope=col>Spend $(000)</th><th scope=col>True Gross Adds</th><th scope=col>id</th><th scope=col>__parent</th><th scope=col>__color</th><th scope=col>expanded</th></tr></thead>\n",
       "<tbody>\n",
       "\t<tr><td>USA    </td><td>$43,400</td><td>213,081</td><td>1      </td><td>parent </td><td>#000000</td><td>true   </td></tr>\n",
       "\t<tr><td>EAST   </td><td>$25,000</td><td>115,381</td><td>2      </td><td>1      </td><td>#0084d6</td><td>false  </td></tr>\n",
       "\t<tr><td>WEST   </td><td>$18,400</td><td> 97,700</td><td>3      </td><td>1      </td><td>#ff8132</td><td>false  </td></tr>\n",
       "</tbody>\n",
       "</table>\n",
       "</dd>\n",
       "\t<dt>$spend</dt>\n",
       "\t\t<dd><table>\n",
       "<thead><tr><th scope=col>name</th><th scope=col>Spend $(000)</th><th scope=col>TV</th><th scope=col>Direct Mail</th><th scope=col>Search Unbranded</th><th scope=col>Search Branded</th><th scope=col>Display</th><th scope=col>Video</th><th scope=col>Radio</th><th scope=col>Social</th><th scope=col>Print</th><th scope=col>Audio</th><th scope=col>id</th><th scope=col>__parent</th><th scope=col>__color</th><th scope=col>expanded</th></tr></thead>\n",
       "<tbody>\n",
       "\t<tr><td>USA                           </td><td>$43,400                       </td><td>$16,592                       </td><td>$7,855                        </td><td>$4,604                        </td><td>$4,457                        </td><td>$3,809                        </td><td>$2,211                        </td><td>$1,924                        </td><td>$1,418                        </td><td>$428                          </td><td>$101                          </td><td> 1                            </td><td>parent                        </td><td>#000000                       </td><td>true                          </td></tr>\n",
       "\t<tr><td>EAST                          </td><td>$25,000                       </td><td>$12,336                       </td><td>$3,421                        </td><td>$1,701                        </td><td>$2,995                        </td><td>$1,874                        </td><td>$1,187                        </td><td>$675                          </td><td>$667                          </td><td>$82                           </td><td>$61                           </td><td> 2                            </td><td>1                             </td><td>#0084d6                       </td><td>false                         </td></tr>\n",
       "\t<tr><td>WEST                          </td><td>$18,400                       </td><td>$4,255                        </td><td>$4,434                        </td><td>$2,903                        </td><td>$1,462                        </td><td>$1,934                        </td><td>$1,025                        </td><td>$1,249                        </td><td>$751                          </td><td>$346                          </td><td>$40                           </td><td> 3                            </td><td>1                             </td><td>#ff8132                       </td><td>false                         </td></tr>\n",
       "\t<tr><td>ABILENE-SWEETWATER TX         </td><td>$413.70                       </td><td>$138.51                       </td><td>$100.00                       </td><td>$55.49                        </td><td>$37.56                        </td><td>$26.00                        </td><td>$15.74                        </td><td>$16.26                        </td><td>$13.24                        </td><td>$10.68                        </td><td>$0.22                         </td><td> 4                            </td><td>3                             </td><td>#ff8132                       </td><td>false                         </td></tr>\n",
       "\t<tr><td>ALEXANDRIA LA                 </td><td>$429.71                       </td><td>$161.97                       </td><td>$111.42                       </td><td>$51.72                        </td><td>$34.50                        </td><td>$15.36                        </td><td>$14.46                        </td><td>$19.33                        </td><td>$14.90                        </td><td>$5.89                         </td><td>$0.15                         </td><td> 5                            </td><td>3                             </td><td>#ff8132                       </td><td>false                         </td></tr>\n",
       "\t<tr><td>All Other Suddenlink DMA Total</td><td>$2,435.94                     </td><td>$336.20                       </td><td>$423.85                       </td><td>$513.24                       </td><td>$168.50                       </td><td>$435.14                       </td><td>$236.73                       </td><td>$169.32                       </td><td>$114.68                       </td><td>$15.62                        </td><td>$22.64                        </td><td> 6                            </td><td>3                             </td><td>#ff8132                       </td><td>false                         </td></tr>\n",
       "\t<tr><td>AMARILLO TX                   </td><td>$653.04                       </td><td>$192.39                       </td><td>$206.34                       </td><td>$65.99                        </td><td>$52.82                        </td><td>$40.81                        </td><td>$23.27                        </td><td>$29.41                        </td><td>$24.48                        </td><td>$17.21                        </td><td>$0.32                         </td><td> 7                            </td><td>3                             </td><td>#ff8132                       </td><td>false                         </td></tr>\n",
       "\t<tr><td>AUSTIN TX                     </td><td>$674.08                       </td><td>$0.00                         </td><td>$140.13                       </td><td>$172.22                       </td><td>$50.70                        </td><td>$120.73                       </td><td>$56.61                        </td><td>$97.99                        </td><td>$26.12                        </td><td>$8.19                         </td><td>$1.40                         </td><td> 8                            </td><td>3                             </td><td>#ff8132                       </td><td>false                         </td></tr>\n",
       "\t<tr><td>BLUEFIELD-BECKLEY-OAK HILL WV </td><td>$421.07                       </td><td>$134.97                       </td><td>$101.13                       </td><td>$45.77                        </td><td>$36.04                        </td><td>$29.13                        </td><td>$16.56                        </td><td>$32.00                        </td><td>$17.12                        </td><td>$8.18                         </td><td>$0.17                         </td><td> 9                            </td><td>3                             </td><td>#ff8132                       </td><td>false                         </td></tr>\n",
       "\t<tr><td>CHARLESTON-HUNTINGTON WV      </td><td>$861.90                       </td><td>$213.44                       </td><td>$200.24                       </td><td>$128.91                       </td><td>$89.66                        </td><td>$78.20                        </td><td>$54.69                        </td><td>$32.46                        </td><td>$50.24                        </td><td>$13.42                        </td><td>$0.65                         </td><td>10                            </td><td>3                             </td><td>#ff8132                       </td><td>false                         </td></tr>\n",
       "\t<tr><td>DALLAS-FT WORTH TX            </td><td>$1,493.73                     </td><td>$0.00                         </td><td>$356.94                       </td><td>$366.66                       </td><td>$113.62                       </td><td>$312.32                       </td><td>$131.10                       </td><td>$112.30                       </td><td>$70.38                        </td><td>$25.21                        </td><td>$5.21                         </td><td>11                            </td><td>3                             </td><td>#ff8132                       </td><td>false                         </td></tr>\n",
       "\t<tr><td>EUREKA CA                     </td><td>$275.41                       </td><td>$121.69                       </td><td>$64.66                        </td><td>$14.94                        </td><td>$21.43                        </td><td>$18.25                        </td><td>$10.22                        </td><td>$14.55                        </td><td>$3.37                         </td><td>$6.11                         </td><td>$0.20                         </td><td>12                            </td><td>3                             </td><td>#ff8132                       </td><td>false                         </td></tr>\n",
       "\t<tr><td>GREENVILLE-NEW BERN-WASH NC   </td><td>$702.23                       </td><td>$180.87                       </td><td>$196.92                       </td><td>$76.37                        </td><td>$74.24                        </td><td>$60.10                        </td><td>$37.98                        </td><td>$30.76                        </td><td>$31.52                        </td><td>$13.04                        </td><td>$0.42                         </td><td>13                            </td><td>3                             </td><td>#ff8132                       </td><td>false                         </td></tr>\n",
       "\t<tr><td>HOUSTON TX                    </td><td>$1,153.09                     </td><td>$0.00                         </td><td>$249.82                       </td><td>$285.98                       </td><td>$97.69                        </td><td>$163.95                       </td><td>$82.86                        </td><td>$198.04                       </td><td>$50.13                        </td><td>$21.31                        </td><td>$3.30                         </td><td>14                            </td><td>3                             </td><td>#ff8132                       </td><td>false                         </td></tr>\n",
       "\t<tr><td>JONESBORO AR                  </td><td>$346.00                       </td><td>$181.37                       </td><td>$58.78                        </td><td>$19.10                        </td><td>$22.31                        </td><td>$14.10                        </td><td>$8.99                         </td><td>$21.09                        </td><td>$12.98                        </td><td>$7.23                         </td><td>$0.06                         </td><td>15                            </td><td>3                             </td><td>#ff8132                       </td><td>false                         </td></tr>\n",
       "\t<tr><td>LAKE CHARLES LA               </td><td>$509.08                       </td><td>$211.93                       </td><td>$102.96                       </td><td>$56.87                        </td><td>$42.91                        </td><td>$25.43                        </td><td>$15.89                        </td><td>$26.60                        </td><td>$16.32                        </td><td>$9.98                         </td><td>$0.20                         </td><td>16                            </td><td>3                             </td><td>#ff8132                       </td><td>false                         </td></tr>\n",
       "\t<tr><td>LITTLE ROCK AR                </td><td>$737.66                       </td><td>$168.81                       </td><td>$177.68                       </td><td>$153.33                       </td><td>$52.16                        </td><td>$60.74                        </td><td>$36.81                        </td><td>$36.08                        </td><td>$34.93                        </td><td>$16.56                        </td><td>$0.56                         </td><td>17                            </td><td>3                             </td><td>#ff8132                       </td><td>false                         </td></tr>\n",
       "\t<tr><td>LUBBOCK TX                    </td><td>$703.33                       </td><td>$177.57                       </td><td>$232.61                       </td><td>$83.42                        </td><td>$59.63                        </td><td>$47.86                        </td><td>$23.30                        </td><td>$30.83                        </td><td>$32.28                        </td><td>$15.45                        </td><td>$0.38                         </td><td>18                            </td><td>3                             </td><td>#ff8132                       </td><td>false                         </td></tr>\n",
       "\t<tr><td>MONROE-EL DORADO LA-AR        </td><td>$307.01                       </td><td>$119.50                       </td><td>$86.49                        </td><td>$34.63                        </td><td>$18.74                        </td><td>$11.78                        </td><td>$8.40                         </td><td>$11.37                        </td><td>$10.74                        </td><td>$5.25                         </td><td>$0.11                         </td><td>19                            </td><td>3                             </td><td>#ff8132                       </td><td>false                         </td></tr>\n",
       "\t<tr><td>ODESSA-MIDLAND TX             </td><td>$712.27                       </td><td>$309.42                       </td><td>$145.89                       </td><td>$92.45                        </td><td>$41.85                        </td><td>$35.09                        </td><td>$21.43                        </td><td>$29.85                        </td><td>$21.44                        </td><td>$14.50                        </td><td>$0.36                         </td><td>20                            </td><td>3                             </td><td>#ff8132                       </td><td>false                         </td></tr>\n",
       "\t<tr><td>OKLAHOMA CITY OK              </td><td>$479.91                       </td><td>$36.17                        </td><td>$178.95                       </td><td>$58.82                        </td><td>$40.32                        </td><td>$47.93                        </td><td>$27.89                        </td><td>$54.01                        </td><td>$21.63                        </td><td>$13.91                        </td><td>$0.28                         </td><td>21                            </td><td>3                             </td><td>#ff8132                       </td><td>false                         </td></tr>\n",
       "\t<tr><td>PARKERSBURG WV                </td><td>$371.29                       </td><td>$179.23                       </td><td>$90.97                        </td><td>$19.28                        </td><td>$22.01                        </td><td>$20.22                        </td><td>$10.64                        </td><td>$10.69                        </td><td>$9.81                         </td><td>$8.30                         </td><td>$0.15                         </td><td>22                            </td><td>3                             </td><td>#ff8132                       </td><td>false                         </td></tr>\n",
       "\t<tr><td>PHOENIX AZ                    </td><td>$604.19                       </td><td>$0.00                         </td><td>$260.45                       </td><td>$84.35                        </td><td>$64.15                        </td><td>$87.16                        </td><td>$31.62                        </td><td>$34.21                        </td><td>$21.32                        </td><td>$20.36                        </td><td>$0.57                         </td><td>23                            </td><td>3                             </td><td>#ff8132                       </td><td>false                         </td></tr>\n",
       "\t<tr><td>RALEIGH-DURHAM NC             </td><td>$249.29                       </td><td>$0.00                         </td><td>$82.94                        </td><td>$46.39                        </td><td>$32.95                        </td><td>$35.52                        </td><td>$19.42                        </td><td>$6.22                         </td><td>$13.27                        </td><td>$12.26                        </td><td>$0.33                         </td><td>24                            </td><td>3                             </td><td>#ff8132                       </td><td>false                         </td></tr>\n",
       "\t<tr><td>SAN ANGELO TX                 </td><td>$362.40                       </td><td>$180.24                       </td><td>$63.51                        </td><td>$19.76                        </td><td>$26.58                        </td><td>$20.53                        </td><td>$10.37                        </td><td>$19.86                        </td><td>$11.54                        </td><td>$9.89                         </td><td>$0.13                         </td><td>25                            </td><td>3                             </td><td>#ff8132                       </td><td>false                         </td></tr>\n",
       "\t<tr><td>SHREVEPORT LA                 </td><td>$518.99                       </td><td>$153.40                       </td><td>$139.19                       </td><td>$85.01                        </td><td>$40.54                        </td><td>$26.10                        </td><td>$21.22                        </td><td>$22.21                        </td><td>$23.41                        </td><td>$7.60                         </td><td>$0.30                         </td><td>26                            </td><td>3                             </td><td>#ff8132                       </td><td>false                         </td></tr>\n",
       "\t<tr><td>SPRINGFIELD MO                </td><td>$552.04                       </td><td>$206.81                       </td><td>$120.04                       </td><td>$74.98                        </td><td>$29.95                        </td><td>$41.79                        </td><td>$22.83                        </td><td>$25.57                        </td><td>$14.54                        </td><td>$15.19                        </td><td>$0.33                         </td><td>27                            </td><td>3                             </td><td>#ff8132                       </td><td>false                         </td></tr>\n",
       "\t<tr><td>ST JOSEPH MO                  </td><td>$302.51                       </td><td>$152.69                       </td><td>$61.88                        </td><td>$17.22                        </td><td>$15.60                        </td><td>$12.87                        </td><td>$6.95                         </td><td>$20.99                        </td><td>$7.14                         </td><td>$7.03                         </td><td>$0.14                         </td><td>28                            </td><td>3                             </td><td>#ff8132                       </td><td>false                         </td></tr>\n",
       "\t<tr><td>TULSA OK                      </td><td>$216.10                       </td><td>$20.61                        </td><td>$68.66                        </td><td>$30.03                        </td><td>$22.40                        </td><td>$15.21                        </td><td>$8.03                         </td><td>$33.57                        </td><td>$8.45                         </td><td>$9.03                         </td><td>$0.10                         </td><td>29                            </td><td>3                             </td><td>#ff8132                       </td><td>false                         </td></tr>\n",
       "\t<tr><td>TYLER-LONGVIEW TX             </td><td>$1,024.32                     </td><td>$290.66                       </td><td>$243.44                       </td><td>$162.79                       </td><td>$90.00                        </td><td>$70.12                        </td><td>$41.44                        </td><td>$62.79                        </td><td>$47.17                        </td><td>$15.20                        </td><td>$0.71                         </td><td>30                            </td><td>3                             </td><td>#ff8132                       </td><td>false                         </td></tr>\n",
       "\t<tr><td>VICTORIA TX                   </td><td>$291.80                       </td><td>$161.84                       </td><td>$43.67                        </td><td>$16.98                        </td><td>$15.50                        </td><td>$9.45                         </td><td>$5.76                         </td><td>$27.27                        </td><td>$6.56                         </td><td>$4.67                         </td><td>$0.11                         </td><td>31                            </td><td>3                             </td><td>#ff8132                       </td><td>false                         </td></tr>\n",
       "\t<tr><td>WACO-TEMPLE-BRYAN TX          </td><td>$597.92                       </td><td>$225.08                       </td><td>$124.92                       </td><td>$70.23                        </td><td>$47.32                        </td><td>$52.62                        </td><td>$23.44                        </td><td>$23.56                        </td><td>$21.53                        </td><td>$8.77                         </td><td>$0.45                         </td><td>32                            </td><td>3                             </td><td>#ff8132                       </td><td>false                         </td></tr>\n",
       "</tbody>\n",
       "</table>\n",
       "</dd>\n",
       "</dl>\n"
      ],
      "text/latex": [
       "\\begin{description}\n",
       "\\item[\\$summary] \\begin{tabular}{r|lllllll}\n",
       " name & Spend \\$(000) & True Gross Adds & id & \\_\\_parent & \\_\\_color & expanded\\\\\n",
       "\\hline\n",
       "\t USA       & \\$43,400 & 213,081   & 1         & parent    & \\#000000 & true     \\\\\n",
       "\t EAST      & \\$25,000 & 115,381   & 2         & 1         & \\#0084d6 & false    \\\\\n",
       "\t WEST      & \\$18,400 &  97,700   & 3         & 1         & \\#ff8132 & false    \\\\\n",
       "\\end{tabular}\n",
       "\n",
       "\\item[\\$spend] \\begin{tabular}{r|llllllllllllllll}\n",
       " name & Spend \\$(000) & TV & Direct Mail & Search Unbranded & Search Branded & Display & Video & Radio & Social & Print & Audio & id & \\_\\_parent & \\_\\_color & expanded\\\\\n",
       "\\hline\n",
       "\t USA                            & \\$43,400                      & \\$16,592                      & \\$7,855                       & \\$4,604                       & \\$4,457                       & \\$3,809                       & \\$2,211                       & \\$1,924                       & \\$1,418                       & \\$428                         & \\$101                         &  1                             & parent                         & \\#000000                      & true                          \\\\\n",
       "\t EAST                           & \\$25,000                      & \\$12,336                      & \\$3,421                       & \\$1,701                       & \\$2,995                       & \\$1,874                       & \\$1,187                       & \\$675                         & \\$667                         & \\$82                          & \\$61                          &  2                             & 1                              & \\#0084d6                      & false                         \\\\\n",
       "\t WEST                           & \\$18,400                      & \\$4,255                       & \\$4,434                       & \\$2,903                       & \\$1,462                       & \\$1,934                       & \\$1,025                       & \\$1,249                       & \\$751                         & \\$346                         & \\$40                          &  3                             & 1                              & \\#ff8132                      & false                         \\\\\n",
       "\t ABILENE-SWEETWATER TX          & \\$413.70                      & \\$138.51                      & \\$100.00                      & \\$55.49                       & \\$37.56                       & \\$26.00                       & \\$15.74                       & \\$16.26                       & \\$13.24                       & \\$10.68                       & \\$0.22                        &  4                             & 3                              & \\#ff8132                      & false                         \\\\\n",
       "\t ALEXANDRIA LA                  & \\$429.71                      & \\$161.97                      & \\$111.42                      & \\$51.72                       & \\$34.50                       & \\$15.36                       & \\$14.46                       & \\$19.33                       & \\$14.90                       & \\$5.89                        & \\$0.15                        &  5                             & 3                              & \\#ff8132                      & false                         \\\\\n",
       "\t All Other Suddenlink DMA Total & \\$2,435.94                    & \\$336.20                      & \\$423.85                      & \\$513.24                      & \\$168.50                      & \\$435.14                      & \\$236.73                      & \\$169.32                      & \\$114.68                      & \\$15.62                       & \\$22.64                       &  6                             & 3                              & \\#ff8132                      & false                         \\\\\n",
       "\t AMARILLO TX                    & \\$653.04                      & \\$192.39                      & \\$206.34                      & \\$65.99                       & \\$52.82                       & \\$40.81                       & \\$23.27                       & \\$29.41                       & \\$24.48                       & \\$17.21                       & \\$0.32                        &  7                             & 3                              & \\#ff8132                      & false                         \\\\\n",
       "\t AUSTIN TX                      & \\$674.08                      & \\$0.00                        & \\$140.13                      & \\$172.22                      & \\$50.70                       & \\$120.73                      & \\$56.61                       & \\$97.99                       & \\$26.12                       & \\$8.19                        & \\$1.40                        &  8                             & 3                              & \\#ff8132                      & false                         \\\\\n",
       "\t BLUEFIELD-BECKLEY-OAK HILL WV  & \\$421.07                      & \\$134.97                      & \\$101.13                      & \\$45.77                       & \\$36.04                       & \\$29.13                       & \\$16.56                       & \\$32.00                       & \\$17.12                       & \\$8.18                        & \\$0.17                        &  9                             & 3                              & \\#ff8132                      & false                         \\\\\n",
       "\t CHARLESTON-HUNTINGTON WV       & \\$861.90                      & \\$213.44                      & \\$200.24                      & \\$128.91                      & \\$89.66                       & \\$78.20                       & \\$54.69                       & \\$32.46                       & \\$50.24                       & \\$13.42                       & \\$0.65                        & 10                             & 3                              & \\#ff8132                      & false                         \\\\\n",
       "\t DALLAS-FT WORTH TX             & \\$1,493.73                    & \\$0.00                        & \\$356.94                      & \\$366.66                      & \\$113.62                      & \\$312.32                      & \\$131.10                      & \\$112.30                      & \\$70.38                       & \\$25.21                       & \\$5.21                        & 11                             & 3                              & \\#ff8132                      & false                         \\\\\n",
       "\t EUREKA CA                      & \\$275.41                      & \\$121.69                      & \\$64.66                       & \\$14.94                       & \\$21.43                       & \\$18.25                       & \\$10.22                       & \\$14.55                       & \\$3.37                        & \\$6.11                        & \\$0.20                        & 12                             & 3                              & \\#ff8132                      & false                         \\\\\n",
       "\t GREENVILLE-NEW BERN-WASH NC    & \\$702.23                      & \\$180.87                      & \\$196.92                      & \\$76.37                       & \\$74.24                       & \\$60.10                       & \\$37.98                       & \\$30.76                       & \\$31.52                       & \\$13.04                       & \\$0.42                        & 13                             & 3                              & \\#ff8132                      & false                         \\\\\n",
       "\t HOUSTON TX                     & \\$1,153.09                    & \\$0.00                        & \\$249.82                      & \\$285.98                      & \\$97.69                       & \\$163.95                      & \\$82.86                       & \\$198.04                      & \\$50.13                       & \\$21.31                       & \\$3.30                        & 14                             & 3                              & \\#ff8132                      & false                         \\\\\n",
       "\t JONESBORO AR                   & \\$346.00                      & \\$181.37                      & \\$58.78                       & \\$19.10                       & \\$22.31                       & \\$14.10                       & \\$8.99                        & \\$21.09                       & \\$12.98                       & \\$7.23                        & \\$0.06                        & 15                             & 3                              & \\#ff8132                      & false                         \\\\\n",
       "\t LAKE CHARLES LA                & \\$509.08                      & \\$211.93                      & \\$102.96                      & \\$56.87                       & \\$42.91                       & \\$25.43                       & \\$15.89                       & \\$26.60                       & \\$16.32                       & \\$9.98                        & \\$0.20                        & 16                             & 3                              & \\#ff8132                      & false                         \\\\\n",
       "\t LITTLE ROCK AR                 & \\$737.66                      & \\$168.81                      & \\$177.68                      & \\$153.33                      & \\$52.16                       & \\$60.74                       & \\$36.81                       & \\$36.08                       & \\$34.93                       & \\$16.56                       & \\$0.56                        & 17                             & 3                              & \\#ff8132                      & false                         \\\\\n",
       "\t LUBBOCK TX                     & \\$703.33                      & \\$177.57                      & \\$232.61                      & \\$83.42                       & \\$59.63                       & \\$47.86                       & \\$23.30                       & \\$30.83                       & \\$32.28                       & \\$15.45                       & \\$0.38                        & 18                             & 3                              & \\#ff8132                      & false                         \\\\\n",
       "\t MONROE-EL DORADO LA-AR         & \\$307.01                      & \\$119.50                      & \\$86.49                       & \\$34.63                       & \\$18.74                       & \\$11.78                       & \\$8.40                        & \\$11.37                       & \\$10.74                       & \\$5.25                        & \\$0.11                        & 19                             & 3                              & \\#ff8132                      & false                         \\\\\n",
       "\t ODESSA-MIDLAND TX              & \\$712.27                      & \\$309.42                      & \\$145.89                      & \\$92.45                       & \\$41.85                       & \\$35.09                       & \\$21.43                       & \\$29.85                       & \\$21.44                       & \\$14.50                       & \\$0.36                        & 20                             & 3                              & \\#ff8132                      & false                         \\\\\n",
       "\t OKLAHOMA CITY OK               & \\$479.91                      & \\$36.17                       & \\$178.95                      & \\$58.82                       & \\$40.32                       & \\$47.93                       & \\$27.89                       & \\$54.01                       & \\$21.63                       & \\$13.91                       & \\$0.28                        & 21                             & 3                              & \\#ff8132                      & false                         \\\\\n",
       "\t PARKERSBURG WV                 & \\$371.29                      & \\$179.23                      & \\$90.97                       & \\$19.28                       & \\$22.01                       & \\$20.22                       & \\$10.64                       & \\$10.69                       & \\$9.81                        & \\$8.30                        & \\$0.15                        & 22                             & 3                              & \\#ff8132                      & false                         \\\\\n",
       "\t PHOENIX AZ                     & \\$604.19                      & \\$0.00                        & \\$260.45                      & \\$84.35                       & \\$64.15                       & \\$87.16                       & \\$31.62                       & \\$34.21                       & \\$21.32                       & \\$20.36                       & \\$0.57                        & 23                             & 3                              & \\#ff8132                      & false                         \\\\\n",
       "\t RALEIGH-DURHAM NC              & \\$249.29                      & \\$0.00                        & \\$82.94                       & \\$46.39                       & \\$32.95                       & \\$35.52                       & \\$19.42                       & \\$6.22                        & \\$13.27                       & \\$12.26                       & \\$0.33                        & 24                             & 3                              & \\#ff8132                      & false                         \\\\\n",
       "\t SAN ANGELO TX                  & \\$362.40                      & \\$180.24                      & \\$63.51                       & \\$19.76                       & \\$26.58                       & \\$20.53                       & \\$10.37                       & \\$19.86                       & \\$11.54                       & \\$9.89                        & \\$0.13                        & 25                             & 3                              & \\#ff8132                      & false                         \\\\\n",
       "\t SHREVEPORT LA                  & \\$518.99                      & \\$153.40                      & \\$139.19                      & \\$85.01                       & \\$40.54                       & \\$26.10                       & \\$21.22                       & \\$22.21                       & \\$23.41                       & \\$7.60                        & \\$0.30                        & 26                             & 3                              & \\#ff8132                      & false                         \\\\\n",
       "\t SPRINGFIELD MO                 & \\$552.04                      & \\$206.81                      & \\$120.04                      & \\$74.98                       & \\$29.95                       & \\$41.79                       & \\$22.83                       & \\$25.57                       & \\$14.54                       & \\$15.19                       & \\$0.33                        & 27                             & 3                              & \\#ff8132                      & false                         \\\\\n",
       "\t ST JOSEPH MO                   & \\$302.51                      & \\$152.69                      & \\$61.88                       & \\$17.22                       & \\$15.60                       & \\$12.87                       & \\$6.95                        & \\$20.99                       & \\$7.14                        & \\$7.03                        & \\$0.14                        & 28                             & 3                              & \\#ff8132                      & false                         \\\\\n",
       "\t TULSA OK                       & \\$216.10                      & \\$20.61                       & \\$68.66                       & \\$30.03                       & \\$22.40                       & \\$15.21                       & \\$8.03                        & \\$33.57                       & \\$8.45                        & \\$9.03                        & \\$0.10                        & 29                             & 3                              & \\#ff8132                      & false                         \\\\\n",
       "\t TYLER-LONGVIEW TX              & \\$1,024.32                    & \\$290.66                      & \\$243.44                      & \\$162.79                      & \\$90.00                       & \\$70.12                       & \\$41.44                       & \\$62.79                       & \\$47.17                       & \\$15.20                       & \\$0.71                        & 30                             & 3                              & \\#ff8132                      & false                         \\\\\n",
       "\t VICTORIA TX                    & \\$291.80                      & \\$161.84                      & \\$43.67                       & \\$16.98                       & \\$15.50                       & \\$9.45                        & \\$5.76                        & \\$27.27                       & \\$6.56                        & \\$4.67                        & \\$0.11                        & 31                             & 3                              & \\#ff8132                      & false                         \\\\\n",
       "\t WACO-TEMPLE-BRYAN TX           & \\$597.92                      & \\$225.08                      & \\$124.92                      & \\$70.23                       & \\$47.32                       & \\$52.62                       & \\$23.44                       & \\$23.56                       & \\$21.53                       & \\$8.77                        & \\$0.45                        & 32                             & 3                              & \\#ff8132                      & false                         \\\\\n",
       "\\end{tabular}\n",
       "\n",
       "\\end{description}\n"
      ],
      "text/markdown": [
       "$summary\n",
       ":   \n",
       "| name | Spend $(000) | True Gross Adds | id | __parent | __color | expanded |\n",
       "|---|---|---|---|---|---|---|\n",
       "| USA     | $43,400 | 213,081 | 1       | parent  | #000000 | true    |\n",
       "| EAST    | $25,000 | 115,381 | 2       | 1       | #0084d6 | false   |\n",
       "| WEST    | $18,400 |  97,700 | 3       | 1       | #ff8132 | false   |\n",
       "\n",
       "\n",
       "$spend\n",
       ":   \n",
       "| name | Spend $(000) | TV | Direct Mail | Search Unbranded | Search Branded | Display | Video | Radio | Social | Print | Audio | id | __parent | __color | expanded |\n",
       "|---|---|---|---|---|---|---|---|---|---|---|---|---|---|---|---|\n",
       "| USA                            | $43,400                        | $16,592                        | $7,855                         | $4,604                         | $4,457                         | $3,809                         | $2,211                         | $1,924                         | $1,418                         | $428                           | $101                           |  1                             | parent                         | #000000                        | true                           |\n",
       "| EAST                           | $25,000                        | $12,336                        | $3,421                         | $1,701                         | $2,995                         | $1,874                         | $1,187                         | $675                           | $667                           | $82                            | $61                            |  2                             | 1                              | #0084d6                        | false                          |\n",
       "| WEST                           | $18,400                        | $4,255                         | $4,434                         | $2,903                         | $1,462                         | $1,934                         | $1,025                         | $1,249                         | $751                           | $346                           | $40                            |  3                             | 1                              | #ff8132                        | false                          |\n",
       "| ABILENE-SWEETWATER TX          | $413.70                        | $138.51                        | $100.00                        | $55.49                         | $37.56                         | $26.00                         | $15.74                         | $16.26                         | $13.24                         | $10.68                         | $0.22                          |  4                             | 3                              | #ff8132                        | false                          |\n",
       "| ALEXANDRIA LA                  | $429.71                        | $161.97                        | $111.42                        | $51.72                         | $34.50                         | $15.36                         | $14.46                         | $19.33                         | $14.90                         | $5.89                          | $0.15                          |  5                             | 3                              | #ff8132                        | false                          |\n",
       "| All Other Suddenlink DMA Total | $2,435.94                      | $336.20                        | $423.85                        | $513.24                        | $168.50                        | $435.14                        | $236.73                        | $169.32                        | $114.68                        | $15.62                         | $22.64                         |  6                             | 3                              | #ff8132                        | false                          |\n",
       "| AMARILLO TX                    | $653.04                        | $192.39                        | $206.34                        | $65.99                         | $52.82                         | $40.81                         | $23.27                         | $29.41                         | $24.48                         | $17.21                         | $0.32                          |  7                             | 3                              | #ff8132                        | false                          |\n",
       "| AUSTIN TX                      | $674.08                        | $0.00                          | $140.13                        | $172.22                        | $50.70                         | $120.73                        | $56.61                         | $97.99                         | $26.12                         | $8.19                          | $1.40                          |  8                             | 3                              | #ff8132                        | false                          |\n",
       "| BLUEFIELD-BECKLEY-OAK HILL WV  | $421.07                        | $134.97                        | $101.13                        | $45.77                         | $36.04                         | $29.13                         | $16.56                         | $32.00                         | $17.12                         | $8.18                          | $0.17                          |  9                             | 3                              | #ff8132                        | false                          |\n",
       "| CHARLESTON-HUNTINGTON WV       | $861.90                        | $213.44                        | $200.24                        | $128.91                        | $89.66                         | $78.20                         | $54.69                         | $32.46                         | $50.24                         | $13.42                         | $0.65                          | 10                             | 3                              | #ff8132                        | false                          |\n",
       "| DALLAS-FT WORTH TX             | $1,493.73                      | $0.00                          | $356.94                        | $366.66                        | $113.62                        | $312.32                        | $131.10                        | $112.30                        | $70.38                         | $25.21                         | $5.21                          | 11                             | 3                              | #ff8132                        | false                          |\n",
       "| EUREKA CA                      | $275.41                        | $121.69                        | $64.66                         | $14.94                         | $21.43                         | $18.25                         | $10.22                         | $14.55                         | $3.37                          | $6.11                          | $0.20                          | 12                             | 3                              | #ff8132                        | false                          |\n",
       "| GREENVILLE-NEW BERN-WASH NC    | $702.23                        | $180.87                        | $196.92                        | $76.37                         | $74.24                         | $60.10                         | $37.98                         | $30.76                         | $31.52                         | $13.04                         | $0.42                          | 13                             | 3                              | #ff8132                        | false                          |\n",
       "| HOUSTON TX                     | $1,153.09                      | $0.00                          | $249.82                        | $285.98                        | $97.69                         | $163.95                        | $82.86                         | $198.04                        | $50.13                         | $21.31                         | $3.30                          | 14                             | 3                              | #ff8132                        | false                          |\n",
       "| JONESBORO AR                   | $346.00                        | $181.37                        | $58.78                         | $19.10                         | $22.31                         | $14.10                         | $8.99                          | $21.09                         | $12.98                         | $7.23                          | $0.06                          | 15                             | 3                              | #ff8132                        | false                          |\n",
       "| LAKE CHARLES LA                | $509.08                        | $211.93                        | $102.96                        | $56.87                         | $42.91                         | $25.43                         | $15.89                         | $26.60                         | $16.32                         | $9.98                          | $0.20                          | 16                             | 3                              | #ff8132                        | false                          |\n",
       "| LITTLE ROCK AR                 | $737.66                        | $168.81                        | $177.68                        | $153.33                        | $52.16                         | $60.74                         | $36.81                         | $36.08                         | $34.93                         | $16.56                         | $0.56                          | 17                             | 3                              | #ff8132                        | false                          |\n",
       "| LUBBOCK TX                     | $703.33                        | $177.57                        | $232.61                        | $83.42                         | $59.63                         | $47.86                         | $23.30                         | $30.83                         | $32.28                         | $15.45                         | $0.38                          | 18                             | 3                              | #ff8132                        | false                          |\n",
       "| MONROE-EL DORADO LA-AR         | $307.01                        | $119.50                        | $86.49                         | $34.63                         | $18.74                         | $11.78                         | $8.40                          | $11.37                         | $10.74                         | $5.25                          | $0.11                          | 19                             | 3                              | #ff8132                        | false                          |\n",
       "| ODESSA-MIDLAND TX              | $712.27                        | $309.42                        | $145.89                        | $92.45                         | $41.85                         | $35.09                         | $21.43                         | $29.85                         | $21.44                         | $14.50                         | $0.36                          | 20                             | 3                              | #ff8132                        | false                          |\n",
       "| OKLAHOMA CITY OK               | $479.91                        | $36.17                         | $178.95                        | $58.82                         | $40.32                         | $47.93                         | $27.89                         | $54.01                         | $21.63                         | $13.91                         | $0.28                          | 21                             | 3                              | #ff8132                        | false                          |\n",
       "| PARKERSBURG WV                 | $371.29                        | $179.23                        | $90.97                         | $19.28                         | $22.01                         | $20.22                         | $10.64                         | $10.69                         | $9.81                          | $8.30                          | $0.15                          | 22                             | 3                              | #ff8132                        | false                          |\n",
       "| PHOENIX AZ                     | $604.19                        | $0.00                          | $260.45                        | $84.35                         | $64.15                         | $87.16                         | $31.62                         | $34.21                         | $21.32                         | $20.36                         | $0.57                          | 23                             | 3                              | #ff8132                        | false                          |\n",
       "| RALEIGH-DURHAM NC              | $249.29                        | $0.00                          | $82.94                         | $46.39                         | $32.95                         | $35.52                         | $19.42                         | $6.22                          | $13.27                         | $12.26                         | $0.33                          | 24                             | 3                              | #ff8132                        | false                          |\n",
       "| SAN ANGELO TX                  | $362.40                        | $180.24                        | $63.51                         | $19.76                         | $26.58                         | $20.53                         | $10.37                         | $19.86                         | $11.54                         | $9.89                          | $0.13                          | 25                             | 3                              | #ff8132                        | false                          |\n",
       "| SHREVEPORT LA                  | $518.99                        | $153.40                        | $139.19                        | $85.01                         | $40.54                         | $26.10                         | $21.22                         | $22.21                         | $23.41                         | $7.60                          | $0.30                          | 26                             | 3                              | #ff8132                        | false                          |\n",
       "| SPRINGFIELD MO                 | $552.04                        | $206.81                        | $120.04                        | $74.98                         | $29.95                         | $41.79                         | $22.83                         | $25.57                         | $14.54                         | $15.19                         | $0.33                          | 27                             | 3                              | #ff8132                        | false                          |\n",
       "| ST JOSEPH MO                   | $302.51                        | $152.69                        | $61.88                         | $17.22                         | $15.60                         | $12.87                         | $6.95                          | $20.99                         | $7.14                          | $7.03                          | $0.14                          | 28                             | 3                              | #ff8132                        | false                          |\n",
       "| TULSA OK                       | $216.10                        | $20.61                         | $68.66                         | $30.03                         | $22.40                         | $15.21                         | $8.03                          | $33.57                         | $8.45                          | $9.03                          | $0.10                          | 29                             | 3                              | #ff8132                        | false                          |\n",
       "| TYLER-LONGVIEW TX              | $1,024.32                      | $290.66                        | $243.44                        | $162.79                        | $90.00                         | $70.12                         | $41.44                         | $62.79                         | $47.17                         | $15.20                         | $0.71                          | 30                             | 3                              | #ff8132                        | false                          |\n",
       "| VICTORIA TX                    | $291.80                        | $161.84                        | $43.67                         | $16.98                         | $15.50                         | $9.45                          | $5.76                          | $27.27                         | $6.56                          | $4.67                          | $0.11                          | 31                             | 3                              | #ff8132                        | false                          |\n",
       "| WACO-TEMPLE-BRYAN TX           | $597.92                        | $225.08                        | $124.92                        | $70.23                         | $47.32                         | $52.62                         | $23.44                         | $23.56                         | $21.53                         | $8.77                          | $0.45                          | 32                             | 3                              | #ff8132                        | false                          |\n",
       "\n",
       "\n",
       "\n",
       "\n"
      ],
      "text/plain": [
       "$summary\n",
       "  name Spend $(000) True Gross Adds id __parent __color expanded\n",
       "1  USA      $43,400         213,081  1   parent #000000     true\n",
       "2 EAST      $25,000         115,381  2        1 #0084d6    false\n",
       "3 WEST      $18,400          97,700  3        1 #ff8132    false\n",
       "\n",
       "$spend\n",
       "                             name Spend $(000)      TV Direct Mail\n",
       "1                             USA      $43,400 $16,592      $7,855\n",
       "2                            EAST      $25,000 $12,336      $3,421\n",
       "3                            WEST      $18,400  $4,255      $4,434\n",
       "4           ABILENE-SWEETWATER TX      $413.70 $138.51     $100.00\n",
       "5                   ALEXANDRIA LA      $429.71 $161.97     $111.42\n",
       "6  All Other Suddenlink DMA Total    $2,435.94 $336.20     $423.85\n",
       "7                     AMARILLO TX      $653.04 $192.39     $206.34\n",
       "8                       AUSTIN TX      $674.08   $0.00     $140.13\n",
       "9   BLUEFIELD-BECKLEY-OAK HILL WV      $421.07 $134.97     $101.13\n",
       "10       CHARLESTON-HUNTINGTON WV      $861.90 $213.44     $200.24\n",
       "11             DALLAS-FT WORTH TX    $1,493.73   $0.00     $356.94\n",
       "12                      EUREKA CA      $275.41 $121.69      $64.66\n",
       "13    GREENVILLE-NEW BERN-WASH NC      $702.23 $180.87     $196.92\n",
       "14                     HOUSTON TX    $1,153.09   $0.00     $249.82\n",
       "15                   JONESBORO AR      $346.00 $181.37      $58.78\n",
       "16                LAKE CHARLES LA      $509.08 $211.93     $102.96\n",
       "17                 LITTLE ROCK AR      $737.66 $168.81     $177.68\n",
       "18                     LUBBOCK TX      $703.33 $177.57     $232.61\n",
       "19         MONROE-EL DORADO LA-AR      $307.01 $119.50      $86.49\n",
       "20              ODESSA-MIDLAND TX      $712.27 $309.42     $145.89\n",
       "21               OKLAHOMA CITY OK      $479.91  $36.17     $178.95\n",
       "22                 PARKERSBURG WV      $371.29 $179.23      $90.97\n",
       "23                     PHOENIX AZ      $604.19   $0.00     $260.45\n",
       "24              RALEIGH-DURHAM NC      $249.29   $0.00      $82.94\n",
       "25                  SAN ANGELO TX      $362.40 $180.24      $63.51\n",
       "26                  SHREVEPORT LA      $518.99 $153.40     $139.19\n",
       "27                 SPRINGFIELD MO      $552.04 $206.81     $120.04\n",
       "28                   ST JOSEPH MO      $302.51 $152.69      $61.88\n",
       "29                       TULSA OK      $216.10  $20.61      $68.66\n",
       "30              TYLER-LONGVIEW TX    $1,024.32 $290.66     $243.44\n",
       "31                    VICTORIA TX      $291.80 $161.84      $43.67\n",
       "32           WACO-TEMPLE-BRYAN TX      $597.92 $225.08     $124.92\n",
       "   Search Unbranded Search Branded Display   Video   Radio  Social  Print\n",
       "1            $4,604         $4,457  $3,809  $2,211  $1,924  $1,418   $428\n",
       "2            $1,701         $2,995  $1,874  $1,187    $675    $667    $82\n",
       "3            $2,903         $1,462  $1,934  $1,025  $1,249    $751   $346\n",
       "4            $55.49         $37.56  $26.00  $15.74  $16.26  $13.24 $10.68\n",
       "5            $51.72         $34.50  $15.36  $14.46  $19.33  $14.90  $5.89\n",
       "6           $513.24        $168.50 $435.14 $236.73 $169.32 $114.68 $15.62\n",
       "7            $65.99         $52.82  $40.81  $23.27  $29.41  $24.48 $17.21\n",
       "8           $172.22         $50.70 $120.73  $56.61  $97.99  $26.12  $8.19\n",
       "9            $45.77         $36.04  $29.13  $16.56  $32.00  $17.12  $8.18\n",
       "10          $128.91         $89.66  $78.20  $54.69  $32.46  $50.24 $13.42\n",
       "11          $366.66        $113.62 $312.32 $131.10 $112.30  $70.38 $25.21\n",
       "12           $14.94         $21.43  $18.25  $10.22  $14.55   $3.37  $6.11\n",
       "13           $76.37         $74.24  $60.10  $37.98  $30.76  $31.52 $13.04\n",
       "14          $285.98         $97.69 $163.95  $82.86 $198.04  $50.13 $21.31\n",
       "15           $19.10         $22.31  $14.10   $8.99  $21.09  $12.98  $7.23\n",
       "16           $56.87         $42.91  $25.43  $15.89  $26.60  $16.32  $9.98\n",
       "17          $153.33         $52.16  $60.74  $36.81  $36.08  $34.93 $16.56\n",
       "18           $83.42         $59.63  $47.86  $23.30  $30.83  $32.28 $15.45\n",
       "19           $34.63         $18.74  $11.78   $8.40  $11.37  $10.74  $5.25\n",
       "20           $92.45         $41.85  $35.09  $21.43  $29.85  $21.44 $14.50\n",
       "21           $58.82         $40.32  $47.93  $27.89  $54.01  $21.63 $13.91\n",
       "22           $19.28         $22.01  $20.22  $10.64  $10.69   $9.81  $8.30\n",
       "23           $84.35         $64.15  $87.16  $31.62  $34.21  $21.32 $20.36\n",
       "24           $46.39         $32.95  $35.52  $19.42   $6.22  $13.27 $12.26\n",
       "25           $19.76         $26.58  $20.53  $10.37  $19.86  $11.54  $9.89\n",
       "26           $85.01         $40.54  $26.10  $21.22  $22.21  $23.41  $7.60\n",
       "27           $74.98         $29.95  $41.79  $22.83  $25.57  $14.54 $15.19\n",
       "28           $17.22         $15.60  $12.87   $6.95  $20.99   $7.14  $7.03\n",
       "29           $30.03         $22.40  $15.21   $8.03  $33.57   $8.45  $9.03\n",
       "30          $162.79         $90.00  $70.12  $41.44  $62.79  $47.17 $15.20\n",
       "31           $16.98         $15.50   $9.45   $5.76  $27.27   $6.56  $4.67\n",
       "32           $70.23         $47.32  $52.62  $23.44  $23.56  $21.53  $8.77\n",
       "    Audio id __parent __color expanded\n",
       "1    $101  1   parent #000000     true\n",
       "2     $61  2        1 #0084d6    false\n",
       "3     $40  3        1 #ff8132    false\n",
       "4   $0.22  4        3 #ff8132    false\n",
       "5   $0.15  5        3 #ff8132    false\n",
       "6  $22.64  6        3 #ff8132    false\n",
       "7   $0.32  7        3 #ff8132    false\n",
       "8   $1.40  8        3 #ff8132    false\n",
       "9   $0.17  9        3 #ff8132    false\n",
       "10  $0.65 10        3 #ff8132    false\n",
       "11  $5.21 11        3 #ff8132    false\n",
       "12  $0.20 12        3 #ff8132    false\n",
       "13  $0.42 13        3 #ff8132    false\n",
       "14  $3.30 14        3 #ff8132    false\n",
       "15  $0.06 15        3 #ff8132    false\n",
       "16  $0.20 16        3 #ff8132    false\n",
       "17  $0.56 17        3 #ff8132    false\n",
       "18  $0.38 18        3 #ff8132    false\n",
       "19  $0.11 19        3 #ff8132    false\n",
       "20  $0.36 20        3 #ff8132    false\n",
       "21  $0.28 21        3 #ff8132    false\n",
       "22  $0.15 22        3 #ff8132    false\n",
       "23  $0.57 23        3 #ff8132    false\n",
       "24  $0.33 24        3 #ff8132    false\n",
       "25  $0.13 25        3 #ff8132    false\n",
       "26  $0.30 26        3 #ff8132    false\n",
       "27  $0.33 27        3 #ff8132    false\n",
       "28  $0.14 28        3 #ff8132    false\n",
       "29  $0.10 29        3 #ff8132    false\n",
       "30  $0.71 30        3 #ff8132    false\n",
       "31  $0.11 31        3 #ff8132    false\n",
       "32  $0.45 32        3 #ff8132    false\n"
      ]
     },
     "metadata": {},
     "output_type": "display_data"
    }
   ],
   "source": [
    "test_res_json <- run_mmm_app(test_input_json)\n",
    "test_res_json"
   ]
  },
  {
   "cell_type": "code",
   "execution_count": null,
   "metadata": {},
   "outputs": [],
   "source": []
  },
  {
   "cell_type": "code",
   "execution_count": null,
   "metadata": {},
   "outputs": [],
   "source": []
  },
  {
   "cell_type": "code",
   "execution_count": 4,
   "metadata": {
    "ExecuteTime": {
     "end_time": "2021-06-08T16:48:40.249613Z",
     "start_time": "2021-06-08T16:43:16.535Z"
    }
   },
   "outputs": [],
   "source": [
    "test_input_json = list('Input_OPT_budget' = 25000000,\n",
    "'Input_SDL_budget' = 12000000,\n",
    "'constraint' = 'yes',\n",
    "'input_period' = 'Q1',\n",
    "'flight_flag_OPT' = T,\n",
    "'flight_flag_SDL' = T,                       \n",
    "'OPT_DM_budget' = 5400000,\n",
    "'SDL_DM_budget' = 3900000,\n",
    "'output_type' = 'json' \n",
    ")"
   ]
  },
  {
   "cell_type": "code",
   "execution_count": 5,
   "metadata": {
    "ExecuteTime": {
     "end_time": "2021-06-08T16:48:40.264705Z",
     "start_time": "2021-06-08T16:43:17.576Z"
    }
   },
   "outputs": [],
   "source": [
    "test_input_csv = list('Input_OPT_budget' = 20000000,\n",
    "'Input_SDL_budget' = 11100000,\n",
    "'constraint' = 'no',\n",
    "'input_period' = 'Q1',\n",
    "'flight_flag_OPT' = T,\n",
    "'flight_flag_SDL' = T, \n",
    "'OPT_DM_budget' = 5400000,\n",
    "'SDL_DM_budget' = 3900000,\n",
    "'output_type' = 'csv' \n",
    ")"
   ]
  },
  {
   "cell_type": "code",
   "execution_count": 6,
   "metadata": {
    "ExecuteTime": {
     "end_time": "2021-06-08T16:48:41.431156Z",
     "start_time": "2021-06-08T16:43:17.920Z"
    }
   },
   "outputs": [
    {
     "name": "stderr",
     "output_type": "stream",
     "text": [
      "Adding missing grouping variables: `qy`\n"
     ]
    }
   ],
   "source": [
    "test_res_json <- run_mmm_app(test_input_json)"
   ]
  },
  {
   "cell_type": "code",
   "execution_count": 7,
   "metadata": {
    "ExecuteTime": {
     "end_time": "2021-06-08T16:48:41.534165Z",
     "start_time": "2021-06-08T16:43:18.153Z"
    },
    "scrolled": true
   },
   "outputs": [
    {
     "data": {
      "text/html": [
       "<dl>\n",
       "\t<dt>$summary</dt>\n",
       "\t\t<dd><table>\n",
       "<thead><tr><th scope=col>name</th><th scope=col>Spend $(000)</th><th scope=col>True Gross Adds</th><th scope=col>id</th><th scope=col>__parent</th><th scope=col>__color</th><th scope=col>expanded</th></tr></thead>\n",
       "<tbody>\n",
       "\t<tr><td>USA    </td><td>$46,300</td><td>213,974</td><td>1      </td><td>parent </td><td>#000000</td><td>true   </td></tr>\n",
       "\t<tr><td>EAST   </td><td>$30,400</td><td>116,765</td><td>2      </td><td>1      </td><td>#0084d6</td><td>false  </td></tr>\n",
       "\t<tr><td>WEST   </td><td>$15,900</td><td> 97,209</td><td>3      </td><td>1      </td><td>#ff8132</td><td>false  </td></tr>\n",
       "</tbody>\n",
       "</table>\n",
       "</dd>\n",
       "\t<dt>$spend</dt>\n",
       "\t\t<dd><table>\n",
       "<thead><tr><th scope=col>name</th><th scope=col>Spend $(000)</th><th scope=col>TV</th><th scope=col>Direct Mail</th><th scope=col>Search Unbranded</th><th scope=col>Display</th><th scope=col>Search Branded</th><th scope=col>Video</th><th scope=col>Radio</th><th scope=col>Social</th><th scope=col>Print</th><th scope=col>Audio</th><th scope=col>id</th><th scope=col>__parent</th><th scope=col>__color</th><th scope=col>expanded</th></tr></thead>\n",
       "<tbody>\n",
       "\t<tr><td>USA                           </td><td>$46,300                       </td><td>$16,619                       </td><td>$9,300                        </td><td>$5,817                        </td><td>$4,985                        </td><td>$4,457                        </td><td>$1,790                        </td><td>$1,474                        </td><td>$1,414                        </td><td>$353                          </td><td>$91                           </td><td> 1                            </td><td>parent                        </td><td>#000000                       </td><td>true                          </td></tr>\n",
       "\t<tr><td>EAST                          </td><td>$30,400                       </td><td>$12,405                       </td><td>$5,400                        </td><td>$3,160                        </td><td>$3,481                        </td><td>$2,995                        </td><td>$1,187                        </td><td>$675                          </td><td>$954                          </td><td>$82                           </td><td>$61                           </td><td> 2                            </td><td>1                             </td><td>#0084d6                       </td><td>false                         </td></tr>\n",
       "\t<tr><td>WEST                          </td><td>$15,900                       </td><td>$4,214                        </td><td>$3,900                        </td><td>$2,658                        </td><td>$1,504                        </td><td>$1,462                        </td><td>$603                          </td><td>$799                          </td><td>$460                          </td><td>$271                          </td><td>$30                           </td><td> 3                            </td><td>1                             </td><td>#ff8132                       </td><td>false                         </td></tr>\n",
       "\t<tr><td>ABILENE-SWEETWATER TX         </td><td>$358.93                       </td><td>$138.51                       </td><td>$89.41                        </td><td>$43.99                        </td><td>$15.67                        </td><td>$37.56                        </td><td>$9.49                         </td><td>$9.92                         </td><td>$7.86                         </td><td>$6.30                         </td><td>$0.21                         </td><td> 4                            </td><td>3                             </td><td>#ff8132                       </td><td>false                         </td></tr>\n",
       "\t<tr><td>ALEXANDRIA LA                 </td><td>$363.12                       </td><td>$159.74                       </td><td>$89.42                        </td><td>$37.38                        </td><td>$9.41                         </td><td>$34.50                        </td><td>$8.71                         </td><td>$11.65                        </td><td>$8.98                         </td><td>$3.17                         </td><td>$0.15                         </td><td> 5                            </td><td>3                             </td><td>#ff8132                       </td><td>false                         </td></tr>\n",
       "\t<tr><td>All Other Suddenlink DMA Total</td><td>$2,227.58                     </td><td>$336.20                       </td><td>$501.78                       </td><td>$513.24                       </td><td>$380.55                       </td><td>$168.50                       </td><td>$127.47                       </td><td>$102.04                       </td><td>$69.11                        </td><td>$13.80                        </td><td>$14.87                        </td><td> 6                            </td><td>3                             </td><td>#ff8132                       </td><td>false                         </td></tr>\n",
       "\t<tr><td>AMARILLO TX                   </td><td>$526.17                       </td><td>$192.39                       </td><td>$141.37                       </td><td>$57.43                        </td><td>$24.59                        </td><td>$52.82                        </td><td>$14.02                        </td><td>$17.92                        </td><td>$14.23                        </td><td>$11.07                        </td><td>$0.32                         </td><td> 7                            </td><td>3                             </td><td>#ff8132                       </td><td>false                         </td></tr>\n",
       "\t<tr><td>AUSTIN TX                     </td><td>$600.01                       </td><td>$0.00                         </td><td>$141.65                       </td><td>$172.22                       </td><td>$110.48                       </td><td>$50.70                        </td><td>$34.12                        </td><td>$62.63                        </td><td>$15.74                        </td><td>$11.30                        </td><td>$1.18                         </td><td> 8                            </td><td>3                             </td><td>#ff8132                       </td><td>false                         </td></tr>\n",
       "\t<tr><td>BLUEFIELD-BECKLEY-OAK HILL WV </td><td>$364.14                       </td><td>$134.97                       </td><td>$89.23                        </td><td>$40.89                        </td><td>$17.02                        </td><td>$36.04                        </td><td>$10.12                        </td><td>$19.28                        </td><td>$11.03                        </td><td>$5.38                         </td><td>$0.17                         </td><td> 9                            </td><td>3                             </td><td>#ff8132                       </td><td>false                         </td></tr>\n",
       "\t<tr><td>CHARLESTON-HUNTINGTON WV      </td><td>$748.87                       </td><td>$213.44                       </td><td>$180.43                       </td><td>$115.74                       </td><td>$45.49                        </td><td>$89.66                        </td><td>$32.96                        </td><td>$19.73                        </td><td>$37.35                        </td><td>$13.42                        </td><td>$0.65                         </td><td>10                            </td><td>3                             </td><td>#ff8132                       </td><td>false                         </td></tr>\n",
       "\t<tr><td>DALLAS-FT WORTH TX            </td><td>$1,290.78                     </td><td>$0.00                         </td><td>$313.99                       </td><td>$366.66                       </td><td>$283.10                       </td><td>$113.62                       </td><td>$78.74                        </td><td>$67.67                        </td><td>$37.90                        </td><td>$25.21                        </td><td>$3.89                         </td><td>11                            </td><td>3                             </td><td>#ff8132                       </td><td>false                         </td></tr>\n",
       "\t<tr><td>EUREKA CA                     </td><td>$239.91                       </td><td>$119.22                       </td><td>$58.86                        </td><td>$9.91                         </td><td>$9.99                         </td><td>$21.43                        </td><td>$6.16                         </td><td>$8.77                         </td><td>$2.09                         </td><td>$3.29                         </td><td>$0.20                         </td><td>12                            </td><td>3                             </td><td>#ff8132                       </td><td>false                         </td></tr>\n",
       "\t<tr><td>GREENVILLE-NEW BERN-WASH NC   </td><td>$583.18                       </td><td>$180.87                       </td><td>$148.40                       </td><td>$68.23                        </td><td>$35.34                        </td><td>$74.24                        </td><td>$22.89                        </td><td>$18.72                        </td><td>$23.85                        </td><td>$10.22                        </td><td>$0.42                         </td><td>13                            </td><td>3                             </td><td>#ff8132                       </td><td>false                         </td></tr>\n",
       "\t<tr><td>HOUSTON TX                    </td><td>$1,019.17                     </td><td>$0.00                         </td><td>$243.61                       </td><td>$285.98                       </td><td>$155.29                       </td><td>$97.69                        </td><td>$49.94                        </td><td>$132.59                       </td><td>$30.21                        </td><td>$21.31                        </td><td>$2.56                         </td><td>14                            </td><td>3                             </td><td>#ff8132                       </td><td>false                         </td></tr>\n",
       "\t<tr><td>JONESBORO AR                  </td><td>$319.93                       </td><td>$175.12                       </td><td>$73.65                        </td><td>$11.12                        </td><td>$8.50                         </td><td>$22.31                        </td><td>$5.57                         </td><td>$12.71                        </td><td>$6.99                         </td><td>$3.89                         </td><td>$0.06                         </td><td>15                            </td><td>3                             </td><td>#ff8132                       </td><td>false                         </td></tr>\n",
       "\t<tr><td>LAKE CHARLES LA               </td><td>$456.48                       </td><td>$209.04                       </td><td>$107.93                       </td><td>$40.11                        </td><td>$15.32                        </td><td>$42.91                        </td><td>$9.75                         </td><td>$16.03                        </td><td>$9.81                         </td><td>$5.37                         </td><td>$0.20                         </td><td>16                            </td><td>3                             </td><td>#ff8132                       </td><td>false                         </td></tr>\n",
       "\t<tr><td>LITTLE ROCK AR                </td><td>$638.92                       </td><td>$168.81                       </td><td>$157.78                       </td><td>$147.46                       </td><td>$35.87                        </td><td>$52.16                        </td><td>$22.18                        </td><td>$21.89                        </td><td>$23.28                        </td><td>$8.92                         </td><td>$0.56                         </td><td>17                            </td><td>3                             </td><td>#ff8132                       </td><td>false                         </td></tr>\n",
       "\t<tr><td>LUBBOCK TX                    </td><td>$555.98                       </td><td>$177.57                       </td><td>$150.21                       </td><td>$74.54                        </td><td>$28.84                        </td><td>$59.63                        </td><td>$14.04                        </td><td>$18.78                        </td><td>$19.99                        </td><td>$12.00                        </td><td>$0.38                         </td><td>18                            </td><td>3                             </td><td>#ff8132                       </td><td>false                         </td></tr>\n",
       "\t<tr><td>MONROE-EL DORADO LA-AR        </td><td>$254.34                       </td><td>$117.95                       </td><td>$64.58                        </td><td>$24.53                        </td><td>$7.10                         </td><td>$18.74                        </td><td>$5.06                         </td><td>$6.96                         </td><td>$6.47                         </td><td>$2.83                         </td><td>$0.11                         </td><td>19                            </td><td>3                             </td><td>#ff8132                       </td><td>false                         </td></tr>\n",
       "\t<tr><td>ODESSA-MIDLAND TX             </td><td>$637.49                       </td><td>$305.95                       </td><td>$151.36                       </td><td>$64.97                        </td><td>$21.14                        </td><td>$41.85                        </td><td>$12.91                        </td><td>$18.20                        </td><td>$12.92                        </td><td>$7.81                         </td><td>$0.36                         </td><td>20                            </td><td>3                             </td><td>#ff8132                       </td><td>false                         </td></tr>\n",
       "\t<tr><td>OKLAHOMA CITY OK              </td><td>$364.59                       </td><td>$36.17                        </td><td>$104.73                       </td><td>$57.27                        </td><td>$25.81                        </td><td>$40.32                        </td><td>$16.94                        </td><td>$53.94                        </td><td>$15.24                        </td><td>$13.91                        </td><td>$0.28                         </td><td>21                            </td><td>3                             </td><td>#ff8132                       </td><td>false                         </td></tr>\n",
       "\t<tr><td>PARKERSBURG WV                </td><td>$320.27                       </td><td>$172.13                       </td><td>$79.39                        </td><td>$11.62                        </td><td>$12.18                        </td><td>$22.01                        </td><td>$6.41                         </td><td>$6.57                         </td><td>$5.33                         </td><td>$4.47                         </td><td>$0.15                         </td><td>22                            </td><td>3                             </td><td>#ff8132                       </td><td>false                         </td></tr>\n",
       "\t<tr><td>PHOENIX AZ                    </td><td>$431.38                       </td><td>$0.00                         </td><td>$133.74                       </td><td>$75.37                        </td><td>$84.63                        </td><td>$64.15                        </td><td>$19.05                        </td><td>$20.70                        </td><td>$12.85                        </td><td>$20.36                        </td><td>$0.55                         </td><td>23                            </td><td>3                             </td><td>#ff8132                       </td><td>false                         </td></tr>\n",
       "\t<tr><td>RALEIGH-DURHAM NC             </td><td>$201.05                       </td><td>$0.00                         </td><td>$57.74                        </td><td>$43.75                        </td><td>$30.58                        </td><td>$32.95                        </td><td>$11.70                        </td><td>$3.75                         </td><td>$8.00                         </td><td>$12.26                        </td><td>$0.32                         </td><td>24                            </td><td>3                             </td><td>#ff8132                       </td><td>false                         </td></tr>\n",
       "\t<tr><td>SAN ANGELO TX                 </td><td>$334.96                       </td><td>$176.01                       </td><td>$78.68                        </td><td>$11.30                        </td><td>$12.37                        </td><td>$26.58                        </td><td>$6.38                         </td><td>$11.97                        </td><td>$6.21                         </td><td>$5.33                         </td><td>$0.13                         </td><td>25                            </td><td>3                             </td><td>#ff8132                       </td><td>false                         </td></tr>\n",
       "\t<tr><td>SHREVEPORT LA                 </td><td>$435.01                       </td><td>$153.40                       </td><td>$108.33                       </td><td>$71.01                        </td><td>$15.73                        </td><td>$40.54                        </td><td>$12.79                        </td><td>$13.52                        </td><td>$13.54                        </td><td>$5.85                         </td><td>$0.30                         </td><td>26                            </td><td>3                             </td><td>#ff8132                       </td><td>false                         </td></tr>\n",
       "\t<tr><td>SPRINGFIELD MO                </td><td>$490.80                       </td><td>$206.81                       </td><td>$119.94                       </td><td>$61.64                        </td><td>$24.44                        </td><td>$29.95                        </td><td>$13.76                        </td><td>$15.56                        </td><td>$8.76                         </td><td>$9.62                         </td><td>$0.33                         </td><td>27                            </td><td>3                             </td><td>#ff8132                       </td><td>false                         </td></tr>\n",
       "\t<tr><td>ST JOSEPH MO                  </td><td>$271.38                       </td><td>$148.57                       </td><td>$64.86                        </td><td>$9.42                         </td><td>$7.75                         </td><td>$15.60                        </td><td>$4.28                         </td><td>$12.65                        </td><td>$4.31                         </td><td>$3.79                         </td><td>$0.14                         </td><td>28                            </td><td>3                             </td><td>#ff8132                       </td><td>false                         </td></tr>\n",
       "\t<tr><td>TULSA OK                      </td><td>$175.95                       </td><td>$20.61                        </td><td>$48.99                        </td><td>$27.91                        </td><td>$9.17                         </td><td>$22.40                        </td><td>$4.91                         </td><td>$27.74                        </td><td>$5.09                         </td><td>$9.03                         </td><td>$0.10                         </td><td>29                            </td><td>3                             </td><td>#ff8132                       </td><td>false                         </td></tr>\n",
       "\t<tr><td>TYLER-LONGVIEW TX             </td><td>$884.92                       </td><td>$290.66                       </td><td>$213.94                       </td><td>$145.46                       </td><td>$41.71                        </td><td>$90.00                        </td><td>$25.21                        </td><td>$37.84                        </td><td>$25.80                        </td><td>$13.61                        </td><td>$0.71                         </td><td>30                            </td><td>3                             </td><td>#ff8132                       </td><td>false                         </td></tr>\n",
       "\t<tr><td>VICTORIA TX                   </td><td>$273.84                       </td><td>$155.84                       </td><td>$61.17                        </td><td>$10.23                        </td><td>$5.70                         </td><td>$15.50                        </td><td>$3.57                         </td><td>$15.24                        </td><td>$3.95                         </td><td>$2.51                         </td><td>$0.11                         </td><td>31                            </td><td>3                             </td><td>#ff8132                       </td><td>false                         </td></tr>\n",
       "\t<tr><td>WACO-TEMPLE-BRYAN TX          </td><td>$530.88                       </td><td>$223.80                       </td><td>$124.81                       </td><td>$58.21                        </td><td>$30.14                        </td><td>$47.32                        </td><td>$14.13                        </td><td>$14.32                        </td><td>$12.97                        </td><td>$4.72                         </td><td>$0.45                         </td><td>32                            </td><td>3                             </td><td>#ff8132                       </td><td>false                         </td></tr>\n",
       "</tbody>\n",
       "</table>\n",
       "</dd>\n",
       "</dl>\n"
      ],
      "text/latex": [
       "\\begin{description}\n",
       "\\item[\\$summary] \\begin{tabular}{r|lllllll}\n",
       " name & Spend \\$(000) & True Gross Adds & id & \\_\\_parent & \\_\\_color & expanded\\\\\n",
       "\\hline\n",
       "\t USA       & \\$46,300 & 213,974   & 1         & parent    & \\#000000 & true     \\\\\n",
       "\t EAST      & \\$30,400 & 116,765   & 2         & 1         & \\#0084d6 & false    \\\\\n",
       "\t WEST      & \\$15,900 &  97,209   & 3         & 1         & \\#ff8132 & false    \\\\\n",
       "\\end{tabular}\n",
       "\n",
       "\\item[\\$spend] \\begin{tabular}{r|llllllllllllllll}\n",
       " name & Spend \\$(000) & TV & Direct Mail & Search Unbranded & Display & Search Branded & Video & Radio & Social & Print & Audio & id & \\_\\_parent & \\_\\_color & expanded\\\\\n",
       "\\hline\n",
       "\t USA                            & \\$46,300                      & \\$16,619                      & \\$9,300                       & \\$5,817                       & \\$4,985                       & \\$4,457                       & \\$1,790                       & \\$1,474                       & \\$1,414                       & \\$353                         & \\$91                          &  1                             & parent                         & \\#000000                      & true                          \\\\\n",
       "\t EAST                           & \\$30,400                      & \\$12,405                      & \\$5,400                       & \\$3,160                       & \\$3,481                       & \\$2,995                       & \\$1,187                       & \\$675                         & \\$954                         & \\$82                          & \\$61                          &  2                             & 1                              & \\#0084d6                      & false                         \\\\\n",
       "\t WEST                           & \\$15,900                      & \\$4,214                       & \\$3,900                       & \\$2,658                       & \\$1,504                       & \\$1,462                       & \\$603                         & \\$799                         & \\$460                         & \\$271                         & \\$30                          &  3                             & 1                              & \\#ff8132                      & false                         \\\\\n",
       "\t ABILENE-SWEETWATER TX          & \\$358.93                      & \\$138.51                      & \\$89.41                       & \\$43.99                       & \\$15.67                       & \\$37.56                       & \\$9.49                        & \\$9.92                        & \\$7.86                        & \\$6.30                        & \\$0.21                        &  4                             & 3                              & \\#ff8132                      & false                         \\\\\n",
       "\t ALEXANDRIA LA                  & \\$363.12                      & \\$159.74                      & \\$89.42                       & \\$37.38                       & \\$9.41                        & \\$34.50                       & \\$8.71                        & \\$11.65                       & \\$8.98                        & \\$3.17                        & \\$0.15                        &  5                             & 3                              & \\#ff8132                      & false                         \\\\\n",
       "\t All Other Suddenlink DMA Total & \\$2,227.58                    & \\$336.20                      & \\$501.78                      & \\$513.24                      & \\$380.55                      & \\$168.50                      & \\$127.47                      & \\$102.04                      & \\$69.11                       & \\$13.80                       & \\$14.87                       &  6                             & 3                              & \\#ff8132                      & false                         \\\\\n",
       "\t AMARILLO TX                    & \\$526.17                      & \\$192.39                      & \\$141.37                      & \\$57.43                       & \\$24.59                       & \\$52.82                       & \\$14.02                       & \\$17.92                       & \\$14.23                       & \\$11.07                       & \\$0.32                        &  7                             & 3                              & \\#ff8132                      & false                         \\\\\n",
       "\t AUSTIN TX                      & \\$600.01                      & \\$0.00                        & \\$141.65                      & \\$172.22                      & \\$110.48                      & \\$50.70                       & \\$34.12                       & \\$62.63                       & \\$15.74                       & \\$11.30                       & \\$1.18                        &  8                             & 3                              & \\#ff8132                      & false                         \\\\\n",
       "\t BLUEFIELD-BECKLEY-OAK HILL WV  & \\$364.14                      & \\$134.97                      & \\$89.23                       & \\$40.89                       & \\$17.02                       & \\$36.04                       & \\$10.12                       & \\$19.28                       & \\$11.03                       & \\$5.38                        & \\$0.17                        &  9                             & 3                              & \\#ff8132                      & false                         \\\\\n",
       "\t CHARLESTON-HUNTINGTON WV       & \\$748.87                      & \\$213.44                      & \\$180.43                      & \\$115.74                      & \\$45.49                       & \\$89.66                       & \\$32.96                       & \\$19.73                       & \\$37.35                       & \\$13.42                       & \\$0.65                        & 10                             & 3                              & \\#ff8132                      & false                         \\\\\n",
       "\t DALLAS-FT WORTH TX             & \\$1,290.78                    & \\$0.00                        & \\$313.99                      & \\$366.66                      & \\$283.10                      & \\$113.62                      & \\$78.74                       & \\$67.67                       & \\$37.90                       & \\$25.21                       & \\$3.89                        & 11                             & 3                              & \\#ff8132                      & false                         \\\\\n",
       "\t EUREKA CA                      & \\$239.91                      & \\$119.22                      & \\$58.86                       & \\$9.91                        & \\$9.99                        & \\$21.43                       & \\$6.16                        & \\$8.77                        & \\$2.09                        & \\$3.29                        & \\$0.20                        & 12                             & 3                              & \\#ff8132                      & false                         \\\\\n",
       "\t GREENVILLE-NEW BERN-WASH NC    & \\$583.18                      & \\$180.87                      & \\$148.40                      & \\$68.23                       & \\$35.34                       & \\$74.24                       & \\$22.89                       & \\$18.72                       & \\$23.85                       & \\$10.22                       & \\$0.42                        & 13                             & 3                              & \\#ff8132                      & false                         \\\\\n",
       "\t HOUSTON TX                     & \\$1,019.17                    & \\$0.00                        & \\$243.61                      & \\$285.98                      & \\$155.29                      & \\$97.69                       & \\$49.94                       & \\$132.59                      & \\$30.21                       & \\$21.31                       & \\$2.56                        & 14                             & 3                              & \\#ff8132                      & false                         \\\\\n",
       "\t JONESBORO AR                   & \\$319.93                      & \\$175.12                      & \\$73.65                       & \\$11.12                       & \\$8.50                        & \\$22.31                       & \\$5.57                        & \\$12.71                       & \\$6.99                        & \\$3.89                        & \\$0.06                        & 15                             & 3                              & \\#ff8132                      & false                         \\\\\n",
       "\t LAKE CHARLES LA                & \\$456.48                      & \\$209.04                      & \\$107.93                      & \\$40.11                       & \\$15.32                       & \\$42.91                       & \\$9.75                        & \\$16.03                       & \\$9.81                        & \\$5.37                        & \\$0.20                        & 16                             & 3                              & \\#ff8132                      & false                         \\\\\n",
       "\t LITTLE ROCK AR                 & \\$638.92                      & \\$168.81                      & \\$157.78                      & \\$147.46                      & \\$35.87                       & \\$52.16                       & \\$22.18                       & \\$21.89                       & \\$23.28                       & \\$8.92                        & \\$0.56                        & 17                             & 3                              & \\#ff8132                      & false                         \\\\\n",
       "\t LUBBOCK TX                     & \\$555.98                      & \\$177.57                      & \\$150.21                      & \\$74.54                       & \\$28.84                       & \\$59.63                       & \\$14.04                       & \\$18.78                       & \\$19.99                       & \\$12.00                       & \\$0.38                        & 18                             & 3                              & \\#ff8132                      & false                         \\\\\n",
       "\t MONROE-EL DORADO LA-AR         & \\$254.34                      & \\$117.95                      & \\$64.58                       & \\$24.53                       & \\$7.10                        & \\$18.74                       & \\$5.06                        & \\$6.96                        & \\$6.47                        & \\$2.83                        & \\$0.11                        & 19                             & 3                              & \\#ff8132                      & false                         \\\\\n",
       "\t ODESSA-MIDLAND TX              & \\$637.49                      & \\$305.95                      & \\$151.36                      & \\$64.97                       & \\$21.14                       & \\$41.85                       & \\$12.91                       & \\$18.20                       & \\$12.92                       & \\$7.81                        & \\$0.36                        & 20                             & 3                              & \\#ff8132                      & false                         \\\\\n",
       "\t OKLAHOMA CITY OK               & \\$364.59                      & \\$36.17                       & \\$104.73                      & \\$57.27                       & \\$25.81                       & \\$40.32                       & \\$16.94                       & \\$53.94                       & \\$15.24                       & \\$13.91                       & \\$0.28                        & 21                             & 3                              & \\#ff8132                      & false                         \\\\\n",
       "\t PARKERSBURG WV                 & \\$320.27                      & \\$172.13                      & \\$79.39                       & \\$11.62                       & \\$12.18                       & \\$22.01                       & \\$6.41                        & \\$6.57                        & \\$5.33                        & \\$4.47                        & \\$0.15                        & 22                             & 3                              & \\#ff8132                      & false                         \\\\\n",
       "\t PHOENIX AZ                     & \\$431.38                      & \\$0.00                        & \\$133.74                      & \\$75.37                       & \\$84.63                       & \\$64.15                       & \\$19.05                       & \\$20.70                       & \\$12.85                       & \\$20.36                       & \\$0.55                        & 23                             & 3                              & \\#ff8132                      & false                         \\\\\n",
       "\t RALEIGH-DURHAM NC              & \\$201.05                      & \\$0.00                        & \\$57.74                       & \\$43.75                       & \\$30.58                       & \\$32.95                       & \\$11.70                       & \\$3.75                        & \\$8.00                        & \\$12.26                       & \\$0.32                        & 24                             & 3                              & \\#ff8132                      & false                         \\\\\n",
       "\t SAN ANGELO TX                  & \\$334.96                      & \\$176.01                      & \\$78.68                       & \\$11.30                       & \\$12.37                       & \\$26.58                       & \\$6.38                        & \\$11.97                       & \\$6.21                        & \\$5.33                        & \\$0.13                        & 25                             & 3                              & \\#ff8132                      & false                         \\\\\n",
       "\t SHREVEPORT LA                  & \\$435.01                      & \\$153.40                      & \\$108.33                      & \\$71.01                       & \\$15.73                       & \\$40.54                       & \\$12.79                       & \\$13.52                       & \\$13.54                       & \\$5.85                        & \\$0.30                        & 26                             & 3                              & \\#ff8132                      & false                         \\\\\n",
       "\t SPRINGFIELD MO                 & \\$490.80                      & \\$206.81                      & \\$119.94                      & \\$61.64                       & \\$24.44                       & \\$29.95                       & \\$13.76                       & \\$15.56                       & \\$8.76                        & \\$9.62                        & \\$0.33                        & 27                             & 3                              & \\#ff8132                      & false                         \\\\\n",
       "\t ST JOSEPH MO                   & \\$271.38                      & \\$148.57                      & \\$64.86                       & \\$9.42                        & \\$7.75                        & \\$15.60                       & \\$4.28                        & \\$12.65                       & \\$4.31                        & \\$3.79                        & \\$0.14                        & 28                             & 3                              & \\#ff8132                      & false                         \\\\\n",
       "\t TULSA OK                       & \\$175.95                      & \\$20.61                       & \\$48.99                       & \\$27.91                       & \\$9.17                        & \\$22.40                       & \\$4.91                        & \\$27.74                       & \\$5.09                        & \\$9.03                        & \\$0.10                        & 29                             & 3                              & \\#ff8132                      & false                         \\\\\n",
       "\t TYLER-LONGVIEW TX              & \\$884.92                      & \\$290.66                      & \\$213.94                      & \\$145.46                      & \\$41.71                       & \\$90.00                       & \\$25.21                       & \\$37.84                       & \\$25.80                       & \\$13.61                       & \\$0.71                        & 30                             & 3                              & \\#ff8132                      & false                         \\\\\n",
       "\t VICTORIA TX                    & \\$273.84                      & \\$155.84                      & \\$61.17                       & \\$10.23                       & \\$5.70                        & \\$15.50                       & \\$3.57                        & \\$15.24                       & \\$3.95                        & \\$2.51                        & \\$0.11                        & 31                             & 3                              & \\#ff8132                      & false                         \\\\\n",
       "\t WACO-TEMPLE-BRYAN TX           & \\$530.88                      & \\$223.80                      & \\$124.81                      & \\$58.21                       & \\$30.14                       & \\$47.32                       & \\$14.13                       & \\$14.32                       & \\$12.97                       & \\$4.72                        & \\$0.45                        & 32                             & 3                              & \\#ff8132                      & false                         \\\\\n",
       "\\end{tabular}\n",
       "\n",
       "\\end{description}\n"
      ],
      "text/markdown": [
       "$summary\n",
       ":   \n",
       "| name | Spend $(000) | True Gross Adds | id | __parent | __color | expanded |\n",
       "|---|---|---|---|---|---|---|\n",
       "| USA     | $46,300 | 213,974 | 1       | parent  | #000000 | true    |\n",
       "| EAST    | $30,400 | 116,765 | 2       | 1       | #0084d6 | false   |\n",
       "| WEST    | $15,900 |  97,209 | 3       | 1       | #ff8132 | false   |\n",
       "\n",
       "\n",
       "$spend\n",
       ":   \n",
       "| name | Spend $(000) | TV | Direct Mail | Search Unbranded | Display | Search Branded | Video | Radio | Social | Print | Audio | id | __parent | __color | expanded |\n",
       "|---|---|---|---|---|---|---|---|---|---|---|---|---|---|---|---|\n",
       "| USA                            | $46,300                        | $16,619                        | $9,300                         | $5,817                         | $4,985                         | $4,457                         | $1,790                         | $1,474                         | $1,414                         | $353                           | $91                            |  1                             | parent                         | #000000                        | true                           |\n",
       "| EAST                           | $30,400                        | $12,405                        | $5,400                         | $3,160                         | $3,481                         | $2,995                         | $1,187                         | $675                           | $954                           | $82                            | $61                            |  2                             | 1                              | #0084d6                        | false                          |\n",
       "| WEST                           | $15,900                        | $4,214                         | $3,900                         | $2,658                         | $1,504                         | $1,462                         | $603                           | $799                           | $460                           | $271                           | $30                            |  3                             | 1                              | #ff8132                        | false                          |\n",
       "| ABILENE-SWEETWATER TX          | $358.93                        | $138.51                        | $89.41                         | $43.99                         | $15.67                         | $37.56                         | $9.49                          | $9.92                          | $7.86                          | $6.30                          | $0.21                          |  4                             | 3                              | #ff8132                        | false                          |\n",
       "| ALEXANDRIA LA                  | $363.12                        | $159.74                        | $89.42                         | $37.38                         | $9.41                          | $34.50                         | $8.71                          | $11.65                         | $8.98                          | $3.17                          | $0.15                          |  5                             | 3                              | #ff8132                        | false                          |\n",
       "| All Other Suddenlink DMA Total | $2,227.58                      | $336.20                        | $501.78                        | $513.24                        | $380.55                        | $168.50                        | $127.47                        | $102.04                        | $69.11                         | $13.80                         | $14.87                         |  6                             | 3                              | #ff8132                        | false                          |\n",
       "| AMARILLO TX                    | $526.17                        | $192.39                        | $141.37                        | $57.43                         | $24.59                         | $52.82                         | $14.02                         | $17.92                         | $14.23                         | $11.07                         | $0.32                          |  7                             | 3                              | #ff8132                        | false                          |\n",
       "| AUSTIN TX                      | $600.01                        | $0.00                          | $141.65                        | $172.22                        | $110.48                        | $50.70                         | $34.12                         | $62.63                         | $15.74                         | $11.30                         | $1.18                          |  8                             | 3                              | #ff8132                        | false                          |\n",
       "| BLUEFIELD-BECKLEY-OAK HILL WV  | $364.14                        | $134.97                        | $89.23                         | $40.89                         | $17.02                         | $36.04                         | $10.12                         | $19.28                         | $11.03                         | $5.38                          | $0.17                          |  9                             | 3                              | #ff8132                        | false                          |\n",
       "| CHARLESTON-HUNTINGTON WV       | $748.87                        | $213.44                        | $180.43                        | $115.74                        | $45.49                         | $89.66                         | $32.96                         | $19.73                         | $37.35                         | $13.42                         | $0.65                          | 10                             | 3                              | #ff8132                        | false                          |\n",
       "| DALLAS-FT WORTH TX             | $1,290.78                      | $0.00                          | $313.99                        | $366.66                        | $283.10                        | $113.62                        | $78.74                         | $67.67                         | $37.90                         | $25.21                         | $3.89                          | 11                             | 3                              | #ff8132                        | false                          |\n",
       "| EUREKA CA                      | $239.91                        | $119.22                        | $58.86                         | $9.91                          | $9.99                          | $21.43                         | $6.16                          | $8.77                          | $2.09                          | $3.29                          | $0.20                          | 12                             | 3                              | #ff8132                        | false                          |\n",
       "| GREENVILLE-NEW BERN-WASH NC    | $583.18                        | $180.87                        | $148.40                        | $68.23                         | $35.34                         | $74.24                         | $22.89                         | $18.72                         | $23.85                         | $10.22                         | $0.42                          | 13                             | 3                              | #ff8132                        | false                          |\n",
       "| HOUSTON TX                     | $1,019.17                      | $0.00                          | $243.61                        | $285.98                        | $155.29                        | $97.69                         | $49.94                         | $132.59                        | $30.21                         | $21.31                         | $2.56                          | 14                             | 3                              | #ff8132                        | false                          |\n",
       "| JONESBORO AR                   | $319.93                        | $175.12                        | $73.65                         | $11.12                         | $8.50                          | $22.31                         | $5.57                          | $12.71                         | $6.99                          | $3.89                          | $0.06                          | 15                             | 3                              | #ff8132                        | false                          |\n",
       "| LAKE CHARLES LA                | $456.48                        | $209.04                        | $107.93                        | $40.11                         | $15.32                         | $42.91                         | $9.75                          | $16.03                         | $9.81                          | $5.37                          | $0.20                          | 16                             | 3                              | #ff8132                        | false                          |\n",
       "| LITTLE ROCK AR                 | $638.92                        | $168.81                        | $157.78                        | $147.46                        | $35.87                         | $52.16                         | $22.18                         | $21.89                         | $23.28                         | $8.92                          | $0.56                          | 17                             | 3                              | #ff8132                        | false                          |\n",
       "| LUBBOCK TX                     | $555.98                        | $177.57                        | $150.21                        | $74.54                         | $28.84                         | $59.63                         | $14.04                         | $18.78                         | $19.99                         | $12.00                         | $0.38                          | 18                             | 3                              | #ff8132                        | false                          |\n",
       "| MONROE-EL DORADO LA-AR         | $254.34                        | $117.95                        | $64.58                         | $24.53                         | $7.10                          | $18.74                         | $5.06                          | $6.96                          | $6.47                          | $2.83                          | $0.11                          | 19                             | 3                              | #ff8132                        | false                          |\n",
       "| ODESSA-MIDLAND TX              | $637.49                        | $305.95                        | $151.36                        | $64.97                         | $21.14                         | $41.85                         | $12.91                         | $18.20                         | $12.92                         | $7.81                          | $0.36                          | 20                             | 3                              | #ff8132                        | false                          |\n",
       "| OKLAHOMA CITY OK               | $364.59                        | $36.17                         | $104.73                        | $57.27                         | $25.81                         | $40.32                         | $16.94                         | $53.94                         | $15.24                         | $13.91                         | $0.28                          | 21                             | 3                              | #ff8132                        | false                          |\n",
       "| PARKERSBURG WV                 | $320.27                        | $172.13                        | $79.39                         | $11.62                         | $12.18                         | $22.01                         | $6.41                          | $6.57                          | $5.33                          | $4.47                          | $0.15                          | 22                             | 3                              | #ff8132                        | false                          |\n",
       "| PHOENIX AZ                     | $431.38                        | $0.00                          | $133.74                        | $75.37                         | $84.63                         | $64.15                         | $19.05                         | $20.70                         | $12.85                         | $20.36                         | $0.55                          | 23                             | 3                              | #ff8132                        | false                          |\n",
       "| RALEIGH-DURHAM NC              | $201.05                        | $0.00                          | $57.74                         | $43.75                         | $30.58                         | $32.95                         | $11.70                         | $3.75                          | $8.00                          | $12.26                         | $0.32                          | 24                             | 3                              | #ff8132                        | false                          |\n",
       "| SAN ANGELO TX                  | $334.96                        | $176.01                        | $78.68                         | $11.30                         | $12.37                         | $26.58                         | $6.38                          | $11.97                         | $6.21                          | $5.33                          | $0.13                          | 25                             | 3                              | #ff8132                        | false                          |\n",
       "| SHREVEPORT LA                  | $435.01                        | $153.40                        | $108.33                        | $71.01                         | $15.73                         | $40.54                         | $12.79                         | $13.52                         | $13.54                         | $5.85                          | $0.30                          | 26                             | 3                              | #ff8132                        | false                          |\n",
       "| SPRINGFIELD MO                 | $490.80                        | $206.81                        | $119.94                        | $61.64                         | $24.44                         | $29.95                         | $13.76                         | $15.56                         | $8.76                          | $9.62                          | $0.33                          | 27                             | 3                              | #ff8132                        | false                          |\n",
       "| ST JOSEPH MO                   | $271.38                        | $148.57                        | $64.86                         | $9.42                          | $7.75                          | $15.60                         | $4.28                          | $12.65                         | $4.31                          | $3.79                          | $0.14                          | 28                             | 3                              | #ff8132                        | false                          |\n",
       "| TULSA OK                       | $175.95                        | $20.61                         | $48.99                         | $27.91                         | $9.17                          | $22.40                         | $4.91                          | $27.74                         | $5.09                          | $9.03                          | $0.10                          | 29                             | 3                              | #ff8132                        | false                          |\n",
       "| TYLER-LONGVIEW TX              | $884.92                        | $290.66                        | $213.94                        | $145.46                        | $41.71                         | $90.00                         | $25.21                         | $37.84                         | $25.80                         | $13.61                         | $0.71                          | 30                             | 3                              | #ff8132                        | false                          |\n",
       "| VICTORIA TX                    | $273.84                        | $155.84                        | $61.17                         | $10.23                         | $5.70                          | $15.50                         | $3.57                          | $15.24                         | $3.95                          | $2.51                          | $0.11                          | 31                             | 3                              | #ff8132                        | false                          |\n",
       "| WACO-TEMPLE-BRYAN TX           | $530.88                        | $223.80                        | $124.81                        | $58.21                         | $30.14                         | $47.32                         | $14.13                         | $14.32                         | $12.97                         | $4.72                          | $0.45                          | 32                             | 3                              | #ff8132                        | false                          |\n",
       "\n",
       "\n",
       "\n",
       "\n"
      ],
      "text/plain": [
       "$summary\n",
       "  name Spend $(000) True Gross Adds id __parent __color expanded\n",
       "1  USA      $46,300         213,974  1   parent #000000     true\n",
       "2 EAST      $30,400         116,765  2        1 #0084d6    false\n",
       "3 WEST      $15,900          97,209  3        1 #ff8132    false\n",
       "\n",
       "$spend\n",
       "                             name Spend $(000)      TV Direct Mail\n",
       "1                             USA      $46,300 $16,619      $9,300\n",
       "2                            EAST      $30,400 $12,405      $5,400\n",
       "3                            WEST      $15,900  $4,214      $3,900\n",
       "4           ABILENE-SWEETWATER TX      $358.93 $138.51      $89.41\n",
       "5                   ALEXANDRIA LA      $363.12 $159.74      $89.42\n",
       "6  All Other Suddenlink DMA Total    $2,227.58 $336.20     $501.78\n",
       "7                     AMARILLO TX      $526.17 $192.39     $141.37\n",
       "8                       AUSTIN TX      $600.01   $0.00     $141.65\n",
       "9   BLUEFIELD-BECKLEY-OAK HILL WV      $364.14 $134.97      $89.23\n",
       "10       CHARLESTON-HUNTINGTON WV      $748.87 $213.44     $180.43\n",
       "11             DALLAS-FT WORTH TX    $1,290.78   $0.00     $313.99\n",
       "12                      EUREKA CA      $239.91 $119.22      $58.86\n",
       "13    GREENVILLE-NEW BERN-WASH NC      $583.18 $180.87     $148.40\n",
       "14                     HOUSTON TX    $1,019.17   $0.00     $243.61\n",
       "15                   JONESBORO AR      $319.93 $175.12      $73.65\n",
       "16                LAKE CHARLES LA      $456.48 $209.04     $107.93\n",
       "17                 LITTLE ROCK AR      $638.92 $168.81     $157.78\n",
       "18                     LUBBOCK TX      $555.98 $177.57     $150.21\n",
       "19         MONROE-EL DORADO LA-AR      $254.34 $117.95      $64.58\n",
       "20              ODESSA-MIDLAND TX      $637.49 $305.95     $151.36\n",
       "21               OKLAHOMA CITY OK      $364.59  $36.17     $104.73\n",
       "22                 PARKERSBURG WV      $320.27 $172.13      $79.39\n",
       "23                     PHOENIX AZ      $431.38   $0.00     $133.74\n",
       "24              RALEIGH-DURHAM NC      $201.05   $0.00      $57.74\n",
       "25                  SAN ANGELO TX      $334.96 $176.01      $78.68\n",
       "26                  SHREVEPORT LA      $435.01 $153.40     $108.33\n",
       "27                 SPRINGFIELD MO      $490.80 $206.81     $119.94\n",
       "28                   ST JOSEPH MO      $271.38 $148.57      $64.86\n",
       "29                       TULSA OK      $175.95  $20.61      $48.99\n",
       "30              TYLER-LONGVIEW TX      $884.92 $290.66     $213.94\n",
       "31                    VICTORIA TX      $273.84 $155.84      $61.17\n",
       "32           WACO-TEMPLE-BRYAN TX      $530.88 $223.80     $124.81\n",
       "   Search Unbranded Display Search Branded   Video   Radio Social  Print  Audio\n",
       "1            $5,817  $4,985         $4,457  $1,790  $1,474 $1,414   $353    $91\n",
       "2            $3,160  $3,481         $2,995  $1,187    $675   $954    $82    $61\n",
       "3            $2,658  $1,504         $1,462    $603    $799   $460   $271    $30\n",
       "4            $43.99  $15.67         $37.56   $9.49   $9.92  $7.86  $6.30  $0.21\n",
       "5            $37.38   $9.41         $34.50   $8.71  $11.65  $8.98  $3.17  $0.15\n",
       "6           $513.24 $380.55        $168.50 $127.47 $102.04 $69.11 $13.80 $14.87\n",
       "7            $57.43  $24.59         $52.82  $14.02  $17.92 $14.23 $11.07  $0.32\n",
       "8           $172.22 $110.48         $50.70  $34.12  $62.63 $15.74 $11.30  $1.18\n",
       "9            $40.89  $17.02         $36.04  $10.12  $19.28 $11.03  $5.38  $0.17\n",
       "10          $115.74  $45.49         $89.66  $32.96  $19.73 $37.35 $13.42  $0.65\n",
       "11          $366.66 $283.10        $113.62  $78.74  $67.67 $37.90 $25.21  $3.89\n",
       "12            $9.91   $9.99         $21.43   $6.16   $8.77  $2.09  $3.29  $0.20\n",
       "13           $68.23  $35.34         $74.24  $22.89  $18.72 $23.85 $10.22  $0.42\n",
       "14          $285.98 $155.29         $97.69  $49.94 $132.59 $30.21 $21.31  $2.56\n",
       "15           $11.12   $8.50         $22.31   $5.57  $12.71  $6.99  $3.89  $0.06\n",
       "16           $40.11  $15.32         $42.91   $9.75  $16.03  $9.81  $5.37  $0.20\n",
       "17          $147.46  $35.87         $52.16  $22.18  $21.89 $23.28  $8.92  $0.56\n",
       "18           $74.54  $28.84         $59.63  $14.04  $18.78 $19.99 $12.00  $0.38\n",
       "19           $24.53   $7.10         $18.74   $5.06   $6.96  $6.47  $2.83  $0.11\n",
       "20           $64.97  $21.14         $41.85  $12.91  $18.20 $12.92  $7.81  $0.36\n",
       "21           $57.27  $25.81         $40.32  $16.94  $53.94 $15.24 $13.91  $0.28\n",
       "22           $11.62  $12.18         $22.01   $6.41   $6.57  $5.33  $4.47  $0.15\n",
       "23           $75.37  $84.63         $64.15  $19.05  $20.70 $12.85 $20.36  $0.55\n",
       "24           $43.75  $30.58         $32.95  $11.70   $3.75  $8.00 $12.26  $0.32\n",
       "25           $11.30  $12.37         $26.58   $6.38  $11.97  $6.21  $5.33  $0.13\n",
       "26           $71.01  $15.73         $40.54  $12.79  $13.52 $13.54  $5.85  $0.30\n",
       "27           $61.64  $24.44         $29.95  $13.76  $15.56  $8.76  $9.62  $0.33\n",
       "28            $9.42   $7.75         $15.60   $4.28  $12.65  $4.31  $3.79  $0.14\n",
       "29           $27.91   $9.17         $22.40   $4.91  $27.74  $5.09  $9.03  $0.10\n",
       "30          $145.46  $41.71         $90.00  $25.21  $37.84 $25.80 $13.61  $0.71\n",
       "31           $10.23   $5.70         $15.50   $3.57  $15.24  $3.95  $2.51  $0.11\n",
       "32           $58.21  $30.14         $47.32  $14.13  $14.32 $12.97  $4.72  $0.45\n",
       "   id __parent __color expanded\n",
       "1   1   parent #000000     true\n",
       "2   2        1 #0084d6    false\n",
       "3   3        1 #ff8132    false\n",
       "4   4        3 #ff8132    false\n",
       "5   5        3 #ff8132    false\n",
       "6   6        3 #ff8132    false\n",
       "7   7        3 #ff8132    false\n",
       "8   8        3 #ff8132    false\n",
       "9   9        3 #ff8132    false\n",
       "10 10        3 #ff8132    false\n",
       "11 11        3 #ff8132    false\n",
       "12 12        3 #ff8132    false\n",
       "13 13        3 #ff8132    false\n",
       "14 14        3 #ff8132    false\n",
       "15 15        3 #ff8132    false\n",
       "16 16        3 #ff8132    false\n",
       "17 17        3 #ff8132    false\n",
       "18 18        3 #ff8132    false\n",
       "19 19        3 #ff8132    false\n",
       "20 20        3 #ff8132    false\n",
       "21 21        3 #ff8132    false\n",
       "22 22        3 #ff8132    false\n",
       "23 23        3 #ff8132    false\n",
       "24 24        3 #ff8132    false\n",
       "25 25        3 #ff8132    false\n",
       "26 26        3 #ff8132    false\n",
       "27 27        3 #ff8132    false\n",
       "28 28        3 #ff8132    false\n",
       "29 29        3 #ff8132    false\n",
       "30 30        3 #ff8132    false\n",
       "31 31        3 #ff8132    false\n",
       "32 32        3 #ff8132    false\n"
      ]
     },
     "metadata": {},
     "output_type": "display_data"
    }
   ],
   "source": [
    "test_res_json"
   ]
  },
  {
   "cell_type": "code",
   "execution_count": 8,
   "metadata": {
    "ExecuteTime": {
     "end_time": "2021-06-08T16:48:41.612869Z",
     "start_time": "2021-06-08T16:43:18.642Z"
    },
    "scrolled": true
   },
   "outputs": [
    {
     "data": {
      "text/html": [
       "<table>\n",
       "<thead><tr><th scope=col>name</th><th scope=col>Spend $(000)</th><th scope=col>TV</th><th scope=col>Direct Mail</th><th scope=col>Search Unbranded</th><th scope=col>Display</th><th scope=col>Search Branded</th><th scope=col>Video</th><th scope=col>Radio</th><th scope=col>Social</th><th scope=col>Print</th><th scope=col>Audio</th><th scope=col>id</th><th scope=col>__parent</th><th scope=col>__color</th><th scope=col>expanded</th></tr></thead>\n",
       "<tbody>\n",
       "\t<tr><td>USA                           </td><td>$46,300                       </td><td>$16,619                       </td><td>$9,300                        </td><td>$5,817                        </td><td>$4,985                        </td><td>$4,457                        </td><td>$1,790                        </td><td>$1,474                        </td><td>$1,414                        </td><td>$353                          </td><td>$91                           </td><td> 1                            </td><td>parent                        </td><td>#000000                       </td><td>true                          </td></tr>\n",
       "\t<tr><td>EAST                          </td><td>$30,400                       </td><td>$12,405                       </td><td>$5,400                        </td><td>$3,160                        </td><td>$3,481                        </td><td>$2,995                        </td><td>$1,187                        </td><td>$675                          </td><td>$954                          </td><td>$82                           </td><td>$61                           </td><td> 2                            </td><td>1                             </td><td>#0084d6                       </td><td>false                         </td></tr>\n",
       "\t<tr><td>WEST                          </td><td>$15,900                       </td><td>$4,214                        </td><td>$3,900                        </td><td>$2,658                        </td><td>$1,504                        </td><td>$1,462                        </td><td>$603                          </td><td>$799                          </td><td>$460                          </td><td>$271                          </td><td>$30                           </td><td> 3                            </td><td>1                             </td><td>#ff8132                       </td><td>false                         </td></tr>\n",
       "\t<tr><td>ABILENE-SWEETWATER TX         </td><td>$358.93                       </td><td>$138.51                       </td><td>$89.41                        </td><td>$43.99                        </td><td>$15.67                        </td><td>$37.56                        </td><td>$9.49                         </td><td>$9.92                         </td><td>$7.86                         </td><td>$6.30                         </td><td>$0.21                         </td><td> 4                            </td><td>3                             </td><td>#ff8132                       </td><td>false                         </td></tr>\n",
       "\t<tr><td>ALEXANDRIA LA                 </td><td>$363.12                       </td><td>$159.74                       </td><td>$89.42                        </td><td>$37.38                        </td><td>$9.41                         </td><td>$34.50                        </td><td>$8.71                         </td><td>$11.65                        </td><td>$8.98                         </td><td>$3.17                         </td><td>$0.15                         </td><td> 5                            </td><td>3                             </td><td>#ff8132                       </td><td>false                         </td></tr>\n",
       "\t<tr><td>All Other Suddenlink DMA Total</td><td>$2,227.58                     </td><td>$336.20                       </td><td>$501.78                       </td><td>$513.24                       </td><td>$380.55                       </td><td>$168.50                       </td><td>$127.47                       </td><td>$102.04                       </td><td>$69.11                        </td><td>$13.80                        </td><td>$14.87                        </td><td> 6                            </td><td>3                             </td><td>#ff8132                       </td><td>false                         </td></tr>\n",
       "\t<tr><td>AMARILLO TX                   </td><td>$526.17                       </td><td>$192.39                       </td><td>$141.37                       </td><td>$57.43                        </td><td>$24.59                        </td><td>$52.82                        </td><td>$14.02                        </td><td>$17.92                        </td><td>$14.23                        </td><td>$11.07                        </td><td>$0.32                         </td><td> 7                            </td><td>3                             </td><td>#ff8132                       </td><td>false                         </td></tr>\n",
       "\t<tr><td>AUSTIN TX                     </td><td>$600.01                       </td><td>$0.00                         </td><td>$141.65                       </td><td>$172.22                       </td><td>$110.48                       </td><td>$50.70                        </td><td>$34.12                        </td><td>$62.63                        </td><td>$15.74                        </td><td>$11.30                        </td><td>$1.18                         </td><td> 8                            </td><td>3                             </td><td>#ff8132                       </td><td>false                         </td></tr>\n",
       "\t<tr><td>BLUEFIELD-BECKLEY-OAK HILL WV </td><td>$364.14                       </td><td>$134.97                       </td><td>$89.23                        </td><td>$40.89                        </td><td>$17.02                        </td><td>$36.04                        </td><td>$10.12                        </td><td>$19.28                        </td><td>$11.03                        </td><td>$5.38                         </td><td>$0.17                         </td><td> 9                            </td><td>3                             </td><td>#ff8132                       </td><td>false                         </td></tr>\n",
       "\t<tr><td>CHARLESTON-HUNTINGTON WV      </td><td>$748.87                       </td><td>$213.44                       </td><td>$180.43                       </td><td>$115.74                       </td><td>$45.49                        </td><td>$89.66                        </td><td>$32.96                        </td><td>$19.73                        </td><td>$37.35                        </td><td>$13.42                        </td><td>$0.65                         </td><td>10                            </td><td>3                             </td><td>#ff8132                       </td><td>false                         </td></tr>\n",
       "\t<tr><td>DALLAS-FT WORTH TX            </td><td>$1,290.78                     </td><td>$0.00                         </td><td>$313.99                       </td><td>$366.66                       </td><td>$283.10                       </td><td>$113.62                       </td><td>$78.74                        </td><td>$67.67                        </td><td>$37.90                        </td><td>$25.21                        </td><td>$3.89                         </td><td>11                            </td><td>3                             </td><td>#ff8132                       </td><td>false                         </td></tr>\n",
       "\t<tr><td>EUREKA CA                     </td><td>$239.91                       </td><td>$119.22                       </td><td>$58.86                        </td><td>$9.91                         </td><td>$9.99                         </td><td>$21.43                        </td><td>$6.16                         </td><td>$8.77                         </td><td>$2.09                         </td><td>$3.29                         </td><td>$0.20                         </td><td>12                            </td><td>3                             </td><td>#ff8132                       </td><td>false                         </td></tr>\n",
       "\t<tr><td>GREENVILLE-NEW BERN-WASH NC   </td><td>$583.18                       </td><td>$180.87                       </td><td>$148.40                       </td><td>$68.23                        </td><td>$35.34                        </td><td>$74.24                        </td><td>$22.89                        </td><td>$18.72                        </td><td>$23.85                        </td><td>$10.22                        </td><td>$0.42                         </td><td>13                            </td><td>3                             </td><td>#ff8132                       </td><td>false                         </td></tr>\n",
       "\t<tr><td>HOUSTON TX                    </td><td>$1,019.17                     </td><td>$0.00                         </td><td>$243.61                       </td><td>$285.98                       </td><td>$155.29                       </td><td>$97.69                        </td><td>$49.94                        </td><td>$132.59                       </td><td>$30.21                        </td><td>$21.31                        </td><td>$2.56                         </td><td>14                            </td><td>3                             </td><td>#ff8132                       </td><td>false                         </td></tr>\n",
       "\t<tr><td>JONESBORO AR                  </td><td>$319.93                       </td><td>$175.12                       </td><td>$73.65                        </td><td>$11.12                        </td><td>$8.50                         </td><td>$22.31                        </td><td>$5.57                         </td><td>$12.71                        </td><td>$6.99                         </td><td>$3.89                         </td><td>$0.06                         </td><td>15                            </td><td>3                             </td><td>#ff8132                       </td><td>false                         </td></tr>\n",
       "\t<tr><td>LAKE CHARLES LA               </td><td>$456.48                       </td><td>$209.04                       </td><td>$107.93                       </td><td>$40.11                        </td><td>$15.32                        </td><td>$42.91                        </td><td>$9.75                         </td><td>$16.03                        </td><td>$9.81                         </td><td>$5.37                         </td><td>$0.20                         </td><td>16                            </td><td>3                             </td><td>#ff8132                       </td><td>false                         </td></tr>\n",
       "\t<tr><td>LITTLE ROCK AR                </td><td>$638.92                       </td><td>$168.81                       </td><td>$157.78                       </td><td>$147.46                       </td><td>$35.87                        </td><td>$52.16                        </td><td>$22.18                        </td><td>$21.89                        </td><td>$23.28                        </td><td>$8.92                         </td><td>$0.56                         </td><td>17                            </td><td>3                             </td><td>#ff8132                       </td><td>false                         </td></tr>\n",
       "\t<tr><td>LUBBOCK TX                    </td><td>$555.98                       </td><td>$177.57                       </td><td>$150.21                       </td><td>$74.54                        </td><td>$28.84                        </td><td>$59.63                        </td><td>$14.04                        </td><td>$18.78                        </td><td>$19.99                        </td><td>$12.00                        </td><td>$0.38                         </td><td>18                            </td><td>3                             </td><td>#ff8132                       </td><td>false                         </td></tr>\n",
       "\t<tr><td>MONROE-EL DORADO LA-AR        </td><td>$254.34                       </td><td>$117.95                       </td><td>$64.58                        </td><td>$24.53                        </td><td>$7.10                         </td><td>$18.74                        </td><td>$5.06                         </td><td>$6.96                         </td><td>$6.47                         </td><td>$2.83                         </td><td>$0.11                         </td><td>19                            </td><td>3                             </td><td>#ff8132                       </td><td>false                         </td></tr>\n",
       "\t<tr><td>ODESSA-MIDLAND TX             </td><td>$637.49                       </td><td>$305.95                       </td><td>$151.36                       </td><td>$64.97                        </td><td>$21.14                        </td><td>$41.85                        </td><td>$12.91                        </td><td>$18.20                        </td><td>$12.92                        </td><td>$7.81                         </td><td>$0.36                         </td><td>20                            </td><td>3                             </td><td>#ff8132                       </td><td>false                         </td></tr>\n",
       "\t<tr><td>OKLAHOMA CITY OK              </td><td>$364.59                       </td><td>$36.17                        </td><td>$104.73                       </td><td>$57.27                        </td><td>$25.81                        </td><td>$40.32                        </td><td>$16.94                        </td><td>$53.94                        </td><td>$15.24                        </td><td>$13.91                        </td><td>$0.28                         </td><td>21                            </td><td>3                             </td><td>#ff8132                       </td><td>false                         </td></tr>\n",
       "\t<tr><td>PARKERSBURG WV                </td><td>$320.27                       </td><td>$172.13                       </td><td>$79.39                        </td><td>$11.62                        </td><td>$12.18                        </td><td>$22.01                        </td><td>$6.41                         </td><td>$6.57                         </td><td>$5.33                         </td><td>$4.47                         </td><td>$0.15                         </td><td>22                            </td><td>3                             </td><td>#ff8132                       </td><td>false                         </td></tr>\n",
       "\t<tr><td>PHOENIX AZ                    </td><td>$431.38                       </td><td>$0.00                         </td><td>$133.74                       </td><td>$75.37                        </td><td>$84.63                        </td><td>$64.15                        </td><td>$19.05                        </td><td>$20.70                        </td><td>$12.85                        </td><td>$20.36                        </td><td>$0.55                         </td><td>23                            </td><td>3                             </td><td>#ff8132                       </td><td>false                         </td></tr>\n",
       "\t<tr><td>RALEIGH-DURHAM NC             </td><td>$201.05                       </td><td>$0.00                         </td><td>$57.74                        </td><td>$43.75                        </td><td>$30.58                        </td><td>$32.95                        </td><td>$11.70                        </td><td>$3.75                         </td><td>$8.00                         </td><td>$12.26                        </td><td>$0.32                         </td><td>24                            </td><td>3                             </td><td>#ff8132                       </td><td>false                         </td></tr>\n",
       "\t<tr><td>SAN ANGELO TX                 </td><td>$334.96                       </td><td>$176.01                       </td><td>$78.68                        </td><td>$11.30                        </td><td>$12.37                        </td><td>$26.58                        </td><td>$6.38                         </td><td>$11.97                        </td><td>$6.21                         </td><td>$5.33                         </td><td>$0.13                         </td><td>25                            </td><td>3                             </td><td>#ff8132                       </td><td>false                         </td></tr>\n",
       "\t<tr><td>SHREVEPORT LA                 </td><td>$435.01                       </td><td>$153.40                       </td><td>$108.33                       </td><td>$71.01                        </td><td>$15.73                        </td><td>$40.54                        </td><td>$12.79                        </td><td>$13.52                        </td><td>$13.54                        </td><td>$5.85                         </td><td>$0.30                         </td><td>26                            </td><td>3                             </td><td>#ff8132                       </td><td>false                         </td></tr>\n",
       "\t<tr><td>SPRINGFIELD MO                </td><td>$490.80                       </td><td>$206.81                       </td><td>$119.94                       </td><td>$61.64                        </td><td>$24.44                        </td><td>$29.95                        </td><td>$13.76                        </td><td>$15.56                        </td><td>$8.76                         </td><td>$9.62                         </td><td>$0.33                         </td><td>27                            </td><td>3                             </td><td>#ff8132                       </td><td>false                         </td></tr>\n",
       "\t<tr><td>ST JOSEPH MO                  </td><td>$271.38                       </td><td>$148.57                       </td><td>$64.86                        </td><td>$9.42                         </td><td>$7.75                         </td><td>$15.60                        </td><td>$4.28                         </td><td>$12.65                        </td><td>$4.31                         </td><td>$3.79                         </td><td>$0.14                         </td><td>28                            </td><td>3                             </td><td>#ff8132                       </td><td>false                         </td></tr>\n",
       "\t<tr><td>TULSA OK                      </td><td>$175.95                       </td><td>$20.61                        </td><td>$48.99                        </td><td>$27.91                        </td><td>$9.17                         </td><td>$22.40                        </td><td>$4.91                         </td><td>$27.74                        </td><td>$5.09                         </td><td>$9.03                         </td><td>$0.10                         </td><td>29                            </td><td>3                             </td><td>#ff8132                       </td><td>false                         </td></tr>\n",
       "\t<tr><td>TYLER-LONGVIEW TX             </td><td>$884.92                       </td><td>$290.66                       </td><td>$213.94                       </td><td>$145.46                       </td><td>$41.71                        </td><td>$90.00                        </td><td>$25.21                        </td><td>$37.84                        </td><td>$25.80                        </td><td>$13.61                        </td><td>$0.71                         </td><td>30                            </td><td>3                             </td><td>#ff8132                       </td><td>false                         </td></tr>\n",
       "\t<tr><td>VICTORIA TX                   </td><td>$273.84                       </td><td>$155.84                       </td><td>$61.17                        </td><td>$10.23                        </td><td>$5.70                         </td><td>$15.50                        </td><td>$3.57                         </td><td>$15.24                        </td><td>$3.95                         </td><td>$2.51                         </td><td>$0.11                         </td><td>31                            </td><td>3                             </td><td>#ff8132                       </td><td>false                         </td></tr>\n",
       "\t<tr><td>WACO-TEMPLE-BRYAN TX          </td><td>$530.88                       </td><td>$223.80                       </td><td>$124.81                       </td><td>$58.21                        </td><td>$30.14                        </td><td>$47.32                        </td><td>$14.13                        </td><td>$14.32                        </td><td>$12.97                        </td><td>$4.72                         </td><td>$0.45                         </td><td>32                            </td><td>3                             </td><td>#ff8132                       </td><td>false                         </td></tr>\n",
       "</tbody>\n",
       "</table>\n"
      ],
      "text/latex": [
       "\\begin{tabular}{r|llllllllllllllll}\n",
       " name & Spend \\$(000) & TV & Direct Mail & Search Unbranded & Display & Search Branded & Video & Radio & Social & Print & Audio & id & \\_\\_parent & \\_\\_color & expanded\\\\\n",
       "\\hline\n",
       "\t USA                            & \\$46,300                      & \\$16,619                      & \\$9,300                       & \\$5,817                       & \\$4,985                       & \\$4,457                       & \\$1,790                       & \\$1,474                       & \\$1,414                       & \\$353                         & \\$91                          &  1                             & parent                         & \\#000000                      & true                          \\\\\n",
       "\t EAST                           & \\$30,400                      & \\$12,405                      & \\$5,400                       & \\$3,160                       & \\$3,481                       & \\$2,995                       & \\$1,187                       & \\$675                         & \\$954                         & \\$82                          & \\$61                          &  2                             & 1                              & \\#0084d6                      & false                         \\\\\n",
       "\t WEST                           & \\$15,900                      & \\$4,214                       & \\$3,900                       & \\$2,658                       & \\$1,504                       & \\$1,462                       & \\$603                         & \\$799                         & \\$460                         & \\$271                         & \\$30                          &  3                             & 1                              & \\#ff8132                      & false                         \\\\\n",
       "\t ABILENE-SWEETWATER TX          & \\$358.93                      & \\$138.51                      & \\$89.41                       & \\$43.99                       & \\$15.67                       & \\$37.56                       & \\$9.49                        & \\$9.92                        & \\$7.86                        & \\$6.30                        & \\$0.21                        &  4                             & 3                              & \\#ff8132                      & false                         \\\\\n",
       "\t ALEXANDRIA LA                  & \\$363.12                      & \\$159.74                      & \\$89.42                       & \\$37.38                       & \\$9.41                        & \\$34.50                       & \\$8.71                        & \\$11.65                       & \\$8.98                        & \\$3.17                        & \\$0.15                        &  5                             & 3                              & \\#ff8132                      & false                         \\\\\n",
       "\t All Other Suddenlink DMA Total & \\$2,227.58                    & \\$336.20                      & \\$501.78                      & \\$513.24                      & \\$380.55                      & \\$168.50                      & \\$127.47                      & \\$102.04                      & \\$69.11                       & \\$13.80                       & \\$14.87                       &  6                             & 3                              & \\#ff8132                      & false                         \\\\\n",
       "\t AMARILLO TX                    & \\$526.17                      & \\$192.39                      & \\$141.37                      & \\$57.43                       & \\$24.59                       & \\$52.82                       & \\$14.02                       & \\$17.92                       & \\$14.23                       & \\$11.07                       & \\$0.32                        &  7                             & 3                              & \\#ff8132                      & false                         \\\\\n",
       "\t AUSTIN TX                      & \\$600.01                      & \\$0.00                        & \\$141.65                      & \\$172.22                      & \\$110.48                      & \\$50.70                       & \\$34.12                       & \\$62.63                       & \\$15.74                       & \\$11.30                       & \\$1.18                        &  8                             & 3                              & \\#ff8132                      & false                         \\\\\n",
       "\t BLUEFIELD-BECKLEY-OAK HILL WV  & \\$364.14                      & \\$134.97                      & \\$89.23                       & \\$40.89                       & \\$17.02                       & \\$36.04                       & \\$10.12                       & \\$19.28                       & \\$11.03                       & \\$5.38                        & \\$0.17                        &  9                             & 3                              & \\#ff8132                      & false                         \\\\\n",
       "\t CHARLESTON-HUNTINGTON WV       & \\$748.87                      & \\$213.44                      & \\$180.43                      & \\$115.74                      & \\$45.49                       & \\$89.66                       & \\$32.96                       & \\$19.73                       & \\$37.35                       & \\$13.42                       & \\$0.65                        & 10                             & 3                              & \\#ff8132                      & false                         \\\\\n",
       "\t DALLAS-FT WORTH TX             & \\$1,290.78                    & \\$0.00                        & \\$313.99                      & \\$366.66                      & \\$283.10                      & \\$113.62                      & \\$78.74                       & \\$67.67                       & \\$37.90                       & \\$25.21                       & \\$3.89                        & 11                             & 3                              & \\#ff8132                      & false                         \\\\\n",
       "\t EUREKA CA                      & \\$239.91                      & \\$119.22                      & \\$58.86                       & \\$9.91                        & \\$9.99                        & \\$21.43                       & \\$6.16                        & \\$8.77                        & \\$2.09                        & \\$3.29                        & \\$0.20                        & 12                             & 3                              & \\#ff8132                      & false                         \\\\\n",
       "\t GREENVILLE-NEW BERN-WASH NC    & \\$583.18                      & \\$180.87                      & \\$148.40                      & \\$68.23                       & \\$35.34                       & \\$74.24                       & \\$22.89                       & \\$18.72                       & \\$23.85                       & \\$10.22                       & \\$0.42                        & 13                             & 3                              & \\#ff8132                      & false                         \\\\\n",
       "\t HOUSTON TX                     & \\$1,019.17                    & \\$0.00                        & \\$243.61                      & \\$285.98                      & \\$155.29                      & \\$97.69                       & \\$49.94                       & \\$132.59                      & \\$30.21                       & \\$21.31                       & \\$2.56                        & 14                             & 3                              & \\#ff8132                      & false                         \\\\\n",
       "\t JONESBORO AR                   & \\$319.93                      & \\$175.12                      & \\$73.65                       & \\$11.12                       & \\$8.50                        & \\$22.31                       & \\$5.57                        & \\$12.71                       & \\$6.99                        & \\$3.89                        & \\$0.06                        & 15                             & 3                              & \\#ff8132                      & false                         \\\\\n",
       "\t LAKE CHARLES LA                & \\$456.48                      & \\$209.04                      & \\$107.93                      & \\$40.11                       & \\$15.32                       & \\$42.91                       & \\$9.75                        & \\$16.03                       & \\$9.81                        & \\$5.37                        & \\$0.20                        & 16                             & 3                              & \\#ff8132                      & false                         \\\\\n",
       "\t LITTLE ROCK AR                 & \\$638.92                      & \\$168.81                      & \\$157.78                      & \\$147.46                      & \\$35.87                       & \\$52.16                       & \\$22.18                       & \\$21.89                       & \\$23.28                       & \\$8.92                        & \\$0.56                        & 17                             & 3                              & \\#ff8132                      & false                         \\\\\n",
       "\t LUBBOCK TX                     & \\$555.98                      & \\$177.57                      & \\$150.21                      & \\$74.54                       & \\$28.84                       & \\$59.63                       & \\$14.04                       & \\$18.78                       & \\$19.99                       & \\$12.00                       & \\$0.38                        & 18                             & 3                              & \\#ff8132                      & false                         \\\\\n",
       "\t MONROE-EL DORADO LA-AR         & \\$254.34                      & \\$117.95                      & \\$64.58                       & \\$24.53                       & \\$7.10                        & \\$18.74                       & \\$5.06                        & \\$6.96                        & \\$6.47                        & \\$2.83                        & \\$0.11                        & 19                             & 3                              & \\#ff8132                      & false                         \\\\\n",
       "\t ODESSA-MIDLAND TX              & \\$637.49                      & \\$305.95                      & \\$151.36                      & \\$64.97                       & \\$21.14                       & \\$41.85                       & \\$12.91                       & \\$18.20                       & \\$12.92                       & \\$7.81                        & \\$0.36                        & 20                             & 3                              & \\#ff8132                      & false                         \\\\\n",
       "\t OKLAHOMA CITY OK               & \\$364.59                      & \\$36.17                       & \\$104.73                      & \\$57.27                       & \\$25.81                       & \\$40.32                       & \\$16.94                       & \\$53.94                       & \\$15.24                       & \\$13.91                       & \\$0.28                        & 21                             & 3                              & \\#ff8132                      & false                         \\\\\n",
       "\t PARKERSBURG WV                 & \\$320.27                      & \\$172.13                      & \\$79.39                       & \\$11.62                       & \\$12.18                       & \\$22.01                       & \\$6.41                        & \\$6.57                        & \\$5.33                        & \\$4.47                        & \\$0.15                        & 22                             & 3                              & \\#ff8132                      & false                         \\\\\n",
       "\t PHOENIX AZ                     & \\$431.38                      & \\$0.00                        & \\$133.74                      & \\$75.37                       & \\$84.63                       & \\$64.15                       & \\$19.05                       & \\$20.70                       & \\$12.85                       & \\$20.36                       & \\$0.55                        & 23                             & 3                              & \\#ff8132                      & false                         \\\\\n",
       "\t RALEIGH-DURHAM NC              & \\$201.05                      & \\$0.00                        & \\$57.74                       & \\$43.75                       & \\$30.58                       & \\$32.95                       & \\$11.70                       & \\$3.75                        & \\$8.00                        & \\$12.26                       & \\$0.32                        & 24                             & 3                              & \\#ff8132                      & false                         \\\\\n",
       "\t SAN ANGELO TX                  & \\$334.96                      & \\$176.01                      & \\$78.68                       & \\$11.30                       & \\$12.37                       & \\$26.58                       & \\$6.38                        & \\$11.97                       & \\$6.21                        & \\$5.33                        & \\$0.13                        & 25                             & 3                              & \\#ff8132                      & false                         \\\\\n",
       "\t SHREVEPORT LA                  & \\$435.01                      & \\$153.40                      & \\$108.33                      & \\$71.01                       & \\$15.73                       & \\$40.54                       & \\$12.79                       & \\$13.52                       & \\$13.54                       & \\$5.85                        & \\$0.30                        & 26                             & 3                              & \\#ff8132                      & false                         \\\\\n",
       "\t SPRINGFIELD MO                 & \\$490.80                      & \\$206.81                      & \\$119.94                      & \\$61.64                       & \\$24.44                       & \\$29.95                       & \\$13.76                       & \\$15.56                       & \\$8.76                        & \\$9.62                        & \\$0.33                        & 27                             & 3                              & \\#ff8132                      & false                         \\\\\n",
       "\t ST JOSEPH MO                   & \\$271.38                      & \\$148.57                      & \\$64.86                       & \\$9.42                        & \\$7.75                        & \\$15.60                       & \\$4.28                        & \\$12.65                       & \\$4.31                        & \\$3.79                        & \\$0.14                        & 28                             & 3                              & \\#ff8132                      & false                         \\\\\n",
       "\t TULSA OK                       & \\$175.95                      & \\$20.61                       & \\$48.99                       & \\$27.91                       & \\$9.17                        & \\$22.40                       & \\$4.91                        & \\$27.74                       & \\$5.09                        & \\$9.03                        & \\$0.10                        & 29                             & 3                              & \\#ff8132                      & false                         \\\\\n",
       "\t TYLER-LONGVIEW TX              & \\$884.92                      & \\$290.66                      & \\$213.94                      & \\$145.46                      & \\$41.71                       & \\$90.00                       & \\$25.21                       & \\$37.84                       & \\$25.80                       & \\$13.61                       & \\$0.71                        & 30                             & 3                              & \\#ff8132                      & false                         \\\\\n",
       "\t VICTORIA TX                    & \\$273.84                      & \\$155.84                      & \\$61.17                       & \\$10.23                       & \\$5.70                        & \\$15.50                       & \\$3.57                        & \\$15.24                       & \\$3.95                        & \\$2.51                        & \\$0.11                        & 31                             & 3                              & \\#ff8132                      & false                         \\\\\n",
       "\t WACO-TEMPLE-BRYAN TX           & \\$530.88                      & \\$223.80                      & \\$124.81                      & \\$58.21                       & \\$30.14                       & \\$47.32                       & \\$14.13                       & \\$14.32                       & \\$12.97                       & \\$4.72                        & \\$0.45                        & 32                             & 3                              & \\#ff8132                      & false                         \\\\\n",
       "\\end{tabular}\n"
      ],
      "text/markdown": [
       "\n",
       "| name | Spend $(000) | TV | Direct Mail | Search Unbranded | Display | Search Branded | Video | Radio | Social | Print | Audio | id | __parent | __color | expanded |\n",
       "|---|---|---|---|---|---|---|---|---|---|---|---|---|---|---|---|\n",
       "| USA                            | $46,300                        | $16,619                        | $9,300                         | $5,817                         | $4,985                         | $4,457                         | $1,790                         | $1,474                         | $1,414                         | $353                           | $91                            |  1                             | parent                         | #000000                        | true                           |\n",
       "| EAST                           | $30,400                        | $12,405                        | $5,400                         | $3,160                         | $3,481                         | $2,995                         | $1,187                         | $675                           | $954                           | $82                            | $61                            |  2                             | 1                              | #0084d6                        | false                          |\n",
       "| WEST                           | $15,900                        | $4,214                         | $3,900                         | $2,658                         | $1,504                         | $1,462                         | $603                           | $799                           | $460                           | $271                           | $30                            |  3                             | 1                              | #ff8132                        | false                          |\n",
       "| ABILENE-SWEETWATER TX          | $358.93                        | $138.51                        | $89.41                         | $43.99                         | $15.67                         | $37.56                         | $9.49                          | $9.92                          | $7.86                          | $6.30                          | $0.21                          |  4                             | 3                              | #ff8132                        | false                          |\n",
       "| ALEXANDRIA LA                  | $363.12                        | $159.74                        | $89.42                         | $37.38                         | $9.41                          | $34.50                         | $8.71                          | $11.65                         | $8.98                          | $3.17                          | $0.15                          |  5                             | 3                              | #ff8132                        | false                          |\n",
       "| All Other Suddenlink DMA Total | $2,227.58                      | $336.20                        | $501.78                        | $513.24                        | $380.55                        | $168.50                        | $127.47                        | $102.04                        | $69.11                         | $13.80                         | $14.87                         |  6                             | 3                              | #ff8132                        | false                          |\n",
       "| AMARILLO TX                    | $526.17                        | $192.39                        | $141.37                        | $57.43                         | $24.59                         | $52.82                         | $14.02                         | $17.92                         | $14.23                         | $11.07                         | $0.32                          |  7                             | 3                              | #ff8132                        | false                          |\n",
       "| AUSTIN TX                      | $600.01                        | $0.00                          | $141.65                        | $172.22                        | $110.48                        | $50.70                         | $34.12                         | $62.63                         | $15.74                         | $11.30                         | $1.18                          |  8                             | 3                              | #ff8132                        | false                          |\n",
       "| BLUEFIELD-BECKLEY-OAK HILL WV  | $364.14                        | $134.97                        | $89.23                         | $40.89                         | $17.02                         | $36.04                         | $10.12                         | $19.28                         | $11.03                         | $5.38                          | $0.17                          |  9                             | 3                              | #ff8132                        | false                          |\n",
       "| CHARLESTON-HUNTINGTON WV       | $748.87                        | $213.44                        | $180.43                        | $115.74                        | $45.49                         | $89.66                         | $32.96                         | $19.73                         | $37.35                         | $13.42                         | $0.65                          | 10                             | 3                              | #ff8132                        | false                          |\n",
       "| DALLAS-FT WORTH TX             | $1,290.78                      | $0.00                          | $313.99                        | $366.66                        | $283.10                        | $113.62                        | $78.74                         | $67.67                         | $37.90                         | $25.21                         | $3.89                          | 11                             | 3                              | #ff8132                        | false                          |\n",
       "| EUREKA CA                      | $239.91                        | $119.22                        | $58.86                         | $9.91                          | $9.99                          | $21.43                         | $6.16                          | $8.77                          | $2.09                          | $3.29                          | $0.20                          | 12                             | 3                              | #ff8132                        | false                          |\n",
       "| GREENVILLE-NEW BERN-WASH NC    | $583.18                        | $180.87                        | $148.40                        | $68.23                         | $35.34                         | $74.24                         | $22.89                         | $18.72                         | $23.85                         | $10.22                         | $0.42                          | 13                             | 3                              | #ff8132                        | false                          |\n",
       "| HOUSTON TX                     | $1,019.17                      | $0.00                          | $243.61                        | $285.98                        | $155.29                        | $97.69                         | $49.94                         | $132.59                        | $30.21                         | $21.31                         | $2.56                          | 14                             | 3                              | #ff8132                        | false                          |\n",
       "| JONESBORO AR                   | $319.93                        | $175.12                        | $73.65                         | $11.12                         | $8.50                          | $22.31                         | $5.57                          | $12.71                         | $6.99                          | $3.89                          | $0.06                          | 15                             | 3                              | #ff8132                        | false                          |\n",
       "| LAKE CHARLES LA                | $456.48                        | $209.04                        | $107.93                        | $40.11                         | $15.32                         | $42.91                         | $9.75                          | $16.03                         | $9.81                          | $5.37                          | $0.20                          | 16                             | 3                              | #ff8132                        | false                          |\n",
       "| LITTLE ROCK AR                 | $638.92                        | $168.81                        | $157.78                        | $147.46                        | $35.87                         | $52.16                         | $22.18                         | $21.89                         | $23.28                         | $8.92                          | $0.56                          | 17                             | 3                              | #ff8132                        | false                          |\n",
       "| LUBBOCK TX                     | $555.98                        | $177.57                        | $150.21                        | $74.54                         | $28.84                         | $59.63                         | $14.04                         | $18.78                         | $19.99                         | $12.00                         | $0.38                          | 18                             | 3                              | #ff8132                        | false                          |\n",
       "| MONROE-EL DORADO LA-AR         | $254.34                        | $117.95                        | $64.58                         | $24.53                         | $7.10                          | $18.74                         | $5.06                          | $6.96                          | $6.47                          | $2.83                          | $0.11                          | 19                             | 3                              | #ff8132                        | false                          |\n",
       "| ODESSA-MIDLAND TX              | $637.49                        | $305.95                        | $151.36                        | $64.97                         | $21.14                         | $41.85                         | $12.91                         | $18.20                         | $12.92                         | $7.81                          | $0.36                          | 20                             | 3                              | #ff8132                        | false                          |\n",
       "| OKLAHOMA CITY OK               | $364.59                        | $36.17                         | $104.73                        | $57.27                         | $25.81                         | $40.32                         | $16.94                         | $53.94                         | $15.24                         | $13.91                         | $0.28                          | 21                             | 3                              | #ff8132                        | false                          |\n",
       "| PARKERSBURG WV                 | $320.27                        | $172.13                        | $79.39                         | $11.62                         | $12.18                         | $22.01                         | $6.41                          | $6.57                          | $5.33                          | $4.47                          | $0.15                          | 22                             | 3                              | #ff8132                        | false                          |\n",
       "| PHOENIX AZ                     | $431.38                        | $0.00                          | $133.74                        | $75.37                         | $84.63                         | $64.15                         | $19.05                         | $20.70                         | $12.85                         | $20.36                         | $0.55                          | 23                             | 3                              | #ff8132                        | false                          |\n",
       "| RALEIGH-DURHAM NC              | $201.05                        | $0.00                          | $57.74                         | $43.75                         | $30.58                         | $32.95                         | $11.70                         | $3.75                          | $8.00                          | $12.26                         | $0.32                          | 24                             | 3                              | #ff8132                        | false                          |\n",
       "| SAN ANGELO TX                  | $334.96                        | $176.01                        | $78.68                         | $11.30                         | $12.37                         | $26.58                         | $6.38                          | $11.97                         | $6.21                          | $5.33                          | $0.13                          | 25                             | 3                              | #ff8132                        | false                          |\n",
       "| SHREVEPORT LA                  | $435.01                        | $153.40                        | $108.33                        | $71.01                         | $15.73                         | $40.54                         | $12.79                         | $13.52                         | $13.54                         | $5.85                          | $0.30                          | 26                             | 3                              | #ff8132                        | false                          |\n",
       "| SPRINGFIELD MO                 | $490.80                        | $206.81                        | $119.94                        | $61.64                         | $24.44                         | $29.95                         | $13.76                         | $15.56                         | $8.76                          | $9.62                          | $0.33                          | 27                             | 3                              | #ff8132                        | false                          |\n",
       "| ST JOSEPH MO                   | $271.38                        | $148.57                        | $64.86                         | $9.42                          | $7.75                          | $15.60                         | $4.28                          | $12.65                         | $4.31                          | $3.79                          | $0.14                          | 28                             | 3                              | #ff8132                        | false                          |\n",
       "| TULSA OK                       | $175.95                        | $20.61                         | $48.99                         | $27.91                         | $9.17                          | $22.40                         | $4.91                          | $27.74                         | $5.09                          | $9.03                          | $0.10                          | 29                             | 3                              | #ff8132                        | false                          |\n",
       "| TYLER-LONGVIEW TX              | $884.92                        | $290.66                        | $213.94                        | $145.46                        | $41.71                         | $90.00                         | $25.21                         | $37.84                         | $25.80                         | $13.61                         | $0.71                          | 30                             | 3                              | #ff8132                        | false                          |\n",
       "| VICTORIA TX                    | $273.84                        | $155.84                        | $61.17                         | $10.23                         | $5.70                          | $15.50                         | $3.57                          | $15.24                         | $3.95                          | $2.51                          | $0.11                          | 31                             | 3                              | #ff8132                        | false                          |\n",
       "| WACO-TEMPLE-BRYAN TX           | $530.88                        | $223.80                        | $124.81                        | $58.21                         | $30.14                         | $47.32                         | $14.13                         | $14.32                         | $12.97                         | $4.72                          | $0.45                          | 32                             | 3                              | #ff8132                        | false                          |\n",
       "\n"
      ],
      "text/plain": [
       "   name                           Spend $(000) TV      Direct Mail\n",
       "1  USA                            $46,300      $16,619 $9,300     \n",
       "2  EAST                           $30,400      $12,405 $5,400     \n",
       "3  WEST                           $15,900      $4,214  $3,900     \n",
       "4  ABILENE-SWEETWATER TX          $358.93      $138.51 $89.41     \n",
       "5  ALEXANDRIA LA                  $363.12      $159.74 $89.42     \n",
       "6  All Other Suddenlink DMA Total $2,227.58    $336.20 $501.78    \n",
       "7  AMARILLO TX                    $526.17      $192.39 $141.37    \n",
       "8  AUSTIN TX                      $600.01      $0.00   $141.65    \n",
       "9  BLUEFIELD-BECKLEY-OAK HILL WV  $364.14      $134.97 $89.23     \n",
       "10 CHARLESTON-HUNTINGTON WV       $748.87      $213.44 $180.43    \n",
       "11 DALLAS-FT WORTH TX             $1,290.78    $0.00   $313.99    \n",
       "12 EUREKA CA                      $239.91      $119.22 $58.86     \n",
       "13 GREENVILLE-NEW BERN-WASH NC    $583.18      $180.87 $148.40    \n",
       "14 HOUSTON TX                     $1,019.17    $0.00   $243.61    \n",
       "15 JONESBORO AR                   $319.93      $175.12 $73.65     \n",
       "16 LAKE CHARLES LA                $456.48      $209.04 $107.93    \n",
       "17 LITTLE ROCK AR                 $638.92      $168.81 $157.78    \n",
       "18 LUBBOCK TX                     $555.98      $177.57 $150.21    \n",
       "19 MONROE-EL DORADO LA-AR         $254.34      $117.95 $64.58     \n",
       "20 ODESSA-MIDLAND TX              $637.49      $305.95 $151.36    \n",
       "21 OKLAHOMA CITY OK               $364.59      $36.17  $104.73    \n",
       "22 PARKERSBURG WV                 $320.27      $172.13 $79.39     \n",
       "23 PHOENIX AZ                     $431.38      $0.00   $133.74    \n",
       "24 RALEIGH-DURHAM NC              $201.05      $0.00   $57.74     \n",
       "25 SAN ANGELO TX                  $334.96      $176.01 $78.68     \n",
       "26 SHREVEPORT LA                  $435.01      $153.40 $108.33    \n",
       "27 SPRINGFIELD MO                 $490.80      $206.81 $119.94    \n",
       "28 ST JOSEPH MO                   $271.38      $148.57 $64.86     \n",
       "29 TULSA OK                       $175.95      $20.61  $48.99     \n",
       "30 TYLER-LONGVIEW TX              $884.92      $290.66 $213.94    \n",
       "31 VICTORIA TX                    $273.84      $155.84 $61.17     \n",
       "32 WACO-TEMPLE-BRYAN TX           $530.88      $223.80 $124.81    \n",
       "   Search Unbranded Display Search Branded Video   Radio   Social Print  Audio \n",
       "1  $5,817           $4,985  $4,457         $1,790  $1,474  $1,414 $353   $91   \n",
       "2  $3,160           $3,481  $2,995         $1,187  $675    $954   $82    $61   \n",
       "3  $2,658           $1,504  $1,462         $603    $799    $460   $271   $30   \n",
       "4  $43.99           $15.67  $37.56         $9.49   $9.92   $7.86  $6.30  $0.21 \n",
       "5  $37.38           $9.41   $34.50         $8.71   $11.65  $8.98  $3.17  $0.15 \n",
       "6  $513.24          $380.55 $168.50        $127.47 $102.04 $69.11 $13.80 $14.87\n",
       "7  $57.43           $24.59  $52.82         $14.02  $17.92  $14.23 $11.07 $0.32 \n",
       "8  $172.22          $110.48 $50.70         $34.12  $62.63  $15.74 $11.30 $1.18 \n",
       "9  $40.89           $17.02  $36.04         $10.12  $19.28  $11.03 $5.38  $0.17 \n",
       "10 $115.74          $45.49  $89.66         $32.96  $19.73  $37.35 $13.42 $0.65 \n",
       "11 $366.66          $283.10 $113.62        $78.74  $67.67  $37.90 $25.21 $3.89 \n",
       "12 $9.91            $9.99   $21.43         $6.16   $8.77   $2.09  $3.29  $0.20 \n",
       "13 $68.23           $35.34  $74.24         $22.89  $18.72  $23.85 $10.22 $0.42 \n",
       "14 $285.98          $155.29 $97.69         $49.94  $132.59 $30.21 $21.31 $2.56 \n",
       "15 $11.12           $8.50   $22.31         $5.57   $12.71  $6.99  $3.89  $0.06 \n",
       "16 $40.11           $15.32  $42.91         $9.75   $16.03  $9.81  $5.37  $0.20 \n",
       "17 $147.46          $35.87  $52.16         $22.18  $21.89  $23.28 $8.92  $0.56 \n",
       "18 $74.54           $28.84  $59.63         $14.04  $18.78  $19.99 $12.00 $0.38 \n",
       "19 $24.53           $7.10   $18.74         $5.06   $6.96   $6.47  $2.83  $0.11 \n",
       "20 $64.97           $21.14  $41.85         $12.91  $18.20  $12.92 $7.81  $0.36 \n",
       "21 $57.27           $25.81  $40.32         $16.94  $53.94  $15.24 $13.91 $0.28 \n",
       "22 $11.62           $12.18  $22.01         $6.41   $6.57   $5.33  $4.47  $0.15 \n",
       "23 $75.37           $84.63  $64.15         $19.05  $20.70  $12.85 $20.36 $0.55 \n",
       "24 $43.75           $30.58  $32.95         $11.70  $3.75   $8.00  $12.26 $0.32 \n",
       "25 $11.30           $12.37  $26.58         $6.38   $11.97  $6.21  $5.33  $0.13 \n",
       "26 $71.01           $15.73  $40.54         $12.79  $13.52  $13.54 $5.85  $0.30 \n",
       "27 $61.64           $24.44  $29.95         $13.76  $15.56  $8.76  $9.62  $0.33 \n",
       "28 $9.42            $7.75   $15.60         $4.28   $12.65  $4.31  $3.79  $0.14 \n",
       "29 $27.91           $9.17   $22.40         $4.91   $27.74  $5.09  $9.03  $0.10 \n",
       "30 $145.46          $41.71  $90.00         $25.21  $37.84  $25.80 $13.61 $0.71 \n",
       "31 $10.23           $5.70   $15.50         $3.57   $15.24  $3.95  $2.51  $0.11 \n",
       "32 $58.21           $30.14  $47.32         $14.13  $14.32  $12.97 $4.72  $0.45 \n",
       "   id __parent __color expanded\n",
       "1   1 parent   #000000 true    \n",
       "2   2 1        #0084d6 false   \n",
       "3   3 1        #ff8132 false   \n",
       "4   4 3        #ff8132 false   \n",
       "5   5 3        #ff8132 false   \n",
       "6   6 3        #ff8132 false   \n",
       "7   7 3        #ff8132 false   \n",
       "8   8 3        #ff8132 false   \n",
       "9   9 3        #ff8132 false   \n",
       "10 10 3        #ff8132 false   \n",
       "11 11 3        #ff8132 false   \n",
       "12 12 3        #ff8132 false   \n",
       "13 13 3        #ff8132 false   \n",
       "14 14 3        #ff8132 false   \n",
       "15 15 3        #ff8132 false   \n",
       "16 16 3        #ff8132 false   \n",
       "17 17 3        #ff8132 false   \n",
       "18 18 3        #ff8132 false   \n",
       "19 19 3        #ff8132 false   \n",
       "20 20 3        #ff8132 false   \n",
       "21 21 3        #ff8132 false   \n",
       "22 22 3        #ff8132 false   \n",
       "23 23 3        #ff8132 false   \n",
       "24 24 3        #ff8132 false   \n",
       "25 25 3        #ff8132 false   \n",
       "26 26 3        #ff8132 false   \n",
       "27 27 3        #ff8132 false   \n",
       "28 28 3        #ff8132 false   \n",
       "29 29 3        #ff8132 false   \n",
       "30 30 3        #ff8132 false   \n",
       "31 31 3        #ff8132 false   \n",
       "32 32 3        #ff8132 false   "
      ]
     },
     "metadata": {},
     "output_type": "display_data"
    }
   ],
   "source": [
    "test_res_json$spend"
   ]
  },
  {
   "cell_type": "code",
   "execution_count": 9,
   "metadata": {
    "ExecuteTime": {
     "end_time": "2021-06-08T16:48:44.150254Z",
     "start_time": "2021-06-08T16:43:20.200Z"
    }
   },
   "outputs": [
    {
     "name": "stderr",
     "output_type": "stream",
     "text": [
      "Adding missing grouping variables: `qy`\n"
     ]
    }
   ],
   "source": [
    "test_res_csv <- run_mmm_app(test_input_csv)"
   ]
  },
  {
   "cell_type": "code",
   "execution_count": 10,
   "metadata": {
    "ExecuteTime": {
     "end_time": "2021-06-08T16:48:44.256742Z",
     "start_time": "2021-06-08T16:43:20.725Z"
    },
    "scrolled": true
   },
   "outputs": [
    {
     "data": {
      "text/html": [
       "<table>\n",
       "<thead><tr><th scope=col>Footprint</th><th scope=col>Spend $(000) [Q1]</th><th scope=col>TV</th><th scope=col>Direct Mail [No Constraint]</th><th scope=col>Search Unbranded</th><th scope=col>Display</th><th scope=col>Search Branded</th><th scope=col>Video</th><th scope=col>Radio</th><th scope=col>Social</th><th scope=col>Print</th><th scope=col>Audio</th></tr></thead>\n",
       "<tbody>\n",
       "\t<tr><td>USA [TGA :202,659]            </td><td>$31,100                       </td><td>$11,430                       </td><td>$5,804                        </td><td>$3,342                        </td><td>$2,960                        </td><td>$2,901                        </td><td>$1,790                        </td><td>$1,408                        </td><td>$1,098                        </td><td>$276                          </td><td>$91                           </td></tr>\n",
       "\t<tr><td>EAST [TGA :108,878]           </td><td>$20,000                       </td><td>$8,730                        </td><td>$3,409                        </td><td>$1,701                        </td><td>$1,874                        </td><td>$1,613                        </td><td>$1,187                        </td><td>$675                          </td><td>$667                          </td><td>$82                           </td><td>$61                           </td></tr>\n",
       "\t<tr><td>WEST [TGA : 93,781]           </td><td>$11,100                       </td><td>$2,700                        </td><td>$2,395                        </td><td>$1,641                        </td><td>$1,086                        </td><td>$1,289                        </td><td>$603                          </td><td>$733                          </td><td>$431                          </td><td>$193                          </td><td>$30                           </td></tr>\n",
       "\t<tr><td>ABILENE-SWEETWATER TX         </td><td>$249.57                       </td><td>$81.56                        </td><td>$53.85                        </td><td>$29.88                        </td><td>$15.67                        </td><td>$35.38                        </td><td>$9.49                         </td><td>$9.92                         </td><td>$7.86                         </td><td>$5.75                         </td><td>$0.21                         </td></tr>\n",
       "\t<tr><td>ALEXANDRIA LA                 </td><td>$259.23                       </td><td>$98.13                        </td><td>$59.99                        </td><td>$28.20                        </td><td>$9.41                         </td><td>$30.83                        </td><td>$8.71                         </td><td>$11.65                        </td><td>$8.98                         </td><td>$3.17                         </td><td>$0.15                         </td></tr>\n",
       "\t<tr><td>All Other Suddenlink DMA Total</td><td>$1,469.51                     </td><td>$310.60                       </td><td>$228.23                       </td><td>$276.36                       </td><td>$234.31                       </td><td>$92.72                        </td><td>$127.47                       </td><td>$102.04                       </td><td>$69.11                        </td><td>$13.80                        </td><td>$14.87                        </td></tr>\n",
       "\t<tr><td>AMARILLO TX                   </td><td>$393.95                       </td><td>$116.89                       </td><td>$111.11                       </td><td>$35.53                        </td><td>$24.59                        </td><td>$50.07                        </td><td>$14.02                        </td><td>$17.92                        </td><td>$14.23                        </td><td>$9.27                         </td><td>$0.32                         </td></tr>\n",
       "\t<tr><td>AUSTIN TX                     </td><td>$406.64                       </td><td>$0.00                         </td><td>$75.45                        </td><td>$108.12                       </td><td>$65.01                        </td><td>$48.18                        </td><td>$34.12                        </td><td>$52.77                        </td><td>$15.74                        </td><td>$6.09                         </td><td>$1.18                         </td></tr>\n",
       "\t<tr><td>BLUEFIELD-BECKLEY-OAK HILL WV </td><td>$254.02                       </td><td>$80.68                        </td><td>$54.45                        </td><td>$24.64                        </td><td>$17.02                        </td><td>$34.02                        </td><td>$10.12                        </td><td>$19.28                        </td><td>$9.22                         </td><td>$4.41                         </td><td>$0.17                         </td></tr>\n",
       "\t<tr><td>CHARLESTON-HUNTINGTON WV      </td><td>$519.95                       </td><td>$125.83                       </td><td>$107.82                       </td><td>$69.41                        </td><td>$45.49                        </td><td>$83.78                        </td><td>$32.96                        </td><td>$19.73                        </td><td>$27.05                        </td><td>$7.22                         </td><td>$0.65                         </td></tr>\n",
       "\t<tr><td>DALLAS-FT WORTH TX            </td><td>$901.11                       </td><td>$0.00                         </td><td>$192.20                       </td><td>$231.06                       </td><td>$168.17                       </td><td>$107.91                       </td><td>$78.74                        </td><td>$67.67                        </td><td>$37.90                        </td><td>$13.57                        </td><td>$3.89                         </td></tr>\n",
       "\t<tr><td>EUREKA CA                     </td><td>$166.15                       </td><td>$71.49                        </td><td>$34.81                        </td><td>$9.01                         </td><td>$9.99                         </td><td>$20.34                        </td><td>$6.16                         </td><td>$8.77                         </td><td>$2.09                         </td><td>$3.29                         </td><td>$0.20                         </td></tr>\n",
       "\t<tr><td>GREENVILLE-NEW BERN-WASH NC   </td><td>$423.63                       </td><td>$105.76                       </td><td>$106.04                       </td><td>$41.12                        </td><td>$35.34                        </td><td>$69.35                        </td><td>$22.89                        </td><td>$18.72                        </td><td>$16.97                        </td><td>$7.02                         </td><td>$0.42                         </td></tr>\n",
       "\t<tr><td>HOUSTON TX                    </td><td>$695.61                       </td><td>$0.00                         </td><td>$134.52                       </td><td>$176.32                       </td><td>$91.71                        </td><td>$92.24                        </td><td>$49.94                        </td><td>$106.64                       </td><td>$30.21                        </td><td>$11.47                        </td><td>$2.56                         </td></tr>\n",
       "\t<tr><td>JONESBORO AR                  </td><td>$208.73                       </td><td>$106.81                       </td><td>$31.65                        </td><td>$11.12                        </td><td>$8.50                         </td><td>$21.43                        </td><td>$5.57                         </td><td>$12.71                        </td><td>$6.99                         </td><td>$3.89                         </td><td>$0.06                         </td></tr>\n",
       "\t<tr><td>LAKE CHARLES LA               </td><td>$307.11                       </td><td>$141.46                       </td><td>$55.44                        </td><td>$30.62                        </td><td>$15.32                        </td><td>$23.11                        </td><td>$9.75                         </td><td>$16.03                        </td><td>$9.81                         </td><td>$5.37                         </td><td>$0.20                         </td></tr>\n",
       "\t<tr><td>LITTLE ROCK AR                </td><td>$445.00                       </td><td>$108.72                       </td><td>$95.67                        </td><td>$82.56                        </td><td>$35.87                        </td><td>$49.81                        </td><td>$22.18                        </td><td>$21.89                        </td><td>$18.81                        </td><td>$8.92                         </td><td>$0.56                         </td></tr>\n",
       "\t<tr><td>LUBBOCK TX                    </td><td>$424.29                       </td><td>$109.11                       </td><td>$125.25                       </td><td>$44.92                        </td><td>$28.84                        </td><td>$56.34                        </td><td>$14.04                        </td><td>$18.78                        </td><td>$18.32                        </td><td>$8.32                         </td><td>$0.38                         </td></tr>\n",
       "\t<tr><td>MONROE-EL DORADO LA-AR        </td><td>$185.21                       </td><td>$72.89                        </td><td>$46.57                        </td><td>$19.15                        </td><td>$7.10                         </td><td>$18.06                        </td><td>$5.06                         </td><td>$6.96                         </td><td>$6.47                         </td><td>$2.83                         </td><td>$0.11                         </td></tr>\n",
       "\t<tr><td>ODESSA-MIDLAND TX             </td><td>$429.69                       </td><td>$186.91                       </td><td>$78.55                        </td><td>$50.40                        </td><td>$21.14                        </td><td>$40.47                        </td><td>$12.91                        </td><td>$18.20                        </td><td>$12.92                        </td><td>$7.81                         </td><td>$0.36                         </td></tr>\n",
       "\t<tr><td>OKLAHOMA CITY OK              </td><td>$289.51                       </td><td>$28.65                        </td><td>$96.36                        </td><td>$31.67                        </td><td>$25.81                        </td><td>$38.16                        </td><td>$16.94                        </td><td>$32.51                        </td><td>$11.65                        </td><td>$7.49                         </td><td>$0.28                         </td></tr>\n",
       "\t<tr><td>PARKERSBURG WV                </td><td>$223.98                       </td><td>$116.41                       </td><td>$48.98                        </td><td>$11.62                        </td><td>$12.18                        </td><td>$11.85                        </td><td>$6.41                         </td><td>$6.57                         </td><td>$5.33                         </td><td>$4.47                         </td><td>$0.15                         </td></tr>\n",
       "\t<tr><td>PHOENIX AZ                    </td><td>$364.48                       </td><td>$0.00                         </td><td>$146.92                       </td><td>$45.42                        </td><td>$48.00                        </td><td>$60.04                        </td><td>$19.05                        </td><td>$20.70                        </td><td>$12.85                        </td><td>$10.96                        </td><td>$0.55                         </td></tr>\n",
       "\t<tr><td>RALEIGH-DURHAM NC             </td><td>$150.38                       </td><td>$0.00                         </td><td>$44.93                        </td><td>$24.98                        </td><td>$19.50                        </td><td>$30.61                        </td><td>$11.70                        </td><td>$3.75                         </td><td>$8.00                         </td><td>$6.60                         </td><td>$0.32                         </td></tr>\n",
       "\t<tr><td>SAN ANGELO TX                 </td><td>$218.62                       </td><td>$105.39                       </td><td>$34.20                        </td><td>$11.30                        </td><td>$12.37                        </td><td>$25.35                        </td><td>$6.38                         </td><td>$11.97                        </td><td>$6.21                         </td><td>$5.33                         </td><td>$0.13                         </td></tr>\n",
       "\t<tr><td>SHREVEPORT LA                 </td><td>$313.09                       </td><td>$93.96                        </td><td>$74.95                        </td><td>$45.78                        </td><td>$15.73                        </td><td>$38.43                        </td><td>$12.79                        </td><td>$13.52                        </td><td>$13.54                        </td><td>$4.09                         </td><td>$0.30                         </td></tr>\n",
       "\t<tr><td>SPRINGFIELD MO                </td><td>$333.03                       </td><td>$127.79                       </td><td>$64.64                        </td><td>$40.38                        </td><td>$24.44                        </td><td>$29.20                        </td><td>$13.76                        </td><td>$15.56                        </td><td>$8.76                         </td><td>$8.18                         </td><td>$0.33                         </td></tr>\n",
       "\t<tr><td>ST JOSEPH MO                  </td><td>$182.49                       </td><td>$91.57                        </td><td>$33.32                        </td><td>$9.42                         </td><td>$7.75                         </td><td>$15.26                        </td><td>$4.28                         </td><td>$12.65                        </td><td>$4.31                         </td><td>$3.79                         </td><td>$0.14                         </td></tr>\n",
       "\t<tr><td>TULSA OK                      </td><td>$130.36                       </td><td>$13.60                        </td><td>$36.97                        </td><td>$16.17                        </td><td>$9.17                         </td><td>$21.01                        </td><td>$4.91                         </td><td>$18.48                        </td><td>$5.09                         </td><td>$4.86                         </td><td>$0.10                         </td></tr>\n",
       "\t<tr><td>TYLER-LONGVIEW TX             </td><td>$617.93                       </td><td>$175.38                       </td><td>$131.08                       </td><td>$87.66                        </td><td>$41.71                        </td><td>$84.76                        </td><td>$25.21                        </td><td>$37.84                        </td><td>$25.40                        </td><td>$8.19                         </td><td>$0.71                         </td></tr>\n",
       "\t<tr><td>VICTORIA TX                   </td><td>$176.03                       </td><td>$96.10                        </td><td>$23.51                        </td><td>$10.23                        </td><td>$5.70                         </td><td>$15.09                        </td><td>$3.57                         </td><td>$15.24                        </td><td>$3.95                         </td><td>$2.51                         </td><td>$0.11                         </td></tr>\n",
       "\t<tr><td>WACO-TEMPLE-BRYAN TX          </td><td>$360.70                       </td><td>$134.07                       </td><td>$67.26                        </td><td>$37.81                        </td><td>$30.14                        </td><td>$44.82                        </td><td>$14.13                        </td><td>$14.32                        </td><td>$12.97                        </td><td>$4.72                         </td><td>$0.45                         </td></tr>\n",
       "</tbody>\n",
       "</table>\n"
      ],
      "text/latex": [
       "\\begin{tabular}{r|llllllllllll}\n",
       " Footprint & Spend \\$(000) {[}Q1{]} & TV & Direct Mail {[}No Constraint{]} & Search Unbranded & Display & Search Branded & Video & Radio & Social & Print & Audio\\\\\n",
       "\\hline\n",
       "\t USA {[}TGA :202,659{]}             & \\$31,100                          & \\$11,430                          & \\$5,804                           & \\$3,342                           & \\$2,960                           & \\$2,901                           & \\$1,790                           & \\$1,408                           & \\$1,098                           & \\$276                             & \\$91                             \\\\\n",
       "\t EAST {[}TGA :108,878{]}            & \\$20,000                          & \\$8,730                           & \\$3,409                           & \\$1,701                           & \\$1,874                           & \\$1,613                           & \\$1,187                           & \\$675                             & \\$667                             & \\$82                              & \\$61                             \\\\\n",
       "\t WEST {[}TGA : 93,781{]}            & \\$11,100                          & \\$2,700                           & \\$2,395                           & \\$1,641                           & \\$1,086                           & \\$1,289                           & \\$603                             & \\$733                             & \\$431                             & \\$193                             & \\$30                             \\\\\n",
       "\t ABILENE-SWEETWATER TX          & \\$249.57                      & \\$81.56                       & \\$53.85                       & \\$29.88                       & \\$15.67                       & \\$35.38                       & \\$9.49                        & \\$9.92                        & \\$7.86                        & \\$5.75                        & \\$0.21                       \\\\\n",
       "\t ALEXANDRIA LA                  & \\$259.23                      & \\$98.13                       & \\$59.99                       & \\$28.20                       & \\$9.41                        & \\$30.83                       & \\$8.71                        & \\$11.65                       & \\$8.98                        & \\$3.17                        & \\$0.15                       \\\\\n",
       "\t All Other Suddenlink DMA Total & \\$1,469.51                    & \\$310.60                      & \\$228.23                      & \\$276.36                      & \\$234.31                      & \\$92.72                       & \\$127.47                      & \\$102.04                      & \\$69.11                       & \\$13.80                       & \\$14.87                      \\\\\n",
       "\t AMARILLO TX                    & \\$393.95                      & \\$116.89                      & \\$111.11                      & \\$35.53                       & \\$24.59                       & \\$50.07                       & \\$14.02                       & \\$17.92                       & \\$14.23                       & \\$9.27                        & \\$0.32                       \\\\\n",
       "\t AUSTIN TX                      & \\$406.64                      & \\$0.00                        & \\$75.45                       & \\$108.12                      & \\$65.01                       & \\$48.18                       & \\$34.12                       & \\$52.77                       & \\$15.74                       & \\$6.09                        & \\$1.18                       \\\\\n",
       "\t BLUEFIELD-BECKLEY-OAK HILL WV  & \\$254.02                      & \\$80.68                       & \\$54.45                       & \\$24.64                       & \\$17.02                       & \\$34.02                       & \\$10.12                       & \\$19.28                       & \\$9.22                        & \\$4.41                        & \\$0.17                       \\\\\n",
       "\t CHARLESTON-HUNTINGTON WV       & \\$519.95                      & \\$125.83                      & \\$107.82                      & \\$69.41                       & \\$45.49                       & \\$83.78                       & \\$32.96                       & \\$19.73                       & \\$27.05                       & \\$7.22                        & \\$0.65                       \\\\\n",
       "\t DALLAS-FT WORTH TX             & \\$901.11                      & \\$0.00                        & \\$192.20                      & \\$231.06                      & \\$168.17                      & \\$107.91                      & \\$78.74                       & \\$67.67                       & \\$37.90                       & \\$13.57                       & \\$3.89                       \\\\\n",
       "\t EUREKA CA                      & \\$166.15                      & \\$71.49                       & \\$34.81                       & \\$9.01                        & \\$9.99                        & \\$20.34                       & \\$6.16                        & \\$8.77                        & \\$2.09                        & \\$3.29                        & \\$0.20                       \\\\\n",
       "\t GREENVILLE-NEW BERN-WASH NC    & \\$423.63                      & \\$105.76                      & \\$106.04                      & \\$41.12                       & \\$35.34                       & \\$69.35                       & \\$22.89                       & \\$18.72                       & \\$16.97                       & \\$7.02                        & \\$0.42                       \\\\\n",
       "\t HOUSTON TX                     & \\$695.61                      & \\$0.00                        & \\$134.52                      & \\$176.32                      & \\$91.71                       & \\$92.24                       & \\$49.94                       & \\$106.64                      & \\$30.21                       & \\$11.47                       & \\$2.56                       \\\\\n",
       "\t JONESBORO AR                   & \\$208.73                      & \\$106.81                      & \\$31.65                       & \\$11.12                       & \\$8.50                        & \\$21.43                       & \\$5.57                        & \\$12.71                       & \\$6.99                        & \\$3.89                        & \\$0.06                       \\\\\n",
       "\t LAKE CHARLES LA                & \\$307.11                      & \\$141.46                      & \\$55.44                       & \\$30.62                       & \\$15.32                       & \\$23.11                       & \\$9.75                        & \\$16.03                       & \\$9.81                        & \\$5.37                        & \\$0.20                       \\\\\n",
       "\t LITTLE ROCK AR                 & \\$445.00                      & \\$108.72                      & \\$95.67                       & \\$82.56                       & \\$35.87                       & \\$49.81                       & \\$22.18                       & \\$21.89                       & \\$18.81                       & \\$8.92                        & \\$0.56                       \\\\\n",
       "\t LUBBOCK TX                     & \\$424.29                      & \\$109.11                      & \\$125.25                      & \\$44.92                       & \\$28.84                       & \\$56.34                       & \\$14.04                       & \\$18.78                       & \\$18.32                       & \\$8.32                        & \\$0.38                       \\\\\n",
       "\t MONROE-EL DORADO LA-AR         & \\$185.21                      & \\$72.89                       & \\$46.57                       & \\$19.15                       & \\$7.10                        & \\$18.06                       & \\$5.06                        & \\$6.96                        & \\$6.47                        & \\$2.83                        & \\$0.11                       \\\\\n",
       "\t ODESSA-MIDLAND TX              & \\$429.69                      & \\$186.91                      & \\$78.55                       & \\$50.40                       & \\$21.14                       & \\$40.47                       & \\$12.91                       & \\$18.20                       & \\$12.92                       & \\$7.81                        & \\$0.36                       \\\\\n",
       "\t OKLAHOMA CITY OK               & \\$289.51                      & \\$28.65                       & \\$96.36                       & \\$31.67                       & \\$25.81                       & \\$38.16                       & \\$16.94                       & \\$32.51                       & \\$11.65                       & \\$7.49                        & \\$0.28                       \\\\\n",
       "\t PARKERSBURG WV                 & \\$223.98                      & \\$116.41                      & \\$48.98                       & \\$11.62                       & \\$12.18                       & \\$11.85                       & \\$6.41                        & \\$6.57                        & \\$5.33                        & \\$4.47                        & \\$0.15                       \\\\\n",
       "\t PHOENIX AZ                     & \\$364.48                      & \\$0.00                        & \\$146.92                      & \\$45.42                       & \\$48.00                       & \\$60.04                       & \\$19.05                       & \\$20.70                       & \\$12.85                       & \\$10.96                       & \\$0.55                       \\\\\n",
       "\t RALEIGH-DURHAM NC              & \\$150.38                      & \\$0.00                        & \\$44.93                       & \\$24.98                       & \\$19.50                       & \\$30.61                       & \\$11.70                       & \\$3.75                        & \\$8.00                        & \\$6.60                        & \\$0.32                       \\\\\n",
       "\t SAN ANGELO TX                  & \\$218.62                      & \\$105.39                      & \\$34.20                       & \\$11.30                       & \\$12.37                       & \\$25.35                       & \\$6.38                        & \\$11.97                       & \\$6.21                        & \\$5.33                        & \\$0.13                       \\\\\n",
       "\t SHREVEPORT LA                  & \\$313.09                      & \\$93.96                       & \\$74.95                       & \\$45.78                       & \\$15.73                       & \\$38.43                       & \\$12.79                       & \\$13.52                       & \\$13.54                       & \\$4.09                        & \\$0.30                       \\\\\n",
       "\t SPRINGFIELD MO                 & \\$333.03                      & \\$127.79                      & \\$64.64                       & \\$40.38                       & \\$24.44                       & \\$29.20                       & \\$13.76                       & \\$15.56                       & \\$8.76                        & \\$8.18                        & \\$0.33                       \\\\\n",
       "\t ST JOSEPH MO                   & \\$182.49                      & \\$91.57                       & \\$33.32                       & \\$9.42                        & \\$7.75                        & \\$15.26                       & \\$4.28                        & \\$12.65                       & \\$4.31                        & \\$3.79                        & \\$0.14                       \\\\\n",
       "\t TULSA OK                       & \\$130.36                      & \\$13.60                       & \\$36.97                       & \\$16.17                       & \\$9.17                        & \\$21.01                       & \\$4.91                        & \\$18.48                       & \\$5.09                        & \\$4.86                        & \\$0.10                       \\\\\n",
       "\t TYLER-LONGVIEW TX              & \\$617.93                      & \\$175.38                      & \\$131.08                      & \\$87.66                       & \\$41.71                       & \\$84.76                       & \\$25.21                       & \\$37.84                       & \\$25.40                       & \\$8.19                        & \\$0.71                       \\\\\n",
       "\t VICTORIA TX                    & \\$176.03                      & \\$96.10                       & \\$23.51                       & \\$10.23                       & \\$5.70                        & \\$15.09                       & \\$3.57                        & \\$15.24                       & \\$3.95                        & \\$2.51                        & \\$0.11                       \\\\\n",
       "\t WACO-TEMPLE-BRYAN TX           & \\$360.70                      & \\$134.07                      & \\$67.26                       & \\$37.81                       & \\$30.14                       & \\$44.82                       & \\$14.13                       & \\$14.32                       & \\$12.97                       & \\$4.72                        & \\$0.45                       \\\\\n",
       "\\end{tabular}\n"
      ],
      "text/markdown": [
       "\n",
       "| Footprint | Spend $(000) [Q1] | TV | Direct Mail [No Constraint] | Search Unbranded | Display | Search Branded | Video | Radio | Social | Print | Audio |\n",
       "|---|---|---|---|---|---|---|---|---|---|---|---|\n",
       "| USA [TGA :202,659]             | $31,100                        | $11,430                        | $5,804                         | $3,342                         | $2,960                         | $2,901                         | $1,790                         | $1,408                         | $1,098                         | $276                           | $91                            |\n",
       "| EAST [TGA :108,878]            | $20,000                        | $8,730                         | $3,409                         | $1,701                         | $1,874                         | $1,613                         | $1,187                         | $675                           | $667                           | $82                            | $61                            |\n",
       "| WEST [TGA : 93,781]            | $11,100                        | $2,700                         | $2,395                         | $1,641                         | $1,086                         | $1,289                         | $603                           | $733                           | $431                           | $193                           | $30                            |\n",
       "| ABILENE-SWEETWATER TX          | $249.57                        | $81.56                         | $53.85                         | $29.88                         | $15.67                         | $35.38                         | $9.49                          | $9.92                          | $7.86                          | $5.75                          | $0.21                          |\n",
       "| ALEXANDRIA LA                  | $259.23                        | $98.13                         | $59.99                         | $28.20                         | $9.41                          | $30.83                         | $8.71                          | $11.65                         | $8.98                          | $3.17                          | $0.15                          |\n",
       "| All Other Suddenlink DMA Total | $1,469.51                      | $310.60                        | $228.23                        | $276.36                        | $234.31                        | $92.72                         | $127.47                        | $102.04                        | $69.11                         | $13.80                         | $14.87                         |\n",
       "| AMARILLO TX                    | $393.95                        | $116.89                        | $111.11                        | $35.53                         | $24.59                         | $50.07                         | $14.02                         | $17.92                         | $14.23                         | $9.27                          | $0.32                          |\n",
       "| AUSTIN TX                      | $406.64                        | $0.00                          | $75.45                         | $108.12                        | $65.01                         | $48.18                         | $34.12                         | $52.77                         | $15.74                         | $6.09                          | $1.18                          |\n",
       "| BLUEFIELD-BECKLEY-OAK HILL WV  | $254.02                        | $80.68                         | $54.45                         | $24.64                         | $17.02                         | $34.02                         | $10.12                         | $19.28                         | $9.22                          | $4.41                          | $0.17                          |\n",
       "| CHARLESTON-HUNTINGTON WV       | $519.95                        | $125.83                        | $107.82                        | $69.41                         | $45.49                         | $83.78                         | $32.96                         | $19.73                         | $27.05                         | $7.22                          | $0.65                          |\n",
       "| DALLAS-FT WORTH TX             | $901.11                        | $0.00                          | $192.20                        | $231.06                        | $168.17                        | $107.91                        | $78.74                         | $67.67                         | $37.90                         | $13.57                         | $3.89                          |\n",
       "| EUREKA CA                      | $166.15                        | $71.49                         | $34.81                         | $9.01                          | $9.99                          | $20.34                         | $6.16                          | $8.77                          | $2.09                          | $3.29                          | $0.20                          |\n",
       "| GREENVILLE-NEW BERN-WASH NC    | $423.63                        | $105.76                        | $106.04                        | $41.12                         | $35.34                         | $69.35                         | $22.89                         | $18.72                         | $16.97                         | $7.02                          | $0.42                          |\n",
       "| HOUSTON TX                     | $695.61                        | $0.00                          | $134.52                        | $176.32                        | $91.71                         | $92.24                         | $49.94                         | $106.64                        | $30.21                         | $11.47                         | $2.56                          |\n",
       "| JONESBORO AR                   | $208.73                        | $106.81                        | $31.65                         | $11.12                         | $8.50                          | $21.43                         | $5.57                          | $12.71                         | $6.99                          | $3.89                          | $0.06                          |\n",
       "| LAKE CHARLES LA                | $307.11                        | $141.46                        | $55.44                         | $30.62                         | $15.32                         | $23.11                         | $9.75                          | $16.03                         | $9.81                          | $5.37                          | $0.20                          |\n",
       "| LITTLE ROCK AR                 | $445.00                        | $108.72                        | $95.67                         | $82.56                         | $35.87                         | $49.81                         | $22.18                         | $21.89                         | $18.81                         | $8.92                          | $0.56                          |\n",
       "| LUBBOCK TX                     | $424.29                        | $109.11                        | $125.25                        | $44.92                         | $28.84                         | $56.34                         | $14.04                         | $18.78                         | $18.32                         | $8.32                          | $0.38                          |\n",
       "| MONROE-EL DORADO LA-AR         | $185.21                        | $72.89                         | $46.57                         | $19.15                         | $7.10                          | $18.06                         | $5.06                          | $6.96                          | $6.47                          | $2.83                          | $0.11                          |\n",
       "| ODESSA-MIDLAND TX              | $429.69                        | $186.91                        | $78.55                         | $50.40                         | $21.14                         | $40.47                         | $12.91                         | $18.20                         | $12.92                         | $7.81                          | $0.36                          |\n",
       "| OKLAHOMA CITY OK               | $289.51                        | $28.65                         | $96.36                         | $31.67                         | $25.81                         | $38.16                         | $16.94                         | $32.51                         | $11.65                         | $7.49                          | $0.28                          |\n",
       "| PARKERSBURG WV                 | $223.98                        | $116.41                        | $48.98                         | $11.62                         | $12.18                         | $11.85                         | $6.41                          | $6.57                          | $5.33                          | $4.47                          | $0.15                          |\n",
       "| PHOENIX AZ                     | $364.48                        | $0.00                          | $146.92                        | $45.42                         | $48.00                         | $60.04                         | $19.05                         | $20.70                         | $12.85                         | $10.96                         | $0.55                          |\n",
       "| RALEIGH-DURHAM NC              | $150.38                        | $0.00                          | $44.93                         | $24.98                         | $19.50                         | $30.61                         | $11.70                         | $3.75                          | $8.00                          | $6.60                          | $0.32                          |\n",
       "| SAN ANGELO TX                  | $218.62                        | $105.39                        | $34.20                         | $11.30                         | $12.37                         | $25.35                         | $6.38                          | $11.97                         | $6.21                          | $5.33                          | $0.13                          |\n",
       "| SHREVEPORT LA                  | $313.09                        | $93.96                         | $74.95                         | $45.78                         | $15.73                         | $38.43                         | $12.79                         | $13.52                         | $13.54                         | $4.09                          | $0.30                          |\n",
       "| SPRINGFIELD MO                 | $333.03                        | $127.79                        | $64.64                         | $40.38                         | $24.44                         | $29.20                         | $13.76                         | $15.56                         | $8.76                          | $8.18                          | $0.33                          |\n",
       "| ST JOSEPH MO                   | $182.49                        | $91.57                         | $33.32                         | $9.42                          | $7.75                          | $15.26                         | $4.28                          | $12.65                         | $4.31                          | $3.79                          | $0.14                          |\n",
       "| TULSA OK                       | $130.36                        | $13.60                         | $36.97                         | $16.17                         | $9.17                          | $21.01                         | $4.91                          | $18.48                         | $5.09                          | $4.86                          | $0.10                          |\n",
       "| TYLER-LONGVIEW TX              | $617.93                        | $175.38                        | $131.08                        | $87.66                         | $41.71                         | $84.76                         | $25.21                         | $37.84                         | $25.40                         | $8.19                          | $0.71                          |\n",
       "| VICTORIA TX                    | $176.03                        | $96.10                         | $23.51                         | $10.23                         | $5.70                          | $15.09                         | $3.57                          | $15.24                         | $3.95                          | $2.51                          | $0.11                          |\n",
       "| WACO-TEMPLE-BRYAN TX           | $360.70                        | $134.07                        | $67.26                         | $37.81                         | $30.14                         | $44.82                         | $14.13                         | $14.32                         | $12.97                         | $4.72                          | $0.45                          |\n",
       "\n"
      ],
      "text/plain": [
       "   Footprint                      Spend $(000) [Q1] TV     \n",
       "1  USA [TGA :202,659]             $31,100           $11,430\n",
       "2  EAST [TGA :108,878]            $20,000           $8,730 \n",
       "3  WEST [TGA : 93,781]            $11,100           $2,700 \n",
       "4  ABILENE-SWEETWATER TX          $249.57           $81.56 \n",
       "5  ALEXANDRIA LA                  $259.23           $98.13 \n",
       "6  All Other Suddenlink DMA Total $1,469.51         $310.60\n",
       "7  AMARILLO TX                    $393.95           $116.89\n",
       "8  AUSTIN TX                      $406.64           $0.00  \n",
       "9  BLUEFIELD-BECKLEY-OAK HILL WV  $254.02           $80.68 \n",
       "10 CHARLESTON-HUNTINGTON WV       $519.95           $125.83\n",
       "11 DALLAS-FT WORTH TX             $901.11           $0.00  \n",
       "12 EUREKA CA                      $166.15           $71.49 \n",
       "13 GREENVILLE-NEW BERN-WASH NC    $423.63           $105.76\n",
       "14 HOUSTON TX                     $695.61           $0.00  \n",
       "15 JONESBORO AR                   $208.73           $106.81\n",
       "16 LAKE CHARLES LA                $307.11           $141.46\n",
       "17 LITTLE ROCK AR                 $445.00           $108.72\n",
       "18 LUBBOCK TX                     $424.29           $109.11\n",
       "19 MONROE-EL DORADO LA-AR         $185.21           $72.89 \n",
       "20 ODESSA-MIDLAND TX              $429.69           $186.91\n",
       "21 OKLAHOMA CITY OK               $289.51           $28.65 \n",
       "22 PARKERSBURG WV                 $223.98           $116.41\n",
       "23 PHOENIX AZ                     $364.48           $0.00  \n",
       "24 RALEIGH-DURHAM NC              $150.38           $0.00  \n",
       "25 SAN ANGELO TX                  $218.62           $105.39\n",
       "26 SHREVEPORT LA                  $313.09           $93.96 \n",
       "27 SPRINGFIELD MO                 $333.03           $127.79\n",
       "28 ST JOSEPH MO                   $182.49           $91.57 \n",
       "29 TULSA OK                       $130.36           $13.60 \n",
       "30 TYLER-LONGVIEW TX              $617.93           $175.38\n",
       "31 VICTORIA TX                    $176.03           $96.10 \n",
       "32 WACO-TEMPLE-BRYAN TX           $360.70           $134.07\n",
       "   Direct Mail [No Constraint] Search Unbranded Display Search Branded Video  \n",
       "1  $5,804                      $3,342           $2,960  $2,901         $1,790 \n",
       "2  $3,409                      $1,701           $1,874  $1,613         $1,187 \n",
       "3  $2,395                      $1,641           $1,086  $1,289         $603   \n",
       "4  $53.85                      $29.88           $15.67  $35.38         $9.49  \n",
       "5  $59.99                      $28.20           $9.41   $30.83         $8.71  \n",
       "6  $228.23                     $276.36          $234.31 $92.72         $127.47\n",
       "7  $111.11                     $35.53           $24.59  $50.07         $14.02 \n",
       "8  $75.45                      $108.12          $65.01  $48.18         $34.12 \n",
       "9  $54.45                      $24.64           $17.02  $34.02         $10.12 \n",
       "10 $107.82                     $69.41           $45.49  $83.78         $32.96 \n",
       "11 $192.20                     $231.06          $168.17 $107.91        $78.74 \n",
       "12 $34.81                      $9.01            $9.99   $20.34         $6.16  \n",
       "13 $106.04                     $41.12           $35.34  $69.35         $22.89 \n",
       "14 $134.52                     $176.32          $91.71  $92.24         $49.94 \n",
       "15 $31.65                      $11.12           $8.50   $21.43         $5.57  \n",
       "16 $55.44                      $30.62           $15.32  $23.11         $9.75  \n",
       "17 $95.67                      $82.56           $35.87  $49.81         $22.18 \n",
       "18 $125.25                     $44.92           $28.84  $56.34         $14.04 \n",
       "19 $46.57                      $19.15           $7.10   $18.06         $5.06  \n",
       "20 $78.55                      $50.40           $21.14  $40.47         $12.91 \n",
       "21 $96.36                      $31.67           $25.81  $38.16         $16.94 \n",
       "22 $48.98                      $11.62           $12.18  $11.85         $6.41  \n",
       "23 $146.92                     $45.42           $48.00  $60.04         $19.05 \n",
       "24 $44.93                      $24.98           $19.50  $30.61         $11.70 \n",
       "25 $34.20                      $11.30           $12.37  $25.35         $6.38  \n",
       "26 $74.95                      $45.78           $15.73  $38.43         $12.79 \n",
       "27 $64.64                      $40.38           $24.44  $29.20         $13.76 \n",
       "28 $33.32                      $9.42            $7.75   $15.26         $4.28  \n",
       "29 $36.97                      $16.17           $9.17   $21.01         $4.91  \n",
       "30 $131.08                     $87.66           $41.71  $84.76         $25.21 \n",
       "31 $23.51                      $10.23           $5.70   $15.09         $3.57  \n",
       "32 $67.26                      $37.81           $30.14  $44.82         $14.13 \n",
       "   Radio   Social Print  Audio \n",
       "1  $1,408  $1,098 $276   $91   \n",
       "2  $675    $667   $82    $61   \n",
       "3  $733    $431   $193   $30   \n",
       "4  $9.92   $7.86  $5.75  $0.21 \n",
       "5  $11.65  $8.98  $3.17  $0.15 \n",
       "6  $102.04 $69.11 $13.80 $14.87\n",
       "7  $17.92  $14.23 $9.27  $0.32 \n",
       "8  $52.77  $15.74 $6.09  $1.18 \n",
       "9  $19.28  $9.22  $4.41  $0.17 \n",
       "10 $19.73  $27.05 $7.22  $0.65 \n",
       "11 $67.67  $37.90 $13.57 $3.89 \n",
       "12 $8.77   $2.09  $3.29  $0.20 \n",
       "13 $18.72  $16.97 $7.02  $0.42 \n",
       "14 $106.64 $30.21 $11.47 $2.56 \n",
       "15 $12.71  $6.99  $3.89  $0.06 \n",
       "16 $16.03  $9.81  $5.37  $0.20 \n",
       "17 $21.89  $18.81 $8.92  $0.56 \n",
       "18 $18.78  $18.32 $8.32  $0.38 \n",
       "19 $6.96   $6.47  $2.83  $0.11 \n",
       "20 $18.20  $12.92 $7.81  $0.36 \n",
       "21 $32.51  $11.65 $7.49  $0.28 \n",
       "22 $6.57   $5.33  $4.47  $0.15 \n",
       "23 $20.70  $12.85 $10.96 $0.55 \n",
       "24 $3.75   $8.00  $6.60  $0.32 \n",
       "25 $11.97  $6.21  $5.33  $0.13 \n",
       "26 $13.52  $13.54 $4.09  $0.30 \n",
       "27 $15.56  $8.76  $8.18  $0.33 \n",
       "28 $12.65  $4.31  $3.79  $0.14 \n",
       "29 $18.48  $5.09  $4.86  $0.10 \n",
       "30 $37.84  $25.40 $8.19  $0.71 \n",
       "31 $15.24  $3.95  $2.51  $0.11 \n",
       "32 $14.32  $12.97 $4.72  $0.45 "
      ]
     },
     "metadata": {},
     "output_type": "display_data"
    }
   ],
   "source": [
    "test_res_csv"
   ]
  },
  {
   "cell_type": "code",
   "execution_count": 11,
   "metadata": {
    "ExecuteTime": {
     "end_time": "2021-06-08T16:48:44.291122Z",
     "start_time": "2021-06-08T16:43:21.592Z"
    }
   },
   "outputs": [
    {
     "data": {
      "text/html": [
       "<table>\n",
       "<thead><tr><th scope=col>key</th><th scope=col>value</th></tr></thead>\n",
       "<tbody>\n",
       "\t<tr><td>Input_OPT_budget</td><td>20000000        </td></tr>\n",
       "\t<tr><td>Input_SDL_budget</td><td>11100000        </td></tr>\n",
       "\t<tr><td>constraint      </td><td>no              </td></tr>\n",
       "\t<tr><td>input_period    </td><td>Q1              </td></tr>\n",
       "\t<tr><td>flight_flag_OPT </td><td>TRUE            </td></tr>\n",
       "\t<tr><td>flight_flag_SDL </td><td>TRUE            </td></tr>\n",
       "\t<tr><td>OPT_DM_budget   </td><td>5400000         </td></tr>\n",
       "\t<tr><td>SDL_DM_budget   </td><td>3900000         </td></tr>\n",
       "\t<tr><td>output_type     </td><td>csv             </td></tr>\n",
       "</tbody>\n",
       "</table>\n"
      ],
      "text/latex": [
       "\\begin{tabular}{r|ll}\n",
       " key & value\\\\\n",
       "\\hline\n",
       "\t Input\\_OPT\\_budget & 20000000            \\\\\n",
       "\t Input\\_SDL\\_budget & 11100000            \\\\\n",
       "\t constraint       & no              \\\\\n",
       "\t input\\_period     & Q1                \\\\\n",
       "\t flight\\_flag\\_OPT  & TRUE                \\\\\n",
       "\t flight\\_flag\\_SDL  & TRUE                \\\\\n",
       "\t OPT\\_DM\\_budget    & 5400000             \\\\\n",
       "\t SDL\\_DM\\_budget    & 3900000             \\\\\n",
       "\t output\\_type      & csv               \\\\\n",
       "\\end{tabular}\n"
      ],
      "text/markdown": [
       "\n",
       "| key | value |\n",
       "|---|---|\n",
       "| Input_OPT_budget | 20000000         |\n",
       "| Input_SDL_budget | 11100000         |\n",
       "| constraint       | no               |\n",
       "| input_period     | Q1               |\n",
       "| flight_flag_OPT  | TRUE             |\n",
       "| flight_flag_SDL  | TRUE             |\n",
       "| OPT_DM_budget    | 5400000          |\n",
       "| SDL_DM_budget    | 3900000          |\n",
       "| output_type      | csv              |\n",
       "\n"
      ],
      "text/plain": [
       "  key              value   \n",
       "1 Input_OPT_budget 20000000\n",
       "2 Input_SDL_budget 11100000\n",
       "3 constraint       no      \n",
       "4 input_period     Q1      \n",
       "5 flight_flag_OPT  TRUE    \n",
       "6 flight_flag_SDL  TRUE    \n",
       "7 OPT_DM_budget    5400000 \n",
       "8 SDL_DM_budget    3900000 \n",
       "9 output_type      csv     "
      ]
     },
     "metadata": {},
     "output_type": "display_data"
    }
   ],
   "source": [
    "input_df <- data.frame('key' = names(test_input_csv),'value' = as.character(unlist(test_input_csv)))\n",
    "input_df"
   ]
  },
  {
   "cell_type": "code",
   "execution_count": 12,
   "metadata": {
    "ExecuteTime": {
     "end_time": "2021-06-08T16:48:44.501096Z",
     "start_time": "2021-06-08T16:43:21.817Z"
    },
    "scrolled": true
   },
   "outputs": [
    {
     "data": {
      "text/html": [
       "<table>\n",
       "<caption>A data.frame: 42 × 12</caption>\n",
       "<thead>\n",
       "\t<tr><th scope=col>X1</th><th scope=col>X2</th><th scope=col>X3</th><th scope=col>X4</th><th scope=col>X5</th><th scope=col>X6</th><th scope=col>X7</th><th scope=col>X8</th><th scope=col>X9</th><th scope=col>X10</th><th scope=col>X11</th><th scope=col>X12</th></tr>\n",
       "\t<tr><th scope=col>&lt;fct&gt;</th><th scope=col>&lt;fct&gt;</th><th scope=col>&lt;chr&gt;</th><th scope=col>&lt;chr&gt;</th><th scope=col>&lt;chr&gt;</th><th scope=col>&lt;chr&gt;</th><th scope=col>&lt;chr&gt;</th><th scope=col>&lt;chr&gt;</th><th scope=col>&lt;chr&gt;</th><th scope=col>&lt;chr&gt;</th><th scope=col>&lt;chr&gt;</th><th scope=col>&lt;chr&gt;</th></tr>\n",
       "</thead>\n",
       "<tbody>\n",
       "\t<tr><td>Input_OPT_budget              </td><td>20000000         </td><td>NA     </td><td>NA                         </td><td>NA              </td><td>NA     </td><td>NA            </td><td>NA     </td><td>NA     </td><td>NA    </td><td>NA    </td><td>NA    </td></tr>\n",
       "\t<tr><td>Input_SDL_budget              </td><td>11100000         </td><td>NA     </td><td>NA                         </td><td>NA              </td><td>NA     </td><td>NA            </td><td>NA     </td><td>NA     </td><td>NA    </td><td>NA    </td><td>NA    </td></tr>\n",
       "\t<tr><td>constraint                    </td><td>no               </td><td>NA     </td><td>NA                         </td><td>NA              </td><td>NA     </td><td>NA            </td><td>NA     </td><td>NA     </td><td>NA    </td><td>NA    </td><td>NA    </td></tr>\n",
       "\t<tr><td>input_period                  </td><td>Q1               </td><td>NA     </td><td>NA                         </td><td>NA              </td><td>NA     </td><td>NA            </td><td>NA     </td><td>NA     </td><td>NA    </td><td>NA    </td><td>NA    </td></tr>\n",
       "\t<tr><td>flight_flag_OPT               </td><td>TRUE             </td><td>NA     </td><td>NA                         </td><td>NA              </td><td>NA     </td><td>NA            </td><td>NA     </td><td>NA     </td><td>NA    </td><td>NA    </td><td>NA    </td></tr>\n",
       "\t<tr><td>flight_flag_SDL               </td><td>TRUE             </td><td>NA     </td><td>NA                         </td><td>NA              </td><td>NA     </td><td>NA            </td><td>NA     </td><td>NA     </td><td>NA    </td><td>NA    </td><td>NA    </td></tr>\n",
       "\t<tr><td>OPT_DM_budget                 </td><td>5400000          </td><td>NA     </td><td>NA                         </td><td>NA              </td><td>NA     </td><td>NA            </td><td>NA     </td><td>NA     </td><td>NA    </td><td>NA    </td><td>NA    </td></tr>\n",
       "\t<tr><td>SDL_DM_budget                 </td><td>3900000          </td><td>NA     </td><td>NA                         </td><td>NA              </td><td>NA     </td><td>NA            </td><td>NA     </td><td>NA     </td><td>NA    </td><td>NA    </td><td>NA    </td></tr>\n",
       "\t<tr><td>output_type                   </td><td>csv              </td><td>NA     </td><td>NA                         </td><td>NA              </td><td>NA     </td><td>NA            </td><td>NA     </td><td>NA     </td><td>NA    </td><td>NA    </td><td>NA    </td></tr>\n",
       "\t<tr><td>Footprint                     </td><td>Spend $(000) [Q1]</td><td>TV     </td><td>Direct Mail [No Constraint]</td><td>Search Unbranded</td><td>Display</td><td>Search Branded</td><td>Video  </td><td>Radio  </td><td>Social</td><td>Print </td><td>Audio </td></tr>\n",
       "\t<tr><td>USA [TGA :202,659]            </td><td>$31,100          </td><td>$11,430</td><td>$5,804                     </td><td>$3,342          </td><td>$2,960 </td><td>$2,901        </td><td>$1,790 </td><td>$1,408 </td><td>$1,098</td><td>$276  </td><td>$91   </td></tr>\n",
       "\t<tr><td>EAST [TGA :108,878]           </td><td>$20,000          </td><td>$8,730 </td><td>$3,409                     </td><td>$1,701          </td><td>$1,874 </td><td>$1,613        </td><td>$1,187 </td><td>$675   </td><td>$667  </td><td>$82   </td><td>$61   </td></tr>\n",
       "\t<tr><td>WEST [TGA : 93,781]           </td><td>$11,100          </td><td>$2,700 </td><td>$2,395                     </td><td>$1,641          </td><td>$1,086 </td><td>$1,289        </td><td>$603   </td><td>$733   </td><td>$431  </td><td>$193  </td><td>$30   </td></tr>\n",
       "\t<tr><td>ABILENE-SWEETWATER TX         </td><td>$249.57          </td><td>$81.56 </td><td>$53.85                     </td><td>$29.88          </td><td>$15.67 </td><td>$35.38        </td><td>$9.49  </td><td>$9.92  </td><td>$7.86 </td><td>$5.75 </td><td>$0.21 </td></tr>\n",
       "\t<tr><td>ALEXANDRIA LA                 </td><td>$259.23          </td><td>$98.13 </td><td>$59.99                     </td><td>$28.20          </td><td>$9.41  </td><td>$30.83        </td><td>$8.71  </td><td>$11.65 </td><td>$8.98 </td><td>$3.17 </td><td>$0.15 </td></tr>\n",
       "\t<tr><td>All Other Suddenlink DMA Total</td><td>$1,469.51        </td><td>$310.60</td><td>$228.23                    </td><td>$276.36         </td><td>$234.31</td><td>$92.72        </td><td>$127.47</td><td>$102.04</td><td>$69.11</td><td>$13.80</td><td>$14.87</td></tr>\n",
       "\t<tr><td>AMARILLO TX                   </td><td>$393.95          </td><td>$116.89</td><td>$111.11                    </td><td>$35.53          </td><td>$24.59 </td><td>$50.07        </td><td>$14.02 </td><td>$17.92 </td><td>$14.23</td><td>$9.27 </td><td>$0.32 </td></tr>\n",
       "\t<tr><td>AUSTIN TX                     </td><td>$406.64          </td><td>$0.00  </td><td>$75.45                     </td><td>$108.12         </td><td>$65.01 </td><td>$48.18        </td><td>$34.12 </td><td>$52.77 </td><td>$15.74</td><td>$6.09 </td><td>$1.18 </td></tr>\n",
       "\t<tr><td>BLUEFIELD-BECKLEY-OAK HILL WV </td><td>$254.02          </td><td>$80.68 </td><td>$54.45                     </td><td>$24.64          </td><td>$17.02 </td><td>$34.02        </td><td>$10.12 </td><td>$19.28 </td><td>$9.22 </td><td>$4.41 </td><td>$0.17 </td></tr>\n",
       "\t<tr><td>CHARLESTON-HUNTINGTON WV      </td><td>$519.95          </td><td>$125.83</td><td>$107.82                    </td><td>$69.41          </td><td>$45.49 </td><td>$83.78        </td><td>$32.96 </td><td>$19.73 </td><td>$27.05</td><td>$7.22 </td><td>$0.65 </td></tr>\n",
       "\t<tr><td>DALLAS-FT WORTH TX            </td><td>$901.11          </td><td>$0.00  </td><td>$192.20                    </td><td>$231.06         </td><td>$168.17</td><td>$107.91       </td><td>$78.74 </td><td>$67.67 </td><td>$37.90</td><td>$13.57</td><td>$3.89 </td></tr>\n",
       "\t<tr><td>EUREKA CA                     </td><td>$166.15          </td><td>$71.49 </td><td>$34.81                     </td><td>$9.01           </td><td>$9.99  </td><td>$20.34        </td><td>$6.16  </td><td>$8.77  </td><td>$2.09 </td><td>$3.29 </td><td>$0.20 </td></tr>\n",
       "\t<tr><td>GREENVILLE-NEW BERN-WASH NC   </td><td>$423.63          </td><td>$105.76</td><td>$106.04                    </td><td>$41.12          </td><td>$35.34 </td><td>$69.35        </td><td>$22.89 </td><td>$18.72 </td><td>$16.97</td><td>$7.02 </td><td>$0.42 </td></tr>\n",
       "\t<tr><td>HOUSTON TX                    </td><td>$695.61          </td><td>$0.00  </td><td>$134.52                    </td><td>$176.32         </td><td>$91.71 </td><td>$92.24        </td><td>$49.94 </td><td>$106.64</td><td>$30.21</td><td>$11.47</td><td>$2.56 </td></tr>\n",
       "\t<tr><td>JONESBORO AR                  </td><td>$208.73          </td><td>$106.81</td><td>$31.65                     </td><td>$11.12          </td><td>$8.50  </td><td>$21.43        </td><td>$5.57  </td><td>$12.71 </td><td>$6.99 </td><td>$3.89 </td><td>$0.06 </td></tr>\n",
       "\t<tr><td>LAKE CHARLES LA               </td><td>$307.11          </td><td>$141.46</td><td>$55.44                     </td><td>$30.62          </td><td>$15.32 </td><td>$23.11        </td><td>$9.75  </td><td>$16.03 </td><td>$9.81 </td><td>$5.37 </td><td>$0.20 </td></tr>\n",
       "\t<tr><td>LITTLE ROCK AR                </td><td>$445.00          </td><td>$108.72</td><td>$95.67                     </td><td>$82.56          </td><td>$35.87 </td><td>$49.81        </td><td>$22.18 </td><td>$21.89 </td><td>$18.81</td><td>$8.92 </td><td>$0.56 </td></tr>\n",
       "\t<tr><td>LUBBOCK TX                    </td><td>$424.29          </td><td>$109.11</td><td>$125.25                    </td><td>$44.92          </td><td>$28.84 </td><td>$56.34        </td><td>$14.04 </td><td>$18.78 </td><td>$18.32</td><td>$8.32 </td><td>$0.38 </td></tr>\n",
       "\t<tr><td>MONROE-EL DORADO LA-AR        </td><td>$185.21          </td><td>$72.89 </td><td>$46.57                     </td><td>$19.15          </td><td>$7.10  </td><td>$18.06        </td><td>$5.06  </td><td>$6.96  </td><td>$6.47 </td><td>$2.83 </td><td>$0.11 </td></tr>\n",
       "\t<tr><td>ODESSA-MIDLAND TX             </td><td>$429.69          </td><td>$186.91</td><td>$78.55                     </td><td>$50.40          </td><td>$21.14 </td><td>$40.47        </td><td>$12.91 </td><td>$18.20 </td><td>$12.92</td><td>$7.81 </td><td>$0.36 </td></tr>\n",
       "\t<tr><td>OKLAHOMA CITY OK              </td><td>$289.51          </td><td>$28.65 </td><td>$96.36                     </td><td>$31.67          </td><td>$25.81 </td><td>$38.16        </td><td>$16.94 </td><td>$32.51 </td><td>$11.65</td><td>$7.49 </td><td>$0.28 </td></tr>\n",
       "\t<tr><td>PARKERSBURG WV                </td><td>$223.98          </td><td>$116.41</td><td>$48.98                     </td><td>$11.62          </td><td>$12.18 </td><td>$11.85        </td><td>$6.41  </td><td>$6.57  </td><td>$5.33 </td><td>$4.47 </td><td>$0.15 </td></tr>\n",
       "\t<tr><td>PHOENIX AZ                    </td><td>$364.48          </td><td>$0.00  </td><td>$146.92                    </td><td>$45.42          </td><td>$48.00 </td><td>$60.04        </td><td>$19.05 </td><td>$20.70 </td><td>$12.85</td><td>$10.96</td><td>$0.55 </td></tr>\n",
       "\t<tr><td>RALEIGH-DURHAM NC             </td><td>$150.38          </td><td>$0.00  </td><td>$44.93                     </td><td>$24.98          </td><td>$19.50 </td><td>$30.61        </td><td>$11.70 </td><td>$3.75  </td><td>$8.00 </td><td>$6.60 </td><td>$0.32 </td></tr>\n",
       "\t<tr><td>SAN ANGELO TX                 </td><td>$218.62          </td><td>$105.39</td><td>$34.20                     </td><td>$11.30          </td><td>$12.37 </td><td>$25.35        </td><td>$6.38  </td><td>$11.97 </td><td>$6.21 </td><td>$5.33 </td><td>$0.13 </td></tr>\n",
       "\t<tr><td>SHREVEPORT LA                 </td><td>$313.09          </td><td>$93.96 </td><td>$74.95                     </td><td>$45.78          </td><td>$15.73 </td><td>$38.43        </td><td>$12.79 </td><td>$13.52 </td><td>$13.54</td><td>$4.09 </td><td>$0.30 </td></tr>\n",
       "\t<tr><td>SPRINGFIELD MO                </td><td>$333.03          </td><td>$127.79</td><td>$64.64                     </td><td>$40.38          </td><td>$24.44 </td><td>$29.20        </td><td>$13.76 </td><td>$15.56 </td><td>$8.76 </td><td>$8.18 </td><td>$0.33 </td></tr>\n",
       "\t<tr><td>ST JOSEPH MO                  </td><td>$182.49          </td><td>$91.57 </td><td>$33.32                     </td><td>$9.42           </td><td>$7.75  </td><td>$15.26        </td><td>$4.28  </td><td>$12.65 </td><td>$4.31 </td><td>$3.79 </td><td>$0.14 </td></tr>\n",
       "\t<tr><td>TULSA OK                      </td><td>$130.36          </td><td>$13.60 </td><td>$36.97                     </td><td>$16.17          </td><td>$9.17  </td><td>$21.01        </td><td>$4.91  </td><td>$18.48 </td><td>$5.09 </td><td>$4.86 </td><td>$0.10 </td></tr>\n",
       "\t<tr><td>TYLER-LONGVIEW TX             </td><td>$617.93          </td><td>$175.38</td><td>$131.08                    </td><td>$87.66          </td><td>$41.71 </td><td>$84.76        </td><td>$25.21 </td><td>$37.84 </td><td>$25.40</td><td>$8.19 </td><td>$0.71 </td></tr>\n",
       "\t<tr><td>VICTORIA TX                   </td><td>$176.03          </td><td>$96.10 </td><td>$23.51                     </td><td>$10.23          </td><td>$5.70  </td><td>$15.09        </td><td>$3.57  </td><td>$15.24 </td><td>$3.95 </td><td>$2.51 </td><td>$0.11 </td></tr>\n",
       "\t<tr><td>WACO-TEMPLE-BRYAN TX          </td><td>$360.70          </td><td>$134.07</td><td>$67.26                     </td><td>$37.81          </td><td>$30.14 </td><td>$44.82        </td><td>$14.13 </td><td>$14.32 </td><td>$12.97</td><td>$4.72 </td><td>$0.45 </td></tr>\n",
       "</tbody>\n",
       "</table>\n"
      ],
      "text/latex": [
       "A data.frame: 42 × 12\n",
       "\\begin{tabular}{llllllllllll}\n",
       " X1 & X2 & X3 & X4 & X5 & X6 & X7 & X8 & X9 & X10 & X11 & X12\\\\\n",
       " <fct> & <fct> & <chr> & <chr> & <chr> & <chr> & <chr> & <chr> & <chr> & <chr> & <chr> & <chr>\\\\\n",
       "\\hline\n",
       "\t Input\\_OPT\\_budget               & 20000000          & NA      & NA                          & NA               & NA      & NA             & NA      & NA      & NA     & NA     & NA    \\\\\n",
       "\t Input\\_SDL\\_budget               & 11100000          & NA      & NA                          & NA               & NA      & NA             & NA      & NA      & NA     & NA     & NA    \\\\\n",
       "\t constraint                     & no                & NA      & NA                          & NA               & NA      & NA             & NA      & NA      & NA     & NA     & NA    \\\\\n",
       "\t input\\_period                   & Q1                & NA      & NA                          & NA               & NA      & NA             & NA      & NA      & NA     & NA     & NA    \\\\\n",
       "\t flight\\_flag\\_OPT                & TRUE              & NA      & NA                          & NA               & NA      & NA             & NA      & NA      & NA     & NA     & NA    \\\\\n",
       "\t flight\\_flag\\_SDL                & TRUE              & NA      & NA                          & NA               & NA      & NA             & NA      & NA      & NA     & NA     & NA    \\\\\n",
       "\t OPT\\_DM\\_budget                  & 5400000           & NA      & NA                          & NA               & NA      & NA             & NA      & NA      & NA     & NA     & NA    \\\\\n",
       "\t SDL\\_DM\\_budget                  & 3900000           & NA      & NA                          & NA               & NA      & NA             & NA      & NA      & NA     & NA     & NA    \\\\\n",
       "\t output\\_type                    & csv               & NA      & NA                          & NA               & NA      & NA             & NA      & NA      & NA     & NA     & NA    \\\\\n",
       "\t Footprint                      & Spend \\$(000) {[}Q1{]} & TV      & Direct Mail {[}No Constraint{]} & Search Unbranded & Display & Search Branded & Video   & Radio   & Social & Print  & Audio \\\\\n",
       "\t USA {[}TGA :202,659{]}             & \\$31,100           & \\$11,430 & \\$5,804                      & \\$3,342           & \\$2,960  & \\$2,901         & \\$1,790  & \\$1,408  & \\$1,098 & \\$276   & \\$91   \\\\\n",
       "\t EAST {[}TGA :108,878{]}            & \\$20,000           & \\$8,730  & \\$3,409                      & \\$1,701           & \\$1,874  & \\$1,613         & \\$1,187  & \\$675    & \\$667   & \\$82    & \\$61   \\\\\n",
       "\t WEST {[}TGA : 93,781{]}            & \\$11,100           & \\$2,700  & \\$2,395                      & \\$1,641           & \\$1,086  & \\$1,289         & \\$603    & \\$733    & \\$431   & \\$193   & \\$30   \\\\\n",
       "\t ABILENE-SWEETWATER TX          & \\$249.57           & \\$81.56  & \\$53.85                      & \\$29.88           & \\$15.67  & \\$35.38         & \\$9.49   & \\$9.92   & \\$7.86  & \\$5.75  & \\$0.21 \\\\\n",
       "\t ALEXANDRIA LA                  & \\$259.23           & \\$98.13  & \\$59.99                      & \\$28.20           & \\$9.41   & \\$30.83         & \\$8.71   & \\$11.65  & \\$8.98  & \\$3.17  & \\$0.15 \\\\\n",
       "\t All Other Suddenlink DMA Total & \\$1,469.51         & \\$310.60 & \\$228.23                     & \\$276.36          & \\$234.31 & \\$92.72         & \\$127.47 & \\$102.04 & \\$69.11 & \\$13.80 & \\$14.87\\\\\n",
       "\t AMARILLO TX                    & \\$393.95           & \\$116.89 & \\$111.11                     & \\$35.53           & \\$24.59  & \\$50.07         & \\$14.02  & \\$17.92  & \\$14.23 & \\$9.27  & \\$0.32 \\\\\n",
       "\t AUSTIN TX                      & \\$406.64           & \\$0.00   & \\$75.45                      & \\$108.12          & \\$65.01  & \\$48.18         & \\$34.12  & \\$52.77  & \\$15.74 & \\$6.09  & \\$1.18 \\\\\n",
       "\t BLUEFIELD-BECKLEY-OAK HILL WV  & \\$254.02           & \\$80.68  & \\$54.45                      & \\$24.64           & \\$17.02  & \\$34.02         & \\$10.12  & \\$19.28  & \\$9.22  & \\$4.41  & \\$0.17 \\\\\n",
       "\t CHARLESTON-HUNTINGTON WV       & \\$519.95           & \\$125.83 & \\$107.82                     & \\$69.41           & \\$45.49  & \\$83.78         & \\$32.96  & \\$19.73  & \\$27.05 & \\$7.22  & \\$0.65 \\\\\n",
       "\t DALLAS-FT WORTH TX             & \\$901.11           & \\$0.00   & \\$192.20                     & \\$231.06          & \\$168.17 & \\$107.91        & \\$78.74  & \\$67.67  & \\$37.90 & \\$13.57 & \\$3.89 \\\\\n",
       "\t EUREKA CA                      & \\$166.15           & \\$71.49  & \\$34.81                      & \\$9.01            & \\$9.99   & \\$20.34         & \\$6.16   & \\$8.77   & \\$2.09  & \\$3.29  & \\$0.20 \\\\\n",
       "\t GREENVILLE-NEW BERN-WASH NC    & \\$423.63           & \\$105.76 & \\$106.04                     & \\$41.12           & \\$35.34  & \\$69.35         & \\$22.89  & \\$18.72  & \\$16.97 & \\$7.02  & \\$0.42 \\\\\n",
       "\t HOUSTON TX                     & \\$695.61           & \\$0.00   & \\$134.52                     & \\$176.32          & \\$91.71  & \\$92.24         & \\$49.94  & \\$106.64 & \\$30.21 & \\$11.47 & \\$2.56 \\\\\n",
       "\t JONESBORO AR                   & \\$208.73           & \\$106.81 & \\$31.65                      & \\$11.12           & \\$8.50   & \\$21.43         & \\$5.57   & \\$12.71  & \\$6.99  & \\$3.89  & \\$0.06 \\\\\n",
       "\t LAKE CHARLES LA                & \\$307.11           & \\$141.46 & \\$55.44                      & \\$30.62           & \\$15.32  & \\$23.11         & \\$9.75   & \\$16.03  & \\$9.81  & \\$5.37  & \\$0.20 \\\\\n",
       "\t LITTLE ROCK AR                 & \\$445.00           & \\$108.72 & \\$95.67                      & \\$82.56           & \\$35.87  & \\$49.81         & \\$22.18  & \\$21.89  & \\$18.81 & \\$8.92  & \\$0.56 \\\\\n",
       "\t LUBBOCK TX                     & \\$424.29           & \\$109.11 & \\$125.25                     & \\$44.92           & \\$28.84  & \\$56.34         & \\$14.04  & \\$18.78  & \\$18.32 & \\$8.32  & \\$0.38 \\\\\n",
       "\t MONROE-EL DORADO LA-AR         & \\$185.21           & \\$72.89  & \\$46.57                      & \\$19.15           & \\$7.10   & \\$18.06         & \\$5.06   & \\$6.96   & \\$6.47  & \\$2.83  & \\$0.11 \\\\\n",
       "\t ODESSA-MIDLAND TX              & \\$429.69           & \\$186.91 & \\$78.55                      & \\$50.40           & \\$21.14  & \\$40.47         & \\$12.91  & \\$18.20  & \\$12.92 & \\$7.81  & \\$0.36 \\\\\n",
       "\t OKLAHOMA CITY OK               & \\$289.51           & \\$28.65  & \\$96.36                      & \\$31.67           & \\$25.81  & \\$38.16         & \\$16.94  & \\$32.51  & \\$11.65 & \\$7.49  & \\$0.28 \\\\\n",
       "\t PARKERSBURG WV                 & \\$223.98           & \\$116.41 & \\$48.98                      & \\$11.62           & \\$12.18  & \\$11.85         & \\$6.41   & \\$6.57   & \\$5.33  & \\$4.47  & \\$0.15 \\\\\n",
       "\t PHOENIX AZ                     & \\$364.48           & \\$0.00   & \\$146.92                     & \\$45.42           & \\$48.00  & \\$60.04         & \\$19.05  & \\$20.70  & \\$12.85 & \\$10.96 & \\$0.55 \\\\\n",
       "\t RALEIGH-DURHAM NC              & \\$150.38           & \\$0.00   & \\$44.93                      & \\$24.98           & \\$19.50  & \\$30.61         & \\$11.70  & \\$3.75   & \\$8.00  & \\$6.60  & \\$0.32 \\\\\n",
       "\t SAN ANGELO TX                  & \\$218.62           & \\$105.39 & \\$34.20                      & \\$11.30           & \\$12.37  & \\$25.35         & \\$6.38   & \\$11.97  & \\$6.21  & \\$5.33  & \\$0.13 \\\\\n",
       "\t SHREVEPORT LA                  & \\$313.09           & \\$93.96  & \\$74.95                      & \\$45.78           & \\$15.73  & \\$38.43         & \\$12.79  & \\$13.52  & \\$13.54 & \\$4.09  & \\$0.30 \\\\\n",
       "\t SPRINGFIELD MO                 & \\$333.03           & \\$127.79 & \\$64.64                      & \\$40.38           & \\$24.44  & \\$29.20         & \\$13.76  & \\$15.56  & \\$8.76  & \\$8.18  & \\$0.33 \\\\\n",
       "\t ST JOSEPH MO                   & \\$182.49           & \\$91.57  & \\$33.32                      & \\$9.42            & \\$7.75   & \\$15.26         & \\$4.28   & \\$12.65  & \\$4.31  & \\$3.79  & \\$0.14 \\\\\n",
       "\t TULSA OK                       & \\$130.36           & \\$13.60  & \\$36.97                      & \\$16.17           & \\$9.17   & \\$21.01         & \\$4.91   & \\$18.48  & \\$5.09  & \\$4.86  & \\$0.10 \\\\\n",
       "\t TYLER-LONGVIEW TX              & \\$617.93           & \\$175.38 & \\$131.08                     & \\$87.66           & \\$41.71  & \\$84.76         & \\$25.21  & \\$37.84  & \\$25.40 & \\$8.19  & \\$0.71 \\\\\n",
       "\t VICTORIA TX                    & \\$176.03           & \\$96.10  & \\$23.51                      & \\$10.23           & \\$5.70   & \\$15.09         & \\$3.57   & \\$15.24  & \\$3.95  & \\$2.51  & \\$0.11 \\\\\n",
       "\t WACO-TEMPLE-BRYAN TX           & \\$360.70           & \\$134.07 & \\$67.26                      & \\$37.81           & \\$30.14  & \\$44.82         & \\$14.13  & \\$14.32  & \\$12.97 & \\$4.72  & \\$0.45 \\\\\n",
       "\\end{tabular}\n"
      ],
      "text/markdown": [
       "\n",
       "A data.frame: 42 × 12\n",
       "\n",
       "| X1 &lt;fct&gt; | X2 &lt;fct&gt; | X3 &lt;chr&gt; | X4 &lt;chr&gt; | X5 &lt;chr&gt; | X6 &lt;chr&gt; | X7 &lt;chr&gt; | X8 &lt;chr&gt; | X9 &lt;chr&gt; | X10 &lt;chr&gt; | X11 &lt;chr&gt; | X12 &lt;chr&gt; |\n",
       "|---|---|---|---|---|---|---|---|---|---|---|---|\n",
       "| Input_OPT_budget               | 20000000          | NA      | NA                          | NA               | NA      | NA             | NA      | NA      | NA     | NA     | NA     |\n",
       "| Input_SDL_budget               | 11100000          | NA      | NA                          | NA               | NA      | NA             | NA      | NA      | NA     | NA     | NA     |\n",
       "| constraint                     | no                | NA      | NA                          | NA               | NA      | NA             | NA      | NA      | NA     | NA     | NA     |\n",
       "| input_period                   | Q1                | NA      | NA                          | NA               | NA      | NA             | NA      | NA      | NA     | NA     | NA     |\n",
       "| flight_flag_OPT                | TRUE              | NA      | NA                          | NA               | NA      | NA             | NA      | NA      | NA     | NA     | NA     |\n",
       "| flight_flag_SDL                | TRUE              | NA      | NA                          | NA               | NA      | NA             | NA      | NA      | NA     | NA     | NA     |\n",
       "| OPT_DM_budget                  | 5400000           | NA      | NA                          | NA               | NA      | NA             | NA      | NA      | NA     | NA     | NA     |\n",
       "| SDL_DM_budget                  | 3900000           | NA      | NA                          | NA               | NA      | NA             | NA      | NA      | NA     | NA     | NA     |\n",
       "| output_type                    | csv               | NA      | NA                          | NA               | NA      | NA             | NA      | NA      | NA     | NA     | NA     |\n",
       "| Footprint                      | Spend $(000) [Q1] | TV      | Direct Mail [No Constraint] | Search Unbranded | Display | Search Branded | Video   | Radio   | Social | Print  | Audio  |\n",
       "| USA [TGA :202,659]             | $31,100           | $11,430 | $5,804                      | $3,342           | $2,960  | $2,901         | $1,790  | $1,408  | $1,098 | $276   | $91    |\n",
       "| EAST [TGA :108,878]            | $20,000           | $8,730  | $3,409                      | $1,701           | $1,874  | $1,613         | $1,187  | $675    | $667   | $82    | $61    |\n",
       "| WEST [TGA : 93,781]            | $11,100           | $2,700  | $2,395                      | $1,641           | $1,086  | $1,289         | $603    | $733    | $431   | $193   | $30    |\n",
       "| ABILENE-SWEETWATER TX          | $249.57           | $81.56  | $53.85                      | $29.88           | $15.67  | $35.38         | $9.49   | $9.92   | $7.86  | $5.75  | $0.21  |\n",
       "| ALEXANDRIA LA                  | $259.23           | $98.13  | $59.99                      | $28.20           | $9.41   | $30.83         | $8.71   | $11.65  | $8.98  | $3.17  | $0.15  |\n",
       "| All Other Suddenlink DMA Total | $1,469.51         | $310.60 | $228.23                     | $276.36          | $234.31 | $92.72         | $127.47 | $102.04 | $69.11 | $13.80 | $14.87 |\n",
       "| AMARILLO TX                    | $393.95           | $116.89 | $111.11                     | $35.53           | $24.59  | $50.07         | $14.02  | $17.92  | $14.23 | $9.27  | $0.32  |\n",
       "| AUSTIN TX                      | $406.64           | $0.00   | $75.45                      | $108.12          | $65.01  | $48.18         | $34.12  | $52.77  | $15.74 | $6.09  | $1.18  |\n",
       "| BLUEFIELD-BECKLEY-OAK HILL WV  | $254.02           | $80.68  | $54.45                      | $24.64           | $17.02  | $34.02         | $10.12  | $19.28  | $9.22  | $4.41  | $0.17  |\n",
       "| CHARLESTON-HUNTINGTON WV       | $519.95           | $125.83 | $107.82                     | $69.41           | $45.49  | $83.78         | $32.96  | $19.73  | $27.05 | $7.22  | $0.65  |\n",
       "| DALLAS-FT WORTH TX             | $901.11           | $0.00   | $192.20                     | $231.06          | $168.17 | $107.91        | $78.74  | $67.67  | $37.90 | $13.57 | $3.89  |\n",
       "| EUREKA CA                      | $166.15           | $71.49  | $34.81                      | $9.01            | $9.99   | $20.34         | $6.16   | $8.77   | $2.09  | $3.29  | $0.20  |\n",
       "| GREENVILLE-NEW BERN-WASH NC    | $423.63           | $105.76 | $106.04                     | $41.12           | $35.34  | $69.35         | $22.89  | $18.72  | $16.97 | $7.02  | $0.42  |\n",
       "| HOUSTON TX                     | $695.61           | $0.00   | $134.52                     | $176.32          | $91.71  | $92.24         | $49.94  | $106.64 | $30.21 | $11.47 | $2.56  |\n",
       "| JONESBORO AR                   | $208.73           | $106.81 | $31.65                      | $11.12           | $8.50   | $21.43         | $5.57   | $12.71  | $6.99  | $3.89  | $0.06  |\n",
       "| LAKE CHARLES LA                | $307.11           | $141.46 | $55.44                      | $30.62           | $15.32  | $23.11         | $9.75   | $16.03  | $9.81  | $5.37  | $0.20  |\n",
       "| LITTLE ROCK AR                 | $445.00           | $108.72 | $95.67                      | $82.56           | $35.87  | $49.81         | $22.18  | $21.89  | $18.81 | $8.92  | $0.56  |\n",
       "| LUBBOCK TX                     | $424.29           | $109.11 | $125.25                     | $44.92           | $28.84  | $56.34         | $14.04  | $18.78  | $18.32 | $8.32  | $0.38  |\n",
       "| MONROE-EL DORADO LA-AR         | $185.21           | $72.89  | $46.57                      | $19.15           | $7.10   | $18.06         | $5.06   | $6.96   | $6.47  | $2.83  | $0.11  |\n",
       "| ODESSA-MIDLAND TX              | $429.69           | $186.91 | $78.55                      | $50.40           | $21.14  | $40.47         | $12.91  | $18.20  | $12.92 | $7.81  | $0.36  |\n",
       "| OKLAHOMA CITY OK               | $289.51           | $28.65  | $96.36                      | $31.67           | $25.81  | $38.16         | $16.94  | $32.51  | $11.65 | $7.49  | $0.28  |\n",
       "| PARKERSBURG WV                 | $223.98           | $116.41 | $48.98                      | $11.62           | $12.18  | $11.85         | $6.41   | $6.57   | $5.33  | $4.47  | $0.15  |\n",
       "| PHOENIX AZ                     | $364.48           | $0.00   | $146.92                     | $45.42           | $48.00  | $60.04         | $19.05  | $20.70  | $12.85 | $10.96 | $0.55  |\n",
       "| RALEIGH-DURHAM NC              | $150.38           | $0.00   | $44.93                      | $24.98           | $19.50  | $30.61         | $11.70  | $3.75   | $8.00  | $6.60  | $0.32  |\n",
       "| SAN ANGELO TX                  | $218.62           | $105.39 | $34.20                      | $11.30           | $12.37  | $25.35         | $6.38   | $11.97  | $6.21  | $5.33  | $0.13  |\n",
       "| SHREVEPORT LA                  | $313.09           | $93.96  | $74.95                      | $45.78           | $15.73  | $38.43         | $12.79  | $13.52  | $13.54 | $4.09  | $0.30  |\n",
       "| SPRINGFIELD MO                 | $333.03           | $127.79 | $64.64                      | $40.38           | $24.44  | $29.20         | $13.76  | $15.56  | $8.76  | $8.18  | $0.33  |\n",
       "| ST JOSEPH MO                   | $182.49           | $91.57  | $33.32                      | $9.42            | $7.75   | $15.26         | $4.28   | $12.65  | $4.31  | $3.79  | $0.14  |\n",
       "| TULSA OK                       | $130.36           | $13.60  | $36.97                      | $16.17           | $9.17   | $21.01         | $4.91   | $18.48  | $5.09  | $4.86  | $0.10  |\n",
       "| TYLER-LONGVIEW TX              | $617.93           | $175.38 | $131.08                     | $87.66           | $41.71  | $84.76         | $25.21  | $37.84  | $25.40 | $8.19  | $0.71  |\n",
       "| VICTORIA TX                    | $176.03           | $96.10  | $23.51                      | $10.23           | $5.70   | $15.09         | $3.57   | $15.24  | $3.95  | $2.51  | $0.11  |\n",
       "| WACO-TEMPLE-BRYAN TX           | $360.70           | $134.07 | $67.26                      | $37.81           | $30.14  | $44.82         | $14.13  | $14.32  | $12.97 | $4.72  | $0.45  |\n",
       "\n"
      ],
      "text/plain": [
       "   X1                             X2                X3     \n",
       "1  Input_OPT_budget               20000000          NA     \n",
       "2  Input_SDL_budget               11100000          NA     \n",
       "3  constraint                     no                NA     \n",
       "4  input_period                   Q1                NA     \n",
       "5  flight_flag_OPT                TRUE              NA     \n",
       "6  flight_flag_SDL                TRUE              NA     \n",
       "7  OPT_DM_budget                  5400000           NA     \n",
       "8  SDL_DM_budget                  3900000           NA     \n",
       "9  output_type                    csv               NA     \n",
       "10 Footprint                      Spend $(000) [Q1] TV     \n",
       "11 USA [TGA :202,659]             $31,100           $11,430\n",
       "12 EAST [TGA :108,878]            $20,000           $8,730 \n",
       "13 WEST [TGA : 93,781]            $11,100           $2,700 \n",
       "14 ABILENE-SWEETWATER TX          $249.57           $81.56 \n",
       "15 ALEXANDRIA LA                  $259.23           $98.13 \n",
       "16 All Other Suddenlink DMA Total $1,469.51         $310.60\n",
       "17 AMARILLO TX                    $393.95           $116.89\n",
       "18 AUSTIN TX                      $406.64           $0.00  \n",
       "19 BLUEFIELD-BECKLEY-OAK HILL WV  $254.02           $80.68 \n",
       "20 CHARLESTON-HUNTINGTON WV       $519.95           $125.83\n",
       "21 DALLAS-FT WORTH TX             $901.11           $0.00  \n",
       "22 EUREKA CA                      $166.15           $71.49 \n",
       "23 GREENVILLE-NEW BERN-WASH NC    $423.63           $105.76\n",
       "24 HOUSTON TX                     $695.61           $0.00  \n",
       "25 JONESBORO AR                   $208.73           $106.81\n",
       "26 LAKE CHARLES LA                $307.11           $141.46\n",
       "27 LITTLE ROCK AR                 $445.00           $108.72\n",
       "28 LUBBOCK TX                     $424.29           $109.11\n",
       "29 MONROE-EL DORADO LA-AR         $185.21           $72.89 \n",
       "30 ODESSA-MIDLAND TX              $429.69           $186.91\n",
       "31 OKLAHOMA CITY OK               $289.51           $28.65 \n",
       "32 PARKERSBURG WV                 $223.98           $116.41\n",
       "33 PHOENIX AZ                     $364.48           $0.00  \n",
       "34 RALEIGH-DURHAM NC              $150.38           $0.00  \n",
       "35 SAN ANGELO TX                  $218.62           $105.39\n",
       "36 SHREVEPORT LA                  $313.09           $93.96 \n",
       "37 SPRINGFIELD MO                 $333.03           $127.79\n",
       "38 ST JOSEPH MO                   $182.49           $91.57 \n",
       "39 TULSA OK                       $130.36           $13.60 \n",
       "40 TYLER-LONGVIEW TX              $617.93           $175.38\n",
       "41 VICTORIA TX                    $176.03           $96.10 \n",
       "42 WACO-TEMPLE-BRYAN TX           $360.70           $134.07\n",
       "   X4                          X5               X6      X7             X8     \n",
       "1  NA                          NA               NA      NA             NA     \n",
       "2  NA                          NA               NA      NA             NA     \n",
       "3  NA                          NA               NA      NA             NA     \n",
       "4  NA                          NA               NA      NA             NA     \n",
       "5  NA                          NA               NA      NA             NA     \n",
       "6  NA                          NA               NA      NA             NA     \n",
       "7  NA                          NA               NA      NA             NA     \n",
       "8  NA                          NA               NA      NA             NA     \n",
       "9  NA                          NA               NA      NA             NA     \n",
       "10 Direct Mail [No Constraint] Search Unbranded Display Search Branded Video  \n",
       "11 $5,804                      $3,342           $2,960  $2,901         $1,790 \n",
       "12 $3,409                      $1,701           $1,874  $1,613         $1,187 \n",
       "13 $2,395                      $1,641           $1,086  $1,289         $603   \n",
       "14 $53.85                      $29.88           $15.67  $35.38         $9.49  \n",
       "15 $59.99                      $28.20           $9.41   $30.83         $8.71  \n",
       "16 $228.23                     $276.36          $234.31 $92.72         $127.47\n",
       "17 $111.11                     $35.53           $24.59  $50.07         $14.02 \n",
       "18 $75.45                      $108.12          $65.01  $48.18         $34.12 \n",
       "19 $54.45                      $24.64           $17.02  $34.02         $10.12 \n",
       "20 $107.82                     $69.41           $45.49  $83.78         $32.96 \n",
       "21 $192.20                     $231.06          $168.17 $107.91        $78.74 \n",
       "22 $34.81                      $9.01            $9.99   $20.34         $6.16  \n",
       "23 $106.04                     $41.12           $35.34  $69.35         $22.89 \n",
       "24 $134.52                     $176.32          $91.71  $92.24         $49.94 \n",
       "25 $31.65                      $11.12           $8.50   $21.43         $5.57  \n",
       "26 $55.44                      $30.62           $15.32  $23.11         $9.75  \n",
       "27 $95.67                      $82.56           $35.87  $49.81         $22.18 \n",
       "28 $125.25                     $44.92           $28.84  $56.34         $14.04 \n",
       "29 $46.57                      $19.15           $7.10   $18.06         $5.06  \n",
       "30 $78.55                      $50.40           $21.14  $40.47         $12.91 \n",
       "31 $96.36                      $31.67           $25.81  $38.16         $16.94 \n",
       "32 $48.98                      $11.62           $12.18  $11.85         $6.41  \n",
       "33 $146.92                     $45.42           $48.00  $60.04         $19.05 \n",
       "34 $44.93                      $24.98           $19.50  $30.61         $11.70 \n",
       "35 $34.20                      $11.30           $12.37  $25.35         $6.38  \n",
       "36 $74.95                      $45.78           $15.73  $38.43         $12.79 \n",
       "37 $64.64                      $40.38           $24.44  $29.20         $13.76 \n",
       "38 $33.32                      $9.42            $7.75   $15.26         $4.28  \n",
       "39 $36.97                      $16.17           $9.17   $21.01         $4.91  \n",
       "40 $131.08                     $87.66           $41.71  $84.76         $25.21 \n",
       "41 $23.51                      $10.23           $5.70   $15.09         $3.57  \n",
       "42 $67.26                      $37.81           $30.14  $44.82         $14.13 \n",
       "   X9      X10    X11    X12   \n",
       "1  NA      NA     NA     NA    \n",
       "2  NA      NA     NA     NA    \n",
       "3  NA      NA     NA     NA    \n",
       "4  NA      NA     NA     NA    \n",
       "5  NA      NA     NA     NA    \n",
       "6  NA      NA     NA     NA    \n",
       "7  NA      NA     NA     NA    \n",
       "8  NA      NA     NA     NA    \n",
       "9  NA      NA     NA     NA    \n",
       "10 Radio   Social Print  Audio \n",
       "11 $1,408  $1,098 $276   $91   \n",
       "12 $675    $667   $82    $61   \n",
       "13 $733    $431   $193   $30   \n",
       "14 $9.92   $7.86  $5.75  $0.21 \n",
       "15 $11.65  $8.98  $3.17  $0.15 \n",
       "16 $102.04 $69.11 $13.80 $14.87\n",
       "17 $17.92  $14.23 $9.27  $0.32 \n",
       "18 $52.77  $15.74 $6.09  $1.18 \n",
       "19 $19.28  $9.22  $4.41  $0.17 \n",
       "20 $19.73  $27.05 $7.22  $0.65 \n",
       "21 $67.67  $37.90 $13.57 $3.89 \n",
       "22 $8.77   $2.09  $3.29  $0.20 \n",
       "23 $18.72  $16.97 $7.02  $0.42 \n",
       "24 $106.64 $30.21 $11.47 $2.56 \n",
       "25 $12.71  $6.99  $3.89  $0.06 \n",
       "26 $16.03  $9.81  $5.37  $0.20 \n",
       "27 $21.89  $18.81 $8.92  $0.56 \n",
       "28 $18.78  $18.32 $8.32  $0.38 \n",
       "29 $6.96   $6.47  $2.83  $0.11 \n",
       "30 $18.20  $12.92 $7.81  $0.36 \n",
       "31 $32.51  $11.65 $7.49  $0.28 \n",
       "32 $6.57   $5.33  $4.47  $0.15 \n",
       "33 $20.70  $12.85 $10.96 $0.55 \n",
       "34 $3.75   $8.00  $6.60  $0.32 \n",
       "35 $11.97  $6.21  $5.33  $0.13 \n",
       "36 $13.52  $13.54 $4.09  $0.30 \n",
       "37 $15.56  $8.76  $8.18  $0.33 \n",
       "38 $12.65  $4.31  $3.79  $0.14 \n",
       "39 $18.48  $5.09  $4.86  $0.10 \n",
       "40 $37.84  $25.40 $8.19  $0.71 \n",
       "41 $15.24  $3.95  $2.51  $0.11 \n",
       "42 $14.32  $12.97 $4.72  $0.45 "
      ]
     },
     "metadata": {},
     "output_type": "display_data"
    }
   ],
   "source": [
    "ncol_final = max(ncol(input_df),ncol(test_res_csv))\n",
    "ncol_input = ncol(input_df)\n",
    "nrow_input = nrow(input_df)\n",
    "ncol_diff = ncol_final - ncol_input\n",
    "\n",
    "\n",
    "final_inputs_df = data.frame(matrix(nrow = 0,ncol = ncol_final))\n",
    "\n",
    "##Create dummy columns for the input df to make it have the same columns as test_res_csv\n",
    "dummy_df = data.frame(matrix(rep(NA,ncol_diff*nrow_input),nrow = nrow_input,ncol = ncol_diff))\n",
    "\n",
    "\n",
    "\n",
    "input_df = cbind(input_df,dummy_df)\n",
    "\n",
    "colnames(input_df) <- paste0('X',c(1:ncol_final))\n",
    "\n",
    "test_res_csv = rbind(colnames(test_res_csv),test_res_csv)\n",
    "colnames(test_res_csv) = paste0('X',c(1:ncol_final))\n",
    "\n",
    "final_inputs_df = rbind(input_df,test_res_csv)\n",
    "\n",
    "final_inputs_df"
   ]
  },
  {
   "cell_type": "code",
   "execution_count": 13,
   "metadata": {
    "ExecuteTime": {
     "end_time": "2021-06-08T16:48:44.652087Z",
     "start_time": "2021-06-08T16:43:22.399Z"
    }
   },
   "outputs": [],
   "source": [
    "write.table(final_inputs_df,'test_package.csv',row.names = FALSE,col.names = FALSE,sep = ',',na = '')"
   ]
  },
  {
   "cell_type": "markdown",
   "metadata": {},
   "source": [
    "### Test Case generation"
   ]
  },
  {
   "cell_type": "code",
   "execution_count": 4,
   "metadata": {
    "ExecuteTime": {
     "end_time": "2021-06-08T16:48:46.678876Z",
     "start_time": "2021-06-08T16:43:24.423Z"
    }
   },
   "outputs": [],
   "source": [
    "generate_test_cases <- function(input,output){\n",
    "    input_df <- data.frame('key' = names(input),'value' = as.character(unlist(input)))\n",
    "    ncol_final = max(ncol(input_df),ncol(output))\n",
    "    ncol_input = ncol(input_df)\n",
    "    nrow_input = nrow(input_df)\n",
    "    ncol_diff = ncol_final - ncol_input\n",
    "\n",
    "\n",
    "    final_inputs_df = data.frame(matrix(nrow = 0,ncol = ncol_final),stringsAsFactors = F)\n",
    "\n",
    "    ##Create dummy columns for the input df to make it have the same columns as test_res_csv\n",
    "    dummy_df = data.frame(matrix(rep(NA,ncol_diff*nrow_input),nrow = nrow_input,ncol = ncol_diff),stringsAsFactors = F)\n",
    "\n",
    "\n",
    "\n",
    "    input_df = cbind(input_df,dummy_df)\n",
    "\n",
    "    colnames(input_df) <- paste0('X',c(1:ncol_final))\n",
    "    #output <- data.frame(output,stringsAsFactors = F)\n",
    "    output = rbind(colnames(output),output)\n",
    "    colnames(output) = paste0('X',c(1:ncol_final))\n",
    "\n",
    "    final_inputs_df = rbind(input_df,output)\n",
    "    \n",
    "    return(final_inputs_df)\n",
    "}"
   ]
  },
  {
   "cell_type": "code",
   "execution_count": 5,
   "metadata": {
    "ExecuteTime": {
     "end_time": "2021-06-08T16:48:47.176421Z",
     "start_time": "2021-06-08T16:43:24.920Z"
    }
   },
   "outputs": [],
   "source": [
    "gen_b2c_test_cases <- function(opt_budget_vec,sdl_budget_vec,constraint,id_start = 1){\n",
    "    \n",
    "    output_list = list()\n",
    "    output_df = data.frame(matrix(nrow=0,ncol=12))\n",
    "    ##Generate the combinations of both vectors\n",
    "    cases_df <- crossing(opt_budget_vec,sdl_budget_vec)\n",
    "   \n",
    "    \n",
    "    \n",
    "    idx <- c(1:nrow(cases_df))\n",
    "    \n",
    "    opt_dm_budget <- sample(c(3400000,6300000),size = 1, replace = T)\n",
    "    sdl_dm_budget <- sample(c(2400000,4400000),size = 1,replace = T)\n",
    "    \n",
    "    for(id in idx){\n",
    "        budget_vec = cases_df %>% slice(id) %>% unlist(use.names = FALSE)\n",
    "        quarter <- paste0('Q',sample(1:4,size = 1,replace = T))\n",
    "        print_flag_OPT = T\n",
    "        print_flag_SDL = T\n",
    "        ##If the extracted budget is lower bound for respective footprint, turn print off\n",
    "        if(budget_vec[1]%in%c(14700000,18100000)){\n",
    "            print_flag_OPT = F\n",
    "        }\n",
    "        if(budget_vec[2]%in%c(8400000,10800000)){\n",
    "            print_flag_SDL = F\n",
    "        }\n",
    "        cat(budget_vec)\n",
    "        cat('\\n')\n",
    "        cat(sprintf('OPT budget: %s\\n',format_money(budget_vec[1],0)))\n",
    "        cat(sprintf('SDL budget: %s\\n',format_money(budget_vec[2],0)))\n",
    "        cat(sprintf('Quarter selected: %s\\n',quarter))\n",
    "        \n",
    "        if(constraint == 'no'){\n",
    "            opt_dm_budget = \"NULL\"\n",
    "            sdl_dm_budget = \"NULL\"\n",
    "        }\n",
    "        \n",
    "        test_input_case = list('Input_OPT_budget' = budget_vec[1],\n",
    "                                'Input_SDL_budget' = budget_vec[2],\n",
    "                                'constraint' = constraint,\n",
    "                                'input_period' = quarter,\n",
    "                                'flight_flag_OPT' = print_flag_OPT,\n",
    "                                'flight_flag_SDL' = print_flag_SDL,                       \n",
    "                                'OPT_DM_budget' = opt_dm_budget,\n",
    "                                'SDL_DM_budget' = sdl_dm_budget,\n",
    "                                'output_type' = 'csv' \n",
    "                                )\n",
    "        \n",
    "        gen_output <- run_mmm_app(test_input_case)\n",
    "        \n",
    "        test_case <- generate_test_cases(test_input_case,gen_output)\n",
    "        \n",
    "        ncol_diff <- ncol(gen_output) - 1\n",
    "        \n",
    "        ##Create dummy columns for the input df to make it have the same columns as test_res_csv\n",
    "        dummy_df = data.frame(matrix(rep(NA,ncol_diff*1),nrow = 1,ncol = ncol_diff),stringsAsFactors = F)\n",
    "        \n",
    "        case_df <- data.frame(id_start)\n",
    "        case_df <- cbind(case_df,dummy_df)\n",
    "        colnames(case_df) <- paste('X',rep(1:ncol(case_df)),sep='')\n",
    "        \n",
    "        temp_df <- rbind(colnames(gen_output),gen_output)\n",
    "        colnames(temp_df) <-  paste('X',rep(1:ncol(case_df)),sep='')\n",
    "        \n",
    "        temp_df <- rbind(case_df,temp_df)\n",
    "        \n",
    "        output_name <- paste0('case',idx)\n",
    "        temp_list <- list(test_case)\n",
    "        names(temp_list) <- paste('case',id,sep = '')\n",
    "        output_list <- append(output_list,temp_list)\n",
    "        output_df <- rbind(output_df,temp_df)\n",
    "        id_start <- id_start + 1\n",
    "        \n",
    "    }\n",
    "    cat(sprintf('The number of cases generated: %s\\n',id_start))\n",
    "   return(list('case_df' = output_df,\n",
    "                'case_list' = output_list))\n",
    "}"
   ]
  },
  {
   "cell_type": "code",
   "execution_count": 14,
   "metadata": {
    "ExecuteTime": {
     "end_time": "2021-06-08T16:48:48.027481Z",
     "start_time": "2021-06-08T16:43:25.775Z"
    }
   },
   "outputs": [],
   "source": [
    "opt_budget_vec_no_dm <- c(14700000,16300000,22000000,26800000)\n",
    "sdl_budget_vec_no_dm <- c(8400000,8700000,10000000,13900000)"
   ]
  },
  {
   "cell_type": "code",
   "execution_count": 17,
   "metadata": {
    "ExecuteTime": {
     "end_time": "2021-06-08T16:48:48.303390Z",
     "start_time": "2021-06-08T16:43:26.047Z"
    }
   },
   "outputs": [],
   "source": [
    "opt_budget_vec_dm <- c(18100000,19700000,25000000,33100000)\n",
    "sdl_budget_vec_dm <- c(10800000,11000000,15000000,18400000)"
   ]
  },
  {
   "cell_type": "code",
   "execution_count": 18,
   "metadata": {
    "ExecuteTime": {
     "end_time": "2021-06-08T16:49:02.529573Z",
     "start_time": "2021-06-08T16:43:26.471Z"
    },
    "scrolled": true
   },
   "outputs": [
    {
     "name": "stdout",
     "output_type": "stream",
     "text": [
      "14700000 8400000\n",
      "OPT budget: $14,700,000\n",
      "SDL budget: $8,400,000\n",
      "Quarter selected: Q2\n"
     ]
    },
    {
     "name": "stderr",
     "output_type": "stream",
     "text": [
      "Adding missing grouping variables: `qy`\n",
      "\n"
     ]
    },
    {
     "name": "stdout",
     "output_type": "stream",
     "text": [
      "14700000 8700000\n",
      "OPT budget: $14,700,000\n",
      "SDL budget: $8,700,000\n",
      "Quarter selected: Q2\n"
     ]
    },
    {
     "name": "stderr",
     "output_type": "stream",
     "text": [
      "Adding missing grouping variables: `qy`\n",
      "\n"
     ]
    },
    {
     "name": "stdout",
     "output_type": "stream",
     "text": [
      "14700000 10000000\n",
      "OPT budget: $14,700,000\n",
      "SDL budget: $10,000,000\n",
      "Quarter selected: Q1\n"
     ]
    },
    {
     "name": "stderr",
     "output_type": "stream",
     "text": [
      "Adding missing grouping variables: `qy`\n",
      "\n"
     ]
    },
    {
     "name": "stdout",
     "output_type": "stream",
     "text": [
      "14700000 13900000\n",
      "OPT budget: $14,700,000\n",
      "SDL budget: $13,900,000\n",
      "Quarter selected: Q4\n"
     ]
    },
    {
     "name": "stderr",
     "output_type": "stream",
     "text": [
      "Adding missing grouping variables: `qy`\n",
      "\n"
     ]
    },
    {
     "name": "stdout",
     "output_type": "stream",
     "text": [
      "16300000 8400000\n",
      "OPT budget: $16,300,000\n",
      "SDL budget: $8,400,000\n",
      "Quarter selected: Q3\n"
     ]
    },
    {
     "name": "stderr",
     "output_type": "stream",
     "text": [
      "Adding missing grouping variables: `qy`\n",
      "\n"
     ]
    },
    {
     "name": "stdout",
     "output_type": "stream",
     "text": [
      "16300000 8700000\n",
      "OPT budget: $16,300,000\n",
      "SDL budget: $8,700,000\n",
      "Quarter selected: Q1\n"
     ]
    },
    {
     "name": "stderr",
     "output_type": "stream",
     "text": [
      "Adding missing grouping variables: `qy`\n",
      "\n"
     ]
    },
    {
     "name": "stdout",
     "output_type": "stream",
     "text": [
      "16300000 10000000\n",
      "OPT budget: $16,300,000\n",
      "SDL budget: $10,000,000\n",
      "Quarter selected: Q1\n"
     ]
    },
    {
     "name": "stderr",
     "output_type": "stream",
     "text": [
      "Adding missing grouping variables: `qy`\n",
      "\n"
     ]
    },
    {
     "name": "stdout",
     "output_type": "stream",
     "text": [
      "16300000 13900000\n",
      "OPT budget: $16,300,000\n",
      "SDL budget: $13,900,000\n",
      "Quarter selected: Q2\n"
     ]
    },
    {
     "name": "stderr",
     "output_type": "stream",
     "text": [
      "Adding missing grouping variables: `qy`\n",
      "\n"
     ]
    },
    {
     "name": "stdout",
     "output_type": "stream",
     "text": [
      "22000000 8400000\n",
      "OPT budget: $22,000,000\n",
      "SDL budget: $8,400,000\n",
      "Quarter selected: Q4\n"
     ]
    },
    {
     "name": "stderr",
     "output_type": "stream",
     "text": [
      "Adding missing grouping variables: `qy`\n",
      "\n"
     ]
    },
    {
     "name": "stdout",
     "output_type": "stream",
     "text": [
      "22000000 8700000\n",
      "OPT budget: $22,000,000\n",
      "SDL budget: $8,700,000\n",
      "Quarter selected: Q4\n"
     ]
    },
    {
     "name": "stderr",
     "output_type": "stream",
     "text": [
      "Adding missing grouping variables: `qy`\n",
      "\n"
     ]
    },
    {
     "name": "stdout",
     "output_type": "stream",
     "text": [
      "22000000 10000000\n",
      "OPT budget: $22,000,000\n",
      "SDL budget: $10,000,000\n",
      "Quarter selected: Q2\n"
     ]
    },
    {
     "name": "stderr",
     "output_type": "stream",
     "text": [
      "Adding missing grouping variables: `qy`\n",
      "\n"
     ]
    },
    {
     "name": "stdout",
     "output_type": "stream",
     "text": [
      "22000000 13900000\n",
      "OPT budget: $22,000,000\n",
      "SDL budget: $13,900,000\n",
      "Quarter selected: Q3\n"
     ]
    },
    {
     "name": "stderr",
     "output_type": "stream",
     "text": [
      "Adding missing grouping variables: `qy`\n",
      "\n"
     ]
    },
    {
     "name": "stdout",
     "output_type": "stream",
     "text": [
      "26800000 8400000\n",
      "OPT budget: $26,800,000\n",
      "SDL budget: $8,400,000\n",
      "Quarter selected: Q2\n"
     ]
    },
    {
     "name": "stderr",
     "output_type": "stream",
     "text": [
      "Adding missing grouping variables: `qy`\n",
      "\n"
     ]
    },
    {
     "name": "stdout",
     "output_type": "stream",
     "text": [
      "26800000 8700000\n",
      "OPT budget: $26,800,000\n",
      "SDL budget: $8,700,000\n",
      "Quarter selected: Q2\n"
     ]
    },
    {
     "name": "stderr",
     "output_type": "stream",
     "text": [
      "Adding missing grouping variables: `qy`\n",
      "\n"
     ]
    },
    {
     "name": "stdout",
     "output_type": "stream",
     "text": [
      "26800000 10000000\n",
      "OPT budget: $26,800,000\n",
      "SDL budget: $10,000,000\n",
      "Quarter selected: Q2\n"
     ]
    },
    {
     "name": "stderr",
     "output_type": "stream",
     "text": [
      "Adding missing grouping variables: `qy`\n",
      "\n"
     ]
    },
    {
     "name": "stdout",
     "output_type": "stream",
     "text": [
      "26800000 13900000\n",
      "OPT budget: $26,800,000\n",
      "SDL budget: $13,900,000\n",
      "Quarter selected: Q3\n"
     ]
    },
    {
     "name": "stderr",
     "output_type": "stream",
     "text": [
      "Adding missing grouping variables: `qy`\n",
      "\n"
     ]
    },
    {
     "name": "stdout",
     "output_type": "stream",
     "text": [
      "The number of cases generated: 17\n"
     ]
    }
   ],
   "source": [
    "res_no_dm <- gen_b2c_test_cases(opt_budget_vec_no_dm,sdl_budget_vec_no_dm,'yes')"
   ]
  },
  {
   "cell_type": "code",
   "execution_count": 19,
   "metadata": {
    "scrolled": true
   },
   "outputs": [
    {
     "data": {
      "text/html": [
       "<table>\n",
       "<caption>A data.frame: 544 × 12</caption>\n",
       "<thead>\n",
       "\t<tr><th scope=col>X1</th><th scope=col>X2</th><th scope=col>X3</th><th scope=col>X4</th><th scope=col>X5</th><th scope=col>X6</th><th scope=col>X7</th><th scope=col>X8</th><th scope=col>X9</th><th scope=col>X10</th><th scope=col>X11</th><th scope=col>X12</th></tr>\n",
       "\t<tr><th scope=col>&lt;chr&gt;</th><th scope=col>&lt;chr&gt;</th><th scope=col>&lt;chr&gt;</th><th scope=col>&lt;chr&gt;</th><th scope=col>&lt;chr&gt;</th><th scope=col>&lt;chr&gt;</th><th scope=col>&lt;chr&gt;</th><th scope=col>&lt;chr&gt;</th><th scope=col>&lt;chr&gt;</th><th scope=col>&lt;chr&gt;</th><th scope=col>&lt;chr&gt;</th><th scope=col>&lt;chr&gt;</th></tr>\n",
       "</thead>\n",
       "<tbody>\n",
       "\t<tr><td>1                             </td><td>NA               </td><td>NA                       </td><td>NA     </td><td>NA              </td><td>NA     </td><td>NA            </td><td>NA     </td><td>NA     </td><td>NA    </td><td>NA    </td><td>NA   </td></tr>\n",
       "\t<tr><td>Footprint                     </td><td>Spend $(000) [Q2]</td><td>Direct Mail [Constrained]</td><td>TV     </td><td>Search Unbranded</td><td>Display</td><td>Search Branded</td><td>Video  </td><td>Radio  </td><td>Social</td><td>Audio </td><td>Print</td></tr>\n",
       "\t<tr><td>USA [TGA :198,339]            </td><td>$33,800          </td><td>$10,700                  </td><td>$9,510 </td><td>$3,311          </td><td>$2,960 </td><td>$2,933        </td><td>$1,790 </td><td>$1,408 </td><td>$1,098</td><td>$91   </td><td>$0   </td></tr>\n",
       "\t<tr><td>EAST [TGA :105,464]           </td><td>$21,000          </td><td>$6,300                   </td><td>$6,922 </td><td>$1,701          </td><td>$1,874 </td><td>$1,613        </td><td>$1,187 </td><td>$675   </td><td>$667  </td><td>$61   </td><td>$0   </td></tr>\n",
       "\t<tr><td>WEST [TGA : 92,875]           </td><td>$12,800          </td><td>$4,400                   </td><td>$2,588 </td><td>$1,609          </td><td>$1,086 </td><td>$1,320        </td><td>$603   </td><td>$733   </td><td>$431  </td><td>$30   </td><td>$0   </td></tr>\n",
       "\t<tr><td>ABILENE-SWEETWATER TX         </td><td>$288.09          </td><td>$100.87                  </td><td>$76.62 </td><td>$29.88          </td><td>$15.67 </td><td>$37.56        </td><td>$9.49  </td><td>$9.92  </td><td>$7.86 </td><td>$0.21 </td><td>$0.00</td></tr>\n",
       "\t<tr><td>ALEXANDRIA LA                 </td><td>$293.75          </td><td>$100.89                  </td><td>$107.18</td><td>$28.20          </td><td>$9.41  </td><td>$18.58        </td><td>$8.71  </td><td>$11.65 </td><td>$8.98 </td><td>$0.15 </td><td>$0.00</td></tr>\n",
       "\t<tr><td>All Other Suddenlink DMA Total</td><td>$1,788.57        </td><td>$566.12                  </td><td>$307.56</td><td>$276.36         </td><td>$234.31</td><td>$90.73        </td><td>$127.47</td><td>$102.04</td><td>$69.11</td><td>$14.87</td><td>$0.00</td></tr>\n",
       "\t<tr><td>AMARILLO TX                   </td><td>$425.70          </td><td>$159.50                  </td><td>$106.77</td><td>$35.53          </td><td>$24.59 </td><td>$52.82        </td><td>$14.02 </td><td>$17.92 </td><td>$14.23</td><td>$0.32 </td><td>$0.00</td></tr>\n",
       "\t<tr><td>AUSTIN TX                     </td><td>$481.99          </td><td>$159.81                  </td><td>$0.00  </td><td>$102.68         </td><td>$65.01 </td><td>$50.70        </td><td>$34.12 </td><td>$52.77 </td><td>$15.74</td><td>$1.18 </td><td>$0.00</td></tr>\n",
       "\t<tr><td>BLUEFIELD-BECKLEY-OAK HILL WV </td><td>$293.13          </td><td>$100.67                  </td><td>$75.96 </td><td>$24.64          </td><td>$17.02 </td><td>$36.04        </td><td>$10.12 </td><td>$19.28 </td><td>$9.22 </td><td>$0.17 </td><td>$0.00</td></tr>\n",
       "\t<tr><td>CHARLESTON-HUNTINGTON WV      </td><td>$603.46          </td><td>$203.56                  </td><td>$114.93</td><td>$69.41          </td><td>$45.49 </td><td>$89.66        </td><td>$32.96 </td><td>$19.73 </td><td>$27.05</td><td>$0.65 </td><td>$0.00</td></tr>\n",
       "\t<tr><td>DALLAS-FT WORTH TX            </td><td>$1,040.23        </td><td>$354.25                  </td><td>$0.00  </td><td>$215.99         </td><td>$168.17</td><td>$113.62       </td><td>$78.74 </td><td>$67.67 </td><td>$37.90</td><td>$3.89 </td><td>$0.00</td></tr>\n",
       "\t<tr><td>EUREKA CA                     </td><td>$192.76          </td><td>$66.41                   </td><td>$68.71 </td><td>$9.01           </td><td>$9.99  </td><td>$21.43        </td><td>$6.16  </td><td>$8.77  </td><td>$2.09 </td><td>$0.20 </td><td>$0.00</td></tr>\n",
       "\t<tr><td>GREENVILLE-NEW BERN-WASH NC   </td><td>$471.76          </td><td>$167.43                  </td><td>$97.39 </td><td>$41.12          </td><td>$35.34 </td><td>$71.47        </td><td>$22.89 </td><td>$18.72 </td><td>$16.97</td><td>$0.42 </td><td>$0.00</td></tr>\n",
       "\t<tr><td>HOUSTON TX                    </td><td>$818.79          </td><td>$274.84                  </td><td>$0.00  </td><td>$165.20         </td><td>$91.71 </td><td>$97.69        </td><td>$49.94 </td><td>$106.64</td><td>$30.21</td><td>$2.56 </td><td>$0.00</td></tr>\n",
       "\t<tr><td>JONESBORO AR                  </td><td>$255.57          </td><td>$83.10                   </td><td>$105.21</td><td>$11.12          </td><td>$8.50  </td><td>$22.31        </td><td>$5.57  </td><td>$12.71 </td><td>$6.99 </td><td>$0.06 </td><td>$0.00</td></tr>\n",
       "\t<tr><td>LAKE CHARLES LA               </td><td>$366.00          </td><td>$121.77                  </td><td>$139.39</td><td>$30.62          </td><td>$15.32 </td><td>$23.11        </td><td>$9.75  </td><td>$16.03 </td><td>$9.81 </td><td>$0.20 </td><td>$0.00</td></tr>\n",
       "\t<tr><td>LITTLE ROCK AR                </td><td>$513.61          </td><td>$178.01                  </td><td>$101.56</td><td>$82.56          </td><td>$35.87 </td><td>$52.16        </td><td>$22.18 </td><td>$21.89 </td><td>$18.81</td><td>$0.56 </td><td>$0.00</td></tr>\n",
       "\t<tr><td>LUBBOCK TX                    </td><td>$451.68          </td><td>$169.47                  </td><td>$97.30 </td><td>$44.92          </td><td>$28.84 </td><td>$59.63        </td><td>$14.04 </td><td>$18.78 </td><td>$18.32</td><td>$0.38 </td><td>$0.00</td></tr>\n",
       "\t<tr><td>MONROE-EL DORADO LA-AR        </td><td>$205.93          </td><td>$72.86                   </td><td>$69.47 </td><td>$19.15          </td><td>$7.10  </td><td>$18.74        </td><td>$5.06  </td><td>$6.96  </td><td>$6.47 </td><td>$0.11 </td><td>$0.00</td></tr>\n",
       "\t<tr><td>ODESSA-MIDLAND TX             </td><td>$511.08          </td><td>$170.77                  </td><td>$182.52</td><td>$50.40          </td><td>$21.14 </td><td>$41.85        </td><td>$12.91 </td><td>$18.20 </td><td>$12.92</td><td>$0.36 </td><td>$0.00</td></tr>\n",
       "\t<tr><td>OKLAHOMA CITY OK              </td><td>$296.67          </td><td>$118.15                  </td><td>$19.47 </td><td>$31.67          </td><td>$25.81 </td><td>$40.19        </td><td>$16.94 </td><td>$32.51 </td><td>$11.65</td><td>$0.28 </td><td>$0.00</td></tr>\n",
       "\t<tr><td>PARKERSBURG WV                </td><td>$257.58          </td><td>$89.57                   </td><td>$113.90</td><td>$11.62          </td><td>$12.18 </td><td>$11.85        </td><td>$6.41  </td><td>$6.57  </td><td>$5.33 </td><td>$0.15 </td><td>$0.00</td></tr>\n",
       "\t<tr><td>PHOENIX AZ                    </td><td>$352.90          </td><td>$150.88                  </td><td>$0.00  </td><td>$45.42          </td><td>$48.00 </td><td>$55.45        </td><td>$19.05 </td><td>$20.70 </td><td>$12.85</td><td>$0.55 </td><td>$0.00</td></tr>\n",
       "\t<tr><td>RALEIGH-DURHAM NC             </td><td>$161.05          </td><td>$65.14                   </td><td>$0.00  </td><td>$24.98          </td><td>$19.50 </td><td>$27.67        </td><td>$11.70 </td><td>$3.75  </td><td>$8.00 </td><td>$0.32 </td><td>$0.00</td></tr>\n",
       "\t<tr><td>SAN ANGELO TX                 </td><td>$266.94          </td><td>$88.77                   </td><td>$103.22</td><td>$11.30          </td><td>$12.37 </td><td>$26.58        </td><td>$6.38  </td><td>$11.97 </td><td>$6.21 </td><td>$0.13 </td><td>$0.00</td></tr>\n",
       "\t<tr><td>SHREVEPORT LA                 </td><td>$352.10          </td><td>$122.22                  </td><td>$87.68 </td><td>$45.78          </td><td>$15.73 </td><td>$40.54        </td><td>$12.79 </td><td>$13.52 </td><td>$13.54</td><td>$0.30 </td><td>$0.00</td></tr>\n",
       "\t<tr><td>SPRINGFIELD MO                </td><td>$392.65          </td><td>$135.31                  </td><td>$124.17</td><td>$40.38          </td><td>$24.44 </td><td>$29.95        </td><td>$13.76 </td><td>$15.56 </td><td>$8.76 </td><td>$0.33 </td><td>$0.00</td></tr>\n",
       "\t<tr><td>ST JOSEPH MO                  </td><td>$217.27          </td><td>$73.18                   </td><td>$89.93 </td><td>$9.42           </td><td>$7.75  </td><td>$15.60        </td><td>$4.28  </td><td>$12.65 </td><td>$4.31 </td><td>$0.14 </td><td>$0.00</td></tr>\n",
       "\t<tr><td>⋮</td><td>⋮</td><td>⋮</td><td>⋮</td><td>⋮</td><td>⋮</td><td>⋮</td><td>⋮</td><td>⋮</td><td>⋮</td><td>⋮</td><td>⋮</td></tr>\n",
       "\t<tr><td>WEST [TGA :108,941]           </td><td>$18,300  </td><td>$4,255 </td><td>$4,400 </td><td>$2,899 </td><td>$1,930 </td><td>$1,462 </td><td>$994   </td><td>$1,218 </td><td>$751   </td><td>$359  </td><td>$31   </td></tr>\n",
       "\t<tr><td>ABILENE-SWEETWATER TX         </td><td>$413.07  </td><td>$138.51</td><td>$100.87</td><td>$55.30 </td><td>$26.00 </td><td>$37.56 </td><td>$15.74 </td><td>$15.14 </td><td>$13.04 </td><td>$10.68</td><td>$0.21 </td></tr>\n",
       "\t<tr><td>ALEXANDRIA LA                 </td><td>$417.92  </td><td>$161.97</td><td>$100.89</td><td>$51.62 </td><td>$14.22 </td><td>$34.50 </td><td>$14.46 </td><td>$19.33 </td><td>$14.90 </td><td>$5.89 </td><td>$0.15 </td></tr>\n",
       "\t<tr><td>All Other Suddenlink DMA Total</td><td>$2,565.16</td><td>$336.20</td><td>$566.12</td><td>$513.24</td><td>$435.14</td><td>$168.50</td><td>$211.52</td><td>$169.32</td><td>$124.38</td><td>$25.62</td><td>$15.12</td></tr>\n",
       "\t<tr><td>AMARILLO TX                   </td><td>$605.22  </td><td>$192.39</td><td>$159.50</td><td>$65.99 </td><td>$40.81 </td><td>$52.82 </td><td>$23.27 </td><td>$27.87 </td><td>$25.04 </td><td>$17.21</td><td>$0.32 </td></tr>\n",
       "\t<tr><td>AUSTIN TX                     </td><td>$690.74  </td><td>$0.00  </td><td>$159.81</td><td>$172.22</td><td>$120.73</td><td>$50.70 </td><td>$56.61 </td><td>$93.82 </td><td>$24.38 </td><td>$11.30</td><td>$1.18 </td></tr>\n",
       "\t<tr><td>BLUEFIELD-BECKLEY-OAK HILL WV </td><td>$419.10  </td><td>$134.97</td><td>$100.67</td><td>$45.77 </td><td>$28.78 </td><td>$36.04 </td><td>$15.40 </td><td>$32.00 </td><td>$17.12 </td><td>$8.18 </td><td>$0.18 </td></tr>\n",
       "\t<tr><td>CHARLESTON-HUNTINGTON WV      </td><td>$862.00  </td><td>$213.44</td><td>$203.56</td><td>$128.91</td><td>$75.48 </td><td>$89.66 </td><td>$56.60 </td><td>$30.05 </td><td>$50.24 </td><td>$13.42</td><td>$0.65 </td></tr>\n",
       "\t<tr><td>DALLAS-FT WORTH TX            </td><td>$1,485.70</td><td>$0.00  </td><td>$354.25</td><td>$366.66</td><td>$312.32</td><td>$113.62</td><td>$137.37</td><td>$108.74</td><td>$62.89 </td><td>$25.21</td><td>$4.64 </td></tr>\n",
       "\t<tr><td>EUREKA CA                     </td><td>$276.12  </td><td>$121.69</td><td>$66.41 </td><td>$16.33 </td><td>$16.58 </td><td>$21.43 </td><td>$10.22 </td><td>$14.55 </td><td>$2.61  </td><td>$6.11 </td><td>$0.20 </td></tr>\n",
       "\t<tr><td>GREENVILLE-NEW BERN-WASH NC   </td><td>$671.04  </td><td>$180.87</td><td>$167.43</td><td>$76.37 </td><td>$63.57 </td><td>$74.24 </td><td>$37.98 </td><td>$28.97 </td><td>$28.17 </td><td>$13.04</td><td>$0.42 </td></tr>\n",
       "\t<tr><td>HOUSTON TX                    </td><td>$1,173.20</td><td>$0.00  </td><td>$274.84</td><td>$285.98</td><td>$170.31</td><td>$97.69 </td><td>$80.30 </td><td>$190.08</td><td>$50.13 </td><td>$21.31</td><td>$2.56 </td></tr>\n",
       "\t<tr><td>JONESBORO AR                  </td><td>$368.36  </td><td>$181.37</td><td>$83.10 </td><td>$18.46 </td><td>$14.10 </td><td>$22.31 </td><td>$7.93  </td><td>$21.09 </td><td>$12.73 </td><td>$7.23 </td><td>$0.06 </td></tr>\n",
       "\t<tr><td>LAKE CHARLES LA               </td><td>$525.50  </td><td>$211.93</td><td>$121.77</td><td>$56.01 </td><td>$25.43 </td><td>$42.91 </td><td>$14.40 </td><td>$26.60 </td><td>$16.27 </td><td>$9.98 </td><td>$0.20 </td></tr>\n",
       "\t<tr><td>LITTLE ROCK AR                </td><td>$735.33  </td><td>$168.81</td><td>$178.01</td><td>$153.33</td><td>$60.08 </td><td>$52.16 </td><td>$36.81 </td><td>$34.07 </td><td>$34.93 </td><td>$16.56</td><td>$0.56 </td></tr>\n",
       "\t<tr><td>LUBBOCK TX                    </td><td>$639.48  </td><td>$177.57</td><td>$169.47</td><td>$83.42 </td><td>$47.86 </td><td>$59.63 </td><td>$23.30 </td><td>$29.20 </td><td>$33.20 </td><td>$15.45</td><td>$0.38 </td></tr>\n",
       "\t<tr><td>MONROE-EL DORADO LA-AR        </td><td>$292.66  </td><td>$119.50</td><td>$72.86 </td><td>$34.70 </td><td>$11.78 </td><td>$18.74 </td><td>$8.40  </td><td>$10.59 </td><td>$10.74 </td><td>$5.25 </td><td>$0.11 </td></tr>\n",
       "\t<tr><td>ODESSA-MIDLAND TX             </td><td>$733.86  </td><td>$309.42</td><td>$170.77</td><td>$91.23 </td><td>$35.09 </td><td>$41.85 </td><td>$21.43 </td><td>$27.78 </td><td>$21.44 </td><td>$14.50</td><td>$0.36 </td></tr>\n",
       "\t<tr><td>OKLAHOMA CITY OK              </td><td>$419.17  </td><td>$36.17 </td><td>$118.15</td><td>$58.82 </td><td>$42.82 </td><td>$40.32 </td><td>$26.89 </td><td>$60.17 </td><td>$21.63 </td><td>$13.91</td><td>$0.28 </td></tr>\n",
       "\t<tr><td>PARKERSBURG WV                </td><td>$368.59  </td><td>$179.23</td><td>$89.57 </td><td>$19.28 </td><td>$20.22 </td><td>$22.01 </td><td>$10.64 </td><td>$9.68  </td><td>$9.52  </td><td>$8.30 </td><td>$0.15 </td></tr>\n",
       "\t<tr><td>PHOENIX AZ                    </td><td>$495.65  </td><td>$0.00  </td><td>$150.88</td><td>$84.35 </td><td>$89.14 </td><td>$64.15 </td><td>$31.62 </td><td>$33.13 </td><td>$21.48 </td><td>$20.36</td><td>$0.55 </td></tr>\n",
       "\t<tr><td>RALEIGH-DURHAM NC             </td><td>$231.14  </td><td>$0.00  </td><td>$65.14 </td><td>$46.39 </td><td>$35.72 </td><td>$32.95 </td><td>$19.42 </td><td>$5.67  </td><td>$13.27 </td><td>$12.26</td><td>$0.32 </td></tr>\n",
       "\t<tr><td>SAN ANGELO TX                 </td><td>$385.63  </td><td>$180.24</td><td>$88.77 </td><td>$18.82 </td><td>$20.53 </td><td>$26.58 </td><td>$9.27  </td><td>$19.86 </td><td>$11.54 </td><td>$9.89 </td><td>$0.13 </td></tr>\n",
       "\t<tr><td>SHREVEPORT LA                 </td><td>$500.63  </td><td>$153.40</td><td>$122.22</td><td>$85.01 </td><td>$26.10 </td><td>$40.54 </td><td>$21.22 </td><td>$20.84 </td><td>$23.38 </td><td>$7.60 </td><td>$0.30 </td></tr>\n",
       "\t<tr><td>SPRINGFIELD MO                </td><td>$564.90  </td><td>$206.81</td><td>$135.31</td><td>$74.98 </td><td>$40.55 </td><td>$29.95 </td><td>$22.83 </td><td>$24.02 </td><td>$14.92 </td><td>$15.19</td><td>$0.33 </td></tr>\n",
       "\t<tr><td>ST JOSEPH MO                  </td><td>$312.39  </td><td>$152.69</td><td>$73.18 </td><td>$15.82 </td><td>$12.87 </td><td>$15.60 </td><td>$6.07  </td><td>$20.99 </td><td>$8.00  </td><td>$7.03 </td><td>$0.14 </td></tr>\n",
       "\t<tr><td>TULSA OK                      </td><td>$202.33  </td><td>$20.61 </td><td>$55.27 </td><td>$30.03 </td><td>$15.21 </td><td>$22.40 </td><td>$7.54  </td><td>$33.70 </td><td>$8.45  </td><td>$9.03 </td><td>$0.10 </td></tr>\n",
       "\t<tr><td>TYLER-LONGVIEW TX             </td><td>$1,018.58</td><td>$290.66</td><td>$241.37</td><td>$162.79</td><td>$69.29 </td><td>$90.00 </td><td>$38.60 </td><td>$62.79 </td><td>$47.17 </td><td>$15.20</td><td>$0.71 </td></tr>\n",
       "\t<tr><td>VICTORIA TX                   </td><td>$315.35  </td><td>$161.84</td><td>$69.01 </td><td>$16.98 </td><td>$9.45  </td><td>$15.50 </td><td>$4.83  </td><td>$26.40 </td><td>$6.56  </td><td>$4.67 </td><td>$0.11 </td></tr>\n",
       "\t<tr><td>WACO-TEMPLE-BRYAN TX          </td><td>$611.17  </td><td>$225.08</td><td>$140.81</td><td>$70.23 </td><td>$50.01 </td><td>$47.32 </td><td>$23.44 </td><td>$21.82 </td><td>$23.24 </td><td>$8.77 </td><td>$0.45 </td></tr>\n",
       "</tbody>\n",
       "</table>\n"
      ],
      "text/latex": [
       "A data.frame: 544 × 12\n",
       "\\begin{tabular}{llllllllllll}\n",
       " X1 & X2 & X3 & X4 & X5 & X6 & X7 & X8 & X9 & X10 & X11 & X12\\\\\n",
       " <chr> & <chr> & <chr> & <chr> & <chr> & <chr> & <chr> & <chr> & <chr> & <chr> & <chr> & <chr>\\\\\n",
       "\\hline\n",
       "\t 1                              & NA                & NA                        & NA      & NA               & NA      & NA             & NA      & NA      & NA     & NA     & NA   \\\\\n",
       "\t Footprint                      & Spend \\$(000) {[}Q2{]} & Direct Mail {[}Constrained{]} & TV      & Search Unbranded & Display & Search Branded & Video   & Radio   & Social & Audio  & Print\\\\\n",
       "\t USA {[}TGA :198,339{]}             & \\$33,800           & \\$10,700                   & \\$9,510  & \\$3,311           & \\$2,960  & \\$2,933         & \\$1,790  & \\$1,408  & \\$1,098 & \\$91    & \\$0   \\\\\n",
       "\t EAST {[}TGA :105,464{]}            & \\$21,000           & \\$6,300                    & \\$6,922  & \\$1,701           & \\$1,874  & \\$1,613         & \\$1,187  & \\$675    & \\$667   & \\$61    & \\$0   \\\\\n",
       "\t WEST {[}TGA : 92,875{]}            & \\$12,800           & \\$4,400                    & \\$2,588  & \\$1,609           & \\$1,086  & \\$1,320         & \\$603    & \\$733    & \\$431   & \\$30    & \\$0   \\\\\n",
       "\t ABILENE-SWEETWATER TX          & \\$288.09           & \\$100.87                   & \\$76.62  & \\$29.88           & \\$15.67  & \\$37.56         & \\$9.49   & \\$9.92   & \\$7.86  & \\$0.21  & \\$0.00\\\\\n",
       "\t ALEXANDRIA LA                  & \\$293.75           & \\$100.89                   & \\$107.18 & \\$28.20           & \\$9.41   & \\$18.58         & \\$8.71   & \\$11.65  & \\$8.98  & \\$0.15  & \\$0.00\\\\\n",
       "\t All Other Suddenlink DMA Total & \\$1,788.57         & \\$566.12                   & \\$307.56 & \\$276.36          & \\$234.31 & \\$90.73         & \\$127.47 & \\$102.04 & \\$69.11 & \\$14.87 & \\$0.00\\\\\n",
       "\t AMARILLO TX                    & \\$425.70           & \\$159.50                   & \\$106.77 & \\$35.53           & \\$24.59  & \\$52.82         & \\$14.02  & \\$17.92  & \\$14.23 & \\$0.32  & \\$0.00\\\\\n",
       "\t AUSTIN TX                      & \\$481.99           & \\$159.81                   & \\$0.00   & \\$102.68          & \\$65.01  & \\$50.70         & \\$34.12  & \\$52.77  & \\$15.74 & \\$1.18  & \\$0.00\\\\\n",
       "\t BLUEFIELD-BECKLEY-OAK HILL WV  & \\$293.13           & \\$100.67                   & \\$75.96  & \\$24.64           & \\$17.02  & \\$36.04         & \\$10.12  & \\$19.28  & \\$9.22  & \\$0.17  & \\$0.00\\\\\n",
       "\t CHARLESTON-HUNTINGTON WV       & \\$603.46           & \\$203.56                   & \\$114.93 & \\$69.41           & \\$45.49  & \\$89.66         & \\$32.96  & \\$19.73  & \\$27.05 & \\$0.65  & \\$0.00\\\\\n",
       "\t DALLAS-FT WORTH TX             & \\$1,040.23         & \\$354.25                   & \\$0.00   & \\$215.99          & \\$168.17 & \\$113.62        & \\$78.74  & \\$67.67  & \\$37.90 & \\$3.89  & \\$0.00\\\\\n",
       "\t EUREKA CA                      & \\$192.76           & \\$66.41                    & \\$68.71  & \\$9.01            & \\$9.99   & \\$21.43         & \\$6.16   & \\$8.77   & \\$2.09  & \\$0.20  & \\$0.00\\\\\n",
       "\t GREENVILLE-NEW BERN-WASH NC    & \\$471.76           & \\$167.43                   & \\$97.39  & \\$41.12           & \\$35.34  & \\$71.47         & \\$22.89  & \\$18.72  & \\$16.97 & \\$0.42  & \\$0.00\\\\\n",
       "\t HOUSTON TX                     & \\$818.79           & \\$274.84                   & \\$0.00   & \\$165.20          & \\$91.71  & \\$97.69         & \\$49.94  & \\$106.64 & \\$30.21 & \\$2.56  & \\$0.00\\\\\n",
       "\t JONESBORO AR                   & \\$255.57           & \\$83.10                    & \\$105.21 & \\$11.12           & \\$8.50   & \\$22.31         & \\$5.57   & \\$12.71  & \\$6.99  & \\$0.06  & \\$0.00\\\\\n",
       "\t LAKE CHARLES LA                & \\$366.00           & \\$121.77                   & \\$139.39 & \\$30.62           & \\$15.32  & \\$23.11         & \\$9.75   & \\$16.03  & \\$9.81  & \\$0.20  & \\$0.00\\\\\n",
       "\t LITTLE ROCK AR                 & \\$513.61           & \\$178.01                   & \\$101.56 & \\$82.56           & \\$35.87  & \\$52.16         & \\$22.18  & \\$21.89  & \\$18.81 & \\$0.56  & \\$0.00\\\\\n",
       "\t LUBBOCK TX                     & \\$451.68           & \\$169.47                   & \\$97.30  & \\$44.92           & \\$28.84  & \\$59.63         & \\$14.04  & \\$18.78  & \\$18.32 & \\$0.38  & \\$0.00\\\\\n",
       "\t MONROE-EL DORADO LA-AR         & \\$205.93           & \\$72.86                    & \\$69.47  & \\$19.15           & \\$7.10   & \\$18.74         & \\$5.06   & \\$6.96   & \\$6.47  & \\$0.11  & \\$0.00\\\\\n",
       "\t ODESSA-MIDLAND TX              & \\$511.08           & \\$170.77                   & \\$182.52 & \\$50.40           & \\$21.14  & \\$41.85         & \\$12.91  & \\$18.20  & \\$12.92 & \\$0.36  & \\$0.00\\\\\n",
       "\t OKLAHOMA CITY OK               & \\$296.67           & \\$118.15                   & \\$19.47  & \\$31.67           & \\$25.81  & \\$40.19         & \\$16.94  & \\$32.51  & \\$11.65 & \\$0.28  & \\$0.00\\\\\n",
       "\t PARKERSBURG WV                 & \\$257.58           & \\$89.57                    & \\$113.90 & \\$11.62           & \\$12.18  & \\$11.85         & \\$6.41   & \\$6.57   & \\$5.33  & \\$0.15  & \\$0.00\\\\\n",
       "\t PHOENIX AZ                     & \\$352.90           & \\$150.88                   & \\$0.00   & \\$45.42           & \\$48.00  & \\$55.45         & \\$19.05  & \\$20.70  & \\$12.85 & \\$0.55  & \\$0.00\\\\\n",
       "\t RALEIGH-DURHAM NC              & \\$161.05           & \\$65.14                    & \\$0.00   & \\$24.98           & \\$19.50  & \\$27.67         & \\$11.70  & \\$3.75   & \\$8.00  & \\$0.32  & \\$0.00\\\\\n",
       "\t SAN ANGELO TX                  & \\$266.94           & \\$88.77                    & \\$103.22 & \\$11.30           & \\$12.37  & \\$26.58         & \\$6.38   & \\$11.97  & \\$6.21  & \\$0.13  & \\$0.00\\\\\n",
       "\t SHREVEPORT LA                  & \\$352.10           & \\$122.22                   & \\$87.68  & \\$45.78           & \\$15.73  & \\$40.54         & \\$12.79  & \\$13.52  & \\$13.54 & \\$0.30  & \\$0.00\\\\\n",
       "\t SPRINGFIELD MO                 & \\$392.65           & \\$135.31                   & \\$124.17 & \\$40.38           & \\$24.44  & \\$29.95         & \\$13.76  & \\$15.56  & \\$8.76  & \\$0.33  & \\$0.00\\\\\n",
       "\t ST JOSEPH MO                   & \\$217.27           & \\$73.18                    & \\$89.93  & \\$9.42            & \\$7.75   & \\$15.60         & \\$4.28   & \\$12.65  & \\$4.31  & \\$0.14  & \\$0.00\\\\\n",
       "\t ⋮ & ⋮ & ⋮ & ⋮ & ⋮ & ⋮ & ⋮ & ⋮ & ⋮ & ⋮ & ⋮ & ⋮\\\\\n",
       "\t WEST {[}TGA :108,941{]}            & \\$18,300   & \\$4,255  & \\$4,400  & \\$2,899  & \\$1,930  & \\$1,462  & \\$994    & \\$1,218  & \\$751    & \\$359   & \\$31   \\\\\n",
       "\t ABILENE-SWEETWATER TX          & \\$413.07   & \\$138.51 & \\$100.87 & \\$55.30  & \\$26.00  & \\$37.56  & \\$15.74  & \\$15.14  & \\$13.04  & \\$10.68 & \\$0.21 \\\\\n",
       "\t ALEXANDRIA LA                  & \\$417.92   & \\$161.97 & \\$100.89 & \\$51.62  & \\$14.22  & \\$34.50  & \\$14.46  & \\$19.33  & \\$14.90  & \\$5.89  & \\$0.15 \\\\\n",
       "\t All Other Suddenlink DMA Total & \\$2,565.16 & \\$336.20 & \\$566.12 & \\$513.24 & \\$435.14 & \\$168.50 & \\$211.52 & \\$169.32 & \\$124.38 & \\$25.62 & \\$15.12\\\\\n",
       "\t AMARILLO TX                    & \\$605.22   & \\$192.39 & \\$159.50 & \\$65.99  & \\$40.81  & \\$52.82  & \\$23.27  & \\$27.87  & \\$25.04  & \\$17.21 & \\$0.32 \\\\\n",
       "\t AUSTIN TX                      & \\$690.74   & \\$0.00   & \\$159.81 & \\$172.22 & \\$120.73 & \\$50.70  & \\$56.61  & \\$93.82  & \\$24.38  & \\$11.30 & \\$1.18 \\\\\n",
       "\t BLUEFIELD-BECKLEY-OAK HILL WV  & \\$419.10   & \\$134.97 & \\$100.67 & \\$45.77  & \\$28.78  & \\$36.04  & \\$15.40  & \\$32.00  & \\$17.12  & \\$8.18  & \\$0.18 \\\\\n",
       "\t CHARLESTON-HUNTINGTON WV       & \\$862.00   & \\$213.44 & \\$203.56 & \\$128.91 & \\$75.48  & \\$89.66  & \\$56.60  & \\$30.05  & \\$50.24  & \\$13.42 & \\$0.65 \\\\\n",
       "\t DALLAS-FT WORTH TX             & \\$1,485.70 & \\$0.00   & \\$354.25 & \\$366.66 & \\$312.32 & \\$113.62 & \\$137.37 & \\$108.74 & \\$62.89  & \\$25.21 & \\$4.64 \\\\\n",
       "\t EUREKA CA                      & \\$276.12   & \\$121.69 & \\$66.41  & \\$16.33  & \\$16.58  & \\$21.43  & \\$10.22  & \\$14.55  & \\$2.61   & \\$6.11  & \\$0.20 \\\\\n",
       "\t GREENVILLE-NEW BERN-WASH NC    & \\$671.04   & \\$180.87 & \\$167.43 & \\$76.37  & \\$63.57  & \\$74.24  & \\$37.98  & \\$28.97  & \\$28.17  & \\$13.04 & \\$0.42 \\\\\n",
       "\t HOUSTON TX                     & \\$1,173.20 & \\$0.00   & \\$274.84 & \\$285.98 & \\$170.31 & \\$97.69  & \\$80.30  & \\$190.08 & \\$50.13  & \\$21.31 & \\$2.56 \\\\\n",
       "\t JONESBORO AR                   & \\$368.36   & \\$181.37 & \\$83.10  & \\$18.46  & \\$14.10  & \\$22.31  & \\$7.93   & \\$21.09  & \\$12.73  & \\$7.23  & \\$0.06 \\\\\n",
       "\t LAKE CHARLES LA                & \\$525.50   & \\$211.93 & \\$121.77 & \\$56.01  & \\$25.43  & \\$42.91  & \\$14.40  & \\$26.60  & \\$16.27  & \\$9.98  & \\$0.20 \\\\\n",
       "\t LITTLE ROCK AR                 & \\$735.33   & \\$168.81 & \\$178.01 & \\$153.33 & \\$60.08  & \\$52.16  & \\$36.81  & \\$34.07  & \\$34.93  & \\$16.56 & \\$0.56 \\\\\n",
       "\t LUBBOCK TX                     & \\$639.48   & \\$177.57 & \\$169.47 & \\$83.42  & \\$47.86  & \\$59.63  & \\$23.30  & \\$29.20  & \\$33.20  & \\$15.45 & \\$0.38 \\\\\n",
       "\t MONROE-EL DORADO LA-AR         & \\$292.66   & \\$119.50 & \\$72.86  & \\$34.70  & \\$11.78  & \\$18.74  & \\$8.40   & \\$10.59  & \\$10.74  & \\$5.25  & \\$0.11 \\\\\n",
       "\t ODESSA-MIDLAND TX              & \\$733.86   & \\$309.42 & \\$170.77 & \\$91.23  & \\$35.09  & \\$41.85  & \\$21.43  & \\$27.78  & \\$21.44  & \\$14.50 & \\$0.36 \\\\\n",
       "\t OKLAHOMA CITY OK               & \\$419.17   & \\$36.17  & \\$118.15 & \\$58.82  & \\$42.82  & \\$40.32  & \\$26.89  & \\$60.17  & \\$21.63  & \\$13.91 & \\$0.28 \\\\\n",
       "\t PARKERSBURG WV                 & \\$368.59   & \\$179.23 & \\$89.57  & \\$19.28  & \\$20.22  & \\$22.01  & \\$10.64  & \\$9.68   & \\$9.52   & \\$8.30  & \\$0.15 \\\\\n",
       "\t PHOENIX AZ                     & \\$495.65   & \\$0.00   & \\$150.88 & \\$84.35  & \\$89.14  & \\$64.15  & \\$31.62  & \\$33.13  & \\$21.48  & \\$20.36 & \\$0.55 \\\\\n",
       "\t RALEIGH-DURHAM NC              & \\$231.14   & \\$0.00   & \\$65.14  & \\$46.39  & \\$35.72  & \\$32.95  & \\$19.42  & \\$5.67   & \\$13.27  & \\$12.26 & \\$0.32 \\\\\n",
       "\t SAN ANGELO TX                  & \\$385.63   & \\$180.24 & \\$88.77  & \\$18.82  & \\$20.53  & \\$26.58  & \\$9.27   & \\$19.86  & \\$11.54  & \\$9.89  & \\$0.13 \\\\\n",
       "\t SHREVEPORT LA                  & \\$500.63   & \\$153.40 & \\$122.22 & \\$85.01  & \\$26.10  & \\$40.54  & \\$21.22  & \\$20.84  & \\$23.38  & \\$7.60  & \\$0.30 \\\\\n",
       "\t SPRINGFIELD MO                 & \\$564.90   & \\$206.81 & \\$135.31 & \\$74.98  & \\$40.55  & \\$29.95  & \\$22.83  & \\$24.02  & \\$14.92  & \\$15.19 & \\$0.33 \\\\\n",
       "\t ST JOSEPH MO                   & \\$312.39   & \\$152.69 & \\$73.18  & \\$15.82  & \\$12.87  & \\$15.60  & \\$6.07   & \\$20.99  & \\$8.00   & \\$7.03  & \\$0.14 \\\\\n",
       "\t TULSA OK                       & \\$202.33   & \\$20.61  & \\$55.27  & \\$30.03  & \\$15.21  & \\$22.40  & \\$7.54   & \\$33.70  & \\$8.45   & \\$9.03  & \\$0.10 \\\\\n",
       "\t TYLER-LONGVIEW TX              & \\$1,018.58 & \\$290.66 & \\$241.37 & \\$162.79 & \\$69.29  & \\$90.00  & \\$38.60  & \\$62.79  & \\$47.17  & \\$15.20 & \\$0.71 \\\\\n",
       "\t VICTORIA TX                    & \\$315.35   & \\$161.84 & \\$69.01  & \\$16.98  & \\$9.45   & \\$15.50  & \\$4.83   & \\$26.40  & \\$6.56   & \\$4.67  & \\$0.11 \\\\\n",
       "\t WACO-TEMPLE-BRYAN TX           & \\$611.17   & \\$225.08 & \\$140.81 & \\$70.23  & \\$50.01  & \\$47.32  & \\$23.44  & \\$21.82  & \\$23.24  & \\$8.77  & \\$0.45 \\\\\n",
       "\\end{tabular}\n"
      ],
      "text/markdown": [
       "\n",
       "A data.frame: 544 × 12\n",
       "\n",
       "| X1 &lt;chr&gt; | X2 &lt;chr&gt; | X3 &lt;chr&gt; | X4 &lt;chr&gt; | X5 &lt;chr&gt; | X6 &lt;chr&gt; | X7 &lt;chr&gt; | X8 &lt;chr&gt; | X9 &lt;chr&gt; | X10 &lt;chr&gt; | X11 &lt;chr&gt; | X12 &lt;chr&gt; |\n",
       "|---|---|---|---|---|---|---|---|---|---|---|---|\n",
       "| 1                              | NA                | NA                        | NA      | NA               | NA      | NA             | NA      | NA      | NA     | NA     | NA    |\n",
       "| Footprint                      | Spend $(000) [Q2] | Direct Mail [Constrained] | TV      | Search Unbranded | Display | Search Branded | Video   | Radio   | Social | Audio  | Print |\n",
       "| USA [TGA :198,339]             | $33,800           | $10,700                   | $9,510  | $3,311           | $2,960  | $2,933         | $1,790  | $1,408  | $1,098 | $91    | $0    |\n",
       "| EAST [TGA :105,464]            | $21,000           | $6,300                    | $6,922  | $1,701           | $1,874  | $1,613         | $1,187  | $675    | $667   | $61    | $0    |\n",
       "| WEST [TGA : 92,875]            | $12,800           | $4,400                    | $2,588  | $1,609           | $1,086  | $1,320         | $603    | $733    | $431   | $30    | $0    |\n",
       "| ABILENE-SWEETWATER TX          | $288.09           | $100.87                   | $76.62  | $29.88           | $15.67  | $37.56         | $9.49   | $9.92   | $7.86  | $0.21  | $0.00 |\n",
       "| ALEXANDRIA LA                  | $293.75           | $100.89                   | $107.18 | $28.20           | $9.41   | $18.58         | $8.71   | $11.65  | $8.98  | $0.15  | $0.00 |\n",
       "| All Other Suddenlink DMA Total | $1,788.57         | $566.12                   | $307.56 | $276.36          | $234.31 | $90.73         | $127.47 | $102.04 | $69.11 | $14.87 | $0.00 |\n",
       "| AMARILLO TX                    | $425.70           | $159.50                   | $106.77 | $35.53           | $24.59  | $52.82         | $14.02  | $17.92  | $14.23 | $0.32  | $0.00 |\n",
       "| AUSTIN TX                      | $481.99           | $159.81                   | $0.00   | $102.68          | $65.01  | $50.70         | $34.12  | $52.77  | $15.74 | $1.18  | $0.00 |\n",
       "| BLUEFIELD-BECKLEY-OAK HILL WV  | $293.13           | $100.67                   | $75.96  | $24.64           | $17.02  | $36.04         | $10.12  | $19.28  | $9.22  | $0.17  | $0.00 |\n",
       "| CHARLESTON-HUNTINGTON WV       | $603.46           | $203.56                   | $114.93 | $69.41           | $45.49  | $89.66         | $32.96  | $19.73  | $27.05 | $0.65  | $0.00 |\n",
       "| DALLAS-FT WORTH TX             | $1,040.23         | $354.25                   | $0.00   | $215.99          | $168.17 | $113.62        | $78.74  | $67.67  | $37.90 | $3.89  | $0.00 |\n",
       "| EUREKA CA                      | $192.76           | $66.41                    | $68.71  | $9.01            | $9.99   | $21.43         | $6.16   | $8.77   | $2.09  | $0.20  | $0.00 |\n",
       "| GREENVILLE-NEW BERN-WASH NC    | $471.76           | $167.43                   | $97.39  | $41.12           | $35.34  | $71.47         | $22.89  | $18.72  | $16.97 | $0.42  | $0.00 |\n",
       "| HOUSTON TX                     | $818.79           | $274.84                   | $0.00   | $165.20          | $91.71  | $97.69         | $49.94  | $106.64 | $30.21 | $2.56  | $0.00 |\n",
       "| JONESBORO AR                   | $255.57           | $83.10                    | $105.21 | $11.12           | $8.50   | $22.31         | $5.57   | $12.71  | $6.99  | $0.06  | $0.00 |\n",
       "| LAKE CHARLES LA                | $366.00           | $121.77                   | $139.39 | $30.62           | $15.32  | $23.11         | $9.75   | $16.03  | $9.81  | $0.20  | $0.00 |\n",
       "| LITTLE ROCK AR                 | $513.61           | $178.01                   | $101.56 | $82.56           | $35.87  | $52.16         | $22.18  | $21.89  | $18.81 | $0.56  | $0.00 |\n",
       "| LUBBOCK TX                     | $451.68           | $169.47                   | $97.30  | $44.92           | $28.84  | $59.63         | $14.04  | $18.78  | $18.32 | $0.38  | $0.00 |\n",
       "| MONROE-EL DORADO LA-AR         | $205.93           | $72.86                    | $69.47  | $19.15           | $7.10   | $18.74         | $5.06   | $6.96   | $6.47  | $0.11  | $0.00 |\n",
       "| ODESSA-MIDLAND TX              | $511.08           | $170.77                   | $182.52 | $50.40           | $21.14  | $41.85         | $12.91  | $18.20  | $12.92 | $0.36  | $0.00 |\n",
       "| OKLAHOMA CITY OK               | $296.67           | $118.15                   | $19.47  | $31.67           | $25.81  | $40.19         | $16.94  | $32.51  | $11.65 | $0.28  | $0.00 |\n",
       "| PARKERSBURG WV                 | $257.58           | $89.57                    | $113.90 | $11.62           | $12.18  | $11.85         | $6.41   | $6.57   | $5.33  | $0.15  | $0.00 |\n",
       "| PHOENIX AZ                     | $352.90           | $150.88                   | $0.00   | $45.42           | $48.00  | $55.45         | $19.05  | $20.70  | $12.85 | $0.55  | $0.00 |\n",
       "| RALEIGH-DURHAM NC              | $161.05           | $65.14                    | $0.00   | $24.98           | $19.50  | $27.67         | $11.70  | $3.75   | $8.00  | $0.32  | $0.00 |\n",
       "| SAN ANGELO TX                  | $266.94           | $88.77                    | $103.22 | $11.30           | $12.37  | $26.58         | $6.38   | $11.97  | $6.21  | $0.13  | $0.00 |\n",
       "| SHREVEPORT LA                  | $352.10           | $122.22                   | $87.68  | $45.78           | $15.73  | $40.54         | $12.79  | $13.52  | $13.54 | $0.30  | $0.00 |\n",
       "| SPRINGFIELD MO                 | $392.65           | $135.31                   | $124.17 | $40.38           | $24.44  | $29.95         | $13.76  | $15.56  | $8.76  | $0.33  | $0.00 |\n",
       "| ST JOSEPH MO                   | $217.27           | $73.18                    | $89.93  | $9.42            | $7.75   | $15.60         | $4.28   | $12.65  | $4.31  | $0.14  | $0.00 |\n",
       "| ⋮ | ⋮ | ⋮ | ⋮ | ⋮ | ⋮ | ⋮ | ⋮ | ⋮ | ⋮ | ⋮ | ⋮ |\n",
       "| WEST [TGA :108,941]            | $18,300   | $4,255  | $4,400  | $2,899  | $1,930  | $1,462  | $994    | $1,218  | $751    | $359   | $31    |\n",
       "| ABILENE-SWEETWATER TX          | $413.07   | $138.51 | $100.87 | $55.30  | $26.00  | $37.56  | $15.74  | $15.14  | $13.04  | $10.68 | $0.21  |\n",
       "| ALEXANDRIA LA                  | $417.92   | $161.97 | $100.89 | $51.62  | $14.22  | $34.50  | $14.46  | $19.33  | $14.90  | $5.89  | $0.15  |\n",
       "| All Other Suddenlink DMA Total | $2,565.16 | $336.20 | $566.12 | $513.24 | $435.14 | $168.50 | $211.52 | $169.32 | $124.38 | $25.62 | $15.12 |\n",
       "| AMARILLO TX                    | $605.22   | $192.39 | $159.50 | $65.99  | $40.81  | $52.82  | $23.27  | $27.87  | $25.04  | $17.21 | $0.32  |\n",
       "| AUSTIN TX                      | $690.74   | $0.00   | $159.81 | $172.22 | $120.73 | $50.70  | $56.61  | $93.82  | $24.38  | $11.30 | $1.18  |\n",
       "| BLUEFIELD-BECKLEY-OAK HILL WV  | $419.10   | $134.97 | $100.67 | $45.77  | $28.78  | $36.04  | $15.40  | $32.00  | $17.12  | $8.18  | $0.18  |\n",
       "| CHARLESTON-HUNTINGTON WV       | $862.00   | $213.44 | $203.56 | $128.91 | $75.48  | $89.66  | $56.60  | $30.05  | $50.24  | $13.42 | $0.65  |\n",
       "| DALLAS-FT WORTH TX             | $1,485.70 | $0.00   | $354.25 | $366.66 | $312.32 | $113.62 | $137.37 | $108.74 | $62.89  | $25.21 | $4.64  |\n",
       "| EUREKA CA                      | $276.12   | $121.69 | $66.41  | $16.33  | $16.58  | $21.43  | $10.22  | $14.55  | $2.61   | $6.11  | $0.20  |\n",
       "| GREENVILLE-NEW BERN-WASH NC    | $671.04   | $180.87 | $167.43 | $76.37  | $63.57  | $74.24  | $37.98  | $28.97  | $28.17  | $13.04 | $0.42  |\n",
       "| HOUSTON TX                     | $1,173.20 | $0.00   | $274.84 | $285.98 | $170.31 | $97.69  | $80.30  | $190.08 | $50.13  | $21.31 | $2.56  |\n",
       "| JONESBORO AR                   | $368.36   | $181.37 | $83.10  | $18.46  | $14.10  | $22.31  | $7.93   | $21.09  | $12.73  | $7.23  | $0.06  |\n",
       "| LAKE CHARLES LA                | $525.50   | $211.93 | $121.77 | $56.01  | $25.43  | $42.91  | $14.40  | $26.60  | $16.27  | $9.98  | $0.20  |\n",
       "| LITTLE ROCK AR                 | $735.33   | $168.81 | $178.01 | $153.33 | $60.08  | $52.16  | $36.81  | $34.07  | $34.93  | $16.56 | $0.56  |\n",
       "| LUBBOCK TX                     | $639.48   | $177.57 | $169.47 | $83.42  | $47.86  | $59.63  | $23.30  | $29.20  | $33.20  | $15.45 | $0.38  |\n",
       "| MONROE-EL DORADO LA-AR         | $292.66   | $119.50 | $72.86  | $34.70  | $11.78  | $18.74  | $8.40   | $10.59  | $10.74  | $5.25  | $0.11  |\n",
       "| ODESSA-MIDLAND TX              | $733.86   | $309.42 | $170.77 | $91.23  | $35.09  | $41.85  | $21.43  | $27.78  | $21.44  | $14.50 | $0.36  |\n",
       "| OKLAHOMA CITY OK               | $419.17   | $36.17  | $118.15 | $58.82  | $42.82  | $40.32  | $26.89  | $60.17  | $21.63  | $13.91 | $0.28  |\n",
       "| PARKERSBURG WV                 | $368.59   | $179.23 | $89.57  | $19.28  | $20.22  | $22.01  | $10.64  | $9.68   | $9.52   | $8.30  | $0.15  |\n",
       "| PHOENIX AZ                     | $495.65   | $0.00   | $150.88 | $84.35  | $89.14  | $64.15  | $31.62  | $33.13  | $21.48  | $20.36 | $0.55  |\n",
       "| RALEIGH-DURHAM NC              | $231.14   | $0.00   | $65.14  | $46.39  | $35.72  | $32.95  | $19.42  | $5.67   | $13.27  | $12.26 | $0.32  |\n",
       "| SAN ANGELO TX                  | $385.63   | $180.24 | $88.77  | $18.82  | $20.53  | $26.58  | $9.27   | $19.86  | $11.54  | $9.89  | $0.13  |\n",
       "| SHREVEPORT LA                  | $500.63   | $153.40 | $122.22 | $85.01  | $26.10  | $40.54  | $21.22  | $20.84  | $23.38  | $7.60  | $0.30  |\n",
       "| SPRINGFIELD MO                 | $564.90   | $206.81 | $135.31 | $74.98  | $40.55  | $29.95  | $22.83  | $24.02  | $14.92  | $15.19 | $0.33  |\n",
       "| ST JOSEPH MO                   | $312.39   | $152.69 | $73.18  | $15.82  | $12.87  | $15.60  | $6.07   | $20.99  | $8.00   | $7.03  | $0.14  |\n",
       "| TULSA OK                       | $202.33   | $20.61  | $55.27  | $30.03  | $15.21  | $22.40  | $7.54   | $33.70  | $8.45   | $9.03  | $0.10  |\n",
       "| TYLER-LONGVIEW TX              | $1,018.58 | $290.66 | $241.37 | $162.79 | $69.29  | $90.00  | $38.60  | $62.79  | $47.17  | $15.20 | $0.71  |\n",
       "| VICTORIA TX                    | $315.35   | $161.84 | $69.01  | $16.98  | $9.45   | $15.50  | $4.83   | $26.40  | $6.56   | $4.67  | $0.11  |\n",
       "| WACO-TEMPLE-BRYAN TX           | $611.17   | $225.08 | $140.81 | $70.23  | $50.01  | $47.32  | $23.44  | $21.82  | $23.24  | $8.77  | $0.45  |\n",
       "\n"
      ],
      "text/plain": [
       "    X1                             X2                X3                       \n",
       "1   1                              NA                NA                       \n",
       "2   Footprint                      Spend $(000) [Q2] Direct Mail [Constrained]\n",
       "3   USA [TGA :198,339]             $33,800           $10,700                  \n",
       "4   EAST [TGA :105,464]            $21,000           $6,300                   \n",
       "5   WEST [TGA : 92,875]            $12,800           $4,400                   \n",
       "6   ABILENE-SWEETWATER TX          $288.09           $100.87                  \n",
       "7   ALEXANDRIA LA                  $293.75           $100.89                  \n",
       "8   All Other Suddenlink DMA Total $1,788.57         $566.12                  \n",
       "9   AMARILLO TX                    $425.70           $159.50                  \n",
       "10  AUSTIN TX                      $481.99           $159.81                  \n",
       "11  BLUEFIELD-BECKLEY-OAK HILL WV  $293.13           $100.67                  \n",
       "12  CHARLESTON-HUNTINGTON WV       $603.46           $203.56                  \n",
       "13  DALLAS-FT WORTH TX             $1,040.23         $354.25                  \n",
       "14  EUREKA CA                      $192.76           $66.41                   \n",
       "15  GREENVILLE-NEW BERN-WASH NC    $471.76           $167.43                  \n",
       "16  HOUSTON TX                     $818.79           $274.84                  \n",
       "17  JONESBORO AR                   $255.57           $83.10                   \n",
       "18  LAKE CHARLES LA                $366.00           $121.77                  \n",
       "19  LITTLE ROCK AR                 $513.61           $178.01                  \n",
       "20  LUBBOCK TX                     $451.68           $169.47                  \n",
       "21  MONROE-EL DORADO LA-AR         $205.93           $72.86                   \n",
       "22  ODESSA-MIDLAND TX              $511.08           $170.77                  \n",
       "23  OKLAHOMA CITY OK               $296.67           $118.15                  \n",
       "24  PARKERSBURG WV                 $257.58           $89.57                   \n",
       "25  PHOENIX AZ                     $352.90           $150.88                  \n",
       "26  RALEIGH-DURHAM NC              $161.05           $65.14                   \n",
       "27  SAN ANGELO TX                  $266.94           $88.77                   \n",
       "28  SHREVEPORT LA                  $352.10           $122.22                  \n",
       "29  SPRINGFIELD MO                 $392.65           $135.31                  \n",
       "30  ST JOSEPH MO                   $217.27           $73.18                   \n",
       "⋮   ⋮                              ⋮                 ⋮                        \n",
       "515 WEST [TGA :108,941]            $18,300           $4,255                   \n",
       "516 ABILENE-SWEETWATER TX          $413.07           $138.51                  \n",
       "517 ALEXANDRIA LA                  $417.92           $161.97                  \n",
       "518 All Other Suddenlink DMA Total $2,565.16         $336.20                  \n",
       "519 AMARILLO TX                    $605.22           $192.39                  \n",
       "520 AUSTIN TX                      $690.74           $0.00                    \n",
       "521 BLUEFIELD-BECKLEY-OAK HILL WV  $419.10           $134.97                  \n",
       "522 CHARLESTON-HUNTINGTON WV       $862.00           $213.44                  \n",
       "523 DALLAS-FT WORTH TX             $1,485.70         $0.00                    \n",
       "524 EUREKA CA                      $276.12           $121.69                  \n",
       "525 GREENVILLE-NEW BERN-WASH NC    $671.04           $180.87                  \n",
       "526 HOUSTON TX                     $1,173.20         $0.00                    \n",
       "527 JONESBORO AR                   $368.36           $181.37                  \n",
       "528 LAKE CHARLES LA                $525.50           $211.93                  \n",
       "529 LITTLE ROCK AR                 $735.33           $168.81                  \n",
       "530 LUBBOCK TX                     $639.48           $177.57                  \n",
       "531 MONROE-EL DORADO LA-AR         $292.66           $119.50                  \n",
       "532 ODESSA-MIDLAND TX              $733.86           $309.42                  \n",
       "533 OKLAHOMA CITY OK               $419.17           $36.17                   \n",
       "534 PARKERSBURG WV                 $368.59           $179.23                  \n",
       "535 PHOENIX AZ                     $495.65           $0.00                    \n",
       "536 RALEIGH-DURHAM NC              $231.14           $0.00                    \n",
       "537 SAN ANGELO TX                  $385.63           $180.24                  \n",
       "538 SHREVEPORT LA                  $500.63           $153.40                  \n",
       "539 SPRINGFIELD MO                 $564.90           $206.81                  \n",
       "540 ST JOSEPH MO                   $312.39           $152.69                  \n",
       "541 TULSA OK                       $202.33           $20.61                   \n",
       "542 TYLER-LONGVIEW TX              $1,018.58         $290.66                  \n",
       "543 VICTORIA TX                    $315.35           $161.84                  \n",
       "544 WACO-TEMPLE-BRYAN TX           $611.17           $225.08                  \n",
       "    X4      X5               X6      X7             X8      X9      X10    \n",
       "1   NA      NA               NA      NA             NA      NA      NA     \n",
       "2   TV      Search Unbranded Display Search Branded Video   Radio   Social \n",
       "3   $9,510  $3,311           $2,960  $2,933         $1,790  $1,408  $1,098 \n",
       "4   $6,922  $1,701           $1,874  $1,613         $1,187  $675    $667   \n",
       "5   $2,588  $1,609           $1,086  $1,320         $603    $733    $431   \n",
       "6   $76.62  $29.88           $15.67  $37.56         $9.49   $9.92   $7.86  \n",
       "7   $107.18 $28.20           $9.41   $18.58         $8.71   $11.65  $8.98  \n",
       "8   $307.56 $276.36          $234.31 $90.73         $127.47 $102.04 $69.11 \n",
       "9   $106.77 $35.53           $24.59  $52.82         $14.02  $17.92  $14.23 \n",
       "10  $0.00   $102.68          $65.01  $50.70         $34.12  $52.77  $15.74 \n",
       "11  $75.96  $24.64           $17.02  $36.04         $10.12  $19.28  $9.22  \n",
       "12  $114.93 $69.41           $45.49  $89.66         $32.96  $19.73  $27.05 \n",
       "13  $0.00   $215.99          $168.17 $113.62        $78.74  $67.67  $37.90 \n",
       "14  $68.71  $9.01            $9.99   $21.43         $6.16   $8.77   $2.09  \n",
       "15  $97.39  $41.12           $35.34  $71.47         $22.89  $18.72  $16.97 \n",
       "16  $0.00   $165.20          $91.71  $97.69         $49.94  $106.64 $30.21 \n",
       "17  $105.21 $11.12           $8.50   $22.31         $5.57   $12.71  $6.99  \n",
       "18  $139.39 $30.62           $15.32  $23.11         $9.75   $16.03  $9.81  \n",
       "19  $101.56 $82.56           $35.87  $52.16         $22.18  $21.89  $18.81 \n",
       "20  $97.30  $44.92           $28.84  $59.63         $14.04  $18.78  $18.32 \n",
       "21  $69.47  $19.15           $7.10   $18.74         $5.06   $6.96   $6.47  \n",
       "22  $182.52 $50.40           $21.14  $41.85         $12.91  $18.20  $12.92 \n",
       "23  $19.47  $31.67           $25.81  $40.19         $16.94  $32.51  $11.65 \n",
       "24  $113.90 $11.62           $12.18  $11.85         $6.41   $6.57   $5.33  \n",
       "25  $0.00   $45.42           $48.00  $55.45         $19.05  $20.70  $12.85 \n",
       "26  $0.00   $24.98           $19.50  $27.67         $11.70  $3.75   $8.00  \n",
       "27  $103.22 $11.30           $12.37  $26.58         $6.38   $11.97  $6.21  \n",
       "28  $87.68  $45.78           $15.73  $40.54         $12.79  $13.52  $13.54 \n",
       "29  $124.17 $40.38           $24.44  $29.95         $13.76  $15.56  $8.76  \n",
       "30  $89.93  $9.42            $7.75   $15.60         $4.28   $12.65  $4.31  \n",
       "⋮   ⋮       ⋮                ⋮       ⋮              ⋮       ⋮       ⋮      \n",
       "515 $4,400  $2,899           $1,930  $1,462         $994    $1,218  $751   \n",
       "516 $100.87 $55.30           $26.00  $37.56         $15.74  $15.14  $13.04 \n",
       "517 $100.89 $51.62           $14.22  $34.50         $14.46  $19.33  $14.90 \n",
       "518 $566.12 $513.24          $435.14 $168.50        $211.52 $169.32 $124.38\n",
       "519 $159.50 $65.99           $40.81  $52.82         $23.27  $27.87  $25.04 \n",
       "520 $159.81 $172.22          $120.73 $50.70         $56.61  $93.82  $24.38 \n",
       "521 $100.67 $45.77           $28.78  $36.04         $15.40  $32.00  $17.12 \n",
       "522 $203.56 $128.91          $75.48  $89.66         $56.60  $30.05  $50.24 \n",
       "523 $354.25 $366.66          $312.32 $113.62        $137.37 $108.74 $62.89 \n",
       "524 $66.41  $16.33           $16.58  $21.43         $10.22  $14.55  $2.61  \n",
       "525 $167.43 $76.37           $63.57  $74.24         $37.98  $28.97  $28.17 \n",
       "526 $274.84 $285.98          $170.31 $97.69         $80.30  $190.08 $50.13 \n",
       "527 $83.10  $18.46           $14.10  $22.31         $7.93   $21.09  $12.73 \n",
       "528 $121.77 $56.01           $25.43  $42.91         $14.40  $26.60  $16.27 \n",
       "529 $178.01 $153.33          $60.08  $52.16         $36.81  $34.07  $34.93 \n",
       "530 $169.47 $83.42           $47.86  $59.63         $23.30  $29.20  $33.20 \n",
       "531 $72.86  $34.70           $11.78  $18.74         $8.40   $10.59  $10.74 \n",
       "532 $170.77 $91.23           $35.09  $41.85         $21.43  $27.78  $21.44 \n",
       "533 $118.15 $58.82           $42.82  $40.32         $26.89  $60.17  $21.63 \n",
       "534 $89.57  $19.28           $20.22  $22.01         $10.64  $9.68   $9.52  \n",
       "535 $150.88 $84.35           $89.14  $64.15         $31.62  $33.13  $21.48 \n",
       "536 $65.14  $46.39           $35.72  $32.95         $19.42  $5.67   $13.27 \n",
       "537 $88.77  $18.82           $20.53  $26.58         $9.27   $19.86  $11.54 \n",
       "538 $122.22 $85.01           $26.10  $40.54         $21.22  $20.84  $23.38 \n",
       "539 $135.31 $74.98           $40.55  $29.95         $22.83  $24.02  $14.92 \n",
       "540 $73.18  $15.82           $12.87  $15.60         $6.07   $20.99  $8.00  \n",
       "541 $55.27  $30.03           $15.21  $22.40         $7.54   $33.70  $8.45  \n",
       "542 $241.37 $162.79          $69.29  $90.00         $38.60  $62.79  $47.17 \n",
       "543 $69.01  $16.98           $9.45   $15.50         $4.83   $26.40  $6.56  \n",
       "544 $140.81 $70.23           $50.01  $47.32         $23.44  $21.82  $23.24 \n",
       "    X11    X12   \n",
       "1   NA     NA    \n",
       "2   Audio  Print \n",
       "3   $91    $0    \n",
       "4   $61    $0    \n",
       "5   $30    $0    \n",
       "6   $0.21  $0.00 \n",
       "7   $0.15  $0.00 \n",
       "8   $14.87 $0.00 \n",
       "9   $0.32  $0.00 \n",
       "10  $1.18  $0.00 \n",
       "11  $0.17  $0.00 \n",
       "12  $0.65  $0.00 \n",
       "13  $3.89  $0.00 \n",
       "14  $0.20  $0.00 \n",
       "15  $0.42  $0.00 \n",
       "16  $2.56  $0.00 \n",
       "17  $0.06  $0.00 \n",
       "18  $0.20  $0.00 \n",
       "19  $0.56  $0.00 \n",
       "20  $0.38  $0.00 \n",
       "21  $0.11  $0.00 \n",
       "22  $0.36  $0.00 \n",
       "23  $0.28  $0.00 \n",
       "24  $0.15  $0.00 \n",
       "25  $0.55  $0.00 \n",
       "26  $0.32  $0.00 \n",
       "27  $0.13  $0.00 \n",
       "28  $0.30  $0.00 \n",
       "29  $0.33  $0.00 \n",
       "30  $0.14  $0.00 \n",
       "⋮   ⋮      ⋮     \n",
       "515 $359   $31   \n",
       "516 $10.68 $0.21 \n",
       "517 $5.89  $0.15 \n",
       "518 $25.62 $15.12\n",
       "519 $17.21 $0.32 \n",
       "520 $11.30 $1.18 \n",
       "521 $8.18  $0.18 \n",
       "522 $13.42 $0.65 \n",
       "523 $25.21 $4.64 \n",
       "524 $6.11  $0.20 \n",
       "525 $13.04 $0.42 \n",
       "526 $21.31 $2.56 \n",
       "527 $7.23  $0.06 \n",
       "528 $9.98  $0.20 \n",
       "529 $16.56 $0.56 \n",
       "530 $15.45 $0.38 \n",
       "531 $5.25  $0.11 \n",
       "532 $14.50 $0.36 \n",
       "533 $13.91 $0.28 \n",
       "534 $8.30  $0.15 \n",
       "535 $20.36 $0.55 \n",
       "536 $12.26 $0.32 \n",
       "537 $9.89  $0.13 \n",
       "538 $7.60  $0.30 \n",
       "539 $15.19 $0.33 \n",
       "540 $7.03  $0.14 \n",
       "541 $9.03  $0.10 \n",
       "542 $15.20 $0.71 \n",
       "543 $4.67  $0.11 \n",
       "544 $8.77  $0.45 "
      ]
     },
     "metadata": {},
     "output_type": "display_data"
    }
   ],
   "source": [
    "no_dm_df <- res_no_dm$case_df\n",
    "no_dm_df"
   ]
  },
  {
   "cell_type": "code",
   "execution_count": 20,
   "metadata": {},
   "outputs": [],
   "source": [
    "write.table(no_dm_df,'Cases_DM_Constraint_yes.csv',row.names = F,na = '',sep = ',',col.names = F)"
   ]
  },
  {
   "cell_type": "code",
   "execution_count": 21,
   "metadata": {
    "ExecuteTime": {
     "end_time": "2021-06-08T16:49:14.511711Z",
     "start_time": "2021-06-08T16:43:27.663Z"
    },
    "scrolled": true
   },
   "outputs": [
    {
     "name": "stdout",
     "output_type": "stream",
     "text": [
      "18100000 10800000\n",
      "OPT budget: $18,100,000\n",
      "SDL budget: $10,800,000\n",
      "Quarter selected: Q2\n"
     ]
    },
    {
     "name": "stderr",
     "output_type": "stream",
     "text": [
      "Adding missing grouping variables: `qy`\n",
      "\n"
     ]
    },
    {
     "name": "stdout",
     "output_type": "stream",
     "text": [
      "18100000 11000000\n",
      "OPT budget: $18,100,000\n",
      "SDL budget: $11,000,000\n",
      "Quarter selected: Q2\n"
     ]
    },
    {
     "name": "stderr",
     "output_type": "stream",
     "text": [
      "Adding missing grouping variables: `qy`\n",
      "\n"
     ]
    },
    {
     "name": "stdout",
     "output_type": "stream",
     "text": [
      "18100000 15000000\n",
      "OPT budget: $18,100,000\n",
      "SDL budget: $15,000,000\n",
      "Quarter selected: Q4\n"
     ]
    },
    {
     "name": "stderr",
     "output_type": "stream",
     "text": [
      "Adding missing grouping variables: `qy`\n",
      "\n"
     ]
    },
    {
     "name": "stdout",
     "output_type": "stream",
     "text": [
      "18100000 18400000\n",
      "OPT budget: $18,100,000\n",
      "SDL budget: $18,400,000\n",
      "Quarter selected: Q2\n"
     ]
    },
    {
     "name": "stderr",
     "output_type": "stream",
     "text": [
      "Adding missing grouping variables: `qy`\n",
      "\n"
     ]
    },
    {
     "name": "stdout",
     "output_type": "stream",
     "text": [
      "19700000 10800000\n",
      "OPT budget: $19,700,000\n",
      "SDL budget: $10,800,000\n",
      "Quarter selected: Q4\n"
     ]
    },
    {
     "name": "stderr",
     "output_type": "stream",
     "text": [
      "Adding missing grouping variables: `qy`\n",
      "\n"
     ]
    },
    {
     "name": "stdout",
     "output_type": "stream",
     "text": [
      "19700000 11000000\n",
      "OPT budget: $19,700,000\n",
      "SDL budget: $11,000,000\n",
      "Quarter selected: Q4\n"
     ]
    },
    {
     "name": "stderr",
     "output_type": "stream",
     "text": [
      "Adding missing grouping variables: `qy`\n",
      "\n"
     ]
    },
    {
     "name": "stdout",
     "output_type": "stream",
     "text": [
      "19700000 15000000\n",
      "OPT budget: $19,700,000\n",
      "SDL budget: $15,000,000\n",
      "Quarter selected: Q1\n"
     ]
    },
    {
     "name": "stderr",
     "output_type": "stream",
     "text": [
      "Adding missing grouping variables: `qy`\n",
      "\n"
     ]
    },
    {
     "name": "stdout",
     "output_type": "stream",
     "text": [
      "19700000 18400000\n",
      "OPT budget: $19,700,000\n",
      "SDL budget: $18,400,000\n",
      "Quarter selected: Q4\n"
     ]
    },
    {
     "name": "stderr",
     "output_type": "stream",
     "text": [
      "Adding missing grouping variables: `qy`\n",
      "\n"
     ]
    },
    {
     "name": "stdout",
     "output_type": "stream",
     "text": [
      "25000000 10800000\n",
      "OPT budget: $25,000,000\n",
      "SDL budget: $10,800,000\n",
      "Quarter selected: Q4\n"
     ]
    },
    {
     "name": "stderr",
     "output_type": "stream",
     "text": [
      "Adding missing grouping variables: `qy`\n",
      "\n"
     ]
    },
    {
     "name": "stdout",
     "output_type": "stream",
     "text": [
      "25000000 11000000\n",
      "OPT budget: $25,000,000\n",
      "SDL budget: $11,000,000\n",
      "Quarter selected: Q4\n"
     ]
    },
    {
     "name": "stderr",
     "output_type": "stream",
     "text": [
      "Adding missing grouping variables: `qy`\n",
      "\n"
     ]
    },
    {
     "name": "stdout",
     "output_type": "stream",
     "text": [
      "25000000 15000000\n",
      "OPT budget: $25,000,000\n",
      "SDL budget: $15,000,000\n",
      "Quarter selected: Q3\n"
     ]
    },
    {
     "name": "stderr",
     "output_type": "stream",
     "text": [
      "Adding missing grouping variables: `qy`\n",
      "\n"
     ]
    },
    {
     "name": "stdout",
     "output_type": "stream",
     "text": [
      "25000000 18400000\n",
      "OPT budget: $25,000,000\n",
      "SDL budget: $18,400,000\n",
      "Quarter selected: Q4\n"
     ]
    },
    {
     "name": "stderr",
     "output_type": "stream",
     "text": [
      "Adding missing grouping variables: `qy`\n",
      "\n"
     ]
    },
    {
     "name": "stdout",
     "output_type": "stream",
     "text": [
      "33100000 10800000\n",
      "OPT budget: $33,100,000\n",
      "SDL budget: $10,800,000\n",
      "Quarter selected: Q3\n"
     ]
    },
    {
     "name": "stderr",
     "output_type": "stream",
     "text": [
      "Adding missing grouping variables: `qy`\n",
      "\n"
     ]
    },
    {
     "name": "stdout",
     "output_type": "stream",
     "text": [
      "33100000 11000000\n",
      "OPT budget: $33,100,000\n",
      "SDL budget: $11,000,000\n",
      "Quarter selected: Q3\n"
     ]
    },
    {
     "name": "stderr",
     "output_type": "stream",
     "text": [
      "Adding missing grouping variables: `qy`\n",
      "\n"
     ]
    },
    {
     "name": "stdout",
     "output_type": "stream",
     "text": [
      "33100000 15000000\n",
      "OPT budget: $33,100,000\n",
      "SDL budget: $15,000,000\n",
      "Quarter selected: Q1\n"
     ]
    },
    {
     "name": "stderr",
     "output_type": "stream",
     "text": [
      "Adding missing grouping variables: `qy`\n",
      "\n"
     ]
    },
    {
     "name": "stdout",
     "output_type": "stream",
     "text": [
      "33100000 18400000\n",
      "OPT budget: $33,100,000\n",
      "SDL budget: $18,400,000\n",
      "Quarter selected: Q2\n"
     ]
    },
    {
     "name": "stderr",
     "output_type": "stream",
     "text": [
      "Adding missing grouping variables: `qy`\n",
      "\n"
     ]
    },
    {
     "name": "stdout",
     "output_type": "stream",
     "text": [
      "The number of cases generated: 33\n"
     ]
    }
   ],
   "source": [
    "res_dm <- gen_b2c_test_cases(opt_budget_vec_dm,sdl_budget_vec_dm,'no',id_start = 17)"
   ]
  },
  {
   "cell_type": "code",
   "execution_count": 22,
   "metadata": {
    "scrolled": true
   },
   "outputs": [
    {
     "data": {
      "text/html": [
       "<table>\n",
       "<caption>A data.frame: 544 × 12</caption>\n",
       "<thead>\n",
       "\t<tr><th scope=col>X1</th><th scope=col>X2</th><th scope=col>X3</th><th scope=col>X4</th><th scope=col>X5</th><th scope=col>X6</th><th scope=col>X7</th><th scope=col>X8</th><th scope=col>X9</th><th scope=col>X10</th><th scope=col>X11</th><th scope=col>X12</th></tr>\n",
       "\t<tr><th scope=col>&lt;chr&gt;</th><th scope=col>&lt;chr&gt;</th><th scope=col>&lt;chr&gt;</th><th scope=col>&lt;chr&gt;</th><th scope=col>&lt;chr&gt;</th><th scope=col>&lt;chr&gt;</th><th scope=col>&lt;chr&gt;</th><th scope=col>&lt;chr&gt;</th><th scope=col>&lt;chr&gt;</th><th scope=col>&lt;chr&gt;</th><th scope=col>&lt;chr&gt;</th><th scope=col>&lt;chr&gt;</th></tr>\n",
       "</thead>\n",
       "<tbody>\n",
       "\t<tr><td>17                            </td><td>NA               </td><td>NA     </td><td>NA                         </td><td>NA              </td><td>NA     </td><td>NA            </td><td>NA     </td><td>NA     </td><td>NA    </td><td>NA    </td><td>NA   </td></tr>\n",
       "\t<tr><td>Footprint                     </td><td>Spend $(000) [Q2]</td><td>TV     </td><td>Direct Mail [No Constraint]</td><td>Search Unbranded</td><td>Display</td><td>Search Branded</td><td>Video  </td><td>Radio  </td><td>Social</td><td>Audio </td><td>Print</td></tr>\n",
       "\t<tr><td>USA [TGA :196,204]            </td><td>$28,900          </td><td>$9,501 </td><td>$5,797                     </td><td>$3,309          </td><td>$2,960 </td><td>$2,945        </td><td>$1,790 </td><td>$1,408 </td><td>$1,098</td><td>$91   </td><td>$0   </td></tr>\n",
       "\t<tr><td>EAST [TGA :104,119]           </td><td>$18,100          </td><td>$6,913 </td><td>$3,409                     </td><td>$1,701          </td><td>$1,874 </td><td>$1,613        </td><td>$1,187 </td><td>$675   </td><td>$667  </td><td>$61   </td><td>$0   </td></tr>\n",
       "\t<tr><td>WEST [TGA : 92,085]           </td><td>$10,800          </td><td>$2,589 </td><td>$2,388                     </td><td>$1,608          </td><td>$1,086 </td><td>$1,333        </td><td>$603   </td><td>$733   </td><td>$431  </td><td>$30   </td><td>$0   </td></tr>\n",
       "\t<tr><td>ABILENE-SWEETWATER TX         </td><td>$241.39          </td><td>$76.95 </td><td>$53.85                     </td><td>$29.88          </td><td>$15.67 </td><td>$37.56        </td><td>$9.49  </td><td>$9.92  </td><td>$7.86 </td><td>$0.21 </td><td>$0.00</td></tr>\n",
       "\t<tr><td>ALEXANDRIA LA                 </td><td>$253.59          </td><td>$107.92</td><td>$59.99                     </td><td>$28.20          </td><td>$9.41  </td><td>$18.58        </td><td>$8.71  </td><td>$11.65 </td><td>$8.98 </td><td>$0.15 </td><td>$0.00</td></tr>\n",
       "\t<tr><td>All Other Suddenlink DMA Total</td><td>$1,441.86        </td><td>$298.74</td><td>$228.23                    </td><td>$276.36         </td><td>$234.31</td><td>$90.73        </td><td>$127.47</td><td>$102.04</td><td>$69.11</td><td>$14.87</td><td>$0.00</td></tr>\n",
       "\t<tr><td>AMARILLO TX                   </td><td>$380.85          </td><td>$110.31</td><td>$111.11                    </td><td>$35.53          </td><td>$24.59 </td><td>$52.82        </td><td>$14.02 </td><td>$17.92 </td><td>$14.23</td><td>$0.32 </td><td>$0.00</td></tr>\n",
       "\t<tr><td>AUSTIN TX                     </td><td>$396.67          </td><td>$0.00  </td><td>$75.45                     </td><td>$101.72         </td><td>$65.01 </td><td>$50.70        </td><td>$34.12 </td><td>$52.77 </td><td>$15.74</td><td>$1.18 </td><td>$0.00</td></tr>\n",
       "\t<tr><td>BLUEFIELD-BECKLEY-OAK HILL WV </td><td>$247.17          </td><td>$76.22 </td><td>$54.45                     </td><td>$24.64          </td><td>$17.02 </td><td>$36.04        </td><td>$10.12 </td><td>$19.28 </td><td>$9.22 </td><td>$0.17 </td><td>$0.00</td></tr>\n",
       "\t<tr><td>CHARLESTON-HUNTINGTON WV      </td><td>$507.78          </td><td>$115.00</td><td>$107.82                    </td><td>$69.41          </td><td>$45.49 </td><td>$89.66        </td><td>$32.96 </td><td>$19.73 </td><td>$27.05</td><td>$0.65 </td><td>$0.00</td></tr>\n",
       "\t<tr><td>DALLAS-FT WORTH TX            </td><td>$878.93          </td><td>$0.00  </td><td>$192.20                    </td><td>$216.74         </td><td>$168.17</td><td>$113.62       </td><td>$78.74 </td><td>$67.67 </td><td>$37.90</td><td>$3.89 </td><td>$0.00</td></tr>\n",
       "\t<tr><td>EUREKA CA                     </td><td>$161.25          </td><td>$68.80 </td><td>$34.81                     </td><td>$9.01           </td><td>$9.99  </td><td>$21.43        </td><td>$6.16  </td><td>$8.77  </td><td>$2.09 </td><td>$0.20 </td><td>$0.00</td></tr>\n",
       "\t<tr><td>GREENVILLE-NEW BERN-WASH NC   </td><td>$412.54          </td><td>$97.39 </td><td>$106.04                    </td><td>$41.12          </td><td>$35.34 </td><td>$73.65        </td><td>$22.89 </td><td>$18.72 </td><td>$16.97</td><td>$0.42 </td><td>$0.00</td></tr>\n",
       "\t<tr><td>HOUSTON TX                    </td><td>$677.47          </td><td>$0.00  </td><td>$134.52                    </td><td>$164.20         </td><td>$91.71 </td><td>$97.69        </td><td>$49.94 </td><td>$106.64</td><td>$30.21</td><td>$2.56 </td><td>$0.00</td></tr>\n",
       "\t<tr><td>JONESBORO AR                  </td><td>$202.83          </td><td>$103.92</td><td>$31.65                     </td><td>$11.12          </td><td>$8.50  </td><td>$22.31        </td><td>$5.57  </td><td>$12.71 </td><td>$6.99 </td><td>$0.06 </td><td>$0.00</td></tr>\n",
       "\t<tr><td>LAKE CHARLES LA               </td><td>$298.79          </td><td>$138.51</td><td>$55.44                     </td><td>$30.62          </td><td>$15.32 </td><td>$23.11        </td><td>$9.75  </td><td>$16.03 </td><td>$9.81 </td><td>$0.20 </td><td>$0.00</td></tr>\n",
       "\t<tr><td>LITTLE ROCK AR                </td><td>$431.79          </td><td>$102.07</td><td>$95.67                     </td><td>$82.56          </td><td>$35.87 </td><td>$52.16        </td><td>$22.18 </td><td>$21.89 </td><td>$18.81</td><td>$0.56 </td><td>$0.00</td></tr>\n",
       "\t<tr><td>LUBBOCK TX                    </td><td>$411.88          </td><td>$101.71</td><td>$125.25                    </td><td>$44.92          </td><td>$28.84 </td><td>$59.63        </td><td>$14.04 </td><td>$18.78 </td><td>$18.32</td><td>$0.38 </td><td>$0.00</td></tr>\n",
       "\t<tr><td>MONROE-EL DORADO LA-AR        </td><td>$180.61          </td><td>$70.44 </td><td>$46.57                     </td><td>$19.15          </td><td>$7.10  </td><td>$18.74        </td><td>$5.06  </td><td>$6.96  </td><td>$6.47 </td><td>$0.11 </td><td>$0.00</td></tr>\n",
       "\t<tr><td>ODESSA-MIDLAND TX             </td><td>$417.75          </td><td>$181.40</td><td>$78.55                     </td><td>$50.40          </td><td>$21.14 </td><td>$41.85        </td><td>$12.91 </td><td>$18.20 </td><td>$12.92</td><td>$0.36 </td><td>$0.00</td></tr>\n",
       "\t<tr><td>OKLAHOMA CITY OK              </td><td>$279.19          </td><td>$23.65 </td><td>$96.36                     </td><td>$31.67          </td><td>$25.81 </td><td>$40.32        </td><td>$16.94 </td><td>$32.51 </td><td>$11.65</td><td>$0.28 </td><td>$0.00</td></tr>\n",
       "\t<tr><td>PARKERSBURG WV                </td><td>$217.35          </td><td>$114.25</td><td>$48.98                     </td><td>$11.62          </td><td>$12.18 </td><td>$11.85        </td><td>$6.41  </td><td>$6.57  </td><td>$5.33 </td><td>$0.15 </td><td>$0.00</td></tr>\n",
       "\t<tr><td>PHOENIX AZ                    </td><td>$349.92          </td><td>$0.00  </td><td>$140.24                    </td><td>$45.42          </td><td>$48.00 </td><td>$63.11        </td><td>$19.05 </td><td>$20.70 </td><td>$12.85</td><td>$0.55 </td><td>$0.00</td></tr>\n",
       "\t<tr><td>RALEIGH-DURHAM NC             </td><td>$142.25          </td><td>$0.00  </td><td>$44.66                     </td><td>$24.98          </td><td>$19.50 </td><td>$29.35        </td><td>$11.70 </td><td>$3.75  </td><td>$8.00 </td><td>$0.32 </td><td>$0.00</td></tr>\n",
       "\t<tr><td>SAN ANGELO TX                 </td><td>$211.16          </td><td>$102.02</td><td>$34.20                     </td><td>$11.30          </td><td>$12.37 </td><td>$26.58        </td><td>$6.38  </td><td>$11.97 </td><td>$6.21 </td><td>$0.13 </td><td>$0.00</td></tr>\n",
       "\t<tr><td>SHREVEPORT LA                 </td><td>$306.02          </td><td>$88.87 </td><td>$74.95                     </td><td>$45.78          </td><td>$15.73 </td><td>$40.54        </td><td>$12.79 </td><td>$13.52 </td><td>$13.54</td><td>$0.30 </td><td>$0.00</td></tr>\n",
       "\t<tr><td>SPRINGFIELD MO                </td><td>$321.59          </td><td>$123.79</td><td>$64.64                     </td><td>$40.38          </td><td>$24.44 </td><td>$29.95        </td><td>$13.76 </td><td>$15.56 </td><td>$8.76 </td><td>$0.33 </td><td>$0.00</td></tr>\n",
       "\t<tr><td>ST JOSEPH MO                  </td><td>$176.94          </td><td>$89.46 </td><td>$33.32                     </td><td>$9.42           </td><td>$7.75  </td><td>$15.60        </td><td>$4.28  </td><td>$12.65 </td><td>$4.31 </td><td>$0.14 </td><td>$0.00</td></tr>\n",
       "\t<tr><td>⋮</td><td>⋮</td><td>⋮</td><td>⋮</td><td>⋮</td><td>⋮</td><td>⋮</td><td>⋮</td><td>⋮</td><td>⋮</td><td>⋮</td><td>⋮</td></tr>\n",
       "\t<tr><td>WEST [TGA : 95,982]           </td><td>$18,400  </td><td>$4,255 </td><td>$4,434 </td><td>$2,903 </td><td>$1,934 </td><td>$1,462 </td><td>$1,025 </td><td>$1,249 </td><td>$751   </td><td>$346  </td><td>$40   </td></tr>\n",
       "\t<tr><td>ABILENE-SWEETWATER TX         </td><td>$413.70  </td><td>$138.51</td><td>$100.00</td><td>$55.49 </td><td>$26.00 </td><td>$37.56 </td><td>$15.74 </td><td>$16.26 </td><td>$13.24 </td><td>$10.68</td><td>$0.22 </td></tr>\n",
       "\t<tr><td>ALEXANDRIA LA                 </td><td>$429.71  </td><td>$161.97</td><td>$111.42</td><td>$51.72 </td><td>$15.36 </td><td>$34.50 </td><td>$14.46 </td><td>$19.33 </td><td>$14.90 </td><td>$5.89 </td><td>$0.15 </td></tr>\n",
       "\t<tr><td>All Other Suddenlink DMA Total</td><td>$2,435.94</td><td>$336.20</td><td>$423.85</td><td>$513.24</td><td>$435.14</td><td>$168.50</td><td>$236.73</td><td>$169.32</td><td>$114.68</td><td>$15.62</td><td>$22.64</td></tr>\n",
       "\t<tr><td>AMARILLO TX                   </td><td>$653.04  </td><td>$192.39</td><td>$206.34</td><td>$65.99 </td><td>$40.81 </td><td>$52.82 </td><td>$23.27 </td><td>$29.41 </td><td>$24.48 </td><td>$17.21</td><td>$0.32 </td></tr>\n",
       "\t<tr><td>AUSTIN TX                     </td><td>$674.08  </td><td>$0.00  </td><td>$140.13</td><td>$172.22</td><td>$120.73</td><td>$50.70 </td><td>$56.61 </td><td>$97.99 </td><td>$26.12 </td><td>$8.19 </td><td>$1.40 </td></tr>\n",
       "\t<tr><td>BLUEFIELD-BECKLEY-OAK HILL WV </td><td>$421.07  </td><td>$134.97</td><td>$101.13</td><td>$45.77 </td><td>$29.13 </td><td>$36.04 </td><td>$16.56 </td><td>$32.00 </td><td>$17.12 </td><td>$8.18 </td><td>$0.17 </td></tr>\n",
       "\t<tr><td>CHARLESTON-HUNTINGTON WV      </td><td>$861.90  </td><td>$213.44</td><td>$200.24</td><td>$128.91</td><td>$78.20 </td><td>$89.66 </td><td>$54.69 </td><td>$32.46 </td><td>$50.24 </td><td>$13.42</td><td>$0.65 </td></tr>\n",
       "\t<tr><td>DALLAS-FT WORTH TX            </td><td>$1,493.73</td><td>$0.00  </td><td>$356.94</td><td>$366.66</td><td>$312.32</td><td>$113.62</td><td>$131.10</td><td>$112.30</td><td>$70.38 </td><td>$25.21</td><td>$5.21 </td></tr>\n",
       "\t<tr><td>EUREKA CA                     </td><td>$275.41  </td><td>$121.69</td><td>$64.66 </td><td>$14.94 </td><td>$18.25 </td><td>$21.43 </td><td>$10.22 </td><td>$14.55 </td><td>$3.37  </td><td>$6.11 </td><td>$0.20 </td></tr>\n",
       "\t<tr><td>GREENVILLE-NEW BERN-WASH NC   </td><td>$702.23  </td><td>$180.87</td><td>$196.92</td><td>$76.37 </td><td>$60.10 </td><td>$74.24 </td><td>$37.98 </td><td>$30.76 </td><td>$31.52 </td><td>$13.04</td><td>$0.42 </td></tr>\n",
       "\t<tr><td>HOUSTON TX                    </td><td>$1,153.09</td><td>$0.00  </td><td>$249.82</td><td>$285.98</td><td>$163.95</td><td>$97.69 </td><td>$82.86 </td><td>$198.04</td><td>$50.13 </td><td>$21.31</td><td>$3.30 </td></tr>\n",
       "\t<tr><td>JONESBORO AR                  </td><td>$346.00  </td><td>$181.37</td><td>$58.78 </td><td>$19.10 </td><td>$14.10 </td><td>$22.31 </td><td>$8.99  </td><td>$21.09 </td><td>$12.98 </td><td>$7.23 </td><td>$0.06 </td></tr>\n",
       "\t<tr><td>LAKE CHARLES LA               </td><td>$509.08  </td><td>$211.93</td><td>$102.96</td><td>$56.87 </td><td>$25.43 </td><td>$42.91 </td><td>$15.89 </td><td>$26.60 </td><td>$16.32 </td><td>$9.98 </td><td>$0.20 </td></tr>\n",
       "\t<tr><td>LITTLE ROCK AR                </td><td>$737.66  </td><td>$168.81</td><td>$177.68</td><td>$153.33</td><td>$60.74 </td><td>$52.16 </td><td>$36.81 </td><td>$36.08 </td><td>$34.93 </td><td>$16.56</td><td>$0.56 </td></tr>\n",
       "\t<tr><td>LUBBOCK TX                    </td><td>$703.33  </td><td>$177.57</td><td>$232.61</td><td>$83.42 </td><td>$47.86 </td><td>$59.63 </td><td>$23.30 </td><td>$30.83 </td><td>$32.28 </td><td>$15.45</td><td>$0.38 </td></tr>\n",
       "\t<tr><td>MONROE-EL DORADO LA-AR        </td><td>$307.01  </td><td>$119.50</td><td>$86.49 </td><td>$34.63 </td><td>$11.78 </td><td>$18.74 </td><td>$8.40  </td><td>$11.37 </td><td>$10.74 </td><td>$5.25 </td><td>$0.11 </td></tr>\n",
       "\t<tr><td>ODESSA-MIDLAND TX             </td><td>$712.27  </td><td>$309.42</td><td>$145.89</td><td>$92.45 </td><td>$35.09 </td><td>$41.85 </td><td>$21.43 </td><td>$29.85 </td><td>$21.44 </td><td>$14.50</td><td>$0.36 </td></tr>\n",
       "\t<tr><td>OKLAHOMA CITY OK              </td><td>$479.91  </td><td>$36.17 </td><td>$178.95</td><td>$58.82 </td><td>$47.93 </td><td>$40.32 </td><td>$27.89 </td><td>$54.01 </td><td>$21.63 </td><td>$13.91</td><td>$0.28 </td></tr>\n",
       "\t<tr><td>PARKERSBURG WV                </td><td>$371.29  </td><td>$179.23</td><td>$90.97 </td><td>$19.28 </td><td>$20.22 </td><td>$22.01 </td><td>$10.64 </td><td>$10.69 </td><td>$9.81  </td><td>$8.30 </td><td>$0.15 </td></tr>\n",
       "\t<tr><td>PHOENIX AZ                    </td><td>$604.19  </td><td>$0.00  </td><td>$260.45</td><td>$84.35 </td><td>$87.16 </td><td>$64.15 </td><td>$31.62 </td><td>$34.21 </td><td>$21.32 </td><td>$20.36</td><td>$0.57 </td></tr>\n",
       "\t<tr><td>RALEIGH-DURHAM NC             </td><td>$249.29  </td><td>$0.00  </td><td>$82.94 </td><td>$46.39 </td><td>$35.52 </td><td>$32.95 </td><td>$19.42 </td><td>$6.22  </td><td>$13.27 </td><td>$12.26</td><td>$0.33 </td></tr>\n",
       "\t<tr><td>SAN ANGELO TX                 </td><td>$362.40  </td><td>$180.24</td><td>$63.51 </td><td>$19.76 </td><td>$20.53 </td><td>$26.58 </td><td>$10.37 </td><td>$19.86 </td><td>$11.54 </td><td>$9.89 </td><td>$0.13 </td></tr>\n",
       "\t<tr><td>SHREVEPORT LA                 </td><td>$518.99  </td><td>$153.40</td><td>$139.19</td><td>$85.01 </td><td>$26.10 </td><td>$40.54 </td><td>$21.22 </td><td>$22.21 </td><td>$23.41 </td><td>$7.60 </td><td>$0.30 </td></tr>\n",
       "\t<tr><td>SPRINGFIELD MO                </td><td>$552.04  </td><td>$206.81</td><td>$120.04</td><td>$74.98 </td><td>$41.79 </td><td>$29.95 </td><td>$22.83 </td><td>$25.57 </td><td>$14.54 </td><td>$15.19</td><td>$0.33 </td></tr>\n",
       "\t<tr><td>ST JOSEPH MO                  </td><td>$302.51  </td><td>$152.69</td><td>$61.88 </td><td>$17.22 </td><td>$12.87 </td><td>$15.60 </td><td>$6.95  </td><td>$20.99 </td><td>$7.14  </td><td>$7.03 </td><td>$0.14 </td></tr>\n",
       "\t<tr><td>TULSA OK                      </td><td>$216.10  </td><td>$20.61 </td><td>$68.66 </td><td>$30.03 </td><td>$15.21 </td><td>$22.40 </td><td>$8.03  </td><td>$33.57 </td><td>$8.45  </td><td>$9.03 </td><td>$0.10 </td></tr>\n",
       "\t<tr><td>TYLER-LONGVIEW TX             </td><td>$1,024.32</td><td>$290.66</td><td>$243.44</td><td>$162.79</td><td>$70.12 </td><td>$90.00 </td><td>$41.44 </td><td>$62.79 </td><td>$47.17 </td><td>$15.20</td><td>$0.71 </td></tr>\n",
       "\t<tr><td>VICTORIA TX                   </td><td>$291.80  </td><td>$161.84</td><td>$43.67 </td><td>$16.98 </td><td>$9.45  </td><td>$15.50 </td><td>$5.76  </td><td>$27.27 </td><td>$6.56  </td><td>$4.67 </td><td>$0.11 </td></tr>\n",
       "\t<tr><td>WACO-TEMPLE-BRYAN TX          </td><td>$597.92  </td><td>$225.08</td><td>$124.92</td><td>$70.23 </td><td>$52.62 </td><td>$47.32 </td><td>$23.44 </td><td>$23.56 </td><td>$21.53 </td><td>$8.77 </td><td>$0.45 </td></tr>\n",
       "</tbody>\n",
       "</table>\n"
      ],
      "text/latex": [
       "A data.frame: 544 × 12\n",
       "\\begin{tabular}{llllllllllll}\n",
       " X1 & X2 & X3 & X4 & X5 & X6 & X7 & X8 & X9 & X10 & X11 & X12\\\\\n",
       " <chr> & <chr> & <chr> & <chr> & <chr> & <chr> & <chr> & <chr> & <chr> & <chr> & <chr> & <chr>\\\\\n",
       "\\hline\n",
       "\t 17                             & NA                & NA      & NA                          & NA               & NA      & NA             & NA      & NA      & NA     & NA     & NA   \\\\\n",
       "\t Footprint                      & Spend \\$(000) {[}Q2{]} & TV      & Direct Mail {[}No Constraint{]} & Search Unbranded & Display & Search Branded & Video   & Radio   & Social & Audio  & Print\\\\\n",
       "\t USA {[}TGA :196,204{]}             & \\$28,900           & \\$9,501  & \\$5,797                      & \\$3,309           & \\$2,960  & \\$2,945         & \\$1,790  & \\$1,408  & \\$1,098 & \\$91    & \\$0   \\\\\n",
       "\t EAST {[}TGA :104,119{]}            & \\$18,100           & \\$6,913  & \\$3,409                      & \\$1,701           & \\$1,874  & \\$1,613         & \\$1,187  & \\$675    & \\$667   & \\$61    & \\$0   \\\\\n",
       "\t WEST {[}TGA : 92,085{]}            & \\$10,800           & \\$2,589  & \\$2,388                      & \\$1,608           & \\$1,086  & \\$1,333         & \\$603    & \\$733    & \\$431   & \\$30    & \\$0   \\\\\n",
       "\t ABILENE-SWEETWATER TX          & \\$241.39           & \\$76.95  & \\$53.85                      & \\$29.88           & \\$15.67  & \\$37.56         & \\$9.49   & \\$9.92   & \\$7.86  & \\$0.21  & \\$0.00\\\\\n",
       "\t ALEXANDRIA LA                  & \\$253.59           & \\$107.92 & \\$59.99                      & \\$28.20           & \\$9.41   & \\$18.58         & \\$8.71   & \\$11.65  & \\$8.98  & \\$0.15  & \\$0.00\\\\\n",
       "\t All Other Suddenlink DMA Total & \\$1,441.86         & \\$298.74 & \\$228.23                     & \\$276.36          & \\$234.31 & \\$90.73         & \\$127.47 & \\$102.04 & \\$69.11 & \\$14.87 & \\$0.00\\\\\n",
       "\t AMARILLO TX                    & \\$380.85           & \\$110.31 & \\$111.11                     & \\$35.53           & \\$24.59  & \\$52.82         & \\$14.02  & \\$17.92  & \\$14.23 & \\$0.32  & \\$0.00\\\\\n",
       "\t AUSTIN TX                      & \\$396.67           & \\$0.00   & \\$75.45                      & \\$101.72          & \\$65.01  & \\$50.70         & \\$34.12  & \\$52.77  & \\$15.74 & \\$1.18  & \\$0.00\\\\\n",
       "\t BLUEFIELD-BECKLEY-OAK HILL WV  & \\$247.17           & \\$76.22  & \\$54.45                      & \\$24.64           & \\$17.02  & \\$36.04         & \\$10.12  & \\$19.28  & \\$9.22  & \\$0.17  & \\$0.00\\\\\n",
       "\t CHARLESTON-HUNTINGTON WV       & \\$507.78           & \\$115.00 & \\$107.82                     & \\$69.41           & \\$45.49  & \\$89.66         & \\$32.96  & \\$19.73  & \\$27.05 & \\$0.65  & \\$0.00\\\\\n",
       "\t DALLAS-FT WORTH TX             & \\$878.93           & \\$0.00   & \\$192.20                     & \\$216.74          & \\$168.17 & \\$113.62        & \\$78.74  & \\$67.67  & \\$37.90 & \\$3.89  & \\$0.00\\\\\n",
       "\t EUREKA CA                      & \\$161.25           & \\$68.80  & \\$34.81                      & \\$9.01            & \\$9.99   & \\$21.43         & \\$6.16   & \\$8.77   & \\$2.09  & \\$0.20  & \\$0.00\\\\\n",
       "\t GREENVILLE-NEW BERN-WASH NC    & \\$412.54           & \\$97.39  & \\$106.04                     & \\$41.12           & \\$35.34  & \\$73.65         & \\$22.89  & \\$18.72  & \\$16.97 & \\$0.42  & \\$0.00\\\\\n",
       "\t HOUSTON TX                     & \\$677.47           & \\$0.00   & \\$134.52                     & \\$164.20          & \\$91.71  & \\$97.69         & \\$49.94  & \\$106.64 & \\$30.21 & \\$2.56  & \\$0.00\\\\\n",
       "\t JONESBORO AR                   & \\$202.83           & \\$103.92 & \\$31.65                      & \\$11.12           & \\$8.50   & \\$22.31         & \\$5.57   & \\$12.71  & \\$6.99  & \\$0.06  & \\$0.00\\\\\n",
       "\t LAKE CHARLES LA                & \\$298.79           & \\$138.51 & \\$55.44                      & \\$30.62           & \\$15.32  & \\$23.11         & \\$9.75   & \\$16.03  & \\$9.81  & \\$0.20  & \\$0.00\\\\\n",
       "\t LITTLE ROCK AR                 & \\$431.79           & \\$102.07 & \\$95.67                      & \\$82.56           & \\$35.87  & \\$52.16         & \\$22.18  & \\$21.89  & \\$18.81 & \\$0.56  & \\$0.00\\\\\n",
       "\t LUBBOCK TX                     & \\$411.88           & \\$101.71 & \\$125.25                     & \\$44.92           & \\$28.84  & \\$59.63         & \\$14.04  & \\$18.78  & \\$18.32 & \\$0.38  & \\$0.00\\\\\n",
       "\t MONROE-EL DORADO LA-AR         & \\$180.61           & \\$70.44  & \\$46.57                      & \\$19.15           & \\$7.10   & \\$18.74         & \\$5.06   & \\$6.96   & \\$6.47  & \\$0.11  & \\$0.00\\\\\n",
       "\t ODESSA-MIDLAND TX              & \\$417.75           & \\$181.40 & \\$78.55                      & \\$50.40           & \\$21.14  & \\$41.85         & \\$12.91  & \\$18.20  & \\$12.92 & \\$0.36  & \\$0.00\\\\\n",
       "\t OKLAHOMA CITY OK               & \\$279.19           & \\$23.65  & \\$96.36                      & \\$31.67           & \\$25.81  & \\$40.32         & \\$16.94  & \\$32.51  & \\$11.65 & \\$0.28  & \\$0.00\\\\\n",
       "\t PARKERSBURG WV                 & \\$217.35           & \\$114.25 & \\$48.98                      & \\$11.62           & \\$12.18  & \\$11.85         & \\$6.41   & \\$6.57   & \\$5.33  & \\$0.15  & \\$0.00\\\\\n",
       "\t PHOENIX AZ                     & \\$349.92           & \\$0.00   & \\$140.24                     & \\$45.42           & \\$48.00  & \\$63.11         & \\$19.05  & \\$20.70  & \\$12.85 & \\$0.55  & \\$0.00\\\\\n",
       "\t RALEIGH-DURHAM NC              & \\$142.25           & \\$0.00   & \\$44.66                      & \\$24.98           & \\$19.50  & \\$29.35         & \\$11.70  & \\$3.75   & \\$8.00  & \\$0.32  & \\$0.00\\\\\n",
       "\t SAN ANGELO TX                  & \\$211.16           & \\$102.02 & \\$34.20                      & \\$11.30           & \\$12.37  & \\$26.58         & \\$6.38   & \\$11.97  & \\$6.21  & \\$0.13  & \\$0.00\\\\\n",
       "\t SHREVEPORT LA                  & \\$306.02           & \\$88.87  & \\$74.95                      & \\$45.78           & \\$15.73  & \\$40.54         & \\$12.79  & \\$13.52  & \\$13.54 & \\$0.30  & \\$0.00\\\\\n",
       "\t SPRINGFIELD MO                 & \\$321.59           & \\$123.79 & \\$64.64                      & \\$40.38           & \\$24.44  & \\$29.95         & \\$13.76  & \\$15.56  & \\$8.76  & \\$0.33  & \\$0.00\\\\\n",
       "\t ST JOSEPH MO                   & \\$176.94           & \\$89.46  & \\$33.32                      & \\$9.42            & \\$7.75   & \\$15.60         & \\$4.28   & \\$12.65  & \\$4.31  & \\$0.14  & \\$0.00\\\\\n",
       "\t ⋮ & ⋮ & ⋮ & ⋮ & ⋮ & ⋮ & ⋮ & ⋮ & ⋮ & ⋮ & ⋮ & ⋮\\\\\n",
       "\t WEST {[}TGA : 95,982{]}            & \\$18,400   & \\$4,255  & \\$4,434  & \\$2,903  & \\$1,934  & \\$1,462  & \\$1,025  & \\$1,249  & \\$751    & \\$346   & \\$40   \\\\\n",
       "\t ABILENE-SWEETWATER TX          & \\$413.70   & \\$138.51 & \\$100.00 & \\$55.49  & \\$26.00  & \\$37.56  & \\$15.74  & \\$16.26  & \\$13.24  & \\$10.68 & \\$0.22 \\\\\n",
       "\t ALEXANDRIA LA                  & \\$429.71   & \\$161.97 & \\$111.42 & \\$51.72  & \\$15.36  & \\$34.50  & \\$14.46  & \\$19.33  & \\$14.90  & \\$5.89  & \\$0.15 \\\\\n",
       "\t All Other Suddenlink DMA Total & \\$2,435.94 & \\$336.20 & \\$423.85 & \\$513.24 & \\$435.14 & \\$168.50 & \\$236.73 & \\$169.32 & \\$114.68 & \\$15.62 & \\$22.64\\\\\n",
       "\t AMARILLO TX                    & \\$653.04   & \\$192.39 & \\$206.34 & \\$65.99  & \\$40.81  & \\$52.82  & \\$23.27  & \\$29.41  & \\$24.48  & \\$17.21 & \\$0.32 \\\\\n",
       "\t AUSTIN TX                      & \\$674.08   & \\$0.00   & \\$140.13 & \\$172.22 & \\$120.73 & \\$50.70  & \\$56.61  & \\$97.99  & \\$26.12  & \\$8.19  & \\$1.40 \\\\\n",
       "\t BLUEFIELD-BECKLEY-OAK HILL WV  & \\$421.07   & \\$134.97 & \\$101.13 & \\$45.77  & \\$29.13  & \\$36.04  & \\$16.56  & \\$32.00  & \\$17.12  & \\$8.18  & \\$0.17 \\\\\n",
       "\t CHARLESTON-HUNTINGTON WV       & \\$861.90   & \\$213.44 & \\$200.24 & \\$128.91 & \\$78.20  & \\$89.66  & \\$54.69  & \\$32.46  & \\$50.24  & \\$13.42 & \\$0.65 \\\\\n",
       "\t DALLAS-FT WORTH TX             & \\$1,493.73 & \\$0.00   & \\$356.94 & \\$366.66 & \\$312.32 & \\$113.62 & \\$131.10 & \\$112.30 & \\$70.38  & \\$25.21 & \\$5.21 \\\\\n",
       "\t EUREKA CA                      & \\$275.41   & \\$121.69 & \\$64.66  & \\$14.94  & \\$18.25  & \\$21.43  & \\$10.22  & \\$14.55  & \\$3.37   & \\$6.11  & \\$0.20 \\\\\n",
       "\t GREENVILLE-NEW BERN-WASH NC    & \\$702.23   & \\$180.87 & \\$196.92 & \\$76.37  & \\$60.10  & \\$74.24  & \\$37.98  & \\$30.76  & \\$31.52  & \\$13.04 & \\$0.42 \\\\\n",
       "\t HOUSTON TX                     & \\$1,153.09 & \\$0.00   & \\$249.82 & \\$285.98 & \\$163.95 & \\$97.69  & \\$82.86  & \\$198.04 & \\$50.13  & \\$21.31 & \\$3.30 \\\\\n",
       "\t JONESBORO AR                   & \\$346.00   & \\$181.37 & \\$58.78  & \\$19.10  & \\$14.10  & \\$22.31  & \\$8.99   & \\$21.09  & \\$12.98  & \\$7.23  & \\$0.06 \\\\\n",
       "\t LAKE CHARLES LA                & \\$509.08   & \\$211.93 & \\$102.96 & \\$56.87  & \\$25.43  & \\$42.91  & \\$15.89  & \\$26.60  & \\$16.32  & \\$9.98  & \\$0.20 \\\\\n",
       "\t LITTLE ROCK AR                 & \\$737.66   & \\$168.81 & \\$177.68 & \\$153.33 & \\$60.74  & \\$52.16  & \\$36.81  & \\$36.08  & \\$34.93  & \\$16.56 & \\$0.56 \\\\\n",
       "\t LUBBOCK TX                     & \\$703.33   & \\$177.57 & \\$232.61 & \\$83.42  & \\$47.86  & \\$59.63  & \\$23.30  & \\$30.83  & \\$32.28  & \\$15.45 & \\$0.38 \\\\\n",
       "\t MONROE-EL DORADO LA-AR         & \\$307.01   & \\$119.50 & \\$86.49  & \\$34.63  & \\$11.78  & \\$18.74  & \\$8.40   & \\$11.37  & \\$10.74  & \\$5.25  & \\$0.11 \\\\\n",
       "\t ODESSA-MIDLAND TX              & \\$712.27   & \\$309.42 & \\$145.89 & \\$92.45  & \\$35.09  & \\$41.85  & \\$21.43  & \\$29.85  & \\$21.44  & \\$14.50 & \\$0.36 \\\\\n",
       "\t OKLAHOMA CITY OK               & \\$479.91   & \\$36.17  & \\$178.95 & \\$58.82  & \\$47.93  & \\$40.32  & \\$27.89  & \\$54.01  & \\$21.63  & \\$13.91 & \\$0.28 \\\\\n",
       "\t PARKERSBURG WV                 & \\$371.29   & \\$179.23 & \\$90.97  & \\$19.28  & \\$20.22  & \\$22.01  & \\$10.64  & \\$10.69  & \\$9.81   & \\$8.30  & \\$0.15 \\\\\n",
       "\t PHOENIX AZ                     & \\$604.19   & \\$0.00   & \\$260.45 & \\$84.35  & \\$87.16  & \\$64.15  & \\$31.62  & \\$34.21  & \\$21.32  & \\$20.36 & \\$0.57 \\\\\n",
       "\t RALEIGH-DURHAM NC              & \\$249.29   & \\$0.00   & \\$82.94  & \\$46.39  & \\$35.52  & \\$32.95  & \\$19.42  & \\$6.22   & \\$13.27  & \\$12.26 & \\$0.33 \\\\\n",
       "\t SAN ANGELO TX                  & \\$362.40   & \\$180.24 & \\$63.51  & \\$19.76  & \\$20.53  & \\$26.58  & \\$10.37  & \\$19.86  & \\$11.54  & \\$9.89  & \\$0.13 \\\\\n",
       "\t SHREVEPORT LA                  & \\$518.99   & \\$153.40 & \\$139.19 & \\$85.01  & \\$26.10  & \\$40.54  & \\$21.22  & \\$22.21  & \\$23.41  & \\$7.60  & \\$0.30 \\\\\n",
       "\t SPRINGFIELD MO                 & \\$552.04   & \\$206.81 & \\$120.04 & \\$74.98  & \\$41.79  & \\$29.95  & \\$22.83  & \\$25.57  & \\$14.54  & \\$15.19 & \\$0.33 \\\\\n",
       "\t ST JOSEPH MO                   & \\$302.51   & \\$152.69 & \\$61.88  & \\$17.22  & \\$12.87  & \\$15.60  & \\$6.95   & \\$20.99  & \\$7.14   & \\$7.03  & \\$0.14 \\\\\n",
       "\t TULSA OK                       & \\$216.10   & \\$20.61  & \\$68.66  & \\$30.03  & \\$15.21  & \\$22.40  & \\$8.03   & \\$33.57  & \\$8.45   & \\$9.03  & \\$0.10 \\\\\n",
       "\t TYLER-LONGVIEW TX              & \\$1,024.32 & \\$290.66 & \\$243.44 & \\$162.79 & \\$70.12  & \\$90.00  & \\$41.44  & \\$62.79  & \\$47.17  & \\$15.20 & \\$0.71 \\\\\n",
       "\t VICTORIA TX                    & \\$291.80   & \\$161.84 & \\$43.67  & \\$16.98  & \\$9.45   & \\$15.50  & \\$5.76   & \\$27.27  & \\$6.56   & \\$4.67  & \\$0.11 \\\\\n",
       "\t WACO-TEMPLE-BRYAN TX           & \\$597.92   & \\$225.08 & \\$124.92 & \\$70.23  & \\$52.62  & \\$47.32  & \\$23.44  & \\$23.56  & \\$21.53  & \\$8.77  & \\$0.45 \\\\\n",
       "\\end{tabular}\n"
      ],
      "text/markdown": [
       "\n",
       "A data.frame: 544 × 12\n",
       "\n",
       "| X1 &lt;chr&gt; | X2 &lt;chr&gt; | X3 &lt;chr&gt; | X4 &lt;chr&gt; | X5 &lt;chr&gt; | X6 &lt;chr&gt; | X7 &lt;chr&gt; | X8 &lt;chr&gt; | X9 &lt;chr&gt; | X10 &lt;chr&gt; | X11 &lt;chr&gt; | X12 &lt;chr&gt; |\n",
       "|---|---|---|---|---|---|---|---|---|---|---|---|\n",
       "| 17                             | NA                | NA      | NA                          | NA               | NA      | NA             | NA      | NA      | NA     | NA     | NA    |\n",
       "| Footprint                      | Spend $(000) [Q2] | TV      | Direct Mail [No Constraint] | Search Unbranded | Display | Search Branded | Video   | Radio   | Social | Audio  | Print |\n",
       "| USA [TGA :196,204]             | $28,900           | $9,501  | $5,797                      | $3,309           | $2,960  | $2,945         | $1,790  | $1,408  | $1,098 | $91    | $0    |\n",
       "| EAST [TGA :104,119]            | $18,100           | $6,913  | $3,409                      | $1,701           | $1,874  | $1,613         | $1,187  | $675    | $667   | $61    | $0    |\n",
       "| WEST [TGA : 92,085]            | $10,800           | $2,589  | $2,388                      | $1,608           | $1,086  | $1,333         | $603    | $733    | $431   | $30    | $0    |\n",
       "| ABILENE-SWEETWATER TX          | $241.39           | $76.95  | $53.85                      | $29.88           | $15.67  | $37.56         | $9.49   | $9.92   | $7.86  | $0.21  | $0.00 |\n",
       "| ALEXANDRIA LA                  | $253.59           | $107.92 | $59.99                      | $28.20           | $9.41   | $18.58         | $8.71   | $11.65  | $8.98  | $0.15  | $0.00 |\n",
       "| All Other Suddenlink DMA Total | $1,441.86         | $298.74 | $228.23                     | $276.36          | $234.31 | $90.73         | $127.47 | $102.04 | $69.11 | $14.87 | $0.00 |\n",
       "| AMARILLO TX                    | $380.85           | $110.31 | $111.11                     | $35.53           | $24.59  | $52.82         | $14.02  | $17.92  | $14.23 | $0.32  | $0.00 |\n",
       "| AUSTIN TX                      | $396.67           | $0.00   | $75.45                      | $101.72          | $65.01  | $50.70         | $34.12  | $52.77  | $15.74 | $1.18  | $0.00 |\n",
       "| BLUEFIELD-BECKLEY-OAK HILL WV  | $247.17           | $76.22  | $54.45                      | $24.64           | $17.02  | $36.04         | $10.12  | $19.28  | $9.22  | $0.17  | $0.00 |\n",
       "| CHARLESTON-HUNTINGTON WV       | $507.78           | $115.00 | $107.82                     | $69.41           | $45.49  | $89.66         | $32.96  | $19.73  | $27.05 | $0.65  | $0.00 |\n",
       "| DALLAS-FT WORTH TX             | $878.93           | $0.00   | $192.20                     | $216.74          | $168.17 | $113.62        | $78.74  | $67.67  | $37.90 | $3.89  | $0.00 |\n",
       "| EUREKA CA                      | $161.25           | $68.80  | $34.81                      | $9.01            | $9.99   | $21.43         | $6.16   | $8.77   | $2.09  | $0.20  | $0.00 |\n",
       "| GREENVILLE-NEW BERN-WASH NC    | $412.54           | $97.39  | $106.04                     | $41.12           | $35.34  | $73.65         | $22.89  | $18.72  | $16.97 | $0.42  | $0.00 |\n",
       "| HOUSTON TX                     | $677.47           | $0.00   | $134.52                     | $164.20          | $91.71  | $97.69         | $49.94  | $106.64 | $30.21 | $2.56  | $0.00 |\n",
       "| JONESBORO AR                   | $202.83           | $103.92 | $31.65                      | $11.12           | $8.50   | $22.31         | $5.57   | $12.71  | $6.99  | $0.06  | $0.00 |\n",
       "| LAKE CHARLES LA                | $298.79           | $138.51 | $55.44                      | $30.62           | $15.32  | $23.11         | $9.75   | $16.03  | $9.81  | $0.20  | $0.00 |\n",
       "| LITTLE ROCK AR                 | $431.79           | $102.07 | $95.67                      | $82.56           | $35.87  | $52.16         | $22.18  | $21.89  | $18.81 | $0.56  | $0.00 |\n",
       "| LUBBOCK TX                     | $411.88           | $101.71 | $125.25                     | $44.92           | $28.84  | $59.63         | $14.04  | $18.78  | $18.32 | $0.38  | $0.00 |\n",
       "| MONROE-EL DORADO LA-AR         | $180.61           | $70.44  | $46.57                      | $19.15           | $7.10   | $18.74         | $5.06   | $6.96   | $6.47  | $0.11  | $0.00 |\n",
       "| ODESSA-MIDLAND TX              | $417.75           | $181.40 | $78.55                      | $50.40           | $21.14  | $41.85         | $12.91  | $18.20  | $12.92 | $0.36  | $0.00 |\n",
       "| OKLAHOMA CITY OK               | $279.19           | $23.65  | $96.36                      | $31.67           | $25.81  | $40.32         | $16.94  | $32.51  | $11.65 | $0.28  | $0.00 |\n",
       "| PARKERSBURG WV                 | $217.35           | $114.25 | $48.98                      | $11.62           | $12.18  | $11.85         | $6.41   | $6.57   | $5.33  | $0.15  | $0.00 |\n",
       "| PHOENIX AZ                     | $349.92           | $0.00   | $140.24                     | $45.42           | $48.00  | $63.11         | $19.05  | $20.70  | $12.85 | $0.55  | $0.00 |\n",
       "| RALEIGH-DURHAM NC              | $142.25           | $0.00   | $44.66                      | $24.98           | $19.50  | $29.35         | $11.70  | $3.75   | $8.00  | $0.32  | $0.00 |\n",
       "| SAN ANGELO TX                  | $211.16           | $102.02 | $34.20                      | $11.30           | $12.37  | $26.58         | $6.38   | $11.97  | $6.21  | $0.13  | $0.00 |\n",
       "| SHREVEPORT LA                  | $306.02           | $88.87  | $74.95                      | $45.78           | $15.73  | $40.54         | $12.79  | $13.52  | $13.54 | $0.30  | $0.00 |\n",
       "| SPRINGFIELD MO                 | $321.59           | $123.79 | $64.64                      | $40.38           | $24.44  | $29.95         | $13.76  | $15.56  | $8.76  | $0.33  | $0.00 |\n",
       "| ST JOSEPH MO                   | $176.94           | $89.46  | $33.32                      | $9.42            | $7.75   | $15.60         | $4.28   | $12.65  | $4.31  | $0.14  | $0.00 |\n",
       "| ⋮ | ⋮ | ⋮ | ⋮ | ⋮ | ⋮ | ⋮ | ⋮ | ⋮ | ⋮ | ⋮ | ⋮ |\n",
       "| WEST [TGA : 95,982]            | $18,400   | $4,255  | $4,434  | $2,903  | $1,934  | $1,462  | $1,025  | $1,249  | $751    | $346   | $40    |\n",
       "| ABILENE-SWEETWATER TX          | $413.70   | $138.51 | $100.00 | $55.49  | $26.00  | $37.56  | $15.74  | $16.26  | $13.24  | $10.68 | $0.22  |\n",
       "| ALEXANDRIA LA                  | $429.71   | $161.97 | $111.42 | $51.72  | $15.36  | $34.50  | $14.46  | $19.33  | $14.90  | $5.89  | $0.15  |\n",
       "| All Other Suddenlink DMA Total | $2,435.94 | $336.20 | $423.85 | $513.24 | $435.14 | $168.50 | $236.73 | $169.32 | $114.68 | $15.62 | $22.64 |\n",
       "| AMARILLO TX                    | $653.04   | $192.39 | $206.34 | $65.99  | $40.81  | $52.82  | $23.27  | $29.41  | $24.48  | $17.21 | $0.32  |\n",
       "| AUSTIN TX                      | $674.08   | $0.00   | $140.13 | $172.22 | $120.73 | $50.70  | $56.61  | $97.99  | $26.12  | $8.19  | $1.40  |\n",
       "| BLUEFIELD-BECKLEY-OAK HILL WV  | $421.07   | $134.97 | $101.13 | $45.77  | $29.13  | $36.04  | $16.56  | $32.00  | $17.12  | $8.18  | $0.17  |\n",
       "| CHARLESTON-HUNTINGTON WV       | $861.90   | $213.44 | $200.24 | $128.91 | $78.20  | $89.66  | $54.69  | $32.46  | $50.24  | $13.42 | $0.65  |\n",
       "| DALLAS-FT WORTH TX             | $1,493.73 | $0.00   | $356.94 | $366.66 | $312.32 | $113.62 | $131.10 | $112.30 | $70.38  | $25.21 | $5.21  |\n",
       "| EUREKA CA                      | $275.41   | $121.69 | $64.66  | $14.94  | $18.25  | $21.43  | $10.22  | $14.55  | $3.37   | $6.11  | $0.20  |\n",
       "| GREENVILLE-NEW BERN-WASH NC    | $702.23   | $180.87 | $196.92 | $76.37  | $60.10  | $74.24  | $37.98  | $30.76  | $31.52  | $13.04 | $0.42  |\n",
       "| HOUSTON TX                     | $1,153.09 | $0.00   | $249.82 | $285.98 | $163.95 | $97.69  | $82.86  | $198.04 | $50.13  | $21.31 | $3.30  |\n",
       "| JONESBORO AR                   | $346.00   | $181.37 | $58.78  | $19.10  | $14.10  | $22.31  | $8.99   | $21.09  | $12.98  | $7.23  | $0.06  |\n",
       "| LAKE CHARLES LA                | $509.08   | $211.93 | $102.96 | $56.87  | $25.43  | $42.91  | $15.89  | $26.60  | $16.32  | $9.98  | $0.20  |\n",
       "| LITTLE ROCK AR                 | $737.66   | $168.81 | $177.68 | $153.33 | $60.74  | $52.16  | $36.81  | $36.08  | $34.93  | $16.56 | $0.56  |\n",
       "| LUBBOCK TX                     | $703.33   | $177.57 | $232.61 | $83.42  | $47.86  | $59.63  | $23.30  | $30.83  | $32.28  | $15.45 | $0.38  |\n",
       "| MONROE-EL DORADO LA-AR         | $307.01   | $119.50 | $86.49  | $34.63  | $11.78  | $18.74  | $8.40   | $11.37  | $10.74  | $5.25  | $0.11  |\n",
       "| ODESSA-MIDLAND TX              | $712.27   | $309.42 | $145.89 | $92.45  | $35.09  | $41.85  | $21.43  | $29.85  | $21.44  | $14.50 | $0.36  |\n",
       "| OKLAHOMA CITY OK               | $479.91   | $36.17  | $178.95 | $58.82  | $47.93  | $40.32  | $27.89  | $54.01  | $21.63  | $13.91 | $0.28  |\n",
       "| PARKERSBURG WV                 | $371.29   | $179.23 | $90.97  | $19.28  | $20.22  | $22.01  | $10.64  | $10.69  | $9.81   | $8.30  | $0.15  |\n",
       "| PHOENIX AZ                     | $604.19   | $0.00   | $260.45 | $84.35  | $87.16  | $64.15  | $31.62  | $34.21  | $21.32  | $20.36 | $0.57  |\n",
       "| RALEIGH-DURHAM NC              | $249.29   | $0.00   | $82.94  | $46.39  | $35.52  | $32.95  | $19.42  | $6.22   | $13.27  | $12.26 | $0.33  |\n",
       "| SAN ANGELO TX                  | $362.40   | $180.24 | $63.51  | $19.76  | $20.53  | $26.58  | $10.37  | $19.86  | $11.54  | $9.89  | $0.13  |\n",
       "| SHREVEPORT LA                  | $518.99   | $153.40 | $139.19 | $85.01  | $26.10  | $40.54  | $21.22  | $22.21  | $23.41  | $7.60  | $0.30  |\n",
       "| SPRINGFIELD MO                 | $552.04   | $206.81 | $120.04 | $74.98  | $41.79  | $29.95  | $22.83  | $25.57  | $14.54  | $15.19 | $0.33  |\n",
       "| ST JOSEPH MO                   | $302.51   | $152.69 | $61.88  | $17.22  | $12.87  | $15.60  | $6.95   | $20.99  | $7.14   | $7.03  | $0.14  |\n",
       "| TULSA OK                       | $216.10   | $20.61  | $68.66  | $30.03  | $15.21  | $22.40  | $8.03   | $33.57  | $8.45   | $9.03  | $0.10  |\n",
       "| TYLER-LONGVIEW TX              | $1,024.32 | $290.66 | $243.44 | $162.79 | $70.12  | $90.00  | $41.44  | $62.79  | $47.17  | $15.20 | $0.71  |\n",
       "| VICTORIA TX                    | $291.80   | $161.84 | $43.67  | $16.98  | $9.45   | $15.50  | $5.76   | $27.27  | $6.56   | $4.67  | $0.11  |\n",
       "| WACO-TEMPLE-BRYAN TX           | $597.92   | $225.08 | $124.92 | $70.23  | $52.62  | $47.32  | $23.44  | $23.56  | $21.53  | $8.77  | $0.45  |\n",
       "\n"
      ],
      "text/plain": [
       "    X1                             X2                X3     \n",
       "1   17                             NA                NA     \n",
       "2   Footprint                      Spend $(000) [Q2] TV     \n",
       "3   USA [TGA :196,204]             $28,900           $9,501 \n",
       "4   EAST [TGA :104,119]            $18,100           $6,913 \n",
       "5   WEST [TGA : 92,085]            $10,800           $2,589 \n",
       "6   ABILENE-SWEETWATER TX          $241.39           $76.95 \n",
       "7   ALEXANDRIA LA                  $253.59           $107.92\n",
       "8   All Other Suddenlink DMA Total $1,441.86         $298.74\n",
       "9   AMARILLO TX                    $380.85           $110.31\n",
       "10  AUSTIN TX                      $396.67           $0.00  \n",
       "11  BLUEFIELD-BECKLEY-OAK HILL WV  $247.17           $76.22 \n",
       "12  CHARLESTON-HUNTINGTON WV       $507.78           $115.00\n",
       "13  DALLAS-FT WORTH TX             $878.93           $0.00  \n",
       "14  EUREKA CA                      $161.25           $68.80 \n",
       "15  GREENVILLE-NEW BERN-WASH NC    $412.54           $97.39 \n",
       "16  HOUSTON TX                     $677.47           $0.00  \n",
       "17  JONESBORO AR                   $202.83           $103.92\n",
       "18  LAKE CHARLES LA                $298.79           $138.51\n",
       "19  LITTLE ROCK AR                 $431.79           $102.07\n",
       "20  LUBBOCK TX                     $411.88           $101.71\n",
       "21  MONROE-EL DORADO LA-AR         $180.61           $70.44 \n",
       "22  ODESSA-MIDLAND TX              $417.75           $181.40\n",
       "23  OKLAHOMA CITY OK               $279.19           $23.65 \n",
       "24  PARKERSBURG WV                 $217.35           $114.25\n",
       "25  PHOENIX AZ                     $349.92           $0.00  \n",
       "26  RALEIGH-DURHAM NC              $142.25           $0.00  \n",
       "27  SAN ANGELO TX                  $211.16           $102.02\n",
       "28  SHREVEPORT LA                  $306.02           $88.87 \n",
       "29  SPRINGFIELD MO                 $321.59           $123.79\n",
       "30  ST JOSEPH MO                   $176.94           $89.46 \n",
       "⋮   ⋮                              ⋮                 ⋮      \n",
       "515 WEST [TGA : 95,982]            $18,400           $4,255 \n",
       "516 ABILENE-SWEETWATER TX          $413.70           $138.51\n",
       "517 ALEXANDRIA LA                  $429.71           $161.97\n",
       "518 All Other Suddenlink DMA Total $2,435.94         $336.20\n",
       "519 AMARILLO TX                    $653.04           $192.39\n",
       "520 AUSTIN TX                      $674.08           $0.00  \n",
       "521 BLUEFIELD-BECKLEY-OAK HILL WV  $421.07           $134.97\n",
       "522 CHARLESTON-HUNTINGTON WV       $861.90           $213.44\n",
       "523 DALLAS-FT WORTH TX             $1,493.73         $0.00  \n",
       "524 EUREKA CA                      $275.41           $121.69\n",
       "525 GREENVILLE-NEW BERN-WASH NC    $702.23           $180.87\n",
       "526 HOUSTON TX                     $1,153.09         $0.00  \n",
       "527 JONESBORO AR                   $346.00           $181.37\n",
       "528 LAKE CHARLES LA                $509.08           $211.93\n",
       "529 LITTLE ROCK AR                 $737.66           $168.81\n",
       "530 LUBBOCK TX                     $703.33           $177.57\n",
       "531 MONROE-EL DORADO LA-AR         $307.01           $119.50\n",
       "532 ODESSA-MIDLAND TX              $712.27           $309.42\n",
       "533 OKLAHOMA CITY OK               $479.91           $36.17 \n",
       "534 PARKERSBURG WV                 $371.29           $179.23\n",
       "535 PHOENIX AZ                     $604.19           $0.00  \n",
       "536 RALEIGH-DURHAM NC              $249.29           $0.00  \n",
       "537 SAN ANGELO TX                  $362.40           $180.24\n",
       "538 SHREVEPORT LA                  $518.99           $153.40\n",
       "539 SPRINGFIELD MO                 $552.04           $206.81\n",
       "540 ST JOSEPH MO                   $302.51           $152.69\n",
       "541 TULSA OK                       $216.10           $20.61 \n",
       "542 TYLER-LONGVIEW TX              $1,024.32         $290.66\n",
       "543 VICTORIA TX                    $291.80           $161.84\n",
       "544 WACO-TEMPLE-BRYAN TX           $597.92           $225.08\n",
       "    X4                          X5               X6      X7             X8     \n",
       "1   NA                          NA               NA      NA             NA     \n",
       "2   Direct Mail [No Constraint] Search Unbranded Display Search Branded Video  \n",
       "3   $5,797                      $3,309           $2,960  $2,945         $1,790 \n",
       "4   $3,409                      $1,701           $1,874  $1,613         $1,187 \n",
       "5   $2,388                      $1,608           $1,086  $1,333         $603   \n",
       "6   $53.85                      $29.88           $15.67  $37.56         $9.49  \n",
       "7   $59.99                      $28.20           $9.41   $18.58         $8.71  \n",
       "8   $228.23                     $276.36          $234.31 $90.73         $127.47\n",
       "9   $111.11                     $35.53           $24.59  $52.82         $14.02 \n",
       "10  $75.45                      $101.72          $65.01  $50.70         $34.12 \n",
       "11  $54.45                      $24.64           $17.02  $36.04         $10.12 \n",
       "12  $107.82                     $69.41           $45.49  $89.66         $32.96 \n",
       "13  $192.20                     $216.74          $168.17 $113.62        $78.74 \n",
       "14  $34.81                      $9.01            $9.99   $21.43         $6.16  \n",
       "15  $106.04                     $41.12           $35.34  $73.65         $22.89 \n",
       "16  $134.52                     $164.20          $91.71  $97.69         $49.94 \n",
       "17  $31.65                      $11.12           $8.50   $22.31         $5.57  \n",
       "18  $55.44                      $30.62           $15.32  $23.11         $9.75  \n",
       "19  $95.67                      $82.56           $35.87  $52.16         $22.18 \n",
       "20  $125.25                     $44.92           $28.84  $59.63         $14.04 \n",
       "21  $46.57                      $19.15           $7.10   $18.74         $5.06  \n",
       "22  $78.55                      $50.40           $21.14  $41.85         $12.91 \n",
       "23  $96.36                      $31.67           $25.81  $40.32         $16.94 \n",
       "24  $48.98                      $11.62           $12.18  $11.85         $6.41  \n",
       "25  $140.24                     $45.42           $48.00  $63.11         $19.05 \n",
       "26  $44.66                      $24.98           $19.50  $29.35         $11.70 \n",
       "27  $34.20                      $11.30           $12.37  $26.58         $6.38  \n",
       "28  $74.95                      $45.78           $15.73  $40.54         $12.79 \n",
       "29  $64.64                      $40.38           $24.44  $29.95         $13.76 \n",
       "30  $33.32                      $9.42            $7.75   $15.60         $4.28  \n",
       "⋮   ⋮                           ⋮                ⋮       ⋮              ⋮      \n",
       "515 $4,434                      $2,903           $1,934  $1,462         $1,025 \n",
       "516 $100.00                     $55.49           $26.00  $37.56         $15.74 \n",
       "517 $111.42                     $51.72           $15.36  $34.50         $14.46 \n",
       "518 $423.85                     $513.24          $435.14 $168.50        $236.73\n",
       "519 $206.34                     $65.99           $40.81  $52.82         $23.27 \n",
       "520 $140.13                     $172.22          $120.73 $50.70         $56.61 \n",
       "521 $101.13                     $45.77           $29.13  $36.04         $16.56 \n",
       "522 $200.24                     $128.91          $78.20  $89.66         $54.69 \n",
       "523 $356.94                     $366.66          $312.32 $113.62        $131.10\n",
       "524 $64.66                      $14.94           $18.25  $21.43         $10.22 \n",
       "525 $196.92                     $76.37           $60.10  $74.24         $37.98 \n",
       "526 $249.82                     $285.98          $163.95 $97.69         $82.86 \n",
       "527 $58.78                      $19.10           $14.10  $22.31         $8.99  \n",
       "528 $102.96                     $56.87           $25.43  $42.91         $15.89 \n",
       "529 $177.68                     $153.33          $60.74  $52.16         $36.81 \n",
       "530 $232.61                     $83.42           $47.86  $59.63         $23.30 \n",
       "531 $86.49                      $34.63           $11.78  $18.74         $8.40  \n",
       "532 $145.89                     $92.45           $35.09  $41.85         $21.43 \n",
       "533 $178.95                     $58.82           $47.93  $40.32         $27.89 \n",
       "534 $90.97                      $19.28           $20.22  $22.01         $10.64 \n",
       "535 $260.45                     $84.35           $87.16  $64.15         $31.62 \n",
       "536 $82.94                      $46.39           $35.52  $32.95         $19.42 \n",
       "537 $63.51                      $19.76           $20.53  $26.58         $10.37 \n",
       "538 $139.19                     $85.01           $26.10  $40.54         $21.22 \n",
       "539 $120.04                     $74.98           $41.79  $29.95         $22.83 \n",
       "540 $61.88                      $17.22           $12.87  $15.60         $6.95  \n",
       "541 $68.66                      $30.03           $15.21  $22.40         $8.03  \n",
       "542 $243.44                     $162.79          $70.12  $90.00         $41.44 \n",
       "543 $43.67                      $16.98           $9.45   $15.50         $5.76  \n",
       "544 $124.92                     $70.23           $52.62  $47.32         $23.44 \n",
       "    X9      X10     X11    X12   \n",
       "1   NA      NA      NA     NA    \n",
       "2   Radio   Social  Audio  Print \n",
       "3   $1,408  $1,098  $91    $0    \n",
       "4   $675    $667    $61    $0    \n",
       "5   $733    $431    $30    $0    \n",
       "6   $9.92   $7.86   $0.21  $0.00 \n",
       "7   $11.65  $8.98   $0.15  $0.00 \n",
       "8   $102.04 $69.11  $14.87 $0.00 \n",
       "9   $17.92  $14.23  $0.32  $0.00 \n",
       "10  $52.77  $15.74  $1.18  $0.00 \n",
       "11  $19.28  $9.22   $0.17  $0.00 \n",
       "12  $19.73  $27.05  $0.65  $0.00 \n",
       "13  $67.67  $37.90  $3.89  $0.00 \n",
       "14  $8.77   $2.09   $0.20  $0.00 \n",
       "15  $18.72  $16.97  $0.42  $0.00 \n",
       "16  $106.64 $30.21  $2.56  $0.00 \n",
       "17  $12.71  $6.99   $0.06  $0.00 \n",
       "18  $16.03  $9.81   $0.20  $0.00 \n",
       "19  $21.89  $18.81  $0.56  $0.00 \n",
       "20  $18.78  $18.32  $0.38  $0.00 \n",
       "21  $6.96   $6.47   $0.11  $0.00 \n",
       "22  $18.20  $12.92  $0.36  $0.00 \n",
       "23  $32.51  $11.65  $0.28  $0.00 \n",
       "24  $6.57   $5.33   $0.15  $0.00 \n",
       "25  $20.70  $12.85  $0.55  $0.00 \n",
       "26  $3.75   $8.00   $0.32  $0.00 \n",
       "27  $11.97  $6.21   $0.13  $0.00 \n",
       "28  $13.52  $13.54  $0.30  $0.00 \n",
       "29  $15.56  $8.76   $0.33  $0.00 \n",
       "30  $12.65  $4.31   $0.14  $0.00 \n",
       "⋮   ⋮       ⋮       ⋮      ⋮     \n",
       "515 $1,249  $751    $346   $40   \n",
       "516 $16.26  $13.24  $10.68 $0.22 \n",
       "517 $19.33  $14.90  $5.89  $0.15 \n",
       "518 $169.32 $114.68 $15.62 $22.64\n",
       "519 $29.41  $24.48  $17.21 $0.32 \n",
       "520 $97.99  $26.12  $8.19  $1.40 \n",
       "521 $32.00  $17.12  $8.18  $0.17 \n",
       "522 $32.46  $50.24  $13.42 $0.65 \n",
       "523 $112.30 $70.38  $25.21 $5.21 \n",
       "524 $14.55  $3.37   $6.11  $0.20 \n",
       "525 $30.76  $31.52  $13.04 $0.42 \n",
       "526 $198.04 $50.13  $21.31 $3.30 \n",
       "527 $21.09  $12.98  $7.23  $0.06 \n",
       "528 $26.60  $16.32  $9.98  $0.20 \n",
       "529 $36.08  $34.93  $16.56 $0.56 \n",
       "530 $30.83  $32.28  $15.45 $0.38 \n",
       "531 $11.37  $10.74  $5.25  $0.11 \n",
       "532 $29.85  $21.44  $14.50 $0.36 \n",
       "533 $54.01  $21.63  $13.91 $0.28 \n",
       "534 $10.69  $9.81   $8.30  $0.15 \n",
       "535 $34.21  $21.32  $20.36 $0.57 \n",
       "536 $6.22   $13.27  $12.26 $0.33 \n",
       "537 $19.86  $11.54  $9.89  $0.13 \n",
       "538 $22.21  $23.41  $7.60  $0.30 \n",
       "539 $25.57  $14.54  $15.19 $0.33 \n",
       "540 $20.99  $7.14   $7.03  $0.14 \n",
       "541 $33.57  $8.45   $9.03  $0.10 \n",
       "542 $62.79  $47.17  $15.20 $0.71 \n",
       "543 $27.27  $6.56   $4.67  $0.11 \n",
       "544 $23.56  $21.53  $8.77  $0.45 "
      ]
     },
     "metadata": {},
     "output_type": "display_data"
    }
   ],
   "source": [
    "dm_df <- res_dm$case_df\n",
    "dm_df"
   ]
  },
  {
   "cell_type": "code",
   "execution_count": 23,
   "metadata": {},
   "outputs": [],
   "source": [
    "write.table(dm_df,'Cases_DM_Constraint_no.csv',row.names = F,na = '',sep = ',',col.names = F)"
   ]
  },
  {
   "cell_type": "code",
   "execution_count": 24,
   "metadata": {
    "ExecuteTime": {
     "end_time": "2021-06-08T16:49:14.685402Z",
     "start_time": "2021-06-08T16:43:28.985Z"
    }
   },
   "outputs": [],
   "source": [
    "for(name in names(res_no_dm$case_list)){\n",
    "    output_df <- res_no_dm[[name]]\n",
    "    fname <- paste0('test','_no_dm_',name,'.csv')\n",
    "    write.table(output_df,fname,row.names = F,na = '',sep = ',',col.names = F)\n",
    "}"
   ]
  },
  {
   "cell_type": "code",
   "execution_count": 25,
   "metadata": {
    "ExecuteTime": {
     "end_time": "2021-06-08T16:49:14.726488Z",
     "start_time": "2021-06-08T16:43:29.512Z"
    }
   },
   "outputs": [],
   "source": [
    "for(name in names(res_dm$case_list)){\n",
    "    output_df <- res_dm[[name]]\n",
    "    fname <- paste0('test','_dm_',name,'.csv')\n",
    "    write.table(output_df,fname,row.names = F,na = '',sep = ',',col.names = F)\n",
    "}"
   ]
  },
  {
   "cell_type": "code",
   "execution_count": 26,
   "metadata": {
    "ExecuteTime": {
     "end_time": "2021-06-08T16:49:14.751671Z",
     "start_time": "2021-06-08T16:43:30.383Z"
    }
   },
   "outputs": [
    {
     "data": {
      "text/html": [
       "<table>\n",
       "<caption>A matrix: 2 × 8 of type chr</caption>\n",
       "<thead>\n",
       "\t<tr><th></th><th scope=col>1</th><th scope=col>2</th><th scope=col>3</th><th scope=col>4</th><th scope=col>5</th><th scope=col>6</th><th scope=col>7</th><th scope=col>8</th></tr>\n",
       "</thead>\n",
       "<tbody>\n",
       "\t<tr><th scope=row>X1</th><td>Input_OPT_budget</td><td>Input_SDL_budget</td><td>constraint</td><td>input_period</td><td>flight_flag_OPT</td><td>flight_flag_SDL</td><td>OPT_DM_budget</td><td>SDL_DM_budget</td></tr>\n",
       "\t<tr><th scope=row>X2</th><td>14700000        </td><td>8400000         </td><td>yes       </td><td>Q2          </td><td>FALSE          </td><td>FALSE          </td><td>6300000      </td><td>4400000      </td></tr>\n",
       "</tbody>\n",
       "</table>\n"
      ],
      "text/latex": [
       "A matrix: 2 × 8 of type chr\n",
       "\\begin{tabular}{r|llllllll}\n",
       "  & 1 & 2 & 3 & 4 & 5 & 6 & 7 & 8\\\\\n",
       "\\hline\n",
       "\tX1 & Input\\_OPT\\_budget & Input\\_SDL\\_budget & constraint & input\\_period & flight\\_flag\\_OPT & flight\\_flag\\_SDL & OPT\\_DM\\_budget & SDL\\_DM\\_budget\\\\\n",
       "\tX2 & 14700000         & 8400000          & yes        & Q2           & FALSE           & FALSE           & 6300000       & 4400000      \\\\\n",
       "\\end{tabular}\n"
      ],
      "text/markdown": [
       "\n",
       "A matrix: 2 × 8 of type chr\n",
       "\n",
       "| <!--/--> | 1 | 2 | 3 | 4 | 5 | 6 | 7 | 8 |\n",
       "|---|---|---|---|---|---|---|---|---|\n",
       "| X1 | Input_OPT_budget | Input_SDL_budget | constraint | input_period | flight_flag_OPT | flight_flag_SDL | OPT_DM_budget | SDL_DM_budget |\n",
       "| X2 | 14700000         | 8400000          | yes        | Q2           | FALSE           | FALSE           | 6300000       | 4400000       |\n",
       "\n"
      ],
      "text/plain": [
       "   1                2                3          4            5              \n",
       "X1 Input_OPT_budget Input_SDL_budget constraint input_period flight_flag_OPT\n",
       "X2 14700000         8400000          yes        Q2           FALSE          \n",
       "   6               7             8            \n",
       "X1 flight_flag_SDL OPT_DM_budget SDL_DM_budget\n",
       "X2 FALSE           6300000       4400000      "
      ]
     },
     "metadata": {},
     "output_type": "display_data"
    }
   ],
   "source": [
    "t(res_no_dm$case_list$case1[c(1:8),c('X1','X2')])"
   ]
  },
  {
   "cell_type": "code",
   "execution_count": 27,
   "metadata": {
    "ExecuteTime": {
     "end_time": "2021-06-08T16:49:14.780770Z",
     "start_time": "2021-06-08T16:43:30.647Z"
    }
   },
   "outputs": [
    {
     "data": {
      "text/html": [
       "16"
      ],
      "text/latex": [
       "16"
      ],
      "text/markdown": [
       "16"
      ],
      "text/plain": [
       "[1] 16"
      ]
     },
     "metadata": {},
     "output_type": "display_data"
    }
   ],
   "source": [
    "constr_cases = length(res_no_dm$case_list)\n",
    "constr_cases"
   ]
  },
  {
   "cell_type": "code",
   "execution_count": 28,
   "metadata": {
    "ExecuteTime": {
     "end_time": "2021-06-08T16:49:14.799506Z",
     "start_time": "2021-06-08T16:43:30.953Z"
    }
   },
   "outputs": [],
   "source": [
    "names(res_dm$case_list) <- paste('case',c((1+constr_cases):(length(res_dm$case_list)+constr_cases)),sep='')"
   ]
  },
  {
   "cell_type": "code",
   "execution_count": 29,
   "metadata": {
    "ExecuteTime": {
     "end_time": "2021-06-08T16:49:14.820010Z",
     "start_time": "2021-06-08T16:43:31.216Z"
    }
   },
   "outputs": [
    {
     "data": {
      "text/html": [
       "<style>\n",
       ".list-inline {list-style: none; margin:0; padding: 0}\n",
       ".list-inline>li {display: inline-block}\n",
       ".list-inline>li:not(:last-child)::after {content: \"\\00b7\"; padding: 0 .5ex}\n",
       "</style>\n",
       "<ol class=list-inline><li>'case17'</li><li>'case18'</li><li>'case19'</li><li>'case20'</li><li>'case21'</li><li>'case22'</li><li>'case23'</li><li>'case24'</li><li>'case25'</li><li>'case26'</li><li>'case27'</li><li>'case28'</li><li>'case29'</li><li>'case30'</li><li>'case31'</li><li>'case32'</li></ol>\n"
      ],
      "text/latex": [
       "\\begin{enumerate*}\n",
       "\\item 'case17'\n",
       "\\item 'case18'\n",
       "\\item 'case19'\n",
       "\\item 'case20'\n",
       "\\item 'case21'\n",
       "\\item 'case22'\n",
       "\\item 'case23'\n",
       "\\item 'case24'\n",
       "\\item 'case25'\n",
       "\\item 'case26'\n",
       "\\item 'case27'\n",
       "\\item 'case28'\n",
       "\\item 'case29'\n",
       "\\item 'case30'\n",
       "\\item 'case31'\n",
       "\\item 'case32'\n",
       "\\end{enumerate*}\n"
      ],
      "text/markdown": [
       "1. 'case17'\n",
       "2. 'case18'\n",
       "3. 'case19'\n",
       "4. 'case20'\n",
       "5. 'case21'\n",
       "6. 'case22'\n",
       "7. 'case23'\n",
       "8. 'case24'\n",
       "9. 'case25'\n",
       "10. 'case26'\n",
       "11. 'case27'\n",
       "12. 'case28'\n",
       "13. 'case29'\n",
       "14. 'case30'\n",
       "15. 'case31'\n",
       "16. 'case32'\n",
       "\n",
       "\n"
      ],
      "text/plain": [
       " [1] \"case17\" \"case18\" \"case19\" \"case20\" \"case21\" \"case22\" \"case23\" \"case24\"\n",
       " [9] \"case25\" \"case26\" \"case27\" \"case28\" \"case29\" \"case30\" \"case31\" \"case32\""
      ]
     },
     "metadata": {},
     "output_type": "display_data"
    }
   ],
   "source": [
    "names(res_dm$case_list)"
   ]
  },
  {
   "cell_type": "code",
   "execution_count": 30,
   "metadata": {
    "ExecuteTime": {
     "end_time": "2021-06-08T16:49:14.844316Z",
     "start_time": "2021-06-08T16:43:31.585Z"
    }
   },
   "outputs": [
    {
     "data": {
      "text/html": [
       "<style>\n",
       ".list-inline {list-style: none; margin:0; padding: 0}\n",
       ".list-inline>li {display: inline-block}\n",
       ".list-inline>li:not(:last-child)::after {content: \"\\00b7\"; padding: 0 .5ex}\n",
       "</style>\n",
       "<ol class=list-inline><li>'case1'</li><li>'case2'</li><li>'case3'</li><li>'case4'</li><li>'case5'</li><li>'case6'</li><li>'case7'</li><li>'case8'</li><li>'case9'</li><li>'case10'</li><li>'case11'</li><li>'case12'</li><li>'case13'</li><li>'case14'</li><li>'case15'</li><li>'case16'</li><li>'case17'</li><li>'case18'</li><li>'case19'</li><li>'case20'</li><li>'case21'</li><li>'case22'</li><li>'case23'</li><li>'case24'</li><li>'case25'</li><li>'case26'</li><li>'case27'</li><li>'case28'</li><li>'case29'</li><li>'case30'</li><li>'case31'</li><li>'case32'</li></ol>\n"
      ],
      "text/latex": [
       "\\begin{enumerate*}\n",
       "\\item 'case1'\n",
       "\\item 'case2'\n",
       "\\item 'case3'\n",
       "\\item 'case4'\n",
       "\\item 'case5'\n",
       "\\item 'case6'\n",
       "\\item 'case7'\n",
       "\\item 'case8'\n",
       "\\item 'case9'\n",
       "\\item 'case10'\n",
       "\\item 'case11'\n",
       "\\item 'case12'\n",
       "\\item 'case13'\n",
       "\\item 'case14'\n",
       "\\item 'case15'\n",
       "\\item 'case16'\n",
       "\\item 'case17'\n",
       "\\item 'case18'\n",
       "\\item 'case19'\n",
       "\\item 'case20'\n",
       "\\item 'case21'\n",
       "\\item 'case22'\n",
       "\\item 'case23'\n",
       "\\item 'case24'\n",
       "\\item 'case25'\n",
       "\\item 'case26'\n",
       "\\item 'case27'\n",
       "\\item 'case28'\n",
       "\\item 'case29'\n",
       "\\item 'case30'\n",
       "\\item 'case31'\n",
       "\\item 'case32'\n",
       "\\end{enumerate*}\n"
      ],
      "text/markdown": [
       "1. 'case1'\n",
       "2. 'case2'\n",
       "3. 'case3'\n",
       "4. 'case4'\n",
       "5. 'case5'\n",
       "6. 'case6'\n",
       "7. 'case7'\n",
       "8. 'case8'\n",
       "9. 'case9'\n",
       "10. 'case10'\n",
       "11. 'case11'\n",
       "12. 'case12'\n",
       "13. 'case13'\n",
       "14. 'case14'\n",
       "15. 'case15'\n",
       "16. 'case16'\n",
       "17. 'case17'\n",
       "18. 'case18'\n",
       "19. 'case19'\n",
       "20. 'case20'\n",
       "21. 'case21'\n",
       "22. 'case22'\n",
       "23. 'case23'\n",
       "24. 'case24'\n",
       "25. 'case25'\n",
       "26. 'case26'\n",
       "27. 'case27'\n",
       "28. 'case28'\n",
       "29. 'case29'\n",
       "30. 'case30'\n",
       "31. 'case31'\n",
       "32. 'case32'\n",
       "\n",
       "\n"
      ],
      "text/plain": [
       " [1] \"case1\"  \"case2\"  \"case3\"  \"case4\"  \"case5\"  \"case6\"  \"case7\"  \"case8\" \n",
       " [9] \"case9\"  \"case10\" \"case11\" \"case12\" \"case13\" \"case14\" \"case15\" \"case16\"\n",
       "[17] \"case17\" \"case18\" \"case19\" \"case20\" \"case21\" \"case22\" \"case23\" \"case24\"\n",
       "[25] \"case25\" \"case26\" \"case27\" \"case28\" \"case29\" \"case30\" \"case31\" \"case32\""
      ]
     },
     "metadata": {},
     "output_type": "display_data"
    }
   ],
   "source": [
    "all_cases_list <- append(res_no_dm$case_list,res_dm$case_list)\n",
    "names(all_cases_list)"
   ]
  },
  {
   "cell_type": "code",
   "execution_count": 31,
   "metadata": {
    "ExecuteTime": {
     "end_time": "2021-06-08T16:49:38.077381Z",
     "start_time": "2021-06-08T16:44:15.810Z"
    }
   },
   "outputs": [
    {
     "data": {
      "text/html": [
       "<style>\n",
       ".dl-inline {width: auto; margin:0; padding: 0}\n",
       ".dl-inline>dt, .dl-inline>dd {float: none; width: auto; display: inline-block}\n",
       ".dl-inline>dt::after {content: \":\\0020\"; padding-right: .5ex}\n",
       ".dl-inline>dt:not(:first-of-type) {padding-left: .5ex}\n",
       "</style><dl class=dl-inline><dt>1</dt><dd>'Input_OPT_budget'</dd><dt>2</dt><dd>'Input_SDL_budget'</dd><dt>3</dt><dd>'constraint'</dd><dt>4</dt><dd>'input_period'</dd><dt>5</dt><dd>'flight_flag_OPT'</dd><dt>6</dt><dd>'flight_flag_SDL'</dd><dt>7</dt><dd>'OPT_DM_budget'</dd><dt>8</dt><dd>'SDL_DM_budget'</dd></dl>\n"
      ],
      "text/latex": [
       "\\begin{description*}\n",
       "\\item[1] 'Input\\_OPT\\_budget'\n",
       "\\item[2] 'Input\\_SDL\\_budget'\n",
       "\\item[3] 'constraint'\n",
       "\\item[4] 'input\\_period'\n",
       "\\item[5] 'flight\\_flag\\_OPT'\n",
       "\\item[6] 'flight\\_flag\\_SDL'\n",
       "\\item[7] 'OPT\\_DM\\_budget'\n",
       "\\item[8] 'SDL\\_DM\\_budget'\n",
       "\\end{description*}\n"
      ],
      "text/markdown": [
       "1\n",
       ":   'Input_OPT_budget'2\n",
       ":   'Input_SDL_budget'3\n",
       ":   'constraint'4\n",
       ":   'input_period'5\n",
       ":   'flight_flag_OPT'6\n",
       ":   'flight_flag_SDL'7\n",
       ":   'OPT_DM_budget'8\n",
       ":   'SDL_DM_budget'\n",
       "\n"
      ],
      "text/plain": [
       "                 1                  2                  3                  4 \n",
       "\"Input_OPT_budget\" \"Input_SDL_budget\"       \"constraint\"     \"input_period\" \n",
       "                 5                  6                  7                  8 \n",
       " \"flight_flag_OPT\"  \"flight_flag_SDL\"    \"OPT_DM_budget\"    \"SDL_DM_budget\" "
      ]
     },
     "metadata": {},
     "output_type": "display_data"
    }
   ],
   "source": [
    "##Generate summary of all cases\n",
    "col_names <- t(res_no_dm$case_list$case1[c(1:8),c('X1','X2')])[1,]\n",
    "col_names"
   ]
  },
  {
   "cell_type": "code",
   "execution_count": 32,
   "metadata": {
    "ExecuteTime": {
     "end_time": "2021-06-08T16:49:41.062457Z",
     "start_time": "2021-06-08T16:44:18.782Z"
    }
   },
   "outputs": [
    {
     "data": {
      "text/html": [
       "<table>\n",
       "<caption>A data.frame: 0 × 8</caption>\n",
       "<thead>\n",
       "\t<tr><th scope=col>Input_OPT_budget</th><th scope=col>Input_SDL_budget</th><th scope=col>constraint</th><th scope=col>input_period</th><th scope=col>flight_flag_OPT</th><th scope=col>flight_flag_SDL</th><th scope=col>OPT_DM_budget</th><th scope=col>SDL_DM_budget</th></tr>\n",
       "\t<tr><th scope=col>&lt;lgl&gt;</th><th scope=col>&lt;lgl&gt;</th><th scope=col>&lt;lgl&gt;</th><th scope=col>&lt;lgl&gt;</th><th scope=col>&lt;lgl&gt;</th><th scope=col>&lt;lgl&gt;</th><th scope=col>&lt;lgl&gt;</th><th scope=col>&lt;lgl&gt;</th></tr>\n",
       "</thead>\n",
       "<tbody>\n",
       "</tbody>\n",
       "</table>\n"
      ],
      "text/latex": [
       "A data.frame: 0 × 8\n",
       "\\begin{tabular}{llllllll}\n",
       " Input\\_OPT\\_budget & Input\\_SDL\\_budget & constraint & input\\_period & flight\\_flag\\_OPT & flight\\_flag\\_SDL & OPT\\_DM\\_budget & SDL\\_DM\\_budget\\\\\n",
       " <lgl> & <lgl> & <lgl> & <lgl> & <lgl> & <lgl> & <lgl> & <lgl>\\\\\n",
       "\\hline\n",
       "\\end{tabular}\n"
      ],
      "text/markdown": [
       "\n",
       "A data.frame: 0 × 8\n",
       "\n",
       "| Input_OPT_budget &lt;lgl&gt; | Input_SDL_budget &lt;lgl&gt; | constraint &lt;lgl&gt; | input_period &lt;lgl&gt; | flight_flag_OPT &lt;lgl&gt; | flight_flag_SDL &lt;lgl&gt; | OPT_DM_budget &lt;lgl&gt; | SDL_DM_budget &lt;lgl&gt; |\n",
       "|---|---|---|---|---|---|---|---|\n",
       "\n"
      ],
      "text/plain": [
       "     Input_OPT_budget Input_SDL_budget constraint input_period flight_flag_OPT\n",
       "     flight_flag_SDL OPT_DM_budget SDL_DM_budget"
      ]
     },
     "metadata": {},
     "output_type": "display_data"
    }
   ],
   "source": [
    "summary_case_df <- data.frame(matrix(nrow = 0 ,ncol = 8))\n",
    "colnames(summary_case_df) <- col_names\n",
    "summary_case_df"
   ]
  },
  {
   "cell_type": "code",
   "execution_count": 33,
   "metadata": {
    "ExecuteTime": {
     "end_time": "2021-06-08T16:49:42.677927Z",
     "start_time": "2021-06-08T16:44:20.271Z"
    }
   },
   "outputs": [],
   "source": [
    "for(case in all_cases_list){\n",
    "    summary_data <- t(t(case[c(1:8),c('X1','X2')])[2,])\n",
    "    summary_case_df <- rbind(summary_case_df,data.frame(summary_data))\n",
    "}\n",
    "colnames(summary_case_df) <- col_names\n"
   ]
  },
  {
   "cell_type": "code",
   "execution_count": 34,
   "metadata": {
    "ExecuteTime": {
     "end_time": "2021-06-08T16:49:43.250919Z",
     "start_time": "2021-06-08T16:44:20.910Z"
    },
    "scrolled": true
   },
   "outputs": [
    {
     "data": {
      "text/html": [
       "<table>\n",
       "<caption>A data.frame: 32 × 9</caption>\n",
       "<thead>\n",
       "\t<tr><th scope=col>Case</th><th scope=col>Input_OPT_budget</th><th scope=col>Input_SDL_budget</th><th scope=col>constraint</th><th scope=col>input_period</th><th scope=col>flight_flag_OPT</th><th scope=col>flight_flag_SDL</th><th scope=col>OPT_DM_budget</th><th scope=col>SDL_DM_budget</th></tr>\n",
       "\t<tr><th scope=col>&lt;int&gt;</th><th scope=col>&lt;fct&gt;</th><th scope=col>&lt;fct&gt;</th><th scope=col>&lt;fct&gt;</th><th scope=col>&lt;fct&gt;</th><th scope=col>&lt;dbl&gt;</th><th scope=col>&lt;dbl&gt;</th><th scope=col>&lt;fct&gt;</th><th scope=col>&lt;fct&gt;</th></tr>\n",
       "</thead>\n",
       "<tbody>\n",
       "\t<tr><td> 1</td><td>14700000</td><td>8400000 </td><td>yes</td><td>Q2</td><td>0</td><td>0</td><td>6300000</td><td>4400000</td></tr>\n",
       "\t<tr><td> 2</td><td>14700000</td><td>8700000 </td><td>yes</td><td>Q2</td><td>0</td><td>1</td><td>6300000</td><td>4400000</td></tr>\n",
       "\t<tr><td> 3</td><td>14700000</td><td>10000000</td><td>yes</td><td>Q1</td><td>0</td><td>1</td><td>6300000</td><td>4400000</td></tr>\n",
       "\t<tr><td> 4</td><td>14700000</td><td>13900000</td><td>yes</td><td>Q4</td><td>0</td><td>1</td><td>6300000</td><td>4400000</td></tr>\n",
       "\t<tr><td> 5</td><td>16300000</td><td>8400000 </td><td>yes</td><td>Q3</td><td>1</td><td>0</td><td>6300000</td><td>4400000</td></tr>\n",
       "\t<tr><td> 6</td><td>16300000</td><td>8700000 </td><td>yes</td><td>Q1</td><td>1</td><td>1</td><td>6300000</td><td>4400000</td></tr>\n",
       "\t<tr><td> 7</td><td>16300000</td><td>10000000</td><td>yes</td><td>Q1</td><td>1</td><td>1</td><td>6300000</td><td>4400000</td></tr>\n",
       "\t<tr><td> 8</td><td>16300000</td><td>13900000</td><td>yes</td><td>Q2</td><td>1</td><td>1</td><td>6300000</td><td>4400000</td></tr>\n",
       "\t<tr><td> 9</td><td>22000000</td><td>8400000 </td><td>yes</td><td>Q4</td><td>1</td><td>0</td><td>6300000</td><td>4400000</td></tr>\n",
       "\t<tr><td>10</td><td>22000000</td><td>8700000 </td><td>yes</td><td>Q4</td><td>1</td><td>1</td><td>6300000</td><td>4400000</td></tr>\n",
       "\t<tr><td>11</td><td>22000000</td><td>10000000</td><td>yes</td><td>Q2</td><td>1</td><td>1</td><td>6300000</td><td>4400000</td></tr>\n",
       "\t<tr><td>12</td><td>22000000</td><td>13900000</td><td>yes</td><td>Q3</td><td>1</td><td>1</td><td>6300000</td><td>4400000</td></tr>\n",
       "\t<tr><td>13</td><td>26800000</td><td>8400000 </td><td>yes</td><td>Q2</td><td>1</td><td>0</td><td>6300000</td><td>4400000</td></tr>\n",
       "\t<tr><td>14</td><td>26800000</td><td>8700000 </td><td>yes</td><td>Q2</td><td>1</td><td>1</td><td>6300000</td><td>4400000</td></tr>\n",
       "\t<tr><td>15</td><td>26800000</td><td>10000000</td><td>yes</td><td>Q2</td><td>1</td><td>1</td><td>6300000</td><td>4400000</td></tr>\n",
       "\t<tr><td>16</td><td>26800000</td><td>13900000</td><td>yes</td><td>Q3</td><td>1</td><td>1</td><td>6300000</td><td>4400000</td></tr>\n",
       "\t<tr><td>17</td><td>18100000</td><td>10800000</td><td>no </td><td>Q2</td><td>0</td><td>0</td><td>NULL   </td><td>NULL   </td></tr>\n",
       "\t<tr><td>18</td><td>18100000</td><td>11000000</td><td>no </td><td>Q2</td><td>0</td><td>1</td><td>NULL   </td><td>NULL   </td></tr>\n",
       "\t<tr><td>19</td><td>18100000</td><td>15000000</td><td>no </td><td>Q4</td><td>0</td><td>1</td><td>NULL   </td><td>NULL   </td></tr>\n",
       "\t<tr><td>20</td><td>18100000</td><td>18400000</td><td>no </td><td>Q2</td><td>0</td><td>1</td><td>NULL   </td><td>NULL   </td></tr>\n",
       "\t<tr><td>21</td><td>19700000</td><td>10800000</td><td>no </td><td>Q4</td><td>1</td><td>0</td><td>NULL   </td><td>NULL   </td></tr>\n",
       "\t<tr><td>22</td><td>19700000</td><td>11000000</td><td>no </td><td>Q4</td><td>1</td><td>1</td><td>NULL   </td><td>NULL   </td></tr>\n",
       "\t<tr><td>23</td><td>19700000</td><td>15000000</td><td>no </td><td>Q1</td><td>1</td><td>1</td><td>NULL   </td><td>NULL   </td></tr>\n",
       "\t<tr><td>24</td><td>19700000</td><td>18400000</td><td>no </td><td>Q4</td><td>1</td><td>1</td><td>NULL   </td><td>NULL   </td></tr>\n",
       "\t<tr><td>25</td><td>25000000</td><td>10800000</td><td>no </td><td>Q4</td><td>1</td><td>0</td><td>NULL   </td><td>NULL   </td></tr>\n",
       "\t<tr><td>26</td><td>25000000</td><td>11000000</td><td>no </td><td>Q4</td><td>1</td><td>1</td><td>NULL   </td><td>NULL   </td></tr>\n",
       "\t<tr><td>27</td><td>25000000</td><td>15000000</td><td>no </td><td>Q3</td><td>1</td><td>1</td><td>NULL   </td><td>NULL   </td></tr>\n",
       "\t<tr><td>28</td><td>25000000</td><td>18400000</td><td>no </td><td>Q4</td><td>1</td><td>1</td><td>NULL   </td><td>NULL   </td></tr>\n",
       "\t<tr><td>29</td><td>33100000</td><td>10800000</td><td>no </td><td>Q3</td><td>1</td><td>0</td><td>NULL   </td><td>NULL   </td></tr>\n",
       "\t<tr><td>30</td><td>33100000</td><td>11000000</td><td>no </td><td>Q3</td><td>1</td><td>1</td><td>NULL   </td><td>NULL   </td></tr>\n",
       "\t<tr><td>31</td><td>33100000</td><td>15000000</td><td>no </td><td>Q1</td><td>1</td><td>1</td><td>NULL   </td><td>NULL   </td></tr>\n",
       "\t<tr><td>32</td><td>33100000</td><td>18400000</td><td>no </td><td>Q2</td><td>1</td><td>1</td><td>NULL   </td><td>NULL   </td></tr>\n",
       "</tbody>\n",
       "</table>\n"
      ],
      "text/latex": [
       "A data.frame: 32 × 9\n",
       "\\begin{tabular}{lllllllll}\n",
       " Case & Input\\_OPT\\_budget & Input\\_SDL\\_budget & constraint & input\\_period & flight\\_flag\\_OPT & flight\\_flag\\_SDL & OPT\\_DM\\_budget & SDL\\_DM\\_budget\\\\\n",
       " <int> & <fct> & <fct> & <fct> & <fct> & <dbl> & <dbl> & <fct> & <fct>\\\\\n",
       "\\hline\n",
       "\t  1 & 14700000 & 8400000  & yes & Q2 & 0 & 0 & 6300000 & 4400000\\\\\n",
       "\t  2 & 14700000 & 8700000  & yes & Q2 & 0 & 1 & 6300000 & 4400000\\\\\n",
       "\t  3 & 14700000 & 10000000 & yes & Q1 & 0 & 1 & 6300000 & 4400000\\\\\n",
       "\t  4 & 14700000 & 13900000 & yes & Q4 & 0 & 1 & 6300000 & 4400000\\\\\n",
       "\t  5 & 16300000 & 8400000  & yes & Q3 & 1 & 0 & 6300000 & 4400000\\\\\n",
       "\t  6 & 16300000 & 8700000  & yes & Q1 & 1 & 1 & 6300000 & 4400000\\\\\n",
       "\t  7 & 16300000 & 10000000 & yes & Q1 & 1 & 1 & 6300000 & 4400000\\\\\n",
       "\t  8 & 16300000 & 13900000 & yes & Q2 & 1 & 1 & 6300000 & 4400000\\\\\n",
       "\t  9 & 22000000 & 8400000  & yes & Q4 & 1 & 0 & 6300000 & 4400000\\\\\n",
       "\t 10 & 22000000 & 8700000  & yes & Q4 & 1 & 1 & 6300000 & 4400000\\\\\n",
       "\t 11 & 22000000 & 10000000 & yes & Q2 & 1 & 1 & 6300000 & 4400000\\\\\n",
       "\t 12 & 22000000 & 13900000 & yes & Q3 & 1 & 1 & 6300000 & 4400000\\\\\n",
       "\t 13 & 26800000 & 8400000  & yes & Q2 & 1 & 0 & 6300000 & 4400000\\\\\n",
       "\t 14 & 26800000 & 8700000  & yes & Q2 & 1 & 1 & 6300000 & 4400000\\\\\n",
       "\t 15 & 26800000 & 10000000 & yes & Q2 & 1 & 1 & 6300000 & 4400000\\\\\n",
       "\t 16 & 26800000 & 13900000 & yes & Q3 & 1 & 1 & 6300000 & 4400000\\\\\n",
       "\t 17 & 18100000 & 10800000 & no  & Q2 & 0 & 0 & NULL    & NULL   \\\\\n",
       "\t 18 & 18100000 & 11000000 & no  & Q2 & 0 & 1 & NULL    & NULL   \\\\\n",
       "\t 19 & 18100000 & 15000000 & no  & Q4 & 0 & 1 & NULL    & NULL   \\\\\n",
       "\t 20 & 18100000 & 18400000 & no  & Q2 & 0 & 1 & NULL    & NULL   \\\\\n",
       "\t 21 & 19700000 & 10800000 & no  & Q4 & 1 & 0 & NULL    & NULL   \\\\\n",
       "\t 22 & 19700000 & 11000000 & no  & Q4 & 1 & 1 & NULL    & NULL   \\\\\n",
       "\t 23 & 19700000 & 15000000 & no  & Q1 & 1 & 1 & NULL    & NULL   \\\\\n",
       "\t 24 & 19700000 & 18400000 & no  & Q4 & 1 & 1 & NULL    & NULL   \\\\\n",
       "\t 25 & 25000000 & 10800000 & no  & Q4 & 1 & 0 & NULL    & NULL   \\\\\n",
       "\t 26 & 25000000 & 11000000 & no  & Q4 & 1 & 1 & NULL    & NULL   \\\\\n",
       "\t 27 & 25000000 & 15000000 & no  & Q3 & 1 & 1 & NULL    & NULL   \\\\\n",
       "\t 28 & 25000000 & 18400000 & no  & Q4 & 1 & 1 & NULL    & NULL   \\\\\n",
       "\t 29 & 33100000 & 10800000 & no  & Q3 & 1 & 0 & NULL    & NULL   \\\\\n",
       "\t 30 & 33100000 & 11000000 & no  & Q3 & 1 & 1 & NULL    & NULL   \\\\\n",
       "\t 31 & 33100000 & 15000000 & no  & Q1 & 1 & 1 & NULL    & NULL   \\\\\n",
       "\t 32 & 33100000 & 18400000 & no  & Q2 & 1 & 1 & NULL    & NULL   \\\\\n",
       "\\end{tabular}\n"
      ],
      "text/markdown": [
       "\n",
       "A data.frame: 32 × 9\n",
       "\n",
       "| Case &lt;int&gt; | Input_OPT_budget &lt;fct&gt; | Input_SDL_budget &lt;fct&gt; | constraint &lt;fct&gt; | input_period &lt;fct&gt; | flight_flag_OPT &lt;dbl&gt; | flight_flag_SDL &lt;dbl&gt; | OPT_DM_budget &lt;fct&gt; | SDL_DM_budget &lt;fct&gt; |\n",
       "|---|---|---|---|---|---|---|---|---|\n",
       "|  1 | 14700000 | 8400000  | yes | Q2 | 0 | 0 | 6300000 | 4400000 |\n",
       "|  2 | 14700000 | 8700000  | yes | Q2 | 0 | 1 | 6300000 | 4400000 |\n",
       "|  3 | 14700000 | 10000000 | yes | Q1 | 0 | 1 | 6300000 | 4400000 |\n",
       "|  4 | 14700000 | 13900000 | yes | Q4 | 0 | 1 | 6300000 | 4400000 |\n",
       "|  5 | 16300000 | 8400000  | yes | Q3 | 1 | 0 | 6300000 | 4400000 |\n",
       "|  6 | 16300000 | 8700000  | yes | Q1 | 1 | 1 | 6300000 | 4400000 |\n",
       "|  7 | 16300000 | 10000000 | yes | Q1 | 1 | 1 | 6300000 | 4400000 |\n",
       "|  8 | 16300000 | 13900000 | yes | Q2 | 1 | 1 | 6300000 | 4400000 |\n",
       "|  9 | 22000000 | 8400000  | yes | Q4 | 1 | 0 | 6300000 | 4400000 |\n",
       "| 10 | 22000000 | 8700000  | yes | Q4 | 1 | 1 | 6300000 | 4400000 |\n",
       "| 11 | 22000000 | 10000000 | yes | Q2 | 1 | 1 | 6300000 | 4400000 |\n",
       "| 12 | 22000000 | 13900000 | yes | Q3 | 1 | 1 | 6300000 | 4400000 |\n",
       "| 13 | 26800000 | 8400000  | yes | Q2 | 1 | 0 | 6300000 | 4400000 |\n",
       "| 14 | 26800000 | 8700000  | yes | Q2 | 1 | 1 | 6300000 | 4400000 |\n",
       "| 15 | 26800000 | 10000000 | yes | Q2 | 1 | 1 | 6300000 | 4400000 |\n",
       "| 16 | 26800000 | 13900000 | yes | Q3 | 1 | 1 | 6300000 | 4400000 |\n",
       "| 17 | 18100000 | 10800000 | no  | Q2 | 0 | 0 | NULL    | NULL    |\n",
       "| 18 | 18100000 | 11000000 | no  | Q2 | 0 | 1 | NULL    | NULL    |\n",
       "| 19 | 18100000 | 15000000 | no  | Q4 | 0 | 1 | NULL    | NULL    |\n",
       "| 20 | 18100000 | 18400000 | no  | Q2 | 0 | 1 | NULL    | NULL    |\n",
       "| 21 | 19700000 | 10800000 | no  | Q4 | 1 | 0 | NULL    | NULL    |\n",
       "| 22 | 19700000 | 11000000 | no  | Q4 | 1 | 1 | NULL    | NULL    |\n",
       "| 23 | 19700000 | 15000000 | no  | Q1 | 1 | 1 | NULL    | NULL    |\n",
       "| 24 | 19700000 | 18400000 | no  | Q4 | 1 | 1 | NULL    | NULL    |\n",
       "| 25 | 25000000 | 10800000 | no  | Q4 | 1 | 0 | NULL    | NULL    |\n",
       "| 26 | 25000000 | 11000000 | no  | Q4 | 1 | 1 | NULL    | NULL    |\n",
       "| 27 | 25000000 | 15000000 | no  | Q3 | 1 | 1 | NULL    | NULL    |\n",
       "| 28 | 25000000 | 18400000 | no  | Q4 | 1 | 1 | NULL    | NULL    |\n",
       "| 29 | 33100000 | 10800000 | no  | Q3 | 1 | 0 | NULL    | NULL    |\n",
       "| 30 | 33100000 | 11000000 | no  | Q3 | 1 | 1 | NULL    | NULL    |\n",
       "| 31 | 33100000 | 15000000 | no  | Q1 | 1 | 1 | NULL    | NULL    |\n",
       "| 32 | 33100000 | 18400000 | no  | Q2 | 1 | 1 | NULL    | NULL    |\n",
       "\n"
      ],
      "text/plain": [
       "   Case Input_OPT_budget Input_SDL_budget constraint input_period\n",
       "1   1   14700000         8400000          yes        Q2          \n",
       "2   2   14700000         8700000          yes        Q2          \n",
       "3   3   14700000         10000000         yes        Q1          \n",
       "4   4   14700000         13900000         yes        Q4          \n",
       "5   5   16300000         8400000          yes        Q3          \n",
       "6   6   16300000         8700000          yes        Q1          \n",
       "7   7   16300000         10000000         yes        Q1          \n",
       "8   8   16300000         13900000         yes        Q2          \n",
       "9   9   22000000         8400000          yes        Q4          \n",
       "10 10   22000000         8700000          yes        Q4          \n",
       "11 11   22000000         10000000         yes        Q2          \n",
       "12 12   22000000         13900000         yes        Q3          \n",
       "13 13   26800000         8400000          yes        Q2          \n",
       "14 14   26800000         8700000          yes        Q2          \n",
       "15 15   26800000         10000000         yes        Q2          \n",
       "16 16   26800000         13900000         yes        Q3          \n",
       "17 17   18100000         10800000         no         Q2          \n",
       "18 18   18100000         11000000         no         Q2          \n",
       "19 19   18100000         15000000         no         Q4          \n",
       "20 20   18100000         18400000         no         Q2          \n",
       "21 21   19700000         10800000         no         Q4          \n",
       "22 22   19700000         11000000         no         Q4          \n",
       "23 23   19700000         15000000         no         Q1          \n",
       "24 24   19700000         18400000         no         Q4          \n",
       "25 25   25000000         10800000         no         Q4          \n",
       "26 26   25000000         11000000         no         Q4          \n",
       "27 27   25000000         15000000         no         Q3          \n",
       "28 28   25000000         18400000         no         Q4          \n",
       "29 29   33100000         10800000         no         Q3          \n",
       "30 30   33100000         11000000         no         Q3          \n",
       "31 31   33100000         15000000         no         Q1          \n",
       "32 32   33100000         18400000         no         Q2          \n",
       "   flight_flag_OPT flight_flag_SDL OPT_DM_budget SDL_DM_budget\n",
       "1  0               0               6300000       4400000      \n",
       "2  0               1               6300000       4400000      \n",
       "3  0               1               6300000       4400000      \n",
       "4  0               1               6300000       4400000      \n",
       "5  1               0               6300000       4400000      \n",
       "6  1               1               6300000       4400000      \n",
       "7  1               1               6300000       4400000      \n",
       "8  1               1               6300000       4400000      \n",
       "9  1               0               6300000       4400000      \n",
       "10 1               1               6300000       4400000      \n",
       "11 1               1               6300000       4400000      \n",
       "12 1               1               6300000       4400000      \n",
       "13 1               0               6300000       4400000      \n",
       "14 1               1               6300000       4400000      \n",
       "15 1               1               6300000       4400000      \n",
       "16 1               1               6300000       4400000      \n",
       "17 0               0               NULL          NULL         \n",
       "18 0               1               NULL          NULL         \n",
       "19 0               1               NULL          NULL         \n",
       "20 0               1               NULL          NULL         \n",
       "21 1               0               NULL          NULL         \n",
       "22 1               1               NULL          NULL         \n",
       "23 1               1               NULL          NULL         \n",
       "24 1               1               NULL          NULL         \n",
       "25 1               0               NULL          NULL         \n",
       "26 1               1               NULL          NULL         \n",
       "27 1               1               NULL          NULL         \n",
       "28 1               1               NULL          NULL         \n",
       "29 1               0               NULL          NULL         \n",
       "30 1               1               NULL          NULL         \n",
       "31 1               1               NULL          NULL         \n",
       "32 1               1               NULL          NULL         "
      ]
     },
     "metadata": {},
     "output_type": "display_data"
    }
   ],
   "source": [
    "summary_case_df <- summary_case_df %>%\n",
    "                    mutate_at(.vars = vars(matches('flight_flag.*')),.funs = ~recode(.,\"TRUE\" = 1,\"FALSE\" = 0)) %>%\n",
    "                    mutate(Case = row_number()) %>%\n",
    "                    select(Case,everything())\n",
    "\n",
    "summary_case_df"
   ]
  },
  {
   "cell_type": "code",
   "execution_count": 35,
   "metadata": {
    "ExecuteTime": {
     "end_time": "2021-06-08T16:49:44.688791Z",
     "start_time": "2021-06-08T16:44:22.430Z"
    }
   },
   "outputs": [],
   "source": [
    "write.csv(summary_case_df,'All_Cases_summary.csv',row.names = F)"
   ]
  }
 ],
 "metadata": {
  "environment": {
   "name": "r-cpu.3-6.m61",
   "type": "gcloud",
   "uri": "gcr.io/deeplearning-platform-release/r-cpu.3-6:m61"
  },
  "kernelspec": {
   "display_name": "R",
   "language": "R",
   "name": "ir"
  },
  "language_info": {
   "codemirror_mode": "r",
   "file_extension": ".r",
   "mimetype": "text/x-r-source",
   "name": "R",
   "pygments_lexer": "r",
   "version": "3.6.1"
  },
  "toc": {
   "base_numbering": 1,
   "nav_menu": {},
   "number_sections": true,
   "sideBar": true,
   "skip_h1_title": false,
   "title_cell": "Table of Contents",
   "title_sidebar": "Contents",
   "toc_cell": false,
   "toc_position": {},
   "toc_section_display": true,
   "toc_window_display": true
  }
 },
 "nbformat": 4,
 "nbformat_minor": 4
}
